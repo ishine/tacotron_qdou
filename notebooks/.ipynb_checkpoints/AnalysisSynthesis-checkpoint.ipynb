{
 "cells": [
  {
   "cell_type": "code",
   "execution_count": 2,
   "metadata": {},
   "outputs": [],
   "source": [
    "import sys\n",
    "import os\n",
    "sys.path.append(os.path.expanduser('~/workspace/tacotron/'))\n",
    "\n",
    "import argparse\n",
    "from hparams import hparams\n",
    "import matplotlib.pyplot as plt\n",
    "import matplotlib.patches as mpatches\n",
    "from matplotlib import cm\n",
    "from matplotlib.colors import ListedColormap\n",
    "import numpy as np\n",
    "from PIL import Image\n",
    "from tacotron.alignment_synthesizer import AlignmentSynthesizer\n",
    "from tacotron.pml_synthesizer import Configuration, PMLSynthesizer\n",
    "import tensorflow as tf\n",
    "from tqdm import tqdm_notebook as tqdm"
   ]
  },
  {
   "cell_type": "code",
   "execution_count": 3,
   "metadata": {},
   "outputs": [
    {
     "name": "stdout",
     "output_type": "stream",
     "text": [
      "Loaded metadata for 150 examples (0.68 hours)\n"
     ]
    }
   ],
   "source": [
    "training_data_dir = '/media/josh/Store/tacotron-data/gran-lj-training'\n",
    "metadata_filename = os.path.join(training_data_dir, 'test.txt')\n",
    "\n",
    "cfg = Configuration(16000, 86)\n",
    "synth = PMLSynthesizer(cfg)\n",
    "# synth.load(checkpoint_path, hparams, gta=gta, model_name=args.variant)\n",
    "\n",
    "with open(metadata_filename, encoding='utf-8') as f:\n",
    "    metadata = [line.strip().split('|') for line in f]\n",
    "    hours = sum((int(x[2]) for x in metadata)) * hparams.frame_shift_ms / (3600 * 1000)\n",
    "    print('Loaded metadata for %d examples (%.2f hours)' % (len(metadata), hours))\n",
    "    \n",
    "pml_features = [m[3] for m in metadata]\n",
    "texts = [m[5] for m in metadata]\n",
    "wav_files = [m[6] for m in metadata]"
   ]
  },
  {
   "cell_type": "code",
   "execution_count": 54,
   "metadata": {},
   "outputs": [
    {
     "data": {
      "application/vnd.jupyter.widget-view+json": {
       "model_id": "50d2315ace2c4957bca25751515ee944",
       "version_major": 2,
       "version_minor": 0
      },
      "text/plain": [
       "HBox(children=(IntProgress(value=0, max=150), HTML(value='')))"
      ]
     },
     "metadata": {},
     "output_type": "display_data"
    },
    {
     "name": "stdout",
     "output_type": "stream",
     "text": [
      "    Forcing binary noise mask\n"
     ]
    },
    {
     "name": "stderr",
     "output_type": "stream",
     "text": [
      "Traceback (most recent call last):\n",
      "  File \"/home/josh/anaconda3/envs/tacotron-3.6.8/lib/python3.6/multiprocessing/queues.py\", line 234, in _feed\n",
      "    obj = _ForkingPickler.dumps(obj)\n",
      "  File \"/home/josh/anaconda3/envs/tacotron-3.6.8/lib/python3.6/multiprocessing/reduction.py\", line 51, in dumps\n",
      "    cls(buf, protocol).dump(obj)\n",
      "_pickle.PicklingError: Can't pickle <function _process_pml_features at 0x7f008c1e5bf8>: it's not the same object as __main__._process_pml_features\n"
     ]
    },
    {
     "name": "stdout",
     "output_type": "stream",
     "text": [
      "    Forcing binary noise mask\n",
      "    Forcing binary noise mask\n"
     ]
    },
    {
     "name": "stderr",
     "output_type": "stream",
     "text": [
      "Traceback (most recent call last):\n",
      "  File \"/home/josh/anaconda3/envs/tacotron-3.6.8/lib/python3.6/multiprocessing/queues.py\", line 234, in _feed\n",
      "    obj = _ForkingPickler.dumps(obj)\n",
      "  File \"/home/josh/anaconda3/envs/tacotron-3.6.8/lib/python3.6/multiprocessing/reduction.py\", line 51, in dumps\n",
      "    cls(buf, protocol).dump(obj)\n",
      "_pickle.PicklingError: Can't pickle <function _process_pml_features at 0x7f008c1e5bf8>: it's not the same object as __main__._process_pml_features\n"
     ]
    },
    {
     "name": "stdout",
     "output_type": "stream",
     "text": [
      "    Forcing binary noise mask\n"
     ]
    },
    {
     "name": "stderr",
     "output_type": "stream",
     "text": [
      "Traceback (most recent call last):\n",
      "  File \"/home/josh/anaconda3/envs/tacotron-3.6.8/lib/python3.6/multiprocessing/queues.py\", line 234, in _feed\n",
      "    obj = _ForkingPickler.dumps(obj)\n",
      "  File \"/home/josh/anaconda3/envs/tacotron-3.6.8/lib/python3.6/multiprocessing/reduction.py\", line 51, in dumps\n",
      "    cls(buf, protocol).dump(obj)\n",
      "_pickle.PicklingError: Can't pickle <function _process_pml_features at 0x7f008c1e5bf8>: it's not the same object as __main__._process_pml_features\n"
     ]
    },
    {
     "name": "stdout",
     "output_type": "stream",
     "text": [
      "    Forcing binary noise mask\n",
      "    Forcing binary noise mask\n",
      "    Forcing binary noise mask\n",
      "    Forcing binary noise mask\n"
     ]
    },
    {
     "name": "stderr",
     "output_type": "stream",
     "text": [
      "Traceback (most recent call last):\n",
      "  File \"/home/josh/anaconda3/envs/tacotron-3.6.8/lib/python3.6/multiprocessing/queues.py\", line 234, in _feed\n",
      "    obj = _ForkingPickler.dumps(obj)\n",
      "  File \"/home/josh/anaconda3/envs/tacotron-3.6.8/lib/python3.6/multiprocessing/reduction.py\", line 51, in dumps\n",
      "    cls(buf, protocol).dump(obj)\n",
      "_pickle.PicklingError: Can't pickle <function _process_pml_features at 0x7f008c1e5bf8>: it's not the same object as __main__._process_pml_features\n"
     ]
    },
    {
     "name": "stdout",
     "output_type": "stream",
     "text": [
      "    Forcing binary noise mask\n",
      "    Forcing binary noise mask\n"
     ]
    },
    {
     "name": "stderr",
     "output_type": "stream",
     "text": [
      "Traceback (most recent call last):\n",
      "  File \"/home/josh/anaconda3/envs/tacotron-3.6.8/lib/python3.6/multiprocessing/queues.py\", line 234, in _feed\n",
      "    obj = _ForkingPickler.dumps(obj)\n",
      "  File \"/home/josh/anaconda3/envs/tacotron-3.6.8/lib/python3.6/multiprocessing/reduction.py\", line 51, in dumps\n",
      "    cls(buf, protocol).dump(obj)\n",
      "_pickle.PicklingError: Can't pickle <function _process_pml_features at 0x7f008c1e5bf8>: it's not the same object as __main__._process_pml_features\n"
     ]
    },
    {
     "name": "stdout",
     "output_type": "stream",
     "text": [
      "    Forcing binary noise mask\n",
      "    Forcing binary noise mask\n",
      "    Forcing binary noise mask\n",
      "    Forcing binary noise mask\n",
      "    Forcing binary noise mask\n",
      "    Forcing binary noise mask\n",
      "    Forcing binary noise mask\n",
      "    Forcing binary noise mask\n",
      "    Forcing binary noise mask\n",
      "    Forcing binary noise mask\n",
      "    Forcing binary noise mask\n",
      "    Forcing binary noise mask\n",
      "    Forcing binary noise mask\n",
      "    Forcing binary noise mask\n",
      "    Forcing binary noise mask\n",
      "    Forcing binary noise mask\n",
      "    Forcing binary noise mask\n",
      "    Forcing binary noise mask\n",
      "    Forcing binary noise mask\n",
      "    Forcing binary noise mask\n",
      "    Forcing binary noise mask\n",
      "    Forcing binary noise mask\n",
      "    Forcing binary noise mask\n",
      "    Forcing binary noise mask\n",
      "    Forcing binary noise mask\n",
      "    Forcing binary noise mask\n",
      "    Forcing binary noise mask\n",
      "    Forcing binary noise mask\n",
      "    Forcing binary noise mask\n",
      "    Forcing binary noise mask\n",
      "    Forcing binary noise mask\n",
      "    Forcing binary noise mask\n",
      "    Forcing binary noise mask\n",
      "    Forcing binary noise mask\n",
      "    Forcing binary noise mask\n",
      "    Forcing binary noise mask\n",
      "    Forcing binary noise mask\n",
      "    Forcing binary noise mask\n",
      "    Forcing binary noise mask\n",
      "    Forcing binary noise mask\n",
      "    Forcing binary noise mask\n",
      "    Forcing binary noise mask\n",
      "    Forcing binary noise mask\n",
      "    Forcing binary noise mask\n",
      "    Forcing binary noise mask\n",
      "    Forcing binary noise mask\n",
      "    Forcing binary noise mask\n",
      "    Forcing binary noise mask\n",
      "    Forcing binary noise mask\n",
      "    Forcing binary noise mask\n",
      "    Forcing binary noise mask\n",
      "    Forcing binary noise mask\n",
      "    Forcing binary noise mask\n",
      "    Forcing binary noise mask\n",
      "    Forcing binary noise mask\n",
      "    Forcing binary noise mask\n",
      "    Forcing binary noise mask\n",
      "    Forcing binary noise mask\n",
      "    Forcing binary noise mask\n",
      "    Forcing binary noise mask\n",
      "    Forcing binary noise mask\n",
      "    Forcing binary noise mask\n",
      "    Forcing binary noise mask\n",
      "    Forcing binary noise mask\n",
      "    Forcing binary noise mask\n",
      "    Forcing binary noise mask\n",
      "    Forcing binary noise mask\n",
      "    Forcing binary noise mask\n",
      "    Forcing binary noise mask\n",
      "    Forcing binary noise mask\n",
      "    Forcing binary noise mask\n",
      "    Forcing binary noise mask\n",
      "    Forcing binary noise mask\n",
      "    Forcing binary noise mask\n",
      "    Forcing binary noise mask\n",
      "    Forcing binary noise mask\n",
      "    Forcing binary noise mask\n",
      "    Forcing binary noise mask\n",
      "    Forcing binary noise mask\n",
      "    Forcing binary noise mask\n",
      "    Forcing binary noise mask\n",
      "    Forcing binary noise mask\n",
      "    Forcing binary noise mask\n",
      "    Forcing binary noise mask\n",
      "    Forcing binary noise mask\n",
      "    Forcing binary noise mask\n",
      "    Forcing binary noise mask\n",
      "    Forcing binary noise mask\n",
      "    Forcing binary noise mask\n",
      "    Forcing binary noise mask\n",
      "    Forcing binary noise mask\n",
      "    Forcing binary noise mask\n",
      "    Forcing binary noise mask\n",
      "    Forcing binary noise mask\n",
      "    Forcing binary noise mask\n",
      "    Forcing binary noise mask\n",
      "    Forcing binary noise mask\n",
      "    Forcing binary noise mask\n",
      "    Forcing binary noise mask\n",
      "    Forcing binary noise mask\n",
      "    Forcing binary noise mask\n",
      "    Forcing binary noise mask\n",
      "    Forcing binary noise mask\n",
      "    Forcing binary noise mask\n",
      "    Forcing binary noise mask\n",
      "    Forcing binary noise mask\n",
      "    Forcing binary noise mask\n",
      "    Forcing binary noise mask\n",
      "    Forcing binary noise mask\n",
      "    Forcing binary noise mask\n",
      "    Forcing binary noise mask\n",
      "    Forcing binary noise mask\n",
      "    Forcing binary noise mask\n",
      "    Forcing binary noise mask\n",
      "    Forcing binary noise mask\n",
      "    Forcing binary noise mask\n",
      "    Forcing binary noise mask\n",
      "    Forcing binary noise mask\n",
      "    Forcing binary noise mask\n",
      "    Forcing binary noise mask\n",
      "    Forcing binary noise mask\n",
      "    Forcing binary noise mask\n",
      "    Forcing binary noise mask\n",
      "    Forcing binary noise mask\n",
      "    Forcing binary noise mask\n",
      "    Forcing binary noise mask\n",
      "    Forcing binary noise mask\n",
      "    Forcing binary noise mask\n",
      "    Forcing binary noise mask\n",
      "    Forcing binary noise mask\n",
      "    Forcing binary noise mask\n",
      "    Forcing binary noise mask\n",
      "    Forcing binary noise mask\n",
      "    Forcing binary noise mask\n",
      "    Forcing binary noise mask\n",
      "    Forcing binary noise mask\n",
      "    Forcing binary noise mask\n",
      "    Forcing binary noise mask\n",
      "    Forcing binary noise mask\n",
      "    Forcing binary noise mask\n"
     ]
    },
    {
     "data": {
      "text/plain": [
       "(160800, 24800)"
      ]
     },
     "execution_count": 54,
     "metadata": {},
     "output_type": "execute_result"
    },
    {
     "name": "stderr",
     "output_type": "stream",
     "text": [
      "Process Process-17:\n",
      "Process Process-20:\n",
      "Process Process-18:\n",
      "Process Process-19:\n",
      "Process Process-14:\n",
      "Process Process-13:\n",
      "Traceback (most recent call last):\n",
      "Traceback (most recent call last):\n",
      "Traceback (most recent call last):\n",
      "Traceback (most recent call last):\n",
      "Traceback (most recent call last):\n",
      "Process Process-15:\n",
      "  File \"/home/josh/anaconda3/envs/tacotron-3.6.8/lib/python3.6/multiprocessing/process.py\", line 258, in _bootstrap\n",
      "    self.run()\n",
      "  File \"/home/josh/anaconda3/envs/tacotron-3.6.8/lib/python3.6/multiprocessing/process.py\", line 258, in _bootstrap\n",
      "    self.run()\n",
      "  File \"/home/josh/anaconda3/envs/tacotron-3.6.8/lib/python3.6/multiprocessing/process.py\", line 93, in run\n",
      "    self._target(*self._args, **self._kwargs)\n",
      "Traceback (most recent call last):\n",
      "Traceback (most recent call last):\n",
      "  File \"/home/josh/anaconda3/envs/tacotron-3.6.8/lib/python3.6/multiprocessing/process.py\", line 258, in _bootstrap\n",
      "    self.run()\n",
      "  File \"/home/josh/anaconda3/envs/tacotron-3.6.8/lib/python3.6/multiprocessing/process.py\", line 93, in run\n",
      "    self._target(*self._args, **self._kwargs)\n",
      "Process Process-16:\n",
      "  File \"/home/josh/anaconda3/envs/tacotron-3.6.8/lib/python3.6/multiprocessing/process.py\", line 258, in _bootstrap\n",
      "    self.run()\n",
      "  File \"/home/josh/anaconda3/envs/tacotron-3.6.8/lib/python3.6/concurrent/futures/process.py\", line 169, in _process_worker\n",
      "    call_item = call_queue.get(block=True)\n",
      "  File \"/home/josh/anaconda3/envs/tacotron-3.6.8/lib/python3.6/multiprocessing/process.py\", line 93, in run\n",
      "    self._target(*self._args, **self._kwargs)\n",
      "  File \"/home/josh/anaconda3/envs/tacotron-3.6.8/lib/python3.6/multiprocessing/process.py\", line 93, in run\n",
      "    self._target(*self._args, **self._kwargs)\n",
      "  File \"/home/josh/anaconda3/envs/tacotron-3.6.8/lib/python3.6/multiprocessing/process.py\", line 258, in _bootstrap\n",
      "    self.run()\n",
      "  File \"/home/josh/anaconda3/envs/tacotron-3.6.8/lib/python3.6/concurrent/futures/process.py\", line 169, in _process_worker\n",
      "    call_item = call_queue.get(block=True)\n",
      "  File \"/home/josh/anaconda3/envs/tacotron-3.6.8/lib/python3.6/multiprocessing/queues.py\", line 93, in get\n",
      "    with self._rlock:\n",
      "  File \"/home/josh/anaconda3/envs/tacotron-3.6.8/lib/python3.6/concurrent/futures/process.py\", line 169, in _process_worker\n",
      "    call_item = call_queue.get(block=True)\n",
      "  File \"/home/josh/anaconda3/envs/tacotron-3.6.8/lib/python3.6/multiprocessing/process.py\", line 258, in _bootstrap\n",
      "    self.run()\n",
      "Traceback (most recent call last):\n",
      "  File \"/home/josh/anaconda3/envs/tacotron-3.6.8/lib/python3.6/multiprocessing/process.py\", line 93, in run\n",
      "    self._target(*self._args, **self._kwargs)\n",
      "  File \"/home/josh/anaconda3/envs/tacotron-3.6.8/lib/python3.6/multiprocessing/process.py\", line 258, in _bootstrap\n",
      "    self.run()\n",
      "  File \"/home/josh/anaconda3/envs/tacotron-3.6.8/lib/python3.6/multiprocessing/queues.py\", line 93, in get\n",
      "    with self._rlock:\n",
      "  File \"/home/josh/anaconda3/envs/tacotron-3.6.8/lib/python3.6/multiprocessing/synchronize.py\", line 95, in __enter__\n",
      "    return self._semlock.__enter__()\n",
      "  File \"/home/josh/anaconda3/envs/tacotron-3.6.8/lib/python3.6/multiprocessing/queues.py\", line 94, in get\n",
      "    res = self._recv_bytes()\n",
      "  File \"/home/josh/anaconda3/envs/tacotron-3.6.8/lib/python3.6/multiprocessing/synchronize.py\", line 95, in __enter__\n",
      "    return self._semlock.__enter__()\n",
      "  File \"/home/josh/anaconda3/envs/tacotron-3.6.8/lib/python3.6/multiprocessing/process.py\", line 258, in _bootstrap\n",
      "    self.run()\n",
      "  File \"/home/josh/anaconda3/envs/tacotron-3.6.8/lib/python3.6/multiprocessing/process.py\", line 93, in run\n",
      "    self._target(*self._args, **self._kwargs)\n",
      "  File \"/home/josh/anaconda3/envs/tacotron-3.6.8/lib/python3.6/multiprocessing/process.py\", line 93, in run\n",
      "    self._target(*self._args, **self._kwargs)\n",
      "KeyboardInterrupt\n",
      "  File \"/home/josh/anaconda3/envs/tacotron-3.6.8/lib/python3.6/concurrent/futures/process.py\", line 169, in _process_worker\n",
      "    call_item = call_queue.get(block=True)\n",
      "  File \"/home/josh/anaconda3/envs/tacotron-3.6.8/lib/python3.6/multiprocessing/connection.py\", line 216, in recv_bytes\n",
      "    buf = self._recv_bytes(maxlength)\n",
      "  File \"/home/josh/anaconda3/envs/tacotron-3.6.8/lib/python3.6/concurrent/futures/process.py\", line 169, in _process_worker\n",
      "    call_item = call_queue.get(block=True)\n",
      "  File \"/home/josh/anaconda3/envs/tacotron-3.6.8/lib/python3.6/multiprocessing/queues.py\", line 93, in get\n",
      "    with self._rlock:\n",
      "  File \"/home/josh/anaconda3/envs/tacotron-3.6.8/lib/python3.6/concurrent/futures/process.py\", line 169, in _process_worker\n",
      "    call_item = call_queue.get(block=True)\n",
      "  File \"/home/josh/anaconda3/envs/tacotron-3.6.8/lib/python3.6/multiprocessing/connection.py\", line 407, in _recv_bytes\n",
      "    buf = self._recv(4)\n",
      "  File \"/home/josh/anaconda3/envs/tacotron-3.6.8/lib/python3.6/concurrent/futures/process.py\", line 169, in _process_worker\n",
      "    call_item = call_queue.get(block=True)\n",
      "  File \"/home/josh/anaconda3/envs/tacotron-3.6.8/lib/python3.6/multiprocessing/queues.py\", line 93, in get\n",
      "    with self._rlock:\n",
      "KeyboardInterrupt\n",
      "  File \"/home/josh/anaconda3/envs/tacotron-3.6.8/lib/python3.6/multiprocessing/synchronize.py\", line 95, in __enter__\n",
      "    return self._semlock.__enter__()\n",
      "  File \"/home/josh/anaconda3/envs/tacotron-3.6.8/lib/python3.6/multiprocessing/process.py\", line 93, in run\n",
      "    self._target(*self._args, **self._kwargs)\n",
      "  File \"/home/josh/anaconda3/envs/tacotron-3.6.8/lib/python3.6/multiprocessing/queues.py\", line 93, in get\n",
      "    with self._rlock:\n",
      "  File \"/home/josh/anaconda3/envs/tacotron-3.6.8/lib/python3.6/multiprocessing/queues.py\", line 93, in get\n",
      "    with self._rlock:\n",
      "  File \"/home/josh/anaconda3/envs/tacotron-3.6.8/lib/python3.6/multiprocessing/synchronize.py\", line 95, in __enter__\n",
      "    return self._semlock.__enter__()\n",
      "  File \"/home/josh/anaconda3/envs/tacotron-3.6.8/lib/python3.6/multiprocessing/connection.py\", line 379, in _recv\n",
      "    chunk = read(handle, remaining)\n",
      "  File \"/home/josh/anaconda3/envs/tacotron-3.6.8/lib/python3.6/concurrent/futures/process.py\", line 169, in _process_worker\n",
      "    call_item = call_queue.get(block=True)\n",
      "  File \"/home/josh/anaconda3/envs/tacotron-3.6.8/lib/python3.6/multiprocessing/synchronize.py\", line 95, in __enter__\n",
      "    return self._semlock.__enter__()\n",
      "  File \"/home/josh/anaconda3/envs/tacotron-3.6.8/lib/python3.6/multiprocessing/synchronize.py\", line 95, in __enter__\n",
      "    return self._semlock.__enter__()\n",
      "KeyboardInterrupt\n",
      "KeyboardInterrupt\n",
      "KeyboardInterrupt\n",
      "KeyboardInterrupt\n"
     ]
    }
   ],
   "source": [
    "from concurrent.futures import ProcessPoolExecutor\n",
    "from functools import partial\n",
    "\n",
    "def _process_pml_features(pml_file):\n",
    "    pml_features = np.load(os.path.join(training_data_dir, 'pml', pml_file))\n",
    "    wav = synth.pml_to_wav(pml_features)\n",
    "    return wav\n",
    "\n",
    "executor = ProcessPoolExecutor(max_workers=8)\n",
    "futures = []\n",
    "\n",
    "for pml_file in pml_features:\n",
    "    futures.append(executor.submit(partial(_process_pml_features, pml_file)))\n",
    "    \n",
    "analysis_synthesis_wavs = [future.result() for future in tqdm(futures)]\n",
    "wav_lengths = [len(wav) for wav in analysis_synthesis_wavs]\n",
    "max(wav_lengths), min(wav_lengths)"
   ]
  },
  {
   "cell_type": "code",
   "execution_count": 56,
   "metadata": {},
   "outputs": [
    {
     "data": {
      "application/vnd.jupyter.widget-view+json": {
       "model_id": "a87a3ab1e69645188c9b64cf8d2724ac",
       "version_major": 2,
       "version_minor": 0
      },
      "text/plain": [
       "HBox(children=(IntProgress(value=0, max=150), HTML(value='')))"
      ]
     },
     "metadata": {},
     "output_type": "display_data"
    }
   ],
   "source": [
    "from util import audio\n",
    "from lib import sigproc as sp\n",
    "\n",
    "as_dir = 'analysis_synthesis'\n",
    "os.makedirs(os.path.join(training_data_dir, as_dir), exist_ok=True)\n",
    "\n",
    "for i, wav in enumerate(tqdm(analysis_synthesis_wavs)):\n",
    "    sp.wavwrite(os.path.join(training_data_dir, as_dir, wav_files[i]), wav, 16000, norm_max_ifneeded=True)"
   ]
  },
  {
   "cell_type": "code",
   "execution_count": 24,
   "metadata": {},
   "outputs": [
    {
     "data": {
      "text/plain": [
       "150"
      ]
     },
     "execution_count": 24,
     "metadata": {},
     "output_type": "execute_result"
    }
   ],
   "source": [
    "len(analysis_synthesis_wavs)"
   ]
  },
  {
   "cell_type": "code",
   "execution_count": 31,
   "metadata": {},
   "outputs": [
    {
     "data": {
      "application/vnd.jupyter.widget-view+json": {
       "model_id": "cddad285695049ae9d84482837e9a6ce",
       "version_major": 2,
       "version_minor": 0
      },
      "text/plain": [
       "HBox(children=(IntProgress(value=0, max=150), HTML(value='')))"
      ]
     },
     "metadata": {},
     "output_type": "display_data"
    },
    {
     "name": "stdout",
     "output_type": "stream",
     "text": [
      "\n"
     ]
    }
   ],
   "source": [
    "from util import audio\n",
    "from lib import sigproc as sp\n",
    "import librosa\n",
    "\n",
    "gt_wavs = []\n",
    "analysis_synthesis_wavs = []\n",
    "\n",
    "for wav_file in tqdm(wav_files):\n",
    "    gt_wav_path = os.path.join(training_data_dir, 'wavs', wav_file)\n",
    "    gt_wav = audio.load_wav(gt_wav_path)\n",
    "    gt_wav = librosa.core.resample(gt_wav, orig_sr=22050, target_sr=16000)\n",
    "    gt_wavs.append(gt_wav)\n",
    "    \n",
    "    as_wav_path = os.path.join(training_data_dir, 'analysis_synthesis', wav_file)\n",
    "    as_wav = audio.load_wav(as_wav_path)\n",
    "    analysis_synthesis_wavs.append(as_wav)"
   ]
  },
  {
   "cell_type": "code",
   "execution_count": 32,
   "metadata": {},
   "outputs": [],
   "source": [
    "gt_lengths = [len(wav) for wav in gt_wavs]\n",
    "wav_lengths = [len(wav) for wav in analysis_synthesis_wavs]"
   ]
  },
  {
   "cell_type": "code",
   "execution_count": 33,
   "metadata": {},
   "outputs": [
    {
     "data": {
      "text/plain": [
       "(22850, 31000, 146353, 201000)"
      ]
     },
     "execution_count": 33,
     "metadata": {},
     "output_type": "execute_result"
    }
   ],
   "source": [
    "np.min(gt_lengths), np.min(wav_lengths), np.max(gt_lengths), np.max(wav_lengths)"
   ]
  },
  {
   "cell_type": "code",
   "execution_count": 13,
   "metadata": {},
   "outputs": [],
   "source": [
    "def rmse(first_set, second_set):\n",
    "    error = 0.0\n",
    "    wav_set_size = len(first_set)\n",
    "\n",
    "    for i in range(wav_set_size):\n",
    "        wav_1 = first_set[i]\n",
    "        wav_2 = second_set[i]\n",
    "\n",
    "        cutoff = min(len(wav_1), len(wav_2))\n",
    "        error += np.mean(np.square(wav_1[:cutoff] - wav_2[:cutoff]))\n",
    "\n",
    "    error = np.sqrt(error / wav_set_size)\n",
    "    return error"
   ]
  },
  {
   "cell_type": "code",
   "execution_count": 76,
   "metadata": {},
   "outputs": [],
   "source": [
    "from python_speech_features import mfcc\n",
    "\n",
    "def mcd(set_1, set_2, sr_1=16000, sr_2=16000, nfft=4096, winlen=0.050):\n",
    "    error = 0.0\n",
    "    wav_set_size = len(set_1)\n",
    "\n",
    "    for i in range(wav_set_size):\n",
    "        wav_1 = set_1[i]\n",
    "        wav_2 = set_2[i]\n",
    "        \n",
    "        mfcc_1 = mfcc(wav_1, sr_1, nfft=nfft, winlen=winlen)\n",
    "        mfcc_2 = mfcc(wav_2, sr_2, nfft=nfft, winlen=winlen)\n",
    "\n",
    "        cutoff = min(len(mfcc_1), len(mfcc_2))\n",
    "        sum_cepstral_error = np.sum(np.square(mfcc_1[:cutoff] - mfcc_2[:cutoff]), axis=1)\n",
    "        error += np.mean(np.sqrt(sum_cepstral_error))\n",
    "\n",
    "    error = np.sqrt(error / wav_set_size)\n",
    "    return error"
   ]
  },
  {
   "cell_type": "code",
   "execution_count": 34,
   "metadata": {},
   "outputs": [
    {
     "data": {
      "text/plain": [
       "0.1369529253121672"
      ]
     },
     "execution_count": 34,
     "metadata": {},
     "output_type": "execute_result"
    }
   ],
   "source": [
    "rmse(gt_wavs, analysis_synthesis_wavs)"
   ]
  },
  {
   "cell_type": "code",
   "execution_count": 77,
   "metadata": {},
   "outputs": [
    {
     "data": {
      "text/plain": [
       "8.989940900728191"
      ]
     },
     "execution_count": 77,
     "metadata": {},
     "output_type": "execute_result"
    }
   ],
   "source": [
    "mcd(gt_wavs, analysis_synthesis_wavs, sr_1=22050)"
   ]
  },
  {
   "cell_type": "code",
   "execution_count": 35,
   "metadata": {},
   "outputs": [
    {
     "data": {
      "text/plain": [
       "0.0"
      ]
     },
     "execution_count": 35,
     "metadata": {},
     "output_type": "execute_result"
    }
   ],
   "source": [
    "rmse(gt_wavs, gt_wavs)"
   ]
  },
  {
   "cell_type": "code",
   "execution_count": 78,
   "metadata": {},
   "outputs": [
    {
     "data": {
      "text/plain": [
       "0.0"
      ]
     },
     "execution_count": 78,
     "metadata": {},
     "output_type": "execute_result"
    }
   ],
   "source": [
    "mcd(gt_wavs, gt_wavs)"
   ]
  },
  {
   "cell_type": "code",
   "execution_count": 36,
   "metadata": {},
   "outputs": [
    {
     "data": {
      "text/plain": [
       "0.0"
      ]
     },
     "execution_count": 36,
     "metadata": {},
     "output_type": "execute_result"
    }
   ],
   "source": [
    "rmse(analysis_synthesis_wavs, analysis_synthesis_wavs)"
   ]
  },
  {
   "cell_type": "code",
   "execution_count": 79,
   "metadata": {},
   "outputs": [
    {
     "data": {
      "text/plain": [
       "0.0"
      ]
     },
     "execution_count": 79,
     "metadata": {},
     "output_type": "execute_result"
    }
   ],
   "source": [
    "mcd(analysis_synthesis_wavs, analysis_synthesis_wavs)"
   ]
  },
  {
   "cell_type": "code",
   "execution_count": 37,
   "metadata": {},
   "outputs": [
    {
     "data": {
      "application/vnd.jupyter.widget-view+json": {
       "model_id": "ccde315857254e1d95f714191f8c543e",
       "version_major": 2,
       "version_minor": 0
      },
      "text/plain": [
       "HBox(children=(IntProgress(value=0, max=150), HTML(value='')))"
      ]
     },
     "metadata": {},
     "output_type": "display_data"
    },
    {
     "name": "stdout",
     "output_type": "stream",
     "text": [
      "\n"
     ]
    }
   ],
   "source": [
    "vanilla_taco_wavs = []\n",
    "\n",
    "for wav_file in tqdm(wav_files):  \n",
    "    taco_wav_path = os.path.join(training_data_dir, 'vanilla_tacotron', wav_file)\n",
    "    taco_wav, fs, _ = sp.wavread(taco_wav_path)\n",
    "    taco_wav = librosa.core.resample(taco_wav, orig_sr=fs, target_sr=16000)\n",
    "    vanilla_taco_wavs.append(taco_wav)"
   ]
  },
  {
   "cell_type": "code",
   "execution_count": 38,
   "metadata": {},
   "outputs": [
    {
     "data": {
      "application/vnd.jupyter.widget-view+json": {
       "model_id": "4ba06dea514341ffbd18c4d8e57b830e",
       "version_major": 2,
       "version_minor": 0
      },
      "text/plain": [
       "HBox(children=(IntProgress(value=0, max=150), HTML(value='')))"
      ]
     },
     "metadata": {},
     "output_type": "display_data"
    },
    {
     "name": "stdout",
     "output_type": "stream",
     "text": [
      "\n"
     ]
    }
   ],
   "source": [
    "training_data_dir_163 = '/media/josh/Store/tacotron-data/163-lj-training'\n",
    "analysis_synthesis_wavs_163 = []\n",
    "\n",
    "for wav_file in tqdm(wav_files): \n",
    "    as_wav_path_163 = os.path.join(training_data_dir_163, 'analysis_synthesis_163', wav_file)\n",
    "    as_wav_163 = audio.load_wav(as_wav_path_163)\n",
    "    analysis_synthesis_wavs_163.append(as_wav_163)"
   ]
  },
  {
   "cell_type": "code",
   "execution_count": 39,
   "metadata": {},
   "outputs": [
    {
     "data": {
      "text/plain": [
       "0.09920272580157005"
      ]
     },
     "execution_count": 39,
     "metadata": {},
     "output_type": "execute_result"
    }
   ],
   "source": [
    "rmse(gt_wavs, vanilla_taco_wavs)"
   ]
  },
  {
   "cell_type": "code",
   "execution_count": 80,
   "metadata": {},
   "outputs": [
    {
     "data": {
      "text/plain": [
       "9.643082320716056"
      ]
     },
     "execution_count": 80,
     "metadata": {},
     "output_type": "execute_result"
    }
   ],
   "source": [
    "mcd(gt_wavs, vanilla_taco_wavs, sr_1=22050, sr_2=20000)"
   ]
  },
  {
   "cell_type": "code",
   "execution_count": 81,
   "metadata": {},
   "outputs": [
    {
     "data": {
      "text/plain": [
       "0.1307237265214509"
      ]
     },
     "execution_count": 81,
     "metadata": {},
     "output_type": "execute_result"
    }
   ],
   "source": [
    "rmse(gt_wavs, analysis_synthesis_wavs_163)"
   ]
  },
  {
   "cell_type": "code",
   "execution_count": 82,
   "metadata": {},
   "outputs": [
    {
     "data": {
      "text/plain": [
       "9.590551169932274"
      ]
     },
     "execution_count": 82,
     "metadata": {},
     "output_type": "execute_result"
    }
   ],
   "source": [
    "mcd(gt_wavs, analysis_synthesis_wavs_163, sr_1=22050)"
   ]
  },
  {
   "cell_type": "code",
   "execution_count": 11,
   "metadata": {},
   "outputs": [
    {
     "name": "stdout",
     "output_type": "stream",
     "text": [
      "Constructing model: tacotron_orig\n",
      "Initialized Tacotron model. Dimensions: \n",
      "  embedding:               256\n",
      "  prenet out:              128\n",
      "  encoder out:             256\n",
      "  attention out:           256\n",
      "  concat attn & out:       512\n",
      "  decoder cell out:        256\n",
      "  decoder out (5 frames):  400\n",
      "  decoder out (1 frame):   80\n",
      "  postnet out:             256\n",
      "  linear out:              1025\n",
      "Loading checkpoint: /media/josh/Store/remote-logs/tacotron-lj-500k/model.ckpt-195000\n",
      "INFO:tensorflow:Restoring parameters from /media/josh/Store/remote-logs/tacotron-lj-500k/model.ckpt-195000\n"
     ]
    },
    {
     "name": "stderr",
     "output_type": "stream",
     "text": [
      "  0%|          | 0/15 [00:00<?, ?it/s]"
     ]
    },
    {
     "name": "stdout",
     "output_type": "stream",
     "text": [
      "Prepared Inputs\n"
     ]
    },
    {
     "name": "stderr",
     "output_type": "stream",
     "text": [
      "\n",
      "  0%|          | 0/10 [00:00<?, ?it/s]\u001b[A\n",
      "  7%|▋         | 1/15 [04:37<1:04:49, 277.85s/it]"
     ]
    },
    {
     "name": "stdout",
     "output_type": "stream",
     "text": [
      "Prepared Inputs\n"
     ]
    },
    {
     "name": "stderr",
     "output_type": "stream",
     "text": [
      "\n",
      "  0%|          | 0/10 [00:00<?, ?it/s]\u001b[A\n",
      " 13%|█▎        | 2/15 [09:04<59:28, 274.48s/it]  "
     ]
    },
    {
     "name": "stdout",
     "output_type": "stream",
     "text": [
      "Prepared Inputs\n"
     ]
    },
    {
     "name": "stderr",
     "output_type": "stream",
     "text": [
      "\n",
      "  0%|          | 0/10 [00:00<?, ?it/s]\u001b[A\n",
      " 20%|██        | 3/15 [13:29<54:18, 271.54s/it]"
     ]
    },
    {
     "name": "stdout",
     "output_type": "stream",
     "text": [
      "Prepared Inputs\n"
     ]
    },
    {
     "name": "stderr",
     "output_type": "stream",
     "text": [
      "\n",
      "  0%|          | 0/10 [00:00<?, ?it/s]\u001b[A\n",
      " 27%|██▋       | 4/15 [17:54<49:27, 269.79s/it]"
     ]
    },
    {
     "name": "stdout",
     "output_type": "stream",
     "text": [
      "Prepared Inputs\n"
     ]
    },
    {
     "name": "stderr",
     "output_type": "stream",
     "text": [
      "\n",
      "  0%|          | 0/10 [00:00<?, ?it/s]\u001b[A\n",
      " 33%|███▎      | 5/15 [22:17<44:37, 267.77s/it]"
     ]
    },
    {
     "name": "stdout",
     "output_type": "stream",
     "text": [
      "Prepared Inputs\n"
     ]
    },
    {
     "name": "stderr",
     "output_type": "stream",
     "text": [
      "\n",
      "  0%|          | 0/10 [00:00<?, ?it/s]\u001b[A\n",
      " 40%|████      | 6/15 [26:41<39:58, 266.47s/it]"
     ]
    },
    {
     "name": "stdout",
     "output_type": "stream",
     "text": [
      "Prepared Inputs\n"
     ]
    },
    {
     "name": "stderr",
     "output_type": "stream",
     "text": [
      "\n",
      "  0%|          | 0/10 [00:00<?, ?it/s]\u001b[A\n",
      " 47%|████▋     | 7/15 [31:03<35:21, 265.25s/it]"
     ]
    },
    {
     "name": "stdout",
     "output_type": "stream",
     "text": [
      "Prepared Inputs\n"
     ]
    },
    {
     "name": "stderr",
     "output_type": "stream",
     "text": [
      "\n",
      "  0%|          | 0/10 [00:00<?, ?it/s]\u001b[A\n",
      " 53%|█████▎    | 8/15 [35:28<30:55, 265.07s/it]"
     ]
    },
    {
     "name": "stdout",
     "output_type": "stream",
     "text": [
      "Prepared Inputs\n"
     ]
    },
    {
     "name": "stderr",
     "output_type": "stream",
     "text": [
      "\n",
      "  0%|          | 0/10 [00:00<?, ?it/s]\u001b[A\n",
      " 60%|██████    | 9/15 [39:54<26:32, 265.35s/it]"
     ]
    },
    {
     "name": "stdout",
     "output_type": "stream",
     "text": [
      "Prepared Inputs\n"
     ]
    },
    {
     "name": "stderr",
     "output_type": "stream",
     "text": [
      "\n",
      "  0%|          | 0/10 [00:00<?, ?it/s]\u001b[A\n",
      " 67%|██████▋   | 10/15 [44:37<22:33, 270.76s/it]"
     ]
    },
    {
     "name": "stdout",
     "output_type": "stream",
     "text": [
      "Prepared Inputs\n"
     ]
    },
    {
     "name": "stderr",
     "output_type": "stream",
     "text": [
      "\n",
      "  0%|          | 0/10 [00:00<?, ?it/s]\u001b[A\n",
      " 73%|███████▎  | 11/15 [49:16<18:13, 273.25s/it]"
     ]
    },
    {
     "name": "stdout",
     "output_type": "stream",
     "text": [
      "Prepared Inputs\n"
     ]
    },
    {
     "name": "stderr",
     "output_type": "stream",
     "text": [
      "\n",
      "  0%|          | 0/10 [00:00<?, ?it/s]\u001b[A\n",
      " 80%|████████  | 12/15 [53:39<13:30, 270.07s/it]"
     ]
    },
    {
     "name": "stdout",
     "output_type": "stream",
     "text": [
      "Prepared Inputs\n"
     ]
    },
    {
     "name": "stderr",
     "output_type": "stream",
     "text": [
      "\n",
      "  0%|          | 0/10 [00:00<?, ?it/s]\u001b[A\n",
      " 87%|████████▋ | 13/15 [58:03<08:56, 268.22s/it]"
     ]
    },
    {
     "name": "stdout",
     "output_type": "stream",
     "text": [
      "Prepared Inputs\n"
     ]
    },
    {
     "name": "stderr",
     "output_type": "stream",
     "text": [
      "\n",
      "  0%|          | 0/10 [00:00<?, ?it/s]\u001b[A\n",
      " 93%|█████████▎| 14/15 [1:02:27<04:27, 267.01s/it]"
     ]
    },
    {
     "name": "stdout",
     "output_type": "stream",
     "text": [
      "Prepared Inputs\n"
     ]
    },
    {
     "name": "stderr",
     "output_type": "stream",
     "text": [
      "\n",
      "  0%|          | 0/10 [00:00<?, ?it/s]\u001b[A\n",
      "100%|██████████| 15/15 [1:06:51<00:00, 266.01s/it]\n"
     ]
    }
   ],
   "source": [
    "from tacotron.synthesizer import Synthesizer\n",
    "from util import audio\n",
    "\n",
    "# reset the graph before we do anything\n",
    "tf.reset_default_graph()\n",
    "taco_synth = Synthesizer()\n",
    "taco_synth.load('/media/josh/Store/remote-logs/tacotron-lj-500k/model.ckpt-195000', model_name='tacotron_orig')\n",
    "wavs = []\n",
    "\n",
    "for i in tqdm(np.arange(0, len(texts), 10)):\n",
    "    wavs += taco_synth.synthesize(texts[i:i+10], to_wav=True)"
   ]
  },
  {
   "cell_type": "code",
   "execution_count": 30,
   "metadata": {},
   "outputs": [
    {
     "data": {
      "application/vnd.jupyter.widget-view+json": {
       "model_id": "09049ead881442e0a58d2bf70578ae40",
       "version_major": 2,
       "version_minor": 0
      },
      "text/plain": [
       "HBox(children=(IntProgress(value=0, max=150), HTML(value='')))"
      ]
     },
     "metadata": {},
     "output_type": "display_data"
    },
    {
     "name": "stdout",
     "output_type": "stream",
     "text": [
      "\n"
     ]
    }
   ],
   "source": [
    "taco_dir = 'vanilla_tacotron'\n",
    "os.makedirs(os.path.join(training_data_dir, taco_dir), exist_ok=True)\n",
    "\n",
    "for i, wav in enumerate(tqdm(vanilla_taco_wavs)):\n",
    "    wav = wav[:audio.find_endpoint(wav)]\n",
    "    sp.wavwrite(os.path.join(training_data_dir, taco_dir, wav_files[i]), wav, 20000, norm_max_ifneeded=True)"
   ]
  },
  {
   "cell_type": "code",
   "execution_count": null,
   "metadata": {},
   "outputs": [],
   "source": [
    "# Set up denormalisation parameters for synthesis\n",
    "mean_path = '/home/josh/tacotron/LJSpeech-1.1/pml/mean.dat'\n",
    "std_path = '/home/josh/tacotron/LJSpeech-1.1/pml/std.dat'\n",
    "mean_norm = None\n",
    "std_norm = None\n",
    "\n",
    "if os.path.isfile(mean_path) and os.path.isfile(std_path):\n",
    "    mean_norm = np.fromfile(mean_path, 'float32')\n",
    "    std_norm = np.fromfile(std_path, 'float32')\n",
    "\n",
    "pml_cmp = np.fromfile('/home/josh/tacotron/LJSpeech-1.1/pml/LJ029-0088.cmp', dtype=np.float32)\n",
    "# pml_cmp = np.fromfile('/home/josh/tacotron/LJSpeech-1.1/bck_pml/LJ029-0088.cmp', dtype=np.float32)\n",
    "pml_features = pml_cmp.reshape((-1, hparams.pml_dimension))\n",
    "cfg = Configuration(hparams.sample_rate, hparams.pml_dimension)\n",
    "synth = PMLSynthesizer(cfg)\n",
    "log('Synthesizing Audio...')\n",
    "wav = synth.pml_to_wav(pml_features, verbose_level=verbose_level, mean_norm=mean_norm, std_norm=std_norm,\n",
    "                       spec_type=hparams.spec_type)"
   ]
  },
  {
   "cell_type": "code",
   "execution_count": 4,
   "metadata": {},
   "outputs": [
    {
     "name": "stdout",
     "output_type": "stream",
     "text": [
      "Loaded metadata for 150 examples (0.68 hours)\n"
     ]
    },
    {
     "data": {
      "application/vnd.jupyter.widget-view+json": {
       "model_id": "8212cada24774f4b9b0c9cd42009a55f",
       "version_major": 2,
       "version_minor": 0
      },
      "text/plain": [
       "HBox(children=(IntProgress(value=0, max=150), HTML(value='')))"
      ]
     },
     "metadata": {},
     "output_type": "display_data"
    },
    {
     "name": "stdout",
     "output_type": "stream",
     "text": [
      "    Forcing binary noise mask\n",
      "    Forcing binary noise mask\n",
      "    Forcing binary noise mask\n",
      "    Forcing binary noise mask\n",
      "    Forcing binary noise mask\n",
      "    Forcing binary noise mask\n",
      "    Forcing binary noise mask\n",
      "    Forcing binary noise mask\n",
      "    Forcing binary noise mask\n",
      "    Forcing binary noise mask\n",
      "    Forcing binary noise mask\n",
      "    Forcing binary noise mask\n",
      "    Forcing binary noise mask\n",
      "    Forcing binary noise mask\n",
      "    Forcing binary noise mask\n",
      "    Forcing binary noise mask\n",
      "    Forcing binary noise mask\n",
      "    Forcing binary noise mask\n",
      "    Forcing binary noise mask\n",
      "    Forcing binary noise mask\n",
      "    Forcing binary noise mask\n",
      "    Forcing binary noise mask\n",
      "    Forcing binary noise mask\n",
      "    Forcing binary noise mask\n",
      "    Forcing binary noise mask\n",
      "    Forcing binary noise mask\n",
      "    Forcing binary noise mask\n",
      "    Forcing binary noise mask\n",
      "    Forcing binary noise mask\n",
      "    Forcing binary noise mask\n",
      "    Forcing binary noise mask\n",
      "    Forcing binary noise mask\n",
      "    Forcing binary noise mask\n",
      "    Forcing binary noise mask\n",
      "    Forcing binary noise mask\n",
      "    Forcing binary noise mask\n",
      "    Forcing binary noise mask\n",
      "    Forcing binary noise mask\n",
      "    Forcing binary noise mask\n",
      "    Forcing binary noise mask\n",
      "    Forcing binary noise mask\n",
      "    Forcing binary noise mask\n",
      "    Forcing binary noise mask\n",
      "    Forcing binary noise mask\n",
      "    Forcing binary noise mask\n",
      "    Forcing binary noise mask\n",
      "    Forcing binary noise mask\n",
      "    Forcing binary noise mask\n",
      "    Forcing binary noise mask\n",
      "    Forcing binary noise mask\n",
      "    Forcing binary noise mask\n",
      "    Forcing binary noise mask\n",
      "    Forcing binary noise mask\n",
      "    Forcing binary noise mask\n",
      "    Forcing binary noise mask\n",
      "    Forcing binary noise mask\n",
      "    Forcing binary noise mask\n",
      "    Forcing binary noise mask\n",
      "    Forcing binary noise mask\n",
      "    Forcing binary noise mask\n",
      "    Forcing binary noise mask\n",
      "    Forcing binary noise mask\n",
      "    Forcing binary noise mask\n",
      "    Forcing binary noise mask\n",
      "    Forcing binary noise mask\n",
      "    Forcing binary noise mask\n",
      "    Forcing binary noise mask\n",
      "    Forcing binary noise mask\n",
      "    Forcing binary noise mask\n",
      "    Forcing binary noise mask\n",
      "    Forcing binary noise mask\n",
      "    Forcing binary noise mask\n",
      "    Forcing binary noise mask\n",
      "    Forcing binary noise mask\n",
      "    Forcing binary noise mask\n",
      "    Forcing binary noise mask\n",
      "    Forcing binary noise mask\n",
      "    Forcing binary noise mask\n",
      "    Forcing binary noise mask\n",
      "    Forcing binary noise mask\n",
      "    Forcing binary noise mask\n",
      "    Forcing binary noise mask\n",
      "    Forcing binary noise mask\n",
      "    Forcing binary noise mask\n",
      "    Forcing binary noise mask\n",
      "    Forcing binary noise mask\n",
      "    Forcing binary noise mask\n",
      "    Forcing binary noise mask\n",
      "    Forcing binary noise mask\n",
      "    Forcing binary noise mask\n",
      "    Forcing binary noise mask\n",
      "    Forcing binary noise mask\n",
      "    Forcing binary noise mask\n",
      "    Forcing binary noise mask\n",
      "    Forcing binary noise mask\n",
      "    Forcing binary noise mask\n",
      "    Forcing binary noise mask\n",
      "    Forcing binary noise mask\n",
      "    Forcing binary noise mask\n",
      "    Forcing binary noise mask\n",
      "    Forcing binary noise mask\n",
      "    Forcing binary noise mask\n",
      "    Forcing binary noise mask\n",
      "    Forcing binary noise mask\n",
      "    Forcing binary noise mask\n",
      "    Forcing binary noise mask\n",
      "    Forcing binary noise mask\n",
      "    Forcing binary noise mask\n",
      "    Forcing binary noise mask\n",
      "    Forcing binary noise mask\n",
      "    Forcing binary noise mask\n",
      "    Forcing binary noise mask\n",
      "    Forcing binary noise mask\n",
      "    Forcing binary noise mask\n",
      "    Forcing binary noise mask\n",
      "    Forcing binary noise mask\n",
      "    Forcing binary noise mask\n",
      "    Forcing binary noise mask\n",
      "    Forcing binary noise mask\n",
      "    Forcing binary noise mask\n",
      "    Forcing binary noise mask\n",
      "    Forcing binary noise mask\n",
      "    Forcing binary noise mask\n",
      "    Forcing binary noise mask\n",
      "    Forcing binary noise mask\n",
      "    Forcing binary noise mask\n",
      "    Forcing binary noise mask\n",
      "    Forcing binary noise mask\n",
      "    Forcing binary noise mask\n",
      "    Forcing binary noise mask\n",
      "    Forcing binary noise mask\n",
      "    Forcing binary noise mask\n",
      "    Forcing binary noise mask\n",
      "    Forcing binary noise mask\n",
      "    Forcing binary noise mask\n",
      "    Forcing binary noise mask\n",
      "    Forcing binary noise mask\n",
      "    Forcing binary noise mask\n",
      "    Forcing binary noise mask\n",
      "    Forcing binary noise mask\n",
      "    Forcing binary noise mask\n",
      "    Forcing binary noise mask\n",
      "    Forcing binary noise mask\n",
      "    Forcing binary noise mask\n",
      "    Forcing binary noise mask\n",
      "    Forcing binary noise mask\n",
      "    Forcing binary noise mask\n",
      "    Forcing binary noise mask\n",
      "    Forcing binary noise mask\n",
      "    Forcing binary noise mask\n",
      "\n"
     ]
    },
    {
     "data": {
      "text/plain": [
       "(160800, 24800)"
      ]
     },
     "execution_count": 4,
     "metadata": {},
     "output_type": "execute_result"
    }
   ],
   "source": [
    "from concurrent.futures import ProcessPoolExecutor\n",
    "from functools import partial\n",
    "\n",
    "training_data_dir_163 = '/media/josh/Store/tacotron-data/163-lj-training'\n",
    "metadata_filename_163 = os.path.join(training_data_dir_163, 'test.txt')\n",
    "\n",
    "cfg_163 = Configuration(16000, 163)\n",
    "synth_163 = PMLSynthesizer(cfg_163)\n",
    "# synth.load(checkpoint_path, hparams, gta=gta, model_name=args.variant)\n",
    "\n",
    "with open(metadata_filename_163, encoding='utf-8') as f:\n",
    "    metadata_163 = [line.strip().split('|') for line in f]\n",
    "    hours = sum((int(x[2]) for x in metadata_163)) * hparams.frame_shift_ms / (3600 * 1000)\n",
    "    print('Loaded metadata for %d examples (%.2f hours)' % (len(metadata_163), hours))\n",
    "\n",
    "pml_features_163 = [m[3] for m in metadata_163]\n",
    "texts_163 = [m[5] for m in metadata_163]\n",
    "wav_files_163 = [m[6] for m in metadata_163]\n",
    "\n",
    "# Set up denormalisation parameters for synthesis\n",
    "mean_path = os.path.expanduser('~/tacotron/LJSpeech-1.1/pml/mean.dat')\n",
    "std_path = os.path.expanduser('~/tacotron/LJSpeech-1.1/pml/std.dat')\n",
    "mean_norm = None\n",
    "std_norm = None\n",
    "\n",
    "if os.path.isfile(mean_path) and os.path.isfile(std_path):\n",
    "    mean_norm = np.fromfile(mean_path, 'float32')\n",
    "    std_norm = np.fromfile(std_path, 'float32')\n",
    "\n",
    "def _process_pml_features(pml_file):\n",
    "    pml_features = np.load(os.path.join(training_data_dir_163, 'pml', pml_file))\n",
    "    wav = synth_163.pml_to_wav(pml_features, mean_norm=mean_norm, std_norm=std_norm, spec_type='fwbnd', pp_mcep=True)\n",
    "    return wav\n",
    "\n",
    "executor = ProcessPoolExecutor(max_workers=4)\n",
    "futures = []\n",
    "\n",
    "for pml_file in pml_features_163:\n",
    "    futures.append(executor.submit(partial(_process_pml_features, pml_file)))\n",
    "    \n",
    "analysis_synthesis_wavs_163 = [future.result() for future in tqdm(futures)]\n",
    "wav_lengths_163 = [len(wav) for wav in analysis_synthesis_wavs_163]\n",
    "max(wav_lengths_163), min(wav_lengths_163)"
   ]
  },
  {
   "cell_type": "code",
   "execution_count": 5,
   "metadata": {},
   "outputs": [
    {
     "data": {
      "application/vnd.jupyter.widget-view+json": {
       "model_id": "1835969a541a4f7e80cf3ee8b2159d2d",
       "version_major": 2,
       "version_minor": 0
      },
      "text/plain": [
       "HBox(children=(IntProgress(value=0, max=150), HTML(value='')))"
      ]
     },
     "metadata": {},
     "output_type": "display_data"
    },
    {
     "name": "stdout",
     "output_type": "stream",
     "text": [
      "    WARNING: sigproc.wavwrite: waveform in file /media/josh/Store/tacotron-data/163-lj-training/analysis_synthesis_163/LJ050-0129.wav is clipping. Rescaling between [-1,1]\n",
      "    WARNING: sigproc.wavwrite: waveform in file /media/josh/Store/tacotron-data/163-lj-training/analysis_synthesis_163/LJ050-0130.wav is clipping. Rescaling between [-1,1]\n",
      "    WARNING: sigproc.wavwrite: waveform in file /media/josh/Store/tacotron-data/163-lj-training/analysis_synthesis_163/LJ050-0131.wav is clipping. Rescaling between [-1,1]\n",
      "    WARNING: sigproc.wavwrite: waveform in file /media/josh/Store/tacotron-data/163-lj-training/analysis_synthesis_163/LJ050-0132.wav is clipping. Rescaling between [-1,1]\n",
      "    WARNING: sigproc.wavwrite: waveform in file /media/josh/Store/tacotron-data/163-lj-training/analysis_synthesis_163/LJ050-0133.wav is clipping. Rescaling between [-1,1]\n",
      "    WARNING: sigproc.wavwrite: waveform in file /media/josh/Store/tacotron-data/163-lj-training/analysis_synthesis_163/LJ050-0134.wav is clipping. Rescaling between [-1,1]\n",
      "    WARNING: sigproc.wavwrite: waveform in file /media/josh/Store/tacotron-data/163-lj-training/analysis_synthesis_163/LJ050-0135.wav is clipping. Rescaling between [-1,1]\n",
      "    WARNING: sigproc.wavwrite: waveform in file /media/josh/Store/tacotron-data/163-lj-training/analysis_synthesis_163/LJ050-0136.wav is clipping. Rescaling between [-1,1]\n",
      "    WARNING: sigproc.wavwrite: waveform in file /media/josh/Store/tacotron-data/163-lj-training/analysis_synthesis_163/LJ050-0137.wav is clipping. Rescaling between [-1,1]\n",
      "    WARNING: sigproc.wavwrite: waveform in file /media/josh/Store/tacotron-data/163-lj-training/analysis_synthesis_163/LJ050-0138.wav is clipping. Rescaling between [-1,1]\n",
      "    WARNING: sigproc.wavwrite: waveform in file /media/josh/Store/tacotron-data/163-lj-training/analysis_synthesis_163/LJ050-0139.wav is clipping. Rescaling between [-1,1]\n",
      "    WARNING: sigproc.wavwrite: waveform in file /media/josh/Store/tacotron-data/163-lj-training/analysis_synthesis_163/LJ050-0140.wav is clipping. Rescaling between [-1,1]\n",
      "    WARNING: sigproc.wavwrite: waveform in file /media/josh/Store/tacotron-data/163-lj-training/analysis_synthesis_163/LJ050-0141.wav is clipping. Rescaling between [-1,1]\n",
      "    WARNING: sigproc.wavwrite: waveform in file /media/josh/Store/tacotron-data/163-lj-training/analysis_synthesis_163/LJ050-0142.wav is clipping. Rescaling between [-1,1]\n",
      "    WARNING: sigproc.wavwrite: waveform in file /media/josh/Store/tacotron-data/163-lj-training/analysis_synthesis_163/LJ050-0143.wav is clipping. Rescaling between [-1,1]\n",
      "    WARNING: sigproc.wavwrite: waveform in file /media/josh/Store/tacotron-data/163-lj-training/analysis_synthesis_163/LJ050-0144.wav is clipping. Rescaling between [-1,1]\n",
      "    WARNING: sigproc.wavwrite: waveform in file /media/josh/Store/tacotron-data/163-lj-training/analysis_synthesis_163/LJ050-0145.wav is clipping. Rescaling between [-1,1]\n",
      "    WARNING: sigproc.wavwrite: waveform in file /media/josh/Store/tacotron-data/163-lj-training/analysis_synthesis_163/LJ050-0146.wav is clipping. Rescaling between [-1,1]\n",
      "    WARNING: sigproc.wavwrite: waveform in file /media/josh/Store/tacotron-data/163-lj-training/analysis_synthesis_163/LJ050-0147.wav is clipping. Rescaling between [-1,1]\n",
      "    WARNING: sigproc.wavwrite: waveform in file /media/josh/Store/tacotron-data/163-lj-training/analysis_synthesis_163/LJ050-0148.wav is clipping. Rescaling between [-1,1]\n",
      "    WARNING: sigproc.wavwrite: waveform in file /media/josh/Store/tacotron-data/163-lj-training/analysis_synthesis_163/LJ050-0149.wav is clipping. Rescaling between [-1,1]\n",
      "    WARNING: sigproc.wavwrite: waveform in file /media/josh/Store/tacotron-data/163-lj-training/analysis_synthesis_163/LJ050-0150.wav is clipping. Rescaling between [-1,1]\n",
      "    WARNING: sigproc.wavwrite: waveform in file /media/josh/Store/tacotron-data/163-lj-training/analysis_synthesis_163/LJ050-0151.wav is clipping. Rescaling between [-1,1]\n",
      "    WARNING: sigproc.wavwrite: waveform in file /media/josh/Store/tacotron-data/163-lj-training/analysis_synthesis_163/LJ050-0152.wav is clipping. Rescaling between [-1,1]\n",
      "    WARNING: sigproc.wavwrite: waveform in file /media/josh/Store/tacotron-data/163-lj-training/analysis_synthesis_163/LJ050-0153.wav is clipping. Rescaling between [-1,1]\n",
      "    WARNING: sigproc.wavwrite: waveform in file /media/josh/Store/tacotron-data/163-lj-training/analysis_synthesis_163/LJ050-0154.wav is clipping. Rescaling between [-1,1]\n",
      "    WARNING: sigproc.wavwrite: waveform in file /media/josh/Store/tacotron-data/163-lj-training/analysis_synthesis_163/LJ050-0155.wav is clipping. Rescaling between [-1,1]\n",
      "    WARNING: sigproc.wavwrite: waveform in file /media/josh/Store/tacotron-data/163-lj-training/analysis_synthesis_163/LJ050-0156.wav is clipping. Rescaling between [-1,1]\n",
      "    WARNING: sigproc.wavwrite: waveform in file /media/josh/Store/tacotron-data/163-lj-training/analysis_synthesis_163/LJ050-0157.wav is clipping. Rescaling between [-1,1]\n",
      "    WARNING: sigproc.wavwrite: waveform in file /media/josh/Store/tacotron-data/163-lj-training/analysis_synthesis_163/LJ050-0158.wav is clipping. Rescaling between [-1,1]\n",
      "    WARNING: sigproc.wavwrite: waveform in file /media/josh/Store/tacotron-data/163-lj-training/analysis_synthesis_163/LJ050-0159.wav is clipping. Rescaling between [-1,1]\n",
      "    WARNING: sigproc.wavwrite: waveform in file /media/josh/Store/tacotron-data/163-lj-training/analysis_synthesis_163/LJ050-0160.wav is clipping. Rescaling between [-1,1]\n",
      "    WARNING: sigproc.wavwrite: waveform in file /media/josh/Store/tacotron-data/163-lj-training/analysis_synthesis_163/LJ050-0161.wav is clipping. Rescaling between [-1,1]\n",
      "    WARNING: sigproc.wavwrite: waveform in file /media/josh/Store/tacotron-data/163-lj-training/analysis_synthesis_163/LJ050-0162.wav is clipping. Rescaling between [-1,1]\n",
      "    WARNING: sigproc.wavwrite: waveform in file /media/josh/Store/tacotron-data/163-lj-training/analysis_synthesis_163/LJ050-0163.wav is clipping. Rescaling between [-1,1]\n",
      "    WARNING: sigproc.wavwrite: waveform in file /media/josh/Store/tacotron-data/163-lj-training/analysis_synthesis_163/LJ050-0164.wav is clipping. Rescaling between [-1,1]\n",
      "    WARNING: sigproc.wavwrite: waveform in file /media/josh/Store/tacotron-data/163-lj-training/analysis_synthesis_163/LJ050-0165.wav is clipping. Rescaling between [-1,1]\n",
      "    WARNING: sigproc.wavwrite: waveform in file /media/josh/Store/tacotron-data/163-lj-training/analysis_synthesis_163/LJ050-0166.wav is clipping. Rescaling between [-1,1]\n",
      "    WARNING: sigproc.wavwrite: waveform in file /media/josh/Store/tacotron-data/163-lj-training/analysis_synthesis_163/LJ050-0167.wav is clipping. Rescaling between [-1,1]\n",
      "    WARNING: sigproc.wavwrite: waveform in file /media/josh/Store/tacotron-data/163-lj-training/analysis_synthesis_163/LJ050-0168.wav is clipping. Rescaling between [-1,1]\n",
      "    WARNING: sigproc.wavwrite: waveform in file /media/josh/Store/tacotron-data/163-lj-training/analysis_synthesis_163/LJ050-0169.wav is clipping. Rescaling between [-1,1]\n",
      "    WARNING: sigproc.wavwrite: waveform in file /media/josh/Store/tacotron-data/163-lj-training/analysis_synthesis_163/LJ050-0170.wav is clipping. Rescaling between [-1,1]\n",
      "    WARNING: sigproc.wavwrite: waveform in file /media/josh/Store/tacotron-data/163-lj-training/analysis_synthesis_163/LJ050-0171.wav is clipping. Rescaling between [-1,1]\n",
      "    WARNING: sigproc.wavwrite: waveform in file /media/josh/Store/tacotron-data/163-lj-training/analysis_synthesis_163/LJ050-0172.wav is clipping. Rescaling between [-1,1]\n",
      "    WARNING: sigproc.wavwrite: waveform in file /media/josh/Store/tacotron-data/163-lj-training/analysis_synthesis_163/LJ050-0173.wav is clipping. Rescaling between [-1,1]\n",
      "    WARNING: sigproc.wavwrite: waveform in file /media/josh/Store/tacotron-data/163-lj-training/analysis_synthesis_163/LJ050-0174.wav is clipping. Rescaling between [-1,1]\n",
      "    WARNING: sigproc.wavwrite: waveform in file /media/josh/Store/tacotron-data/163-lj-training/analysis_synthesis_163/LJ050-0175.wav is clipping. Rescaling between [-1,1]\n",
      "    WARNING: sigproc.wavwrite: waveform in file /media/josh/Store/tacotron-data/163-lj-training/analysis_synthesis_163/LJ050-0176.wav is clipping. Rescaling between [-1,1]\n",
      "    WARNING: sigproc.wavwrite: waveform in file /media/josh/Store/tacotron-data/163-lj-training/analysis_synthesis_163/LJ050-0177.wav is clipping. Rescaling between [-1,1]\n",
      "    WARNING: sigproc.wavwrite: waveform in file /media/josh/Store/tacotron-data/163-lj-training/analysis_synthesis_163/LJ050-0178.wav is clipping. Rescaling between [-1,1]\n",
      "    WARNING: sigproc.wavwrite: waveform in file /media/josh/Store/tacotron-data/163-lj-training/analysis_synthesis_163/LJ050-0179.wav is clipping. Rescaling between [-1,1]\n",
      "    WARNING: sigproc.wavwrite: waveform in file /media/josh/Store/tacotron-data/163-lj-training/analysis_synthesis_163/LJ050-0180.wav is clipping. Rescaling between [-1,1]\n",
      "    WARNING: sigproc.wavwrite: waveform in file /media/josh/Store/tacotron-data/163-lj-training/analysis_synthesis_163/LJ050-0181.wav is clipping. Rescaling between [-1,1]\n",
      "    WARNING: sigproc.wavwrite: waveform in file /media/josh/Store/tacotron-data/163-lj-training/analysis_synthesis_163/LJ050-0182.wav is clipping. Rescaling between [-1,1]\n",
      "    WARNING: sigproc.wavwrite: waveform in file /media/josh/Store/tacotron-data/163-lj-training/analysis_synthesis_163/LJ050-0183.wav is clipping. Rescaling between [-1,1]\n",
      "    WARNING: sigproc.wavwrite: waveform in file /media/josh/Store/tacotron-data/163-lj-training/analysis_synthesis_163/LJ050-0184.wav is clipping. Rescaling between [-1,1]\n",
      "    WARNING: sigproc.wavwrite: waveform in file /media/josh/Store/tacotron-data/163-lj-training/analysis_synthesis_163/LJ050-0185.wav is clipping. Rescaling between [-1,1]\n",
      "    WARNING: sigproc.wavwrite: waveform in file /media/josh/Store/tacotron-data/163-lj-training/analysis_synthesis_163/LJ050-0186.wav is clipping. Rescaling between [-1,1]\n",
      "    WARNING: sigproc.wavwrite: waveform in file /media/josh/Store/tacotron-data/163-lj-training/analysis_synthesis_163/LJ050-0187.wav is clipping. Rescaling between [-1,1]\n",
      "    WARNING: sigproc.wavwrite: waveform in file /media/josh/Store/tacotron-data/163-lj-training/analysis_synthesis_163/LJ050-0188.wav is clipping. Rescaling between [-1,1]\n",
      "    WARNING: sigproc.wavwrite: waveform in file /media/josh/Store/tacotron-data/163-lj-training/analysis_synthesis_163/LJ050-0189.wav is clipping. Rescaling between [-1,1]\n",
      "    WARNING: sigproc.wavwrite: waveform in file /media/josh/Store/tacotron-data/163-lj-training/analysis_synthesis_163/LJ050-0190.wav is clipping. Rescaling between [-1,1]\n",
      "    WARNING: sigproc.wavwrite: waveform in file /media/josh/Store/tacotron-data/163-lj-training/analysis_synthesis_163/LJ050-0191.wav is clipping. Rescaling between [-1,1]\n",
      "    WARNING: sigproc.wavwrite: waveform in file /media/josh/Store/tacotron-data/163-lj-training/analysis_synthesis_163/LJ050-0192.wav is clipping. Rescaling between [-1,1]\n",
      "    WARNING: sigproc.wavwrite: waveform in file /media/josh/Store/tacotron-data/163-lj-training/analysis_synthesis_163/LJ050-0193.wav is clipping. Rescaling between [-1,1]\n",
      "    WARNING: sigproc.wavwrite: waveform in file /media/josh/Store/tacotron-data/163-lj-training/analysis_synthesis_163/LJ050-0194.wav is clipping. Rescaling between [-1,1]\n",
      "    WARNING: sigproc.wavwrite: waveform in file /media/josh/Store/tacotron-data/163-lj-training/analysis_synthesis_163/LJ050-0195.wav is clipping. Rescaling between [-1,1]\n",
      "    WARNING: sigproc.wavwrite: waveform in file /media/josh/Store/tacotron-data/163-lj-training/analysis_synthesis_163/LJ050-0196.wav is clipping. Rescaling between [-1,1]\n",
      "    WARNING: sigproc.wavwrite: waveform in file /media/josh/Store/tacotron-data/163-lj-training/analysis_synthesis_163/LJ050-0197.wav is clipping. Rescaling between [-1,1]\n",
      "    WARNING: sigproc.wavwrite: waveform in file /media/josh/Store/tacotron-data/163-lj-training/analysis_synthesis_163/LJ050-0198.wav is clipping. Rescaling between [-1,1]\n",
      "    WARNING: sigproc.wavwrite: waveform in file /media/josh/Store/tacotron-data/163-lj-training/analysis_synthesis_163/LJ050-0199.wav is clipping. Rescaling between [-1,1]\n",
      "    WARNING: sigproc.wavwrite: waveform in file /media/josh/Store/tacotron-data/163-lj-training/analysis_synthesis_163/LJ050-0200.wav is clipping. Rescaling between [-1,1]\n",
      "    WARNING: sigproc.wavwrite: waveform in file /media/josh/Store/tacotron-data/163-lj-training/analysis_synthesis_163/LJ050-0201.wav is clipping. Rescaling between [-1,1]\n",
      "    WARNING: sigproc.wavwrite: waveform in file /media/josh/Store/tacotron-data/163-lj-training/analysis_synthesis_163/LJ050-0202.wav is clipping. Rescaling between [-1,1]\n",
      "    WARNING: sigproc.wavwrite: waveform in file /media/josh/Store/tacotron-data/163-lj-training/analysis_synthesis_163/LJ050-0203.wav is clipping. Rescaling between [-1,1]\n",
      "    WARNING: sigproc.wavwrite: waveform in file /media/josh/Store/tacotron-data/163-lj-training/analysis_synthesis_163/LJ050-0204.wav is clipping. Rescaling between [-1,1]\n",
      "    WARNING: sigproc.wavwrite: waveform in file /media/josh/Store/tacotron-data/163-lj-training/analysis_synthesis_163/LJ050-0205.wav is clipping. Rescaling between [-1,1]\n",
      "    WARNING: sigproc.wavwrite: waveform in file /media/josh/Store/tacotron-data/163-lj-training/analysis_synthesis_163/LJ050-0206.wav is clipping. Rescaling between [-1,1]\n",
      "    WARNING: sigproc.wavwrite: waveform in file /media/josh/Store/tacotron-data/163-lj-training/analysis_synthesis_163/LJ050-0207.wav is clipping. Rescaling between [-1,1]\n",
      "    WARNING: sigproc.wavwrite: waveform in file /media/josh/Store/tacotron-data/163-lj-training/analysis_synthesis_163/LJ050-0208.wav is clipping. Rescaling between [-1,1]\n",
      "    WARNING: sigproc.wavwrite: waveform in file /media/josh/Store/tacotron-data/163-lj-training/analysis_synthesis_163/LJ050-0209.wav is clipping. Rescaling between [-1,1]\n",
      "    WARNING: sigproc.wavwrite: waveform in file /media/josh/Store/tacotron-data/163-lj-training/analysis_synthesis_163/LJ050-0210.wav is clipping. Rescaling between [-1,1]\n",
      "    WARNING: sigproc.wavwrite: waveform in file /media/josh/Store/tacotron-data/163-lj-training/analysis_synthesis_163/LJ050-0211.wav is clipping. Rescaling between [-1,1]\n",
      "    WARNING: sigproc.wavwrite: waveform in file /media/josh/Store/tacotron-data/163-lj-training/analysis_synthesis_163/LJ050-0212.wav is clipping. Rescaling between [-1,1]\n",
      "    WARNING: sigproc.wavwrite: waveform in file /media/josh/Store/tacotron-data/163-lj-training/analysis_synthesis_163/LJ050-0213.wav is clipping. Rescaling between [-1,1]\n",
      "    WARNING: sigproc.wavwrite: waveform in file /media/josh/Store/tacotron-data/163-lj-training/analysis_synthesis_163/LJ050-0214.wav is clipping. Rescaling between [-1,1]\n",
      "    WARNING: sigproc.wavwrite: waveform in file /media/josh/Store/tacotron-data/163-lj-training/analysis_synthesis_163/LJ050-0215.wav is clipping. Rescaling between [-1,1]\n",
      "    WARNING: sigproc.wavwrite: waveform in file /media/josh/Store/tacotron-data/163-lj-training/analysis_synthesis_163/LJ050-0216.wav is clipping. Rescaling between [-1,1]\n",
      "    WARNING: sigproc.wavwrite: waveform in file /media/josh/Store/tacotron-data/163-lj-training/analysis_synthesis_163/LJ050-0217.wav is clipping. Rescaling between [-1,1]\n",
      "    WARNING: sigproc.wavwrite: waveform in file /media/josh/Store/tacotron-data/163-lj-training/analysis_synthesis_163/LJ050-0218.wav is clipping. Rescaling between [-1,1]\n",
      "    WARNING: sigproc.wavwrite: waveform in file /media/josh/Store/tacotron-data/163-lj-training/analysis_synthesis_163/LJ050-0219.wav is clipping. Rescaling between [-1,1]\n",
      "    WARNING: sigproc.wavwrite: waveform in file /media/josh/Store/tacotron-data/163-lj-training/analysis_synthesis_163/LJ050-0220.wav is clipping. Rescaling between [-1,1]\n",
      "    WARNING: sigproc.wavwrite: waveform in file /media/josh/Store/tacotron-data/163-lj-training/analysis_synthesis_163/LJ050-0221.wav is clipping. Rescaling between [-1,1]\n",
      "    WARNING: sigproc.wavwrite: waveform in file /media/josh/Store/tacotron-data/163-lj-training/analysis_synthesis_163/LJ050-0222.wav is clipping. Rescaling between [-1,1]\n",
      "    WARNING: sigproc.wavwrite: waveform in file /media/josh/Store/tacotron-data/163-lj-training/analysis_synthesis_163/LJ050-0223.wav is clipping. Rescaling between [-1,1]\n",
      "    WARNING: sigproc.wavwrite: waveform in file /media/josh/Store/tacotron-data/163-lj-training/analysis_synthesis_163/LJ050-0224.wav is clipping. Rescaling between [-1,1]\n",
      "    WARNING: sigproc.wavwrite: waveform in file /media/josh/Store/tacotron-data/163-lj-training/analysis_synthesis_163/LJ050-0225.wav is clipping. Rescaling between [-1,1]\n",
      "    WARNING: sigproc.wavwrite: waveform in file /media/josh/Store/tacotron-data/163-lj-training/analysis_synthesis_163/LJ050-0226.wav is clipping. Rescaling between [-1,1]\n",
      "    WARNING: sigproc.wavwrite: waveform in file /media/josh/Store/tacotron-data/163-lj-training/analysis_synthesis_163/LJ050-0227.wav is clipping. Rescaling between [-1,1]\n",
      "    WARNING: sigproc.wavwrite: waveform in file /media/josh/Store/tacotron-data/163-lj-training/analysis_synthesis_163/LJ050-0228.wav is clipping. Rescaling between [-1,1]\n",
      "    WARNING: sigproc.wavwrite: waveform in file /media/josh/Store/tacotron-data/163-lj-training/analysis_synthesis_163/LJ050-0229.wav is clipping. Rescaling between [-1,1]\n",
      "    WARNING: sigproc.wavwrite: waveform in file /media/josh/Store/tacotron-data/163-lj-training/analysis_synthesis_163/LJ050-0230.wav is clipping. Rescaling between [-1,1]\n",
      "    WARNING: sigproc.wavwrite: waveform in file /media/josh/Store/tacotron-data/163-lj-training/analysis_synthesis_163/LJ050-0231.wav is clipping. Rescaling between [-1,1]\n",
      "    WARNING: sigproc.wavwrite: waveform in file /media/josh/Store/tacotron-data/163-lj-training/analysis_synthesis_163/LJ050-0232.wav is clipping. Rescaling between [-1,1]\n",
      "    WARNING: sigproc.wavwrite: waveform in file /media/josh/Store/tacotron-data/163-lj-training/analysis_synthesis_163/LJ050-0233.wav is clipping. Rescaling between [-1,1]\n",
      "    WARNING: sigproc.wavwrite: waveform in file /media/josh/Store/tacotron-data/163-lj-training/analysis_synthesis_163/LJ050-0234.wav is clipping. Rescaling between [-1,1]\n",
      "    WARNING: sigproc.wavwrite: waveform in file /media/josh/Store/tacotron-data/163-lj-training/analysis_synthesis_163/LJ050-0235.wav is clipping. Rescaling between [-1,1]\n",
      "    WARNING: sigproc.wavwrite: waveform in file /media/josh/Store/tacotron-data/163-lj-training/analysis_synthesis_163/LJ050-0236.wav is clipping. Rescaling between [-1,1]\n",
      "    WARNING: sigproc.wavwrite: waveform in file /media/josh/Store/tacotron-data/163-lj-training/analysis_synthesis_163/LJ050-0237.wav is clipping. Rescaling between [-1,1]\n",
      "    WARNING: sigproc.wavwrite: waveform in file /media/josh/Store/tacotron-data/163-lj-training/analysis_synthesis_163/LJ050-0238.wav is clipping. Rescaling between [-1,1]\n",
      "    WARNING: sigproc.wavwrite: waveform in file /media/josh/Store/tacotron-data/163-lj-training/analysis_synthesis_163/LJ050-0239.wav is clipping. Rescaling between [-1,1]\n",
      "    WARNING: sigproc.wavwrite: waveform in file /media/josh/Store/tacotron-data/163-lj-training/analysis_synthesis_163/LJ050-0240.wav is clipping. Rescaling between [-1,1]\n",
      "    WARNING: sigproc.wavwrite: waveform in file /media/josh/Store/tacotron-data/163-lj-training/analysis_synthesis_163/LJ050-0241.wav is clipping. Rescaling between [-1,1]\n",
      "    WARNING: sigproc.wavwrite: waveform in file /media/josh/Store/tacotron-data/163-lj-training/analysis_synthesis_163/LJ050-0242.wav is clipping. Rescaling between [-1,1]\n",
      "    WARNING: sigproc.wavwrite: waveform in file /media/josh/Store/tacotron-data/163-lj-training/analysis_synthesis_163/LJ050-0243.wav is clipping. Rescaling between [-1,1]\n",
      "    WARNING: sigproc.wavwrite: waveform in file /media/josh/Store/tacotron-data/163-lj-training/analysis_synthesis_163/LJ050-0244.wav is clipping. Rescaling between [-1,1]\n",
      "    WARNING: sigproc.wavwrite: waveform in file /media/josh/Store/tacotron-data/163-lj-training/analysis_synthesis_163/LJ050-0245.wav is clipping. Rescaling between [-1,1]\n",
      "    WARNING: sigproc.wavwrite: waveform in file /media/josh/Store/tacotron-data/163-lj-training/analysis_synthesis_163/LJ050-0246.wav is clipping. Rescaling between [-1,1]\n",
      "    WARNING: sigproc.wavwrite: waveform in file /media/josh/Store/tacotron-data/163-lj-training/analysis_synthesis_163/LJ050-0247.wav is clipping. Rescaling between [-1,1]\n",
      "    WARNING: sigproc.wavwrite: waveform in file /media/josh/Store/tacotron-data/163-lj-training/analysis_synthesis_163/LJ050-0248.wav is clipping. Rescaling between [-1,1]\n",
      "    WARNING: sigproc.wavwrite: waveform in file /media/josh/Store/tacotron-data/163-lj-training/analysis_synthesis_163/LJ050-0249.wav is clipping. Rescaling between [-1,1]\n",
      "    WARNING: sigproc.wavwrite: waveform in file /media/josh/Store/tacotron-data/163-lj-training/analysis_synthesis_163/LJ050-0250.wav is clipping. Rescaling between [-1,1]\n",
      "    WARNING: sigproc.wavwrite: waveform in file /media/josh/Store/tacotron-data/163-lj-training/analysis_synthesis_163/LJ050-0251.wav is clipping. Rescaling between [-1,1]\n",
      "    WARNING: sigproc.wavwrite: waveform in file /media/josh/Store/tacotron-data/163-lj-training/analysis_synthesis_163/LJ050-0252.wav is clipping. Rescaling between [-1,1]\n",
      "    WARNING: sigproc.wavwrite: waveform in file /media/josh/Store/tacotron-data/163-lj-training/analysis_synthesis_163/LJ050-0253.wav is clipping. Rescaling between [-1,1]\n",
      "    WARNING: sigproc.wavwrite: waveform in file /media/josh/Store/tacotron-data/163-lj-training/analysis_synthesis_163/LJ050-0254.wav is clipping. Rescaling between [-1,1]\n",
      "    WARNING: sigproc.wavwrite: waveform in file /media/josh/Store/tacotron-data/163-lj-training/analysis_synthesis_163/LJ050-0255.wav is clipping. Rescaling between [-1,1]\n",
      "    WARNING: sigproc.wavwrite: waveform in file /media/josh/Store/tacotron-data/163-lj-training/analysis_synthesis_163/LJ050-0256.wav is clipping. Rescaling between [-1,1]\n",
      "    WARNING: sigproc.wavwrite: waveform in file /media/josh/Store/tacotron-data/163-lj-training/analysis_synthesis_163/LJ050-0257.wav is clipping. Rescaling between [-1,1]\n",
      "    WARNING: sigproc.wavwrite: waveform in file /media/josh/Store/tacotron-data/163-lj-training/analysis_synthesis_163/LJ050-0258.wav is clipping. Rescaling between [-1,1]\n",
      "    WARNING: sigproc.wavwrite: waveform in file /media/josh/Store/tacotron-data/163-lj-training/analysis_synthesis_163/LJ050-0259.wav is clipping. Rescaling between [-1,1]\n",
      "    WARNING: sigproc.wavwrite: waveform in file /media/josh/Store/tacotron-data/163-lj-training/analysis_synthesis_163/LJ050-0260.wav is clipping. Rescaling between [-1,1]\n",
      "    WARNING: sigproc.wavwrite: waveform in file /media/josh/Store/tacotron-data/163-lj-training/analysis_synthesis_163/LJ050-0261.wav is clipping. Rescaling between [-1,1]\n",
      "    WARNING: sigproc.wavwrite: waveform in file /media/josh/Store/tacotron-data/163-lj-training/analysis_synthesis_163/LJ050-0262.wav is clipping. Rescaling between [-1,1]\n",
      "    WARNING: sigproc.wavwrite: waveform in file /media/josh/Store/tacotron-data/163-lj-training/analysis_synthesis_163/LJ050-0263.wav is clipping. Rescaling between [-1,1]\n",
      "    WARNING: sigproc.wavwrite: waveform in file /media/josh/Store/tacotron-data/163-lj-training/analysis_synthesis_163/LJ050-0264.wav is clipping. Rescaling between [-1,1]\n",
      "    WARNING: sigproc.wavwrite: waveform in file /media/josh/Store/tacotron-data/163-lj-training/analysis_synthesis_163/LJ050-0265.wav is clipping. Rescaling between [-1,1]\n",
      "    WARNING: sigproc.wavwrite: waveform in file /media/josh/Store/tacotron-data/163-lj-training/analysis_synthesis_163/LJ050-0266.wav is clipping. Rescaling between [-1,1]\n",
      "    WARNING: sigproc.wavwrite: waveform in file /media/josh/Store/tacotron-data/163-lj-training/analysis_synthesis_163/LJ050-0267.wav is clipping. Rescaling between [-1,1]\n",
      "    WARNING: sigproc.wavwrite: waveform in file /media/josh/Store/tacotron-data/163-lj-training/analysis_synthesis_163/LJ050-0268.wav is clipping. Rescaling between [-1,1]\n",
      "    WARNING: sigproc.wavwrite: waveform in file /media/josh/Store/tacotron-data/163-lj-training/analysis_synthesis_163/LJ050-0269.wav is clipping. Rescaling between [-1,1]\n",
      "    WARNING: sigproc.wavwrite: waveform in file /media/josh/Store/tacotron-data/163-lj-training/analysis_synthesis_163/LJ050-0270.wav is clipping. Rescaling between [-1,1]\n",
      "    WARNING: sigproc.wavwrite: waveform in file /media/josh/Store/tacotron-data/163-lj-training/analysis_synthesis_163/LJ050-0271.wav is clipping. Rescaling between [-1,1]\n",
      "    WARNING: sigproc.wavwrite: waveform in file /media/josh/Store/tacotron-data/163-lj-training/analysis_synthesis_163/LJ050-0272.wav is clipping. Rescaling between [-1,1]\n",
      "    WARNING: sigproc.wavwrite: waveform in file /media/josh/Store/tacotron-data/163-lj-training/analysis_synthesis_163/LJ050-0273.wav is clipping. Rescaling between [-1,1]\n",
      "    WARNING: sigproc.wavwrite: waveform in file /media/josh/Store/tacotron-data/163-lj-training/analysis_synthesis_163/LJ050-0274.wav is clipping. Rescaling between [-1,1]\n",
      "    WARNING: sigproc.wavwrite: waveform in file /media/josh/Store/tacotron-data/163-lj-training/analysis_synthesis_163/LJ050-0275.wav is clipping. Rescaling between [-1,1]\n",
      "    WARNING: sigproc.wavwrite: waveform in file /media/josh/Store/tacotron-data/163-lj-training/analysis_synthesis_163/LJ050-0276.wav is clipping. Rescaling between [-1,1]\n",
      "    WARNING: sigproc.wavwrite: waveform in file /media/josh/Store/tacotron-data/163-lj-training/analysis_synthesis_163/LJ050-0277.wav is clipping. Rescaling between [-1,1]\n",
      "    WARNING: sigproc.wavwrite: waveform in file /media/josh/Store/tacotron-data/163-lj-training/analysis_synthesis_163/LJ050-0278.wav is clipping. Rescaling between [-1,1]\n",
      "\n"
     ]
    }
   ],
   "source": [
    "from util import audio\n",
    "from lib import sigproc as sp\n",
    "\n",
    "as_dir_163 = 'analysis_synthesis_163'\n",
    "os.makedirs(os.path.join(training_data_dir_163, as_dir_163), exist_ok=True)\n",
    "\n",
    "for i, wav in enumerate(tqdm(analysis_synthesis_wavs_163)):\n",
    "    wav = wav[:audio.find_endpoint(wav)]\n",
    "    sp.wavwrite(os.path.join(training_data_dir_163, as_dir_163, wav_files_163[i]), wav, 16000, norm_max_ifneeded=True)"
   ]
  }
 ],
 "metadata": {
  "kernelspec": {
   "display_name": "Python 3",
   "language": "python",
   "name": "python3"
  },
  "language_info": {
   "codemirror_mode": {
    "name": "ipython",
    "version": 3
   },
   "file_extension": ".py",
   "mimetype": "text/x-python",
   "name": "python",
   "nbconvert_exporter": "python",
   "pygments_lexer": "ipython3",
   "version": "3.6.8"
  }
 },
 "nbformat": 4,
 "nbformat_minor": 2
}
