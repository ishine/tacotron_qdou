{
 "cells": [
  {
   "cell_type": "code",
   "execution_count": 47,
   "metadata": {},
   "outputs": [],
   "source": [
    "import sys\n",
    "import os\n",
    "sys.path.append(os.path.expanduser('~/workspace/tacotron/'))\n",
    "\n",
    "import argparse\n",
    "from hparams import hparams\n",
    "import matplotlib.pyplot as plt\n",
    "import matplotlib.patches as mpatches\n",
    "from matplotlib import cm\n",
    "from matplotlib.colors import ListedColormap\n",
    "import numpy as np\n",
    "from PIL import Image\n",
    "from tacotron.alignment_synthesizer import AlignmentSynthesizer\n",
    "from tacotron.pml_synthesizer import Configuration, PMLSynthesizer\n",
    "import tensorflow as tf\n",
    "from tqdm import tqdm_notebook as tqdm\n",
    "from util import audio"
   ]
  },
  {
   "cell_type": "code",
   "execution_count": 2,
   "metadata": {},
   "outputs": [
    {
     "name": "stdout",
     "output_type": "stream",
     "text": [
      "Loaded metadata for 150 examples (0.68 hours)\n"
     ]
    }
   ],
   "source": [
    "training_data_dir = '/media/josh/Store/tacotron-data/gran-lj-training'\n",
    "metadata_filename = os.path.join(training_data_dir, 'test.txt')\n",
    "\n",
    "cfg = Configuration(16000, 86)\n",
    "synth = PMLSynthesizer(cfg)\n",
    "# synth.load(checkpoint_path, hparams, gta=gta, model_name=args.variant)\n",
    "\n",
    "with open(metadata_filename, encoding='utf-8') as f:\n",
    "    metadata = [line.strip().split('|') for line in f]\n",
    "    hours = sum((int(x[2]) for x in metadata)) * hparams.frame_shift_ms / (3600 * 1000)\n",
    "    print('Loaded metadata for %d examples (%.2f hours)' % (len(metadata), hours))\n",
    "    \n",
    "pml_features = [m[3] for m in metadata]\n",
    "texts = [m[5] for m in metadata]\n",
    "wav_files = [m[6] for m in metadata]"
   ]
  },
  {
   "cell_type": "code",
   "execution_count": 3,
   "metadata": {},
   "outputs": [
    {
     "data": {
      "text/plain": [
       "'Also the Department requests the sum of one hundred thousand dollars to conduct a detailed feasibility study;'"
      ]
     },
     "execution_count": 3,
     "metadata": {},
     "output_type": "execute_result"
    }
   ],
   "source": [
    "FIGSIZE = (12, 8)\n",
    "TARGET_INDEX = 26\n",
    "texts[TARGET_INDEX]"
   ]
  },
  {
   "cell_type": "code",
   "execution_count": 4,
   "metadata": {},
   "outputs": [
    {
     "name": "stdout",
     "output_type": "stream",
     "text": [
      "Constructing model: tacotron_pml\n",
      "Initialized Tacotron model. Dimensions: \n",
      "  embedding:               256\n",
      "  prenet out:              128\n",
      "  encoder out:             256\n",
      "  attention out:           256\n",
      "  concat attn & out:       512\n",
      "  decoder cell out:        256\n",
      "  decoder out (5 frames):  430\n",
      "  decoder out (1 frame):   86\n",
      "Loading checkpoint: /media/josh/Store/remote-logs/tacotron-lj-pml-500k/model.ckpt-352000\n",
      "INFO:tensorflow:Restoring parameters from /media/josh/Store/remote-logs/tacotron-lj-pml-500k/model.ckpt-352000\n",
      "Constructing model: tacotron_orig\n",
      "Initialized Tacotron model. Dimensions: \n",
      "  embedding:               256\n",
      "  prenet out:              128\n",
      "  encoder out:             256\n",
      "  attention out:           256\n",
      "  concat attn & out:       512\n",
      "  decoder cell out:        256\n",
      "  decoder out (5 frames):  400\n",
      "  decoder out (1 frame):   80\n",
      "  postnet out:             256\n",
      "  linear out:              1025\n",
      "Loading checkpoint: /media/josh/Store/remote-logs/tacotron-lj-500k/model.ckpt-195000\n",
      "INFO:tensorflow:Restoring parameters from /media/josh/Store/remote-logs/tacotron-lj-500k/model.ckpt-195000\n"
     ]
    }
   ],
   "source": [
    "fixed_sentence = texts[TARGET_INDEX]\n",
    "\n",
    "# reset the graph before we do anything\n",
    "tf.reset_default_graph()\n",
    "synth = AlignmentSynthesizer()\n",
    "hparams.parse('sample_rate=16000,frame_length_ms=20,frame_shift_ms=5,pml_dimension=86,spec_type=mcep')\n",
    "synth.load('/media/josh/Store/remote-logs/tacotron-lj-pml-500k/model.ckpt-352000', hparams, model_name='tacotron_pml', locked_alignments=None)\n",
    "first_alignment = synth.synthesize(fixed_sentence)  # of shape (encoder_steps, decoder_steps)\n",
    "\n",
    "# reset the graph after the first synthesise call\n",
    "tf.reset_default_graph()\n",
    "hparams.parse('sample_rate=20000,frame_length_ms=50,frame_shift_ms=12.5,pml_dimension=86,spec_type=mcep')\n",
    "synth.load('/media/josh/Store/remote-logs/tacotron-lj-500k/model.ckpt-195000', hparams, model_name='tacotron_orig', locked_alignments=None)\n",
    "second_alignment = synth.synthesize(fixed_sentence)"
   ]
  },
  {
   "cell_type": "code",
   "execution_count": 5,
   "metadata": {},
   "outputs": [],
   "source": [
    "def show_alignment(alignment, label, ax, cmap=cm.cool, cutoff=220, scale_factor=1, norm=False):\n",
    "    # normalise the alignment to scale from 0 to 1\n",
    "    if norm:\n",
    "        alignment = alignment / np.max(alignment)\n",
    "    \n",
    "    # set the background of the axis to black\n",
    "    ax.set_facecolor('xkcd:black')\n",
    "    \n",
    "    cool = cmap(np.arange(cmap.N))\n",
    "    # Set alpha\n",
    "    cool[:, -1] = np.linspace(0, 1, cmap.N)\n",
    "    # Create new colormap\n",
    "    cool = ListedColormap(cool)\n",
    "    # generate the image\n",
    "    im_obj = Image.fromarray(np.uint8(cool(alignment) * 255))\n",
    "    height, width = alignment.shape\n",
    "    im_obj = im_obj.resize((round(width * scale_factor), height))\n",
    "    im_obj = np.array(im_obj)[:, :cutoff]\n",
    "    \n",
    "    first_im = ax.imshow(\n",
    "        im_obj,\n",
    "        aspect='auto',\n",
    "        origin='lower',\n",
    "        interpolation='none')\n",
    "    \n",
    "    patch = mpatches.Patch(color=cool(0.8), label=label)\n",
    "    \n",
    "    xstep = 50\n",
    "    outputs_per_step = 5\n",
    "    frame_shift = 0.005\n",
    "    plt.xticks(np.arange(0, 250, step=xstep),\n",
    "               np.arange(0, 250 * frame_shift * outputs_per_step, step=frame_shift * outputs_per_step * xstep))\n",
    "    plt.xlabel('Decoder Time (s)')\n",
    "    plt.ylabel('Encoder Step (character index)')\n",
    "    plt.tight_layout()\n",
    "    \n",
    "    return patch"
   ]
  },
  {
   "cell_type": "code",
   "execution_count": 6,
   "metadata": {},
   "outputs": [
    {
     "data": {
      "image/png": "[encoded data removed]",
      "text/plain": [
       "<Figure size 864x576 with 1 Axes>"
      ]
     },
     "metadata": {
      "needs_background": "light"
     },
     "output_type": "display_data"
    }
   ],
   "source": [
    "fig, ax = plt.subplots(figsize=FIGSIZE)\n",
    "\n",
    "taco_pml_patch = show_alignment(first_alignment, 'Tacotron PML Alignment', ax)\n",
    "taco_patch = show_alignment(second_alignment, 'Tacotron Alignment', ax, cmap=cm.Wistia, scale_factor=12.5 / 5)\n",
    "ax.legend(handles=[taco_pml_patch, taco_patch], loc='upper left')\n",
    "plt.savefig('./TacotronAlignment/compare_alignments.png', dpi=600)\n",
    "plt.show()"
   ]
  },
  {
   "cell_type": "code",
   "execution_count": 40,
   "metadata": {},
   "outputs": [
    {
     "name": "stdout",
     "output_type": "stream",
     "text": [
      "Constructing model: tacotron_orig\n",
      "Initialized Tacotron model. Dimensions: \n",
      "  embedding:               256\n",
      "  prenet out:              128\n",
      "  encoder out:             256\n",
      "  attention out:           256\n",
      "  concat attn & out:       512\n",
      "  decoder cell out:        256\n",
      "  decoder out (5 frames):  400\n",
      "  decoder out (1 frame):   80\n",
      "  postnet out:             256\n",
      "  linear out:              1025\n",
      "Loading checkpoint: /media/josh/Store/remote-logs/tacotron-lj-500k/model.ckpt-195000\n",
      "INFO:tensorflow:Restoring parameters from /media/josh/Store/remote-logs/tacotron-lj-500k/model.ckpt-195000\n",
      "Prepared Inputs\n"
     ]
    },
    {
     "name": "stderr",
     "output_type": "stream",
     "text": [
      "100%|██████████| 1/1 [00:00<00:00, 104.43it/s]\n"
     ]
    }
   ],
   "source": [
    "from tacotron.synthesizer import Synthesizer\n",
    "from util import audio\n",
    "\n",
    "# reset the graph before we do anything\n",
    "tf.reset_default_graph()\n",
    "taco_synth = Synthesizer()\n",
    "hparams.parse('sample_rate=20000,frame_length_ms=50,frame_shift_ms=12.5,pml_dimension=86,spec_type=mcep')\n",
    "taco_synth.load('/media/josh/Store/remote-logs/tacotron-lj-500k/model.ckpt-195000', model_name='tacotron_orig')\n",
    "taco_orig_wav = taco_synth.synthesize(fixed_sentence, to_wav=True)[0]"
   ]
  },
  {
   "cell_type": "code",
   "execution_count": 10,
   "metadata": {},
   "outputs": [],
   "source": [
    "from lib import sigproc as sp\n",
    "taco_orig_wav = taco_orig_wav[:audio.find_endpoint(taco_orig_wav)]\n",
    "sp.wavwrite('./TacotronAlignment/taco_orig.wav', taco_orig_wav, 20000, norm_max_ifneeded=True)"
   ]
  },
  {
   "cell_type": "code",
   "execution_count": 13,
   "metadata": {},
   "outputs": [
    {
     "data": {
      "application/vnd.jupyter.widget-view+json": {
       "model_id": "ca83095c12824b27b9cc0023bedb47a5",
       "version_major": 2,
       "version_minor": 0
      },
      "text/plain": [
       "HBox(children=(IntProgress(value=0, max=150), HTML(value='')))"
      ]
     },
     "metadata": {},
     "output_type": "display_data"
    },
    {
     "name": "stdout",
     "output_type": "stream",
     "text": [
      "\n"
     ]
    }
   ],
   "source": [
    "vanilla_taco_wavs = []\n",
    "\n",
    "for wav_file in tqdm(wav_files):  \n",
    "    taco_wav_path = os.path.join(training_data_dir, 'vanilla_tacotron', wav_file)\n",
    "    taco_wav, fs, _ = sp.wavread(taco_wav_path)\n",
    "    vanilla_taco_wavs.append(taco_wav)"
   ]
  },
  {
   "cell_type": "code",
   "execution_count": 45,
   "metadata": {},
   "outputs": [],
   "source": [
    "sp.wavwrite('./TacotronAlignment/taco_orig.wav', vanilla_taco_wavs[TARGET_INDEX], 20000, norm_max_ifneeded=True)"
   ]
  },
  {
   "cell_type": "code",
   "execution_count": 39,
   "metadata": {},
   "outputs": [
    {
     "name": "stdout",
     "output_type": "stream",
     "text": [
      "INFO:tensorflow:Restoring parameters from /media/josh/Store/remote-logs/tacotron-lj-pml-500k/model.ckpt-352000\n"
     ]
    },
    {
     "name": "stderr",
     "output_type": "stream",
     "text": [
      "/home/josh/workspace/tacotron/lib/pulsemodel/synthesis.py:119: UserWarning: \n",
      "\n",
      "WARNING: The maximum window length (63993) is bigger than the DFT length (4096). Please, increase the DFT length of your spectral features (the second dimension) or check if the f0 curve has extremly low values and try to clip them to higher values (at least higher than 50Hz). The f0 curve has been clipped to 15.625Hz.\n",
      "\n",
      "\n",
      "  warnings.warn('\\n\\nWARNING: The maximum window length ({}) is bigger than the DFT length ({}). Please, increase the DFT length of your spectral features (the second dimension) or check if the f0 curve has extremly low values and try to clip them to higher values (at least higher than 50Hz). The f0 curve has been clipped to {}Hz.\\n\\n'.format(winlenmax, dftlen, winnbper*fs/float(dftlen))) # pragma: no cover\n"
     ]
    },
    {
     "name": "stdout",
     "output_type": "stream",
     "text": [
      "    Forcing binary noise mask\n",
      "    WARNING: sigproc.wavwrite: waveform in file ./TacotronAlignment/taco_pml.wav is clipping. Rescaling between [-1,1]\n"
     ]
    }
   ],
   "source": [
    "from tacotron.pml_synthesizer import Configuration, PMLSynthesizer\n",
    "from lib import sigproc as sp\n",
    "\n",
    "# reset the graph before we do anything\n",
    "tf.reset_default_graph()\n",
    "cfg = Configuration(16000, 86)\n",
    "pml_synth = PMLSynthesizer(cfg)\n",
    "hparams.parse('sample_rate=16000,frame_length_ms=20,frame_shift_ms=5,pml_dimension=86,spec_type=mcep')\n",
    "pml_synth.load('/media/josh/Store/remote-logs/tacotron-lj-pml-500k/model.ckpt-352000', hparams, model_name='tacotron_pml')\n",
    "wav_outputs = pml_synth.synthesize([fixed_sentence], to_wav=True, find_endpoint=True)\n",
    "\n",
    "pml_wav = wav_outputs[0]\n",
    "sp.wavwrite('./TacotronAlignment/taco_pml.wav', pml_wav, 16000, norm_max_ifneeded=True)"
   ]
  },
  {
   "cell_type": "code",
   "execution_count": 64,
   "metadata": {},
   "outputs": [
    {
     "data": {
      "text/plain": [
       "'./TacotronAlignment/ground_truth.wav'"
      ]
     },
     "execution_count": 64,
     "metadata": {},
     "output_type": "execute_result"
    }
   ],
   "source": [
    "# do analysis synthesis of the same sample\n",
    "import shutil\n",
    "shutil.copyfile(os.path.join(training_data_dir, 'analysis_synthesis', wav_files[TARGET_INDEX]), './TacotronAlignment/analysis_synthesis.wav')\n",
    "shutil.copyfile(os.path.join(training_data_dir, 'wavs', wav_files[TARGET_INDEX]), './TacotronAlignment/ground_truth.wav')"
   ]
  },
  {
   "cell_type": "code",
   "execution_count": 59,
   "metadata": {},
   "outputs": [],
   "source": [
    "import librosa\n",
    "taco_orig_wav = audio.load_wav('./TacotronAlignment/taco_orig.wav')\n",
    "pml_wav = audio.load_wav('./TacotronAlignment/taco_pml.wav')\n",
    "gt_wav = audio.load_wav('./TacotronAlignment/ground_truth.wav')\n",
    "as_wav = audio.load_wav('./TacotronAlignment/analysis_synthesis.wav')"
   ]
  },
  {
   "cell_type": "code",
   "execution_count": 54,
   "metadata": {},
   "outputs": [],
   "source": [
    "def rmse(first_set, second_set):\n",
    "    error = 0.0\n",
    "    wav_set_size = len(first_set)\n",
    "\n",
    "    for i in range(wav_set_size):\n",
    "        wav_1 = first_set[i]\n",
    "        wav_2 = second_set[i]\n",
    "\n",
    "        cutoff = min(len(wav_1), len(wav_2))\n",
    "        error += np.mean(np.square(wav_1[:cutoff] - wav_2[:cutoff]))\n",
    "\n",
    "    error = np.sqrt(error / wav_set_size)\n",
    "    return error"
   ]
  },
  {
   "cell_type": "code",
   "execution_count": 44,
   "metadata": {},
   "outputs": [],
   "source": [
    "taco_orig_wav_up = librosa.core.resample(taco_orig_wav, orig_sr=20000, target_sr=22050)\n",
    "pml_wav_up = librosa.core.resample(pml_wav, orig_sr=16000, target_sr=22050)"
   ]
  },
  {
   "cell_type": "code",
   "execution_count": 65,
   "metadata": {},
   "outputs": [
    {
     "data": {
      "text/plain": [
       "0.07288545837571976"
      ]
     },
     "execution_count": 65,
     "metadata": {},
     "output_type": "execute_result"
    }
   ],
   "source": [
    "# taco_orig_wav = vanilla_taco_wavs[TARGET_INDEX]\n",
    "rmse([gt_wav], [taco_orig_wav])"
   ]
  },
  {
   "cell_type": "code",
   "execution_count": 61,
   "metadata": {},
   "outputs": [
    {
     "name": "stdout",
     "output_type": "stream",
     "text": [
      "140624 145530 141120 140300\n"
     ]
    }
   ],
   "source": [
    "print(gt_wav.size, taco_orig_wav_up.size, pml_wav_up.size, as_wav.size) # as wav will have similar number of samples to ground truth"
   ]
  },
  {
   "cell_type": "code",
   "execution_count": 50,
   "metadata": {},
   "outputs": [],
   "source": [
    "audio.save_wav(as_wav, './TacotronAlignment/out_as.wav')\n",
    "audio.save_wav(gt_wav, './TacotronAlignment/out_gt.wav')\n",
    "audio.save_wav(taco_orig_wav_up, './TacotronAlignment/out_taco.wav')\n",
    "audio.save_wav(pml_wav_up, './TacotronAlignment/out_pml.wav')"
   ]
  },
  {
   "cell_type": "code",
   "execution_count": 62,
   "metadata": {},
   "outputs": [
    {
     "data": {
      "text/plain": [
       "0.10170353212361526"
      ]
     },
     "execution_count": 62,
     "metadata": {},
     "output_type": "execute_result"
    }
   ],
   "source": [
    "rmse([gt_wav], [pml_wav])"
   ]
  },
  {
   "cell_type": "code",
   "execution_count": 63,
   "metadata": {},
   "outputs": [
    {
     "data": {
      "text/plain": [
       "0.15496995646273853"
      ]
     },
     "execution_count": 63,
     "metadata": {},
     "output_type": "execute_result"
    }
   ],
   "source": [
    "rmse([gt_wav], [as_wav])"
   ]
  },
  {
   "cell_type": "code",
   "execution_count": 67,
   "metadata": {},
   "outputs": [
    {
     "name": "stdout",
     "output_type": "stream",
     "text": [
      "INFO:tensorflow:Restoring parameters from /media/josh/Store/remote-logs/tacotron-lj-pml-500k/model.ckpt-352000\n"
     ]
    },
    {
     "data": {
      "application/vnd.jupyter.widget-view+json": {
       "model_id": "4ab18e54d6694a339affd69bcff9457c",
       "version_major": 2,
       "version_minor": 0
      },
      "text/plain": [
       "HBox(children=(IntProgress(value=0, max=15), HTML(value='')))"
      ]
     },
     "metadata": {},
     "output_type": "display_data"
    },
    {
     "name": "stdout",
     "output_type": "stream",
     "text": [
      "\n",
      "\n",
      "\n",
      "\n",
      "\n",
      "\n"
     ]
    },
    {
     "name": "stderr",
     "output_type": "stream",
     "text": [
      "/home/josh/workspace/tacotron/lib/pulsemodel/synthesis.py:119: UserWarning: \n",
      "\n",
      "WARNING: The maximum window length (63999) is bigger than the DFT length (4096). Please, increase the DFT length of your spectral features (the second dimension) or check if the f0 curve has extremly low values and try to clip them to higher values (at least higher than 50Hz). The f0 curve has been clipped to 15.625Hz.\n",
      "\n",
      "\n",
      "  warnings.warn('\\n\\nWARNING: The maximum window length ({}) is bigger than the DFT length ({}). Please, increase the DFT length of your spectral features (the second dimension) or check if the f0 curve has extremly low values and try to clip them to higher values (at least higher than 50Hz). The f0 curve has been clipped to {}Hz.\\n\\n'.format(winlenmax, dftlen, winnbper*fs/float(dftlen))) # pragma: no cover\n"
     ]
    },
    {
     "name": "stdout",
     "output_type": "stream",
     "text": [
      "    Forcing binary noise mask\n"
     ]
    },
    {
     "name": "stderr",
     "output_type": "stream",
     "text": [
      "/home/josh/workspace/tacotron/lib/pulsemodel/synthesis.py:119: UserWarning: \n",
      "\n",
      "WARNING: The maximum window length (63999) is bigger than the DFT length (4096). Please, increase the DFT length of your spectral features (the second dimension) or check if the f0 curve has extremly low values and try to clip them to higher values (at least higher than 50Hz). The f0 curve has been clipped to 15.625Hz.\n",
      "\n",
      "\n",
      "  warnings.warn('\\n\\nWARNING: The maximum window length ({}) is bigger than the DFT length ({}). Please, increase the DFT length of your spectral features (the second dimension) or check if the f0 curve has extremly low values and try to clip them to higher values (at least higher than 50Hz). The f0 curve has been clipped to {}Hz.\\n\\n'.format(winlenmax, dftlen, winnbper*fs/float(dftlen))) # pragma: no cover\n"
     ]
    },
    {
     "name": "stdout",
     "output_type": "stream",
     "text": [
      "    Forcing binary noise mask\n"
     ]
    },
    {
     "name": "stderr",
     "output_type": "stream",
     "text": [
      "/home/josh/workspace/tacotron/lib/pulsemodel/synthesis.py:119: UserWarning: \n",
      "\n",
      "WARNING: The maximum window length (63999) is bigger than the DFT length (4096). Please, increase the DFT length of your spectral features (the second dimension) or check if the f0 curve has extremly low values and try to clip them to higher values (at least higher than 50Hz). The f0 curve has been clipped to 15.625Hz.\n",
      "\n",
      "\n",
      "  warnings.warn('\\n\\nWARNING: The maximum window length ({}) is bigger than the DFT length ({}). Please, increase the DFT length of your spectral features (the second dimension) or check if the f0 curve has extremly low values and try to clip them to higher values (at least higher than 50Hz). The f0 curve has been clipped to {}Hz.\\n\\n'.format(winlenmax, dftlen, winnbper*fs/float(dftlen))) # pragma: no cover\n"
     ]
    },
    {
     "name": "stdout",
     "output_type": "stream",
     "text": [
      "    Forcing binary noise mask\n"
     ]
    },
    {
     "name": "stderr",
     "output_type": "stream",
     "text": [
      "/home/josh/workspace/tacotron/lib/pulsemodel/synthesis.py:119: UserWarning: \n",
      "\n",
      "WARNING: The maximum window length (63999) is bigger than the DFT length (4096). Please, increase the DFT length of your spectral features (the second dimension) or check if the f0 curve has extremly low values and try to clip them to higher values (at least higher than 50Hz). The f0 curve has been clipped to 15.625Hz.\n",
      "\n",
      "\n",
      "  warnings.warn('\\n\\nWARNING: The maximum window length ({}) is bigger than the DFT length ({}). Please, increase the DFT length of your spectral features (the second dimension) or check if the f0 curve has extremly low values and try to clip them to higher values (at least higher than 50Hz). The f0 curve has been clipped to {}Hz.\\n\\n'.format(winlenmax, dftlen, winnbper*fs/float(dftlen))) # pragma: no cover\n"
     ]
    },
    {
     "name": "stdout",
     "output_type": "stream",
     "text": [
      "    Forcing binary noise mask\n"
     ]
    },
    {
     "name": "stderr",
     "output_type": "stream",
     "text": [
      "/home/josh/workspace/tacotron/lib/pulsemodel/synthesis.py:119: UserWarning: \n",
      "\n",
      "WARNING: The maximum window length (63999) is bigger than the DFT length (4096). Please, increase the DFT length of your spectral features (the second dimension) or check if the f0 curve has extremly low values and try to clip them to higher values (at least higher than 50Hz). The f0 curve has been clipped to 15.625Hz.\n",
      "\n",
      "\n",
      "  warnings.warn('\\n\\nWARNING: The maximum window length ({}) is bigger than the DFT length ({}). Please, increase the DFT length of your spectral features (the second dimension) or check if the f0 curve has extremly low values and try to clip them to higher values (at least higher than 50Hz). The f0 curve has been clipped to {}Hz.\\n\\n'.format(winlenmax, dftlen, winnbper*fs/float(dftlen))) # pragma: no cover\n"
     ]
    },
    {
     "name": "stdout",
     "output_type": "stream",
     "text": [
      "    Forcing binary noise mask\n",
      "    Forcing binary noise mask\n",
      "    Forcing binary noise mask\n"
     ]
    },
    {
     "name": "stderr",
     "output_type": "stream",
     "text": [
      "/home/josh/workspace/tacotron/lib/pulsemodel/synthesis.py:119: UserWarning: \n",
      "\n",
      "WARNING: The maximum window length (63983) is bigger than the DFT length (4096). Please, increase the DFT length of your spectral features (the second dimension) or check if the f0 curve has extremly low values and try to clip them to higher values (at least higher than 50Hz). The f0 curve has been clipped to 15.625Hz.\n",
      "\n",
      "\n",
      "  warnings.warn('\\n\\nWARNING: The maximum window length ({}) is bigger than the DFT length ({}). Please, increase the DFT length of your spectral features (the second dimension) or check if the f0 curve has extremly low values and try to clip them to higher values (at least higher than 50Hz). The f0 curve has been clipped to {}Hz.\\n\\n'.format(winlenmax, dftlen, winnbper*fs/float(dftlen))) # pragma: no cover\n"
     ]
    },
    {
     "name": "stdout",
     "output_type": "stream",
     "text": [
      "    Forcing binary noise mask\n",
      "    Forcing binary noise mask\n"
     ]
    },
    {
     "name": "stderr",
     "output_type": "stream",
     "text": [
      "/home/josh/workspace/tacotron/lib/pulsemodel/synthesis.py:119: UserWarning: \n",
      "\n",
      "WARNING: The maximum window length (63963) is bigger than the DFT length (4096). Please, increase the DFT length of your spectral features (the second dimension) or check if the f0 curve has extremly low values and try to clip them to higher values (at least higher than 50Hz). The f0 curve has been clipped to 15.625Hz.\n",
      "\n",
      "\n",
      "  warnings.warn('\\n\\nWARNING: The maximum window length ({}) is bigger than the DFT length ({}). Please, increase the DFT length of your spectral features (the second dimension) or check if the f0 curve has extremly low values and try to clip them to higher values (at least higher than 50Hz). The f0 curve has been clipped to {}Hz.\\n\\n'.format(winlenmax, dftlen, winnbper*fs/float(dftlen))) # pragma: no cover\n"
     ]
    },
    {
     "name": "stdout",
     "output_type": "stream",
     "text": [
      "    Forcing binary noise mask\n"
     ]
    },
    {
     "name": "stderr",
     "output_type": "stream",
     "text": [
      "/home/josh/workspace/tacotron/lib/pulsemodel/synthesis.py:119: UserWarning: \n",
      "\n",
      "WARNING: The maximum window length (63999) is bigger than the DFT length (4096). Please, increase the DFT length of your spectral features (the second dimension) or check if the f0 curve has extremly low values and try to clip them to higher values (at least higher than 50Hz). The f0 curve has been clipped to 15.625Hz.\n",
      "\n",
      "\n",
      "  warnings.warn('\\n\\nWARNING: The maximum window length ({}) is bigger than the DFT length ({}). Please, increase the DFT length of your spectral features (the second dimension) or check if the f0 curve has extremly low values and try to clip them to higher values (at least higher than 50Hz). The f0 curve has been clipped to {}Hz.\\n\\n'.format(winlenmax, dftlen, winnbper*fs/float(dftlen))) # pragma: no cover\n"
     ]
    },
    {
     "name": "stdout",
     "output_type": "stream",
     "text": [
      "    Forcing binary noise mask\n"
     ]
    },
    {
     "name": "stderr",
     "output_type": "stream",
     "text": [
      "/home/josh/workspace/tacotron/lib/pulsemodel/synthesis.py:119: UserWarning: \n",
      "\n",
      "WARNING: The maximum window length (63999) is bigger than the DFT length (4096). Please, increase the DFT length of your spectral features (the second dimension) or check if the f0 curve has extremly low values and try to clip them to higher values (at least higher than 50Hz). The f0 curve has been clipped to 15.625Hz.\n",
      "\n",
      "\n",
      "  warnings.warn('\\n\\nWARNING: The maximum window length ({}) is bigger than the DFT length ({}). Please, increase the DFT length of your spectral features (the second dimension) or check if the f0 curve has extremly low values and try to clip them to higher values (at least higher than 50Hz). The f0 curve has been clipped to {}Hz.\\n\\n'.format(winlenmax, dftlen, winnbper*fs/float(dftlen))) # pragma: no cover\n"
     ]
    },
    {
     "name": "stdout",
     "output_type": "stream",
     "text": [
      "    Forcing binary noise mask\n"
     ]
    },
    {
     "name": "stderr",
     "output_type": "stream",
     "text": [
      "/home/josh/workspace/tacotron/lib/pulsemodel/synthesis.py:119: UserWarning: \n",
      "\n",
      "WARNING: The maximum window length (63999) is bigger than the DFT length (4096). Please, increase the DFT length of your spectral features (the second dimension) or check if the f0 curve has extremly low values and try to clip them to higher values (at least higher than 50Hz). The f0 curve has been clipped to 15.625Hz.\n",
      "\n",
      "\n",
      "  warnings.warn('\\n\\nWARNING: The maximum window length ({}) is bigger than the DFT length ({}). Please, increase the DFT length of your spectral features (the second dimension) or check if the f0 curve has extremly low values and try to clip them to higher values (at least higher than 50Hz). The f0 curve has been clipped to {}Hz.\\n\\n'.format(winlenmax, dftlen, winnbper*fs/float(dftlen))) # pragma: no cover\n"
     ]
    },
    {
     "name": "stdout",
     "output_type": "stream",
     "text": [
      "    Forcing binary noise mask\n"
     ]
    },
    {
     "name": "stderr",
     "output_type": "stream",
     "text": [
      "/home/josh/workspace/tacotron/lib/pulsemodel/synthesis.py:119: UserWarning: \n",
      "\n",
      "WARNING: The maximum window length (63999) is bigger than the DFT length (4096). Please, increase the DFT length of your spectral features (the second dimension) or check if the f0 curve has extremly low values and try to clip them to higher values (at least higher than 50Hz). The f0 curve has been clipped to 15.625Hz.\n",
      "\n",
      "\n",
      "  warnings.warn('\\n\\nWARNING: The maximum window length ({}) is bigger than the DFT length ({}). Please, increase the DFT length of your spectral features (the second dimension) or check if the f0 curve has extremly low values and try to clip them to higher values (at least higher than 50Hz). The f0 curve has been clipped to {}Hz.\\n\\n'.format(winlenmax, dftlen, winnbper*fs/float(dftlen))) # pragma: no cover\n"
     ]
    },
    {
     "name": "stdout",
     "output_type": "stream",
     "text": [
      "    Forcing binary noise mask\n"
     ]
    },
    {
     "name": "stderr",
     "output_type": "stream",
     "text": [
      "/home/josh/workspace/tacotron/lib/pulsemodel/synthesis.py:119: UserWarning: \n",
      "\n",
      "WARNING: The maximum window length (63999) is bigger than the DFT length (4096). Please, increase the DFT length of your spectral features (the second dimension) or check if the f0 curve has extremly low values and try to clip them to higher values (at least higher than 50Hz). The f0 curve has been clipped to 15.625Hz.\n",
      "\n",
      "\n",
      "  warnings.warn('\\n\\nWARNING: The maximum window length ({}) is bigger than the DFT length ({}). Please, increase the DFT length of your spectral features (the second dimension) or check if the f0 curve has extremly low values and try to clip them to higher values (at least higher than 50Hz). The f0 curve has been clipped to {}Hz.\\n\\n'.format(winlenmax, dftlen, winnbper*fs/float(dftlen))) # pragma: no cover\n"
     ]
    },
    {
     "name": "stdout",
     "output_type": "stream",
     "text": [
      "    Forcing binary noise mask\n",
      "    Forcing binary noise mask\n",
      "    Forcing binary noise mask\n",
      "    Forcing binary noise mask\n",
      "    Forcing binary noise mask\n",
      "    Forcing binary noise mask\n"
     ]
    },
    {
     "name": "stderr",
     "output_type": "stream",
     "text": [
      "/home/josh/workspace/tacotron/lib/pulsemodel/synthesis.py:119: UserWarning: \n",
      "\n",
      "WARNING: The maximum window length (63999) is bigger than the DFT length (4096). Please, increase the DFT length of your spectral features (the second dimension) or check if the f0 curve has extremly low values and try to clip them to higher values (at least higher than 50Hz). The f0 curve has been clipped to 15.625Hz.\n",
      "\n",
      "\n",
      "  warnings.warn('\\n\\nWARNING: The maximum window length ({}) is bigger than the DFT length ({}). Please, increase the DFT length of your spectral features (the second dimension) or check if the f0 curve has extremly low values and try to clip them to higher values (at least higher than 50Hz). The f0 curve has been clipped to {}Hz.\\n\\n'.format(winlenmax, dftlen, winnbper*fs/float(dftlen))) # pragma: no cover\n"
     ]
    },
    {
     "name": "stdout",
     "output_type": "stream",
     "text": [
      "    Forcing binary noise mask\n"
     ]
    },
    {
     "name": "stderr",
     "output_type": "stream",
     "text": [
      "/home/josh/workspace/tacotron/lib/pulsemodel/synthesis.py:119: UserWarning: \n",
      "\n",
      "WARNING: The maximum window length (63999) is bigger than the DFT length (4096). Please, increase the DFT length of your spectral features (the second dimension) or check if the f0 curve has extremly low values and try to clip them to higher values (at least higher than 50Hz). The f0 curve has been clipped to 15.625Hz.\n",
      "\n",
      "\n",
      "  warnings.warn('\\n\\nWARNING: The maximum window length ({}) is bigger than the DFT length ({}). Please, increase the DFT length of your spectral features (the second dimension) or check if the f0 curve has extremly low values and try to clip them to higher values (at least higher than 50Hz). The f0 curve has been clipped to {}Hz.\\n\\n'.format(winlenmax, dftlen, winnbper*fs/float(dftlen))) # pragma: no cover\n"
     ]
    },
    {
     "name": "stdout",
     "output_type": "stream",
     "text": [
      "    Forcing binary noise mask\n"
     ]
    },
    {
     "name": "stderr",
     "output_type": "stream",
     "text": [
      "/home/josh/workspace/tacotron/lib/pulsemodel/synthesis.py:119: UserWarning: \n",
      "\n",
      "WARNING: The maximum window length (63999) is bigger than the DFT length (4096). Please, increase the DFT length of your spectral features (the second dimension) or check if the f0 curve has extremly low values and try to clip them to higher values (at least higher than 50Hz). The f0 curve has been clipped to 15.625Hz.\n",
      "\n",
      "\n",
      "  warnings.warn('\\n\\nWARNING: The maximum window length ({}) is bigger than the DFT length ({}). Please, increase the DFT length of your spectral features (the second dimension) or check if the f0 curve has extremly low values and try to clip them to higher values (at least higher than 50Hz). The f0 curve has been clipped to {}Hz.\\n\\n'.format(winlenmax, dftlen, winnbper*fs/float(dftlen))) # pragma: no cover\n"
     ]
    },
    {
     "name": "stdout",
     "output_type": "stream",
     "text": [
      "    Forcing binary noise mask\n"
     ]
    },
    {
     "name": "stderr",
     "output_type": "stream",
     "text": [
      "/home/josh/workspace/tacotron/lib/pulsemodel/synthesis.py:119: UserWarning: \n",
      "\n",
      "WARNING: The maximum window length (63999) is bigger than the DFT length (4096). Please, increase the DFT length of your spectral features (the second dimension) or check if the f0 curve has extremly low values and try to clip them to higher values (at least higher than 50Hz). The f0 curve has been clipped to 15.625Hz.\n",
      "\n",
      "\n",
      "  warnings.warn('\\n\\nWARNING: The maximum window length ({}) is bigger than the DFT length ({}). Please, increase the DFT length of your spectral features (the second dimension) or check if the f0 curve has extremly low values and try to clip them to higher values (at least higher than 50Hz). The f0 curve has been clipped to {}Hz.\\n\\n'.format(winlenmax, dftlen, winnbper*fs/float(dftlen))) # pragma: no cover\n"
     ]
    },
    {
     "name": "stdout",
     "output_type": "stream",
     "text": [
      "    Forcing binary noise mask\n"
     ]
    },
    {
     "name": "stderr",
     "output_type": "stream",
     "text": [
      "/home/josh/workspace/tacotron/lib/pulsemodel/synthesis.py:119: UserWarning: \n",
      "\n",
      "WARNING: The maximum window length (63993) is bigger than the DFT length (4096). Please, increase the DFT length of your spectral features (the second dimension) or check if the f0 curve has extremly low values and try to clip them to higher values (at least higher than 50Hz). The f0 curve has been clipped to 15.625Hz.\n",
      "\n",
      "\n",
      "  warnings.warn('\\n\\nWARNING: The maximum window length ({}) is bigger than the DFT length ({}). Please, increase the DFT length of your spectral features (the second dimension) or check if the f0 curve has extremly low values and try to clip them to higher values (at least higher than 50Hz). The f0 curve has been clipped to {}Hz.\\n\\n'.format(winlenmax, dftlen, winnbper*fs/float(dftlen))) # pragma: no cover\n"
     ]
    },
    {
     "name": "stdout",
     "output_type": "stream",
     "text": [
      "    Forcing binary noise mask\n",
      "    Forcing binary noise mask\n",
      "    Forcing binary noise mask\n",
      "    Forcing binary noise mask\n"
     ]
    },
    {
     "name": "stderr",
     "output_type": "stream",
     "text": [
      "/home/josh/workspace/tacotron/lib/pulsemodel/synthesis.py:119: UserWarning: \n",
      "\n",
      "WARNING: The maximum window length (63999) is bigger than the DFT length (4096). Please, increase the DFT length of your spectral features (the second dimension) or check if the f0 curve has extremly low values and try to clip them to higher values (at least higher than 50Hz). The f0 curve has been clipped to 15.625Hz.\n",
      "\n",
      "\n",
      "  warnings.warn('\\n\\nWARNING: The maximum window length ({}) is bigger than the DFT length ({}). Please, increase the DFT length of your spectral features (the second dimension) or check if the f0 curve has extremly low values and try to clip them to higher values (at least higher than 50Hz). The f0 curve has been clipped to {}Hz.\\n\\n'.format(winlenmax, dftlen, winnbper*fs/float(dftlen))) # pragma: no cover\n"
     ]
    },
    {
     "name": "stdout",
     "output_type": "stream",
     "text": [
      "    Forcing binary noise mask\n",
      "    Forcing binary noise mask\n"
     ]
    },
    {
     "name": "stderr",
     "output_type": "stream",
     "text": [
      "/home/josh/workspace/tacotron/lib/pulsemodel/synthesis.py:119: UserWarning: \n",
      "\n",
      "WARNING: The maximum window length (63999) is bigger than the DFT length (4096). Please, increase the DFT length of your spectral features (the second dimension) or check if the f0 curve has extremly low values and try to clip them to higher values (at least higher than 50Hz). The f0 curve has been clipped to 15.625Hz.\n",
      "\n",
      "\n",
      "  warnings.warn('\\n\\nWARNING: The maximum window length ({}) is bigger than the DFT length ({}). Please, increase the DFT length of your spectral features (the second dimension) or check if the f0 curve has extremly low values and try to clip them to higher values (at least higher than 50Hz). The f0 curve has been clipped to {}Hz.\\n\\n'.format(winlenmax, dftlen, winnbper*fs/float(dftlen))) # pragma: no cover\n"
     ]
    },
    {
     "name": "stdout",
     "output_type": "stream",
     "text": [
      "    Forcing binary noise mask\n"
     ]
    },
    {
     "name": "stderr",
     "output_type": "stream",
     "text": [
      "/home/josh/workspace/tacotron/lib/pulsemodel/synthesis.py:119: UserWarning: \n",
      "\n",
      "WARNING: The maximum window length (63999) is bigger than the DFT length (4096). Please, increase the DFT length of your spectral features (the second dimension) or check if the f0 curve has extremly low values and try to clip them to higher values (at least higher than 50Hz). The f0 curve has been clipped to 15.625Hz.\n",
      "\n",
      "\n",
      "  warnings.warn('\\n\\nWARNING: The maximum window length ({}) is bigger than the DFT length ({}). Please, increase the DFT length of your spectral features (the second dimension) or check if the f0 curve has extremly low values and try to clip them to higher values (at least higher than 50Hz). The f0 curve has been clipped to {}Hz.\\n\\n'.format(winlenmax, dftlen, winnbper*fs/float(dftlen))) # pragma: no cover\n"
     ]
    },
    {
     "name": "stdout",
     "output_type": "stream",
     "text": [
      "    Forcing binary noise mask\n",
      "    Forcing binary noise mask\n"
     ]
    },
    {
     "name": "stderr",
     "output_type": "stream",
     "text": [
      "/home/josh/workspace/tacotron/lib/pulsemodel/synthesis.py:119: UserWarning: \n",
      "\n",
      "WARNING: The maximum window length (63999) is bigger than the DFT length (4096). Please, increase the DFT length of your spectral features (the second dimension) or check if the f0 curve has extremly low values and try to clip them to higher values (at least higher than 50Hz). The f0 curve has been clipped to 15.625Hz.\n",
      "\n",
      "\n",
      "  warnings.warn('\\n\\nWARNING: The maximum window length ({}) is bigger than the DFT length ({}). Please, increase the DFT length of your spectral features (the second dimension) or check if the f0 curve has extremly low values and try to clip them to higher values (at least higher than 50Hz). The f0 curve has been clipped to {}Hz.\\n\\n'.format(winlenmax, dftlen, winnbper*fs/float(dftlen))) # pragma: no cover\n"
     ]
    },
    {
     "name": "stdout",
     "output_type": "stream",
     "text": [
      "    Forcing binary noise mask\n"
     ]
    },
    {
     "name": "stderr",
     "output_type": "stream",
     "text": [
      "/home/josh/workspace/tacotron/lib/pulsemodel/synthesis.py:119: UserWarning: \n",
      "\n",
      "WARNING: The maximum window length (63983) is bigger than the DFT length (4096). Please, increase the DFT length of your spectral features (the second dimension) or check if the f0 curve has extremly low values and try to clip them to higher values (at least higher than 50Hz). The f0 curve has been clipped to 15.625Hz.\n",
      "\n",
      "\n",
      "  warnings.warn('\\n\\nWARNING: The maximum window length ({}) is bigger than the DFT length ({}). Please, increase the DFT length of your spectral features (the second dimension) or check if the f0 curve has extremly low values and try to clip them to higher values (at least higher than 50Hz). The f0 curve has been clipped to {}Hz.\\n\\n'.format(winlenmax, dftlen, winnbper*fs/float(dftlen))) # pragma: no cover\n"
     ]
    },
    {
     "name": "stdout",
     "output_type": "stream",
     "text": [
      "    Forcing binary noise mask\n",
      "    Forcing binary noise mask\n",
      "    Forcing binary noise mask\n",
      "    Forcing binary noise mask\n"
     ]
    },
    {
     "name": "stderr",
     "output_type": "stream",
     "text": [
      "/home/josh/workspace/tacotron/lib/pulsemodel/synthesis.py:119: UserWarning: \n",
      "\n",
      "WARNING: The maximum window length (63989) is bigger than the DFT length (4096). Please, increase the DFT length of your spectral features (the second dimension) or check if the f0 curve has extremly low values and try to clip them to higher values (at least higher than 50Hz). The f0 curve has been clipped to 15.625Hz.\n",
      "\n",
      "\n",
      "  warnings.warn('\\n\\nWARNING: The maximum window length ({}) is bigger than the DFT length ({}). Please, increase the DFT length of your spectral features (the second dimension) or check if the f0 curve has extremly low values and try to clip them to higher values (at least higher than 50Hz). The f0 curve has been clipped to {}Hz.\\n\\n'.format(winlenmax, dftlen, winnbper*fs/float(dftlen))) # pragma: no cover\n"
     ]
    },
    {
     "name": "stdout",
     "output_type": "stream",
     "text": [
      "    Forcing binary noise mask\n"
     ]
    },
    {
     "name": "stderr",
     "output_type": "stream",
     "text": [
      "/home/josh/workspace/tacotron/lib/pulsemodel/synthesis.py:119: UserWarning: \n",
      "\n",
      "WARNING: The maximum window length (63999) is bigger than the DFT length (4096). Please, increase the DFT length of your spectral features (the second dimension) or check if the f0 curve has extremly low values and try to clip them to higher values (at least higher than 50Hz). The f0 curve has been clipped to 15.625Hz.\n",
      "\n",
      "\n",
      "  warnings.warn('\\n\\nWARNING: The maximum window length ({}) is bigger than the DFT length ({}). Please, increase the DFT length of your spectral features (the second dimension) or check if the f0 curve has extremly low values and try to clip them to higher values (at least higher than 50Hz). The f0 curve has been clipped to {}Hz.\\n\\n'.format(winlenmax, dftlen, winnbper*fs/float(dftlen))) # pragma: no cover\n"
     ]
    },
    {
     "name": "stdout",
     "output_type": "stream",
     "text": [
      "    Forcing binary noise mask\n"
     ]
    },
    {
     "name": "stderr",
     "output_type": "stream",
     "text": [
      "/home/josh/workspace/tacotron/lib/pulsemodel/synthesis.py:119: UserWarning: \n",
      "\n",
      "WARNING: The maximum window length (63999) is bigger than the DFT length (4096). Please, increase the DFT length of your spectral features (the second dimension) or check if the f0 curve has extremly low values and try to clip them to higher values (at least higher than 50Hz). The f0 curve has been clipped to 15.625Hz.\n",
      "\n",
      "\n",
      "  warnings.warn('\\n\\nWARNING: The maximum window length ({}) is bigger than the DFT length ({}). Please, increase the DFT length of your spectral features (the second dimension) or check if the f0 curve has extremly low values and try to clip them to higher values (at least higher than 50Hz). The f0 curve has been clipped to {}Hz.\\n\\n'.format(winlenmax, dftlen, winnbper*fs/float(dftlen))) # pragma: no cover\n"
     ]
    },
    {
     "name": "stdout",
     "output_type": "stream",
     "text": [
      "    Forcing binary noise mask\n"
     ]
    },
    {
     "name": "stderr",
     "output_type": "stream",
     "text": [
      "/home/josh/workspace/tacotron/lib/pulsemodel/synthesis.py:119: UserWarning: \n",
      "\n",
      "WARNING: The maximum window length (63997) is bigger than the DFT length (4096). Please, increase the DFT length of your spectral features (the second dimension) or check if the f0 curve has extremly low values and try to clip them to higher values (at least higher than 50Hz). The f0 curve has been clipped to 15.625Hz.\n",
      "\n",
      "\n",
      "  warnings.warn('\\n\\nWARNING: The maximum window length ({}) is bigger than the DFT length ({}). Please, increase the DFT length of your spectral features (the second dimension) or check if the f0 curve has extremly low values and try to clip them to higher values (at least higher than 50Hz). The f0 curve has been clipped to {}Hz.\\n\\n'.format(winlenmax, dftlen, winnbper*fs/float(dftlen))) # pragma: no cover\n"
     ]
    },
    {
     "name": "stdout",
     "output_type": "stream",
     "text": [
      "    Forcing binary noise mask\n"
     ]
    },
    {
     "name": "stderr",
     "output_type": "stream",
     "text": [
      "/home/josh/workspace/tacotron/lib/pulsemodel/synthesis.py:119: UserWarning: \n",
      "\n",
      "WARNING: The maximum window length (63999) is bigger than the DFT length (4096). Please, increase the DFT length of your spectral features (the second dimension) or check if the f0 curve has extremly low values and try to clip them to higher values (at least higher than 50Hz). The f0 curve has been clipped to 15.625Hz.\n",
      "\n",
      "\n",
      "  warnings.warn('\\n\\nWARNING: The maximum window length ({}) is bigger than the DFT length ({}). Please, increase the DFT length of your spectral features (the second dimension) or check if the f0 curve has extremly low values and try to clip them to higher values (at least higher than 50Hz). The f0 curve has been clipped to {}Hz.\\n\\n'.format(winlenmax, dftlen, winnbper*fs/float(dftlen))) # pragma: no cover\n"
     ]
    },
    {
     "name": "stdout",
     "output_type": "stream",
     "text": [
      "    Forcing binary noise mask\n"
     ]
    },
    {
     "name": "stderr",
     "output_type": "stream",
     "text": [
      "/home/josh/workspace/tacotron/lib/pulsemodel/synthesis.py:119: UserWarning: \n",
      "\n",
      "WARNING: The maximum window length (63999) is bigger than the DFT length (4096). Please, increase the DFT length of your spectral features (the second dimension) or check if the f0 curve has extremly low values and try to clip them to higher values (at least higher than 50Hz). The f0 curve has been clipped to 15.625Hz.\n",
      "\n",
      "\n",
      "  warnings.warn('\\n\\nWARNING: The maximum window length ({}) is bigger than the DFT length ({}). Please, increase the DFT length of your spectral features (the second dimension) or check if the f0 curve has extremly low values and try to clip them to higher values (at least higher than 50Hz). The f0 curve has been clipped to {}Hz.\\n\\n'.format(winlenmax, dftlen, winnbper*fs/float(dftlen))) # pragma: no cover\n"
     ]
    },
    {
     "name": "stdout",
     "output_type": "stream",
     "text": [
      "    Forcing binary noise mask\n"
     ]
    },
    {
     "name": "stderr",
     "output_type": "stream",
     "text": [
      "/home/josh/workspace/tacotron/lib/pulsemodel/synthesis.py:119: UserWarning: \n",
      "\n",
      "WARNING: The maximum window length (63983) is bigger than the DFT length (4096). Please, increase the DFT length of your spectral features (the second dimension) or check if the f0 curve has extremly low values and try to clip them to higher values (at least higher than 50Hz). The f0 curve has been clipped to 15.625Hz.\n",
      "\n",
      "\n",
      "  warnings.warn('\\n\\nWARNING: The maximum window length ({}) is bigger than the DFT length ({}). Please, increase the DFT length of your spectral features (the second dimension) or check if the f0 curve has extremly low values and try to clip them to higher values (at least higher than 50Hz). The f0 curve has been clipped to {}Hz.\\n\\n'.format(winlenmax, dftlen, winnbper*fs/float(dftlen))) # pragma: no cover\n"
     ]
    },
    {
     "name": "stdout",
     "output_type": "stream",
     "text": [
      "    Forcing binary noise mask\n"
     ]
    },
    {
     "name": "stderr",
     "output_type": "stream",
     "text": [
      "/home/josh/workspace/tacotron/lib/pulsemodel/synthesis.py:119: UserWarning: \n",
      "\n",
      "WARNING: The maximum window length (63999) is bigger than the DFT length (4096). Please, increase the DFT length of your spectral features (the second dimension) or check if the f0 curve has extremly low values and try to clip them to higher values (at least higher than 50Hz). The f0 curve has been clipped to 15.625Hz.\n",
      "\n",
      "\n",
      "  warnings.warn('\\n\\nWARNING: The maximum window length ({}) is bigger than the DFT length ({}). Please, increase the DFT length of your spectral features (the second dimension) or check if the f0 curve has extremly low values and try to clip them to higher values (at least higher than 50Hz). The f0 curve has been clipped to {}Hz.\\n\\n'.format(winlenmax, dftlen, winnbper*fs/float(dftlen))) # pragma: no cover\n"
     ]
    },
    {
     "name": "stdout",
     "output_type": "stream",
     "text": [
      "    Forcing binary noise mask\n"
     ]
    },
    {
     "name": "stderr",
     "output_type": "stream",
     "text": [
      "/home/josh/workspace/tacotron/lib/pulsemodel/synthesis.py:119: UserWarning: \n",
      "\n",
      "WARNING: The maximum window length (63987) is bigger than the DFT length (4096). Please, increase the DFT length of your spectral features (the second dimension) or check if the f0 curve has extremly low values and try to clip them to higher values (at least higher than 50Hz). The f0 curve has been clipped to 15.625Hz.\n",
      "\n",
      "\n",
      "  warnings.warn('\\n\\nWARNING: The maximum window length ({}) is bigger than the DFT length ({}). Please, increase the DFT length of your spectral features (the second dimension) or check if the f0 curve has extremly low values and try to clip them to higher values (at least higher than 50Hz). The f0 curve has been clipped to {}Hz.\\n\\n'.format(winlenmax, dftlen, winnbper*fs/float(dftlen))) # pragma: no cover\n"
     ]
    },
    {
     "name": "stdout",
     "output_type": "stream",
     "text": [
      "    Forcing binary noise mask\n"
     ]
    },
    {
     "name": "stderr",
     "output_type": "stream",
     "text": [
      "/home/josh/workspace/tacotron/lib/pulsemodel/synthesis.py:119: UserWarning: \n",
      "\n",
      "WARNING: The maximum window length (63999) is bigger than the DFT length (4096). Please, increase the DFT length of your spectral features (the second dimension) or check if the f0 curve has extremly low values and try to clip them to higher values (at least higher than 50Hz). The f0 curve has been clipped to 15.625Hz.\n",
      "\n",
      "\n",
      "  warnings.warn('\\n\\nWARNING: The maximum window length ({}) is bigger than the DFT length ({}). Please, increase the DFT length of your spectral features (the second dimension) or check if the f0 curve has extremly low values and try to clip them to higher values (at least higher than 50Hz). The f0 curve has been clipped to {}Hz.\\n\\n'.format(winlenmax, dftlen, winnbper*fs/float(dftlen))) # pragma: no cover\n"
     ]
    },
    {
     "name": "stdout",
     "output_type": "stream",
     "text": [
      "    Forcing binary noise mask\n",
      "    Forcing binary noise mask\n"
     ]
    },
    {
     "name": "stderr",
     "output_type": "stream",
     "text": [
      "/home/josh/workspace/tacotron/lib/pulsemodel/synthesis.py:119: UserWarning: \n",
      "\n",
      "WARNING: The maximum window length (63949) is bigger than the DFT length (4096). Please, increase the DFT length of your spectral features (the second dimension) or check if the f0 curve has extremly low values and try to clip them to higher values (at least higher than 50Hz). The f0 curve has been clipped to 15.625Hz.\n",
      "\n",
      "\n",
      "  warnings.warn('\\n\\nWARNING: The maximum window length ({}) is bigger than the DFT length ({}). Please, increase the DFT length of your spectral features (the second dimension) or check if the f0 curve has extremly low values and try to clip them to higher values (at least higher than 50Hz). The f0 curve has been clipped to {}Hz.\\n\\n'.format(winlenmax, dftlen, winnbper*fs/float(dftlen))) # pragma: no cover\n"
     ]
    },
    {
     "name": "stdout",
     "output_type": "stream",
     "text": [
      "    Forcing binary noise mask\n"
     ]
    },
    {
     "name": "stderr",
     "output_type": "stream",
     "text": [
      "/home/josh/workspace/tacotron/lib/pulsemodel/synthesis.py:119: UserWarning: \n",
      "\n",
      "WARNING: The maximum window length (63999) is bigger than the DFT length (4096). Please, increase the DFT length of your spectral features (the second dimension) or check if the f0 curve has extremly low values and try to clip them to higher values (at least higher than 50Hz). The f0 curve has been clipped to 15.625Hz.\n",
      "\n",
      "\n",
      "  warnings.warn('\\n\\nWARNING: The maximum window length ({}) is bigger than the DFT length ({}). Please, increase the DFT length of your spectral features (the second dimension) or check if the f0 curve has extremly low values and try to clip them to higher values (at least higher than 50Hz). The f0 curve has been clipped to {}Hz.\\n\\n'.format(winlenmax, dftlen, winnbper*fs/float(dftlen))) # pragma: no cover\n"
     ]
    },
    {
     "name": "stdout",
     "output_type": "stream",
     "text": [
      "    Forcing binary noise mask\n"
     ]
    },
    {
     "name": "stderr",
     "output_type": "stream",
     "text": [
      "/home/josh/workspace/tacotron/lib/pulsemodel/synthesis.py:119: UserWarning: \n",
      "\n",
      "WARNING: The maximum window length (63999) is bigger than the DFT length (4096). Please, increase the DFT length of your spectral features (the second dimension) or check if the f0 curve has extremly low values and try to clip them to higher values (at least higher than 50Hz). The f0 curve has been clipped to 15.625Hz.\n",
      "\n",
      "\n",
      "  warnings.warn('\\n\\nWARNING: The maximum window length ({}) is bigger than the DFT length ({}). Please, increase the DFT length of your spectral features (the second dimension) or check if the f0 curve has extremly low values and try to clip them to higher values (at least higher than 50Hz). The f0 curve has been clipped to {}Hz.\\n\\n'.format(winlenmax, dftlen, winnbper*fs/float(dftlen))) # pragma: no cover\n"
     ]
    },
    {
     "name": "stdout",
     "output_type": "stream",
     "text": [
      "    Forcing binary noise mask\n"
     ]
    },
    {
     "name": "stderr",
     "output_type": "stream",
     "text": [
      "/home/josh/workspace/tacotron/lib/pulsemodel/synthesis.py:119: UserWarning: \n",
      "\n",
      "WARNING: The maximum window length (63981) is bigger than the DFT length (4096). Please, increase the DFT length of your spectral features (the second dimension) or check if the f0 curve has extremly low values and try to clip them to higher values (at least higher than 50Hz). The f0 curve has been clipped to 15.625Hz.\n",
      "\n",
      "\n",
      "  warnings.warn('\\n\\nWARNING: The maximum window length ({}) is bigger than the DFT length ({}). Please, increase the DFT length of your spectral features (the second dimension) or check if the f0 curve has extremly low values and try to clip them to higher values (at least higher than 50Hz). The f0 curve has been clipped to {}Hz.\\n\\n'.format(winlenmax, dftlen, winnbper*fs/float(dftlen))) # pragma: no cover\n"
     ]
    },
    {
     "name": "stdout",
     "output_type": "stream",
     "text": [
      "    Forcing binary noise mask\n"
     ]
    },
    {
     "name": "stderr",
     "output_type": "stream",
     "text": [
      "/home/josh/workspace/tacotron/lib/pulsemodel/synthesis.py:119: UserWarning: \n",
      "\n",
      "WARNING: The maximum window length (63999) is bigger than the DFT length (4096). Please, increase the DFT length of your spectral features (the second dimension) or check if the f0 curve has extremly low values and try to clip them to higher values (at least higher than 50Hz). The f0 curve has been clipped to 15.625Hz.\n",
      "\n",
      "\n",
      "  warnings.warn('\\n\\nWARNING: The maximum window length ({}) is bigger than the DFT length ({}). Please, increase the DFT length of your spectral features (the second dimension) or check if the f0 curve has extremly low values and try to clip them to higher values (at least higher than 50Hz). The f0 curve has been clipped to {}Hz.\\n\\n'.format(winlenmax, dftlen, winnbper*fs/float(dftlen))) # pragma: no cover\n"
     ]
    },
    {
     "name": "stdout",
     "output_type": "stream",
     "text": [
      "    Forcing binary noise mask\n"
     ]
    },
    {
     "name": "stderr",
     "output_type": "stream",
     "text": [
      "/home/josh/workspace/tacotron/lib/pulsemodel/synthesis.py:119: UserWarning: \n",
      "\n",
      "WARNING: The maximum window length (63999) is bigger than the DFT length (4096). Please, increase the DFT length of your spectral features (the second dimension) or check if the f0 curve has extremly low values and try to clip them to higher values (at least higher than 50Hz). The f0 curve has been clipped to 15.625Hz.\n",
      "\n",
      "\n",
      "  warnings.warn('\\n\\nWARNING: The maximum window length ({}) is bigger than the DFT length ({}). Please, increase the DFT length of your spectral features (the second dimension) or check if the f0 curve has extremly low values and try to clip them to higher values (at least higher than 50Hz). The f0 curve has been clipped to {}Hz.\\n\\n'.format(winlenmax, dftlen, winnbper*fs/float(dftlen))) # pragma: no cover\n"
     ]
    },
    {
     "name": "stdout",
     "output_type": "stream",
     "text": [
      "    Forcing binary noise mask\n"
     ]
    },
    {
     "name": "stderr",
     "output_type": "stream",
     "text": [
      "/home/josh/workspace/tacotron/lib/pulsemodel/synthesis.py:119: UserWarning: \n",
      "\n",
      "WARNING: The maximum window length (63975) is bigger than the DFT length (4096). Please, increase the DFT length of your spectral features (the second dimension) or check if the f0 curve has extremly low values and try to clip them to higher values (at least higher than 50Hz). The f0 curve has been clipped to 15.625Hz.\n",
      "\n",
      "\n",
      "  warnings.warn('\\n\\nWARNING: The maximum window length ({}) is bigger than the DFT length ({}). Please, increase the DFT length of your spectral features (the second dimension) or check if the f0 curve has extremly low values and try to clip them to higher values (at least higher than 50Hz). The f0 curve has been clipped to {}Hz.\\n\\n'.format(winlenmax, dftlen, winnbper*fs/float(dftlen))) # pragma: no cover\n"
     ]
    },
    {
     "name": "stdout",
     "output_type": "stream",
     "text": [
      "    Forcing binary noise mask\n"
     ]
    },
    {
     "name": "stderr",
     "output_type": "stream",
     "text": [
      "/home/josh/workspace/tacotron/lib/pulsemodel/synthesis.py:119: UserWarning: \n",
      "\n",
      "WARNING: The maximum window length (63983) is bigger than the DFT length (4096). Please, increase the DFT length of your spectral features (the second dimension) or check if the f0 curve has extremly low values and try to clip them to higher values (at least higher than 50Hz). The f0 curve has been clipped to 15.625Hz.\n",
      "\n",
      "\n",
      "  warnings.warn('\\n\\nWARNING: The maximum window length ({}) is bigger than the DFT length ({}). Please, increase the DFT length of your spectral features (the second dimension) or check if the f0 curve has extremly low values and try to clip them to higher values (at least higher than 50Hz). The f0 curve has been clipped to {}Hz.\\n\\n'.format(winlenmax, dftlen, winnbper*fs/float(dftlen))) # pragma: no cover\n"
     ]
    },
    {
     "name": "stdout",
     "output_type": "stream",
     "text": [
      "    Forcing binary noise mask\n",
      "    Forcing binary noise mask\n"
     ]
    },
    {
     "name": "stderr",
     "output_type": "stream",
     "text": [
      "/home/josh/workspace/tacotron/lib/pulsemodel/synthesis.py:119: UserWarning: \n",
      "\n",
      "WARNING: The maximum window length (63997) is bigger than the DFT length (4096). Please, increase the DFT length of your spectral features (the second dimension) or check if the f0 curve has extremly low values and try to clip them to higher values (at least higher than 50Hz). The f0 curve has been clipped to 15.625Hz.\n",
      "\n",
      "\n",
      "  warnings.warn('\\n\\nWARNING: The maximum window length ({}) is bigger than the DFT length ({}). Please, increase the DFT length of your spectral features (the second dimension) or check if the f0 curve has extremly low values and try to clip them to higher values (at least higher than 50Hz). The f0 curve has been clipped to {}Hz.\\n\\n'.format(winlenmax, dftlen, winnbper*fs/float(dftlen))) # pragma: no cover\n"
     ]
    },
    {
     "name": "stdout",
     "output_type": "stream",
     "text": [
      "    Forcing binary noise mask\n",
      "    Forcing binary noise mask\n"
     ]
    },
    {
     "name": "stderr",
     "output_type": "stream",
     "text": [
      "/home/josh/workspace/tacotron/lib/pulsemodel/synthesis.py:119: UserWarning: \n",
      "\n",
      "WARNING: The maximum window length (63999) is bigger than the DFT length (4096). Please, increase the DFT length of your spectral features (the second dimension) or check if the f0 curve has extremly low values and try to clip them to higher values (at least higher than 50Hz). The f0 curve has been clipped to 15.625Hz.\n",
      "\n",
      "\n",
      "  warnings.warn('\\n\\nWARNING: The maximum window length ({}) is bigger than the DFT length ({}). Please, increase the DFT length of your spectral features (the second dimension) or check if the f0 curve has extremly low values and try to clip them to higher values (at least higher than 50Hz). The f0 curve has been clipped to {}Hz.\\n\\n'.format(winlenmax, dftlen, winnbper*fs/float(dftlen))) # pragma: no cover\n"
     ]
    },
    {
     "name": "stdout",
     "output_type": "stream",
     "text": [
      "    Forcing binary noise mask\n"
     ]
    },
    {
     "name": "stderr",
     "output_type": "stream",
     "text": [
      "/home/josh/workspace/tacotron/lib/pulsemodel/synthesis.py:119: UserWarning: \n",
      "\n",
      "WARNING: The maximum window length (63999) is bigger than the DFT length (4096). Please, increase the DFT length of your spectral features (the second dimension) or check if the f0 curve has extremly low values and try to clip them to higher values (at least higher than 50Hz). The f0 curve has been clipped to 15.625Hz.\n",
      "\n",
      "\n",
      "  warnings.warn('\\n\\nWARNING: The maximum window length ({}) is bigger than the DFT length ({}). Please, increase the DFT length of your spectral features (the second dimension) or check if the f0 curve has extremly low values and try to clip them to higher values (at least higher than 50Hz). The f0 curve has been clipped to {}Hz.\\n\\n'.format(winlenmax, dftlen, winnbper*fs/float(dftlen))) # pragma: no cover\n"
     ]
    },
    {
     "name": "stdout",
     "output_type": "stream",
     "text": [
      "    Forcing binary noise mask\n"
     ]
    },
    {
     "name": "stderr",
     "output_type": "stream",
     "text": [
      "/home/josh/workspace/tacotron/lib/pulsemodel/synthesis.py:119: UserWarning: \n",
      "\n",
      "WARNING: The maximum window length (63999) is bigger than the DFT length (4096). Please, increase the DFT length of your spectral features (the second dimension) or check if the f0 curve has extremly low values and try to clip them to higher values (at least higher than 50Hz). The f0 curve has been clipped to 15.625Hz.\n",
      "\n",
      "\n",
      "  warnings.warn('\\n\\nWARNING: The maximum window length ({}) is bigger than the DFT length ({}). Please, increase the DFT length of your spectral features (the second dimension) or check if the f0 curve has extremly low values and try to clip them to higher values (at least higher than 50Hz). The f0 curve has been clipped to {}Hz.\\n\\n'.format(winlenmax, dftlen, winnbper*fs/float(dftlen))) # pragma: no cover\n"
     ]
    },
    {
     "name": "stdout",
     "output_type": "stream",
     "text": [
      "    Forcing binary noise mask\n"
     ]
    },
    {
     "name": "stderr",
     "output_type": "stream",
     "text": [
      "/home/josh/workspace/tacotron/lib/pulsemodel/synthesis.py:119: UserWarning: \n",
      "\n",
      "WARNING: The maximum window length (63991) is bigger than the DFT length (4096). Please, increase the DFT length of your spectral features (the second dimension) or check if the f0 curve has extremly low values and try to clip them to higher values (at least higher than 50Hz). The f0 curve has been clipped to 15.625Hz.\n",
      "\n",
      "\n",
      "  warnings.warn('\\n\\nWARNING: The maximum window length ({}) is bigger than the DFT length ({}). Please, increase the DFT length of your spectral features (the second dimension) or check if the f0 curve has extremly low values and try to clip them to higher values (at least higher than 50Hz). The f0 curve has been clipped to {}Hz.\\n\\n'.format(winlenmax, dftlen, winnbper*fs/float(dftlen))) # pragma: no cover\n"
     ]
    },
    {
     "name": "stdout",
     "output_type": "stream",
     "text": [
      "    Forcing binary noise mask\n"
     ]
    },
    {
     "name": "stderr",
     "output_type": "stream",
     "text": [
      "/home/josh/workspace/tacotron/lib/pulsemodel/synthesis.py:119: UserWarning: \n",
      "\n",
      "WARNING: The maximum window length (63999) is bigger than the DFT length (4096). Please, increase the DFT length of your spectral features (the second dimension) or check if the f0 curve has extremly low values and try to clip them to higher values (at least higher than 50Hz). The f0 curve has been clipped to 15.625Hz.\n",
      "\n",
      "\n",
      "  warnings.warn('\\n\\nWARNING: The maximum window length ({}) is bigger than the DFT length ({}). Please, increase the DFT length of your spectral features (the second dimension) or check if the f0 curve has extremly low values and try to clip them to higher values (at least higher than 50Hz). The f0 curve has been clipped to {}Hz.\\n\\n'.format(winlenmax, dftlen, winnbper*fs/float(dftlen))) # pragma: no cover\n"
     ]
    },
    {
     "name": "stdout",
     "output_type": "stream",
     "text": [
      "    Forcing binary noise mask\n",
      "    Forcing binary noise mask\n",
      "    Forcing binary noise mask\n",
      "    Forcing binary noise mask\n",
      "    Forcing binary noise mask\n"
     ]
    },
    {
     "name": "stderr",
     "output_type": "stream",
     "text": [
      "/home/josh/workspace/tacotron/lib/pulsemodel/synthesis.py:119: UserWarning: \n",
      "\n",
      "WARNING: The maximum window length (63999) is bigger than the DFT length (4096). Please, increase the DFT length of your spectral features (the second dimension) or check if the f0 curve has extremly low values and try to clip them to higher values (at least higher than 50Hz). The f0 curve has been clipped to 15.625Hz.\n",
      "\n",
      "\n",
      "  warnings.warn('\\n\\nWARNING: The maximum window length ({}) is bigger than the DFT length ({}). Please, increase the DFT length of your spectral features (the second dimension) or check if the f0 curve has extremly low values and try to clip them to higher values (at least higher than 50Hz). The f0 curve has been clipped to {}Hz.\\n\\n'.format(winlenmax, dftlen, winnbper*fs/float(dftlen))) # pragma: no cover\n"
     ]
    },
    {
     "name": "stdout",
     "output_type": "stream",
     "text": [
      "    Forcing binary noise mask\n"
     ]
    },
    {
     "name": "stderr",
     "output_type": "stream",
     "text": [
      "/home/josh/workspace/tacotron/lib/pulsemodel/synthesis.py:119: UserWarning: \n",
      "\n",
      "WARNING: The maximum window length (63999) is bigger than the DFT length (4096). Please, increase the DFT length of your spectral features (the second dimension) or check if the f0 curve has extremly low values and try to clip them to higher values (at least higher than 50Hz). The f0 curve has been clipped to 15.625Hz.\n",
      "\n",
      "\n",
      "  warnings.warn('\\n\\nWARNING: The maximum window length ({}) is bigger than the DFT length ({}). Please, increase the DFT length of your spectral features (the second dimension) or check if the f0 curve has extremly low values and try to clip them to higher values (at least higher than 50Hz). The f0 curve has been clipped to {}Hz.\\n\\n'.format(winlenmax, dftlen, winnbper*fs/float(dftlen))) # pragma: no cover\n"
     ]
    },
    {
     "name": "stdout",
     "output_type": "stream",
     "text": [
      "    Forcing binary noise mask\n"
     ]
    },
    {
     "name": "stderr",
     "output_type": "stream",
     "text": [
      "/home/josh/workspace/tacotron/lib/pulsemodel/synthesis.py:119: UserWarning: \n",
      "\n",
      "WARNING: The maximum window length (63999) is bigger than the DFT length (4096). Please, increase the DFT length of your spectral features (the second dimension) or check if the f0 curve has extremly low values and try to clip them to higher values (at least higher than 50Hz). The f0 curve has been clipped to 15.625Hz.\n",
      "\n",
      "\n",
      "  warnings.warn('\\n\\nWARNING: The maximum window length ({}) is bigger than the DFT length ({}). Please, increase the DFT length of your spectral features (the second dimension) or check if the f0 curve has extremly low values and try to clip them to higher values (at least higher than 50Hz). The f0 curve has been clipped to {}Hz.\\n\\n'.format(winlenmax, dftlen, winnbper*fs/float(dftlen))) # pragma: no cover\n"
     ]
    },
    {
     "name": "stdout",
     "output_type": "stream",
     "text": [
      "    Forcing binary noise mask\n"
     ]
    },
    {
     "name": "stderr",
     "output_type": "stream",
     "text": [
      "/home/josh/workspace/tacotron/lib/pulsemodel/synthesis.py:119: UserWarning: \n",
      "\n",
      "WARNING: The maximum window length (63999) is bigger than the DFT length (4096). Please, increase the DFT length of your spectral features (the second dimension) or check if the f0 curve has extremly low values and try to clip them to higher values (at least higher than 50Hz). The f0 curve has been clipped to 15.625Hz.\n",
      "\n",
      "\n",
      "  warnings.warn('\\n\\nWARNING: The maximum window length ({}) is bigger than the DFT length ({}). Please, increase the DFT length of your spectral features (the second dimension) or check if the f0 curve has extremly low values and try to clip them to higher values (at least higher than 50Hz). The f0 curve has been clipped to {}Hz.\\n\\n'.format(winlenmax, dftlen, winnbper*fs/float(dftlen))) # pragma: no cover\n"
     ]
    },
    {
     "name": "stdout",
     "output_type": "stream",
     "text": [
      "    Forcing binary noise mask\n"
     ]
    },
    {
     "name": "stderr",
     "output_type": "stream",
     "text": [
      "/home/josh/workspace/tacotron/lib/pulsemodel/synthesis.py:119: UserWarning: \n",
      "\n",
      "WARNING: The maximum window length (63999) is bigger than the DFT length (4096). Please, increase the DFT length of your spectral features (the second dimension) or check if the f0 curve has extremly low values and try to clip them to higher values (at least higher than 50Hz). The f0 curve has been clipped to 15.625Hz.\n",
      "\n",
      "\n",
      "  warnings.warn('\\n\\nWARNING: The maximum window length ({}) is bigger than the DFT length ({}). Please, increase the DFT length of your spectral features (the second dimension) or check if the f0 curve has extremly low values and try to clip them to higher values (at least higher than 50Hz). The f0 curve has been clipped to {}Hz.\\n\\n'.format(winlenmax, dftlen, winnbper*fs/float(dftlen))) # pragma: no cover\n"
     ]
    },
    {
     "name": "stdout",
     "output_type": "stream",
     "text": [
      "    Forcing binary noise mask\n"
     ]
    },
    {
     "name": "stderr",
     "output_type": "stream",
     "text": [
      "/home/josh/workspace/tacotron/lib/pulsemodel/synthesis.py:119: UserWarning: \n",
      "\n",
      "WARNING: The maximum window length (63999) is bigger than the DFT length (4096). Please, increase the DFT length of your spectral features (the second dimension) or check if the f0 curve has extremly low values and try to clip them to higher values (at least higher than 50Hz). The f0 curve has been clipped to 15.625Hz.\n",
      "\n",
      "\n",
      "  warnings.warn('\\n\\nWARNING: The maximum window length ({}) is bigger than the DFT length ({}). Please, increase the DFT length of your spectral features (the second dimension) or check if the f0 curve has extremly low values and try to clip them to higher values (at least higher than 50Hz). The f0 curve has been clipped to {}Hz.\\n\\n'.format(winlenmax, dftlen, winnbper*fs/float(dftlen))) # pragma: no cover\n"
     ]
    },
    {
     "name": "stdout",
     "output_type": "stream",
     "text": [
      "    Forcing binary noise mask\n",
      "    Forcing binary noise mask\n",
      "    Forcing binary noise mask\n"
     ]
    },
    {
     "name": "stderr",
     "output_type": "stream",
     "text": [
      "/home/josh/workspace/tacotron/lib/pulsemodel/synthesis.py:119: UserWarning: \n",
      "\n",
      "WARNING: The maximum window length (63781) is bigger than the DFT length (4096). Please, increase the DFT length of your spectral features (the second dimension) or check if the f0 curve has extremly low values and try to clip them to higher values (at least higher than 50Hz). The f0 curve has been clipped to 15.625Hz.\n",
      "\n",
      "\n",
      "  warnings.warn('\\n\\nWARNING: The maximum window length ({}) is bigger than the DFT length ({}). Please, increase the DFT length of your spectral features (the second dimension) or check if the f0 curve has extremly low values and try to clip them to higher values (at least higher than 50Hz). The f0 curve has been clipped to {}Hz.\\n\\n'.format(winlenmax, dftlen, winnbper*fs/float(dftlen))) # pragma: no cover\n"
     ]
    },
    {
     "name": "stdout",
     "output_type": "stream",
     "text": [
      "    Forcing binary noise mask\n",
      "    Forcing binary noise mask\n",
      "    Forcing binary noise mask\n"
     ]
    },
    {
     "name": "stderr",
     "output_type": "stream",
     "text": [
      "/home/josh/workspace/tacotron/lib/pulsemodel/synthesis.py:119: UserWarning: \n",
      "\n",
      "WARNING: The maximum window length (63999) is bigger than the DFT length (4096). Please, increase the DFT length of your spectral features (the second dimension) or check if the f0 curve has extremly low values and try to clip them to higher values (at least higher than 50Hz). The f0 curve has been clipped to 15.625Hz.\n",
      "\n",
      "\n",
      "  warnings.warn('\\n\\nWARNING: The maximum window length ({}) is bigger than the DFT length ({}). Please, increase the DFT length of your spectral features (the second dimension) or check if the f0 curve has extremly low values and try to clip them to higher values (at least higher than 50Hz). The f0 curve has been clipped to {}Hz.\\n\\n'.format(winlenmax, dftlen, winnbper*fs/float(dftlen))) # pragma: no cover\n"
     ]
    },
    {
     "name": "stdout",
     "output_type": "stream",
     "text": [
      "    Forcing binary noise mask\n"
     ]
    },
    {
     "name": "stderr",
     "output_type": "stream",
     "text": [
      "/home/josh/workspace/tacotron/lib/pulsemodel/synthesis.py:119: UserWarning: \n",
      "\n",
      "WARNING: The maximum window length (63999) is bigger than the DFT length (4096). Please, increase the DFT length of your spectral features (the second dimension) or check if the f0 curve has extremly low values and try to clip them to higher values (at least higher than 50Hz). The f0 curve has been clipped to 15.625Hz.\n",
      "\n",
      "\n",
      "  warnings.warn('\\n\\nWARNING: The maximum window length ({}) is bigger than the DFT length ({}). Please, increase the DFT length of your spectral features (the second dimension) or check if the f0 curve has extremly low values and try to clip them to higher values (at least higher than 50Hz). The f0 curve has been clipped to {}Hz.\\n\\n'.format(winlenmax, dftlen, winnbper*fs/float(dftlen))) # pragma: no cover\n"
     ]
    },
    {
     "name": "stdout",
     "output_type": "stream",
     "text": [
      "    Forcing binary noise mask\n"
     ]
    },
    {
     "name": "stderr",
     "output_type": "stream",
     "text": [
      "/home/josh/workspace/tacotron/lib/pulsemodel/synthesis.py:119: UserWarning: \n",
      "\n",
      "WARNING: The maximum window length (63993) is bigger than the DFT length (4096). Please, increase the DFT length of your spectral features (the second dimension) or check if the f0 curve has extremly low values and try to clip them to higher values (at least higher than 50Hz). The f0 curve has been clipped to 15.625Hz.\n",
      "\n",
      "\n",
      "  warnings.warn('\\n\\nWARNING: The maximum window length ({}) is bigger than the DFT length ({}). Please, increase the DFT length of your spectral features (the second dimension) or check if the f0 curve has extremly low values and try to clip them to higher values (at least higher than 50Hz). The f0 curve has been clipped to {}Hz.\\n\\n'.format(winlenmax, dftlen, winnbper*fs/float(dftlen))) # pragma: no cover\n"
     ]
    },
    {
     "name": "stdout",
     "output_type": "stream",
     "text": [
      "    Forcing binary noise mask\n"
     ]
    },
    {
     "name": "stderr",
     "output_type": "stream",
     "text": [
      "/home/josh/workspace/tacotron/lib/pulsemodel/synthesis.py:119: UserWarning: \n",
      "\n",
      "WARNING: The maximum window length (63973) is bigger than the DFT length (4096). Please, increase the DFT length of your spectral features (the second dimension) or check if the f0 curve has extremly low values and try to clip them to higher values (at least higher than 50Hz). The f0 curve has been clipped to 15.625Hz.\n",
      "\n",
      "\n",
      "  warnings.warn('\\n\\nWARNING: The maximum window length ({}) is bigger than the DFT length ({}). Please, increase the DFT length of your spectral features (the second dimension) or check if the f0 curve has extremly low values and try to clip them to higher values (at least higher than 50Hz). The f0 curve has been clipped to {}Hz.\\n\\n'.format(winlenmax, dftlen, winnbper*fs/float(dftlen))) # pragma: no cover\n"
     ]
    },
    {
     "name": "stdout",
     "output_type": "stream",
     "text": [
      "    Forcing binary noise mask\n"
     ]
    },
    {
     "name": "stderr",
     "output_type": "stream",
     "text": [
      "/home/josh/workspace/tacotron/lib/pulsemodel/synthesis.py:119: UserWarning: \n",
      "\n",
      "WARNING: The maximum window length (63999) is bigger than the DFT length (4096). Please, increase the DFT length of your spectral features (the second dimension) or check if the f0 curve has extremly low values and try to clip them to higher values (at least higher than 50Hz). The f0 curve has been clipped to 15.625Hz.\n",
      "\n",
      "\n",
      "  warnings.warn('\\n\\nWARNING: The maximum window length ({}) is bigger than the DFT length ({}). Please, increase the DFT length of your spectral features (the second dimension) or check if the f0 curve has extremly low values and try to clip them to higher values (at least higher than 50Hz). The f0 curve has been clipped to {}Hz.\\n\\n'.format(winlenmax, dftlen, winnbper*fs/float(dftlen))) # pragma: no cover\n"
     ]
    },
    {
     "name": "stdout",
     "output_type": "stream",
     "text": [
      "    Forcing binary noise mask\n",
      "    Forcing binary noise mask\n",
      "    Forcing binary noise mask\n"
     ]
    },
    {
     "name": "stderr",
     "output_type": "stream",
     "text": [
      "/home/josh/workspace/tacotron/lib/pulsemodel/synthesis.py:119: UserWarning: \n",
      "\n",
      "WARNING: The maximum window length (63979) is bigger than the DFT length (4096). Please, increase the DFT length of your spectral features (the second dimension) or check if the f0 curve has extremly low values and try to clip them to higher values (at least higher than 50Hz). The f0 curve has been clipped to 15.625Hz.\n",
      "\n",
      "\n",
      "  warnings.warn('\\n\\nWARNING: The maximum window length ({}) is bigger than the DFT length ({}). Please, increase the DFT length of your spectral features (the second dimension) or check if the f0 curve has extremly low values and try to clip them to higher values (at least higher than 50Hz). The f0 curve has been clipped to {}Hz.\\n\\n'.format(winlenmax, dftlen, winnbper*fs/float(dftlen))) # pragma: no cover\n"
     ]
    },
    {
     "name": "stdout",
     "output_type": "stream",
     "text": [
      "    Forcing binary noise mask\n"
     ]
    },
    {
     "name": "stderr",
     "output_type": "stream",
     "text": [
      "/home/josh/workspace/tacotron/lib/pulsemodel/synthesis.py:119: UserWarning: \n",
      "\n",
      "WARNING: The maximum window length (63999) is bigger than the DFT length (4096). Please, increase the DFT length of your spectral features (the second dimension) or check if the f0 curve has extremly low values and try to clip them to higher values (at least higher than 50Hz). The f0 curve has been clipped to 15.625Hz.\n",
      "\n",
      "\n",
      "  warnings.warn('\\n\\nWARNING: The maximum window length ({}) is bigger than the DFT length ({}). Please, increase the DFT length of your spectral features (the second dimension) or check if the f0 curve has extremly low values and try to clip them to higher values (at least higher than 50Hz). The f0 curve has been clipped to {}Hz.\\n\\n'.format(winlenmax, dftlen, winnbper*fs/float(dftlen))) # pragma: no cover\n"
     ]
    },
    {
     "name": "stdout",
     "output_type": "stream",
     "text": [
      "    Forcing binary noise mask\n",
      "    Forcing binary noise mask\n"
     ]
    },
    {
     "name": "stderr",
     "output_type": "stream",
     "text": [
      "/home/josh/workspace/tacotron/lib/pulsemodel/synthesis.py:119: UserWarning: \n",
      "\n",
      "WARNING: The maximum window length (63997) is bigger than the DFT length (4096). Please, increase the DFT length of your spectral features (the second dimension) or check if the f0 curve has extremly low values and try to clip them to higher values (at least higher than 50Hz). The f0 curve has been clipped to 15.625Hz.\n",
      "\n",
      "\n",
      "  warnings.warn('\\n\\nWARNING: The maximum window length ({}) is bigger than the DFT length ({}). Please, increase the DFT length of your spectral features (the second dimension) or check if the f0 curve has extremly low values and try to clip them to higher values (at least higher than 50Hz). The f0 curve has been clipped to {}Hz.\\n\\n'.format(winlenmax, dftlen, winnbper*fs/float(dftlen))) # pragma: no cover\n"
     ]
    },
    {
     "name": "stdout",
     "output_type": "stream",
     "text": [
      "    Forcing binary noise mask\n"
     ]
    },
    {
     "name": "stderr",
     "output_type": "stream",
     "text": [
      "/home/josh/workspace/tacotron/lib/pulsemodel/synthesis.py:119: UserWarning: \n",
      "\n",
      "WARNING: The maximum window length (63999) is bigger than the DFT length (4096). Please, increase the DFT length of your spectral features (the second dimension) or check if the f0 curve has extremly low values and try to clip them to higher values (at least higher than 50Hz). The f0 curve has been clipped to 15.625Hz.\n",
      "\n",
      "\n",
      "  warnings.warn('\\n\\nWARNING: The maximum window length ({}) is bigger than the DFT length ({}). Please, increase the DFT length of your spectral features (the second dimension) or check if the f0 curve has extremly low values and try to clip them to higher values (at least higher than 50Hz). The f0 curve has been clipped to {}Hz.\\n\\n'.format(winlenmax, dftlen, winnbper*fs/float(dftlen))) # pragma: no cover\n"
     ]
    },
    {
     "name": "stdout",
     "output_type": "stream",
     "text": [
      "    Forcing binary noise mask\n"
     ]
    },
    {
     "name": "stderr",
     "output_type": "stream",
     "text": [
      "/home/josh/workspace/tacotron/lib/pulsemodel/synthesis.py:119: UserWarning: \n",
      "\n",
      "WARNING: The maximum window length (63991) is bigger than the DFT length (4096). Please, increase the DFT length of your spectral features (the second dimension) or check if the f0 curve has extremly low values and try to clip them to higher values (at least higher than 50Hz). The f0 curve has been clipped to 15.625Hz.\n",
      "\n",
      "\n",
      "  warnings.warn('\\n\\nWARNING: The maximum window length ({}) is bigger than the DFT length ({}). Please, increase the DFT length of your spectral features (the second dimension) or check if the f0 curve has extremly low values and try to clip them to higher values (at least higher than 50Hz). The f0 curve has been clipped to {}Hz.\\n\\n'.format(winlenmax, dftlen, winnbper*fs/float(dftlen))) # pragma: no cover\n"
     ]
    },
    {
     "name": "stdout",
     "output_type": "stream",
     "text": [
      "    Forcing binary noise mask\n"
     ]
    },
    {
     "name": "stderr",
     "output_type": "stream",
     "text": [
      "/home/josh/workspace/tacotron/lib/pulsemodel/synthesis.py:119: UserWarning: \n",
      "\n",
      "WARNING: The maximum window length (63999) is bigger than the DFT length (4096). Please, increase the DFT length of your spectral features (the second dimension) or check if the f0 curve has extremly low values and try to clip them to higher values (at least higher than 50Hz). The f0 curve has been clipped to 15.625Hz.\n",
      "\n",
      "\n",
      "  warnings.warn('\\n\\nWARNING: The maximum window length ({}) is bigger than the DFT length ({}). Please, increase the DFT length of your spectral features (the second dimension) or check if the f0 curve has extremly low values and try to clip them to higher values (at least higher than 50Hz). The f0 curve has been clipped to {}Hz.\\n\\n'.format(winlenmax, dftlen, winnbper*fs/float(dftlen))) # pragma: no cover\n"
     ]
    },
    {
     "name": "stdout",
     "output_type": "stream",
     "text": [
      "    Forcing binary noise mask\n"
     ]
    },
    {
     "name": "stderr",
     "output_type": "stream",
     "text": [
      "/home/josh/workspace/tacotron/lib/pulsemodel/synthesis.py:119: UserWarning: \n",
      "\n",
      "WARNING: The maximum window length (63997) is bigger than the DFT length (4096). Please, increase the DFT length of your spectral features (the second dimension) or check if the f0 curve has extremly low values and try to clip them to higher values (at least higher than 50Hz). The f0 curve has been clipped to 15.625Hz.\n",
      "\n",
      "\n",
      "  warnings.warn('\\n\\nWARNING: The maximum window length ({}) is bigger than the DFT length ({}). Please, increase the DFT length of your spectral features (the second dimension) or check if the f0 curve has extremly low values and try to clip them to higher values (at least higher than 50Hz). The f0 curve has been clipped to {}Hz.\\n\\n'.format(winlenmax, dftlen, winnbper*fs/float(dftlen))) # pragma: no cover\n"
     ]
    },
    {
     "name": "stdout",
     "output_type": "stream",
     "text": [
      "    Forcing binary noise mask\n"
     ]
    },
    {
     "name": "stderr",
     "output_type": "stream",
     "text": [
      "/home/josh/workspace/tacotron/lib/pulsemodel/synthesis.py:119: UserWarning: \n",
      "\n",
      "WARNING: The maximum window length (63983) is bigger than the DFT length (4096). Please, increase the DFT length of your spectral features (the second dimension) or check if the f0 curve has extremly low values and try to clip them to higher values (at least higher than 50Hz). The f0 curve has been clipped to 15.625Hz.\n",
      "\n",
      "\n",
      "  warnings.warn('\\n\\nWARNING: The maximum window length ({}) is bigger than the DFT length ({}). Please, increase the DFT length of your spectral features (the second dimension) or check if the f0 curve has extremly low values and try to clip them to higher values (at least higher than 50Hz). The f0 curve has been clipped to {}Hz.\\n\\n'.format(winlenmax, dftlen, winnbper*fs/float(dftlen))) # pragma: no cover\n"
     ]
    },
    {
     "name": "stdout",
     "output_type": "stream",
     "text": [
      "    Forcing binary noise mask\n",
      "    Forcing binary noise mask\n"
     ]
    },
    {
     "name": "stderr",
     "output_type": "stream",
     "text": [
      "/home/josh/workspace/tacotron/lib/pulsemodel/synthesis.py:119: UserWarning: \n",
      "\n",
      "WARNING: The maximum window length (63991) is bigger than the DFT length (4096). Please, increase the DFT length of your spectral features (the second dimension) or check if the f0 curve has extremly low values and try to clip them to higher values (at least higher than 50Hz). The f0 curve has been clipped to 15.625Hz.\n",
      "\n",
      "\n",
      "  warnings.warn('\\n\\nWARNING: The maximum window length ({}) is bigger than the DFT length ({}). Please, increase the DFT length of your spectral features (the second dimension) or check if the f0 curve has extremly low values and try to clip them to higher values (at least higher than 50Hz). The f0 curve has been clipped to {}Hz.\\n\\n'.format(winlenmax, dftlen, winnbper*fs/float(dftlen))) # pragma: no cover\n"
     ]
    },
    {
     "name": "stdout",
     "output_type": "stream",
     "text": [
      "    Forcing binary noise mask\n"
     ]
    },
    {
     "name": "stderr",
     "output_type": "stream",
     "text": [
      "/home/josh/workspace/tacotron/lib/pulsemodel/synthesis.py:119: UserWarning: \n",
      "\n",
      "WARNING: The maximum window length (63999) is bigger than the DFT length (4096). Please, increase the DFT length of your spectral features (the second dimension) or check if the f0 curve has extremly low values and try to clip them to higher values (at least higher than 50Hz). The f0 curve has been clipped to 15.625Hz.\n",
      "\n",
      "\n",
      "  warnings.warn('\\n\\nWARNING: The maximum window length ({}) is bigger than the DFT length ({}). Please, increase the DFT length of your spectral features (the second dimension) or check if the f0 curve has extremly low values and try to clip them to higher values (at least higher than 50Hz). The f0 curve has been clipped to {}Hz.\\n\\n'.format(winlenmax, dftlen, winnbper*fs/float(dftlen))) # pragma: no cover\n"
     ]
    },
    {
     "name": "stdout",
     "output_type": "stream",
     "text": [
      "    Forcing binary noise mask\n",
      "    Forcing binary noise mask\n"
     ]
    },
    {
     "name": "stderr",
     "output_type": "stream",
     "text": [
      "/home/josh/workspace/tacotron/lib/pulsemodel/synthesis.py:119: UserWarning: \n",
      "\n",
      "WARNING: The maximum window length (63991) is bigger than the DFT length (4096). Please, increase the DFT length of your spectral features (the second dimension) or check if the f0 curve has extremly low values and try to clip them to higher values (at least higher than 50Hz). The f0 curve has been clipped to 15.625Hz.\n",
      "\n",
      "\n",
      "  warnings.warn('\\n\\nWARNING: The maximum window length ({}) is bigger than the DFT length ({}). Please, increase the DFT length of your spectral features (the second dimension) or check if the f0 curve has extremly low values and try to clip them to higher values (at least higher than 50Hz). The f0 curve has been clipped to {}Hz.\\n\\n'.format(winlenmax, dftlen, winnbper*fs/float(dftlen))) # pragma: no cover\n"
     ]
    },
    {
     "name": "stdout",
     "output_type": "stream",
     "text": [
      "    Forcing binary noise mask\n",
      "    Forcing binary noise mask\n"
     ]
    },
    {
     "name": "stderr",
     "output_type": "stream",
     "text": [
      "/home/josh/workspace/tacotron/lib/pulsemodel/synthesis.py:119: UserWarning: \n",
      "\n",
      "WARNING: The maximum window length (63999) is bigger than the DFT length (4096). Please, increase the DFT length of your spectral features (the second dimension) or check if the f0 curve has extremly low values and try to clip them to higher values (at least higher than 50Hz). The f0 curve has been clipped to 15.625Hz.\n",
      "\n",
      "\n",
      "  warnings.warn('\\n\\nWARNING: The maximum window length ({}) is bigger than the DFT length ({}). Please, increase the DFT length of your spectral features (the second dimension) or check if the f0 curve has extremly low values and try to clip them to higher values (at least higher than 50Hz). The f0 curve has been clipped to {}Hz.\\n\\n'.format(winlenmax, dftlen, winnbper*fs/float(dftlen))) # pragma: no cover\n"
     ]
    },
    {
     "name": "stdout",
     "output_type": "stream",
     "text": [
      "    Forcing binary noise mask\n"
     ]
    },
    {
     "name": "stderr",
     "output_type": "stream",
     "text": [
      "/home/josh/workspace/tacotron/lib/pulsemodel/synthesis.py:119: UserWarning: \n",
      "\n",
      "WARNING: The maximum window length (63983) is bigger than the DFT length (4096). Please, increase the DFT length of your spectral features (the second dimension) or check if the f0 curve has extremly low values and try to clip them to higher values (at least higher than 50Hz). The f0 curve has been clipped to 15.625Hz.\n",
      "\n",
      "\n",
      "  warnings.warn('\\n\\nWARNING: The maximum window length ({}) is bigger than the DFT length ({}). Please, increase the DFT length of your spectral features (the second dimension) or check if the f0 curve has extremly low values and try to clip them to higher values (at least higher than 50Hz). The f0 curve has been clipped to {}Hz.\\n\\n'.format(winlenmax, dftlen, winnbper*fs/float(dftlen))) # pragma: no cover\n"
     ]
    },
    {
     "name": "stdout",
     "output_type": "stream",
     "text": [
      "    Forcing binary noise mask\n"
     ]
    },
    {
     "name": "stderr",
     "output_type": "stream",
     "text": [
      "/home/josh/workspace/tacotron/lib/pulsemodel/synthesis.py:119: UserWarning: \n",
      "\n",
      "WARNING: The maximum window length (63999) is bigger than the DFT length (4096). Please, increase the DFT length of your spectral features (the second dimension) or check if the f0 curve has extremly low values and try to clip them to higher values (at least higher than 50Hz). The f0 curve has been clipped to 15.625Hz.\n",
      "\n",
      "\n",
      "  warnings.warn('\\n\\nWARNING: The maximum window length ({}) is bigger than the DFT length ({}). Please, increase the DFT length of your spectral features (the second dimension) or check if the f0 curve has extremly low values and try to clip them to higher values (at least higher than 50Hz). The f0 curve has been clipped to {}Hz.\\n\\n'.format(winlenmax, dftlen, winnbper*fs/float(dftlen))) # pragma: no cover\n"
     ]
    },
    {
     "name": "stdout",
     "output_type": "stream",
     "text": [
      "    Forcing binary noise mask\n"
     ]
    },
    {
     "name": "stderr",
     "output_type": "stream",
     "text": [
      "/home/josh/workspace/tacotron/lib/pulsemodel/synthesis.py:119: UserWarning: \n",
      "\n",
      "WARNING: The maximum window length (63999) is bigger than the DFT length (4096). Please, increase the DFT length of your spectral features (the second dimension) or check if the f0 curve has extremly low values and try to clip them to higher values (at least higher than 50Hz). The f0 curve has been clipped to 15.625Hz.\n",
      "\n",
      "\n",
      "  warnings.warn('\\n\\nWARNING: The maximum window length ({}) is bigger than the DFT length ({}). Please, increase the DFT length of your spectral features (the second dimension) or check if the f0 curve has extremly low values and try to clip them to higher values (at least higher than 50Hz). The f0 curve has been clipped to {}Hz.\\n\\n'.format(winlenmax, dftlen, winnbper*fs/float(dftlen))) # pragma: no cover\n"
     ]
    },
    {
     "name": "stdout",
     "output_type": "stream",
     "text": [
      "    Forcing binary noise mask\n"
     ]
    },
    {
     "name": "stderr",
     "output_type": "stream",
     "text": [
      "/home/josh/workspace/tacotron/lib/pulsemodel/synthesis.py:119: UserWarning: \n",
      "\n",
      "WARNING: The maximum window length (63991) is bigger than the DFT length (4096). Please, increase the DFT length of your spectral features (the second dimension) or check if the f0 curve has extremly low values and try to clip them to higher values (at least higher than 50Hz). The f0 curve has been clipped to 15.625Hz.\n",
      "\n",
      "\n",
      "  warnings.warn('\\n\\nWARNING: The maximum window length ({}) is bigger than the DFT length ({}). Please, increase the DFT length of your spectral features (the second dimension) or check if the f0 curve has extremly low values and try to clip them to higher values (at least higher than 50Hz). The f0 curve has been clipped to {}Hz.\\n\\n'.format(winlenmax, dftlen, winnbper*fs/float(dftlen))) # pragma: no cover\n"
     ]
    },
    {
     "name": "stdout",
     "output_type": "stream",
     "text": [
      "    Forcing binary noise mask\n",
      "    Forcing binary noise mask\n"
     ]
    },
    {
     "name": "stderr",
     "output_type": "stream",
     "text": [
      "/home/josh/workspace/tacotron/lib/pulsemodel/synthesis.py:119: UserWarning: \n",
      "\n",
      "WARNING: The maximum window length (63999) is bigger than the DFT length (4096). Please, increase the DFT length of your spectral features (the second dimension) or check if the f0 curve has extremly low values and try to clip them to higher values (at least higher than 50Hz). The f0 curve has been clipped to 15.625Hz.\n",
      "\n",
      "\n",
      "  warnings.warn('\\n\\nWARNING: The maximum window length ({}) is bigger than the DFT length ({}). Please, increase the DFT length of your spectral features (the second dimension) or check if the f0 curve has extremly low values and try to clip them to higher values (at least higher than 50Hz). The f0 curve has been clipped to {}Hz.\\n\\n'.format(winlenmax, dftlen, winnbper*fs/float(dftlen))) # pragma: no cover\n"
     ]
    },
    {
     "name": "stdout",
     "output_type": "stream",
     "text": [
      "    Forcing binary noise mask\n"
     ]
    },
    {
     "name": "stderr",
     "output_type": "stream",
     "text": [
      "/home/josh/workspace/tacotron/lib/pulsemodel/synthesis.py:119: UserWarning: \n",
      "\n",
      "WARNING: The maximum window length (63999) is bigger than the DFT length (4096). Please, increase the DFT length of your spectral features (the second dimension) or check if the f0 curve has extremly low values and try to clip them to higher values (at least higher than 50Hz). The f0 curve has been clipped to 15.625Hz.\n",
      "\n",
      "\n",
      "  warnings.warn('\\n\\nWARNING: The maximum window length ({}) is bigger than the DFT length ({}). Please, increase the DFT length of your spectral features (the second dimension) or check if the f0 curve has extremly low values and try to clip them to higher values (at least higher than 50Hz). The f0 curve has been clipped to {}Hz.\\n\\n'.format(winlenmax, dftlen, winnbper*fs/float(dftlen))) # pragma: no cover\n"
     ]
    },
    {
     "name": "stdout",
     "output_type": "stream",
     "text": [
      "    Forcing binary noise mask\n"
     ]
    },
    {
     "name": "stderr",
     "output_type": "stream",
     "text": [
      "/home/josh/workspace/tacotron/lib/pulsemodel/synthesis.py:119: UserWarning: \n",
      "\n",
      "WARNING: The maximum window length (63999) is bigger than the DFT length (4096). Please, increase the DFT length of your spectral features (the second dimension) or check if the f0 curve has extremly low values and try to clip them to higher values (at least higher than 50Hz). The f0 curve has been clipped to 15.625Hz.\n",
      "\n",
      "\n",
      "  warnings.warn('\\n\\nWARNING: The maximum window length ({}) is bigger than the DFT length ({}). Please, increase the DFT length of your spectral features (the second dimension) or check if the f0 curve has extremly low values and try to clip them to higher values (at least higher than 50Hz). The f0 curve has been clipped to {}Hz.\\n\\n'.format(winlenmax, dftlen, winnbper*fs/float(dftlen))) # pragma: no cover\n"
     ]
    },
    {
     "name": "stdout",
     "output_type": "stream",
     "text": [
      "    Forcing binary noise mask\n"
     ]
    },
    {
     "name": "stderr",
     "output_type": "stream",
     "text": [
      "/home/josh/workspace/tacotron/lib/pulsemodel/synthesis.py:119: UserWarning: \n",
      "\n",
      "WARNING: The maximum window length (63999) is bigger than the DFT length (4096). Please, increase the DFT length of your spectral features (the second dimension) or check if the f0 curve has extremly low values and try to clip them to higher values (at least higher than 50Hz). The f0 curve has been clipped to 15.625Hz.\n",
      "\n",
      "\n",
      "  warnings.warn('\\n\\nWARNING: The maximum window length ({}) is bigger than the DFT length ({}). Please, increase the DFT length of your spectral features (the second dimension) or check if the f0 curve has extremly low values and try to clip them to higher values (at least higher than 50Hz). The f0 curve has been clipped to {}Hz.\\n\\n'.format(winlenmax, dftlen, winnbper*fs/float(dftlen))) # pragma: no cover\n"
     ]
    },
    {
     "name": "stdout",
     "output_type": "stream",
     "text": [
      "    Forcing binary noise mask\n"
     ]
    },
    {
     "name": "stderr",
     "output_type": "stream",
     "text": [
      "/home/josh/workspace/tacotron/lib/pulsemodel/synthesis.py:119: UserWarning: \n",
      "\n",
      "WARNING: The maximum window length (63999) is bigger than the DFT length (4096). Please, increase the DFT length of your spectral features (the second dimension) or check if the f0 curve has extremly low values and try to clip them to higher values (at least higher than 50Hz). The f0 curve has been clipped to 15.625Hz.\n",
      "\n",
      "\n",
      "  warnings.warn('\\n\\nWARNING: The maximum window length ({}) is bigger than the DFT length ({}). Please, increase the DFT length of your spectral features (the second dimension) or check if the f0 curve has extremly low values and try to clip them to higher values (at least higher than 50Hz). The f0 curve has been clipped to {}Hz.\\n\\n'.format(winlenmax, dftlen, winnbper*fs/float(dftlen))) # pragma: no cover\n"
     ]
    },
    {
     "name": "stdout",
     "output_type": "stream",
     "text": [
      "    Forcing binary noise mask\n"
     ]
    },
    {
     "name": "stderr",
     "output_type": "stream",
     "text": [
      "/home/josh/workspace/tacotron/lib/pulsemodel/synthesis.py:119: UserWarning: \n",
      "\n",
      "WARNING: The maximum window length (63979) is bigger than the DFT length (4096). Please, increase the DFT length of your spectral features (the second dimension) or check if the f0 curve has extremly low values and try to clip them to higher values (at least higher than 50Hz). The f0 curve has been clipped to 15.625Hz.\n",
      "\n",
      "\n",
      "  warnings.warn('\\n\\nWARNING: The maximum window length ({}) is bigger than the DFT length ({}). Please, increase the DFT length of your spectral features (the second dimension) or check if the f0 curve has extremly low values and try to clip them to higher values (at least higher than 50Hz). The f0 curve has been clipped to {}Hz.\\n\\n'.format(winlenmax, dftlen, winnbper*fs/float(dftlen))) # pragma: no cover\n"
     ]
    },
    {
     "name": "stdout",
     "output_type": "stream",
     "text": [
      "    Forcing binary noise mask\n"
     ]
    },
    {
     "name": "stderr",
     "output_type": "stream",
     "text": [
      "/home/josh/workspace/tacotron/lib/pulsemodel/synthesis.py:119: UserWarning: \n",
      "\n",
      "WARNING: The maximum window length (63999) is bigger than the DFT length (4096). Please, increase the DFT length of your spectral features (the second dimension) or check if the f0 curve has extremly low values and try to clip them to higher values (at least higher than 50Hz). The f0 curve has been clipped to 15.625Hz.\n",
      "\n",
      "\n",
      "  warnings.warn('\\n\\nWARNING: The maximum window length ({}) is bigger than the DFT length ({}). Please, increase the DFT length of your spectral features (the second dimension) or check if the f0 curve has extremly low values and try to clip them to higher values (at least higher than 50Hz). The f0 curve has been clipped to {}Hz.\\n\\n'.format(winlenmax, dftlen, winnbper*fs/float(dftlen))) # pragma: no cover\n"
     ]
    },
    {
     "name": "stdout",
     "output_type": "stream",
     "text": [
      "    Forcing binary noise mask\n"
     ]
    },
    {
     "name": "stderr",
     "output_type": "stream",
     "text": [
      "/home/josh/workspace/tacotron/lib/pulsemodel/synthesis.py:119: UserWarning: \n",
      "\n",
      "WARNING: The maximum window length (63861) is bigger than the DFT length (4096). Please, increase the DFT length of your spectral features (the second dimension) or check if the f0 curve has extremly low values and try to clip them to higher values (at least higher than 50Hz). The f0 curve has been clipped to 15.625Hz.\n",
      "\n",
      "\n",
      "  warnings.warn('\\n\\nWARNING: The maximum window length ({}) is bigger than the DFT length ({}). Please, increase the DFT length of your spectral features (the second dimension) or check if the f0 curve has extremly low values and try to clip them to higher values (at least higher than 50Hz). The f0 curve has been clipped to {}Hz.\\n\\n'.format(winlenmax, dftlen, winnbper*fs/float(dftlen))) # pragma: no cover\n"
     ]
    },
    {
     "name": "stdout",
     "output_type": "stream",
     "text": [
      "    Forcing binary noise mask\n",
      "    Forcing binary noise mask\n"
     ]
    },
    {
     "name": "stderr",
     "output_type": "stream",
     "text": [
      "/home/josh/workspace/tacotron/lib/pulsemodel/synthesis.py:119: UserWarning: \n",
      "\n",
      "WARNING: The maximum window length (63999) is bigger than the DFT length (4096). Please, increase the DFT length of your spectral features (the second dimension) or check if the f0 curve has extremly low values and try to clip them to higher values (at least higher than 50Hz). The f0 curve has been clipped to 15.625Hz.\n",
      "\n",
      "\n",
      "  warnings.warn('\\n\\nWARNING: The maximum window length ({}) is bigger than the DFT length ({}). Please, increase the DFT length of your spectral features (the second dimension) or check if the f0 curve has extremly low values and try to clip them to higher values (at least higher than 50Hz). The f0 curve has been clipped to {}Hz.\\n\\n'.format(winlenmax, dftlen, winnbper*fs/float(dftlen))) # pragma: no cover\n"
     ]
    },
    {
     "name": "stdout",
     "output_type": "stream",
     "text": [
      "    Forcing binary noise mask\n",
      "    Forcing binary noise mask\n",
      "    Forcing binary noise mask\n"
     ]
    },
    {
     "name": "stderr",
     "output_type": "stream",
     "text": [
      "/home/josh/workspace/tacotron/lib/pulsemodel/synthesis.py:119: UserWarning: \n",
      "\n",
      "WARNING: The maximum window length (63761) is bigger than the DFT length (4096). Please, increase the DFT length of your spectral features (the second dimension) or check if the f0 curve has extremly low values and try to clip them to higher values (at least higher than 50Hz). The f0 curve has been clipped to 15.625Hz.\n",
      "\n",
      "\n",
      "  warnings.warn('\\n\\nWARNING: The maximum window length ({}) is bigger than the DFT length ({}). Please, increase the DFT length of your spectral features (the second dimension) or check if the f0 curve has extremly low values and try to clip them to higher values (at least higher than 50Hz). The f0 curve has been clipped to {}Hz.\\n\\n'.format(winlenmax, dftlen, winnbper*fs/float(dftlen))) # pragma: no cover\n"
     ]
    },
    {
     "name": "stdout",
     "output_type": "stream",
     "text": [
      "    Forcing binary noise mask\n"
     ]
    },
    {
     "name": "stderr",
     "output_type": "stream",
     "text": [
      "/home/josh/workspace/tacotron/lib/pulsemodel/synthesis.py:119: UserWarning: \n",
      "\n",
      "WARNING: The maximum window length (63999) is bigger than the DFT length (4096). Please, increase the DFT length of your spectral features (the second dimension) or check if the f0 curve has extremly low values and try to clip them to higher values (at least higher than 50Hz). The f0 curve has been clipped to 15.625Hz.\n",
      "\n",
      "\n",
      "  warnings.warn('\\n\\nWARNING: The maximum window length ({}) is bigger than the DFT length ({}). Please, increase the DFT length of your spectral features (the second dimension) or check if the f0 curve has extremly low values and try to clip them to higher values (at least higher than 50Hz). The f0 curve has been clipped to {}Hz.\\n\\n'.format(winlenmax, dftlen, winnbper*fs/float(dftlen))) # pragma: no cover\n"
     ]
    },
    {
     "name": "stdout",
     "output_type": "stream",
     "text": [
      "    Forcing binary noise mask\n",
      "    Forcing binary noise mask\n"
     ]
    },
    {
     "name": "stderr",
     "output_type": "stream",
     "text": [
      "/home/josh/workspace/tacotron/lib/pulsemodel/synthesis.py:119: UserWarning: \n",
      "\n",
      "WARNING: The maximum window length (63999) is bigger than the DFT length (4096). Please, increase the DFT length of your spectral features (the second dimension) or check if the f0 curve has extremly low values and try to clip them to higher values (at least higher than 50Hz). The f0 curve has been clipped to 15.625Hz.\n",
      "\n",
      "\n",
      "  warnings.warn('\\n\\nWARNING: The maximum window length ({}) is bigger than the DFT length ({}). Please, increase the DFT length of your spectral features (the second dimension) or check if the f0 curve has extremly low values and try to clip them to higher values (at least higher than 50Hz). The f0 curve has been clipped to {}Hz.\\n\\n'.format(winlenmax, dftlen, winnbper*fs/float(dftlen))) # pragma: no cover\n"
     ]
    },
    {
     "name": "stdout",
     "output_type": "stream",
     "text": [
      "    Forcing binary noise mask\n"
     ]
    },
    {
     "name": "stderr",
     "output_type": "stream",
     "text": [
      "/home/josh/workspace/tacotron/lib/pulsemodel/synthesis.py:119: UserWarning: \n",
      "\n",
      "WARNING: The maximum window length (63999) is bigger than the DFT length (4096). Please, increase the DFT length of your spectral features (the second dimension) or check if the f0 curve has extremly low values and try to clip them to higher values (at least higher than 50Hz). The f0 curve has been clipped to 15.625Hz.\n",
      "\n",
      "\n",
      "  warnings.warn('\\n\\nWARNING: The maximum window length ({}) is bigger than the DFT length ({}). Please, increase the DFT length of your spectral features (the second dimension) or check if the f0 curve has extremly low values and try to clip them to higher values (at least higher than 50Hz). The f0 curve has been clipped to {}Hz.\\n\\n'.format(winlenmax, dftlen, winnbper*fs/float(dftlen))) # pragma: no cover\n"
     ]
    },
    {
     "name": "stdout",
     "output_type": "stream",
     "text": [
      "    Forcing binary noise mask\n",
      "    Forcing binary noise mask\n",
      "    Forcing binary noise mask\n",
      "    Forcing binary noise mask\n"
     ]
    },
    {
     "name": "stderr",
     "output_type": "stream",
     "text": [
      "/home/josh/workspace/tacotron/lib/pulsemodel/synthesis.py:119: UserWarning: \n",
      "\n",
      "WARNING: The maximum window length (63999) is bigger than the DFT length (4096). Please, increase the DFT length of your spectral features (the second dimension) or check if the f0 curve has extremly low values and try to clip them to higher values (at least higher than 50Hz). The f0 curve has been clipped to 15.625Hz.\n",
      "\n",
      "\n",
      "  warnings.warn('\\n\\nWARNING: The maximum window length ({}) is bigger than the DFT length ({}). Please, increase the DFT length of your spectral features (the second dimension) or check if the f0 curve has extremly low values and try to clip them to higher values (at least higher than 50Hz). The f0 curve has been clipped to {}Hz.\\n\\n'.format(winlenmax, dftlen, winnbper*fs/float(dftlen))) # pragma: no cover\n"
     ]
    },
    {
     "name": "stdout",
     "output_type": "stream",
     "text": [
      "    Forcing binary noise mask\n"
     ]
    },
    {
     "name": "stderr",
     "output_type": "stream",
     "text": [
      "/home/josh/workspace/tacotron/lib/pulsemodel/synthesis.py:119: UserWarning: \n",
      "\n",
      "WARNING: The maximum window length (63937) is bigger than the DFT length (4096). Please, increase the DFT length of your spectral features (the second dimension) or check if the f0 curve has extremly low values and try to clip them to higher values (at least higher than 50Hz). The f0 curve has been clipped to 15.625Hz.\n",
      "\n",
      "\n",
      "  warnings.warn('\\n\\nWARNING: The maximum window length ({}) is bigger than the DFT length ({}). Please, increase the DFT length of your spectral features (the second dimension) or check if the f0 curve has extremly low values and try to clip them to higher values (at least higher than 50Hz). The f0 curve has been clipped to {}Hz.\\n\\n'.format(winlenmax, dftlen, winnbper*fs/float(dftlen))) # pragma: no cover\n"
     ]
    },
    {
     "name": "stdout",
     "output_type": "stream",
     "text": [
      "    Forcing binary noise mask\n"
     ]
    },
    {
     "name": "stderr",
     "output_type": "stream",
     "text": [
      "/home/josh/workspace/tacotron/lib/pulsemodel/synthesis.py:119: UserWarning: \n",
      "\n",
      "WARNING: The maximum window length (63999) is bigger than the DFT length (4096). Please, increase the DFT length of your spectral features (the second dimension) or check if the f0 curve has extremly low values and try to clip them to higher values (at least higher than 50Hz). The f0 curve has been clipped to 15.625Hz.\n",
      "\n",
      "\n",
      "  warnings.warn('\\n\\nWARNING: The maximum window length ({}) is bigger than the DFT length ({}). Please, increase the DFT length of your spectral features (the second dimension) or check if the f0 curve has extremly low values and try to clip them to higher values (at least higher than 50Hz). The f0 curve has been clipped to {}Hz.\\n\\n'.format(winlenmax, dftlen, winnbper*fs/float(dftlen))) # pragma: no cover\n"
     ]
    },
    {
     "name": "stdout",
     "output_type": "stream",
     "text": [
      "    Forcing binary noise mask\n"
     ]
    },
    {
     "name": "stderr",
     "output_type": "stream",
     "text": [
      "/home/josh/workspace/tacotron/lib/pulsemodel/synthesis.py:119: UserWarning: \n",
      "\n",
      "WARNING: The maximum window length (63989) is bigger than the DFT length (4096). Please, increase the DFT length of your spectral features (the second dimension) or check if the f0 curve has extremly low values and try to clip them to higher values (at least higher than 50Hz). The f0 curve has been clipped to 15.625Hz.\n",
      "\n",
      "\n",
      "  warnings.warn('\\n\\nWARNING: The maximum window length ({}) is bigger than the DFT length ({}). Please, increase the DFT length of your spectral features (the second dimension) or check if the f0 curve has extremly low values and try to clip them to higher values (at least higher than 50Hz). The f0 curve has been clipped to {}Hz.\\n\\n'.format(winlenmax, dftlen, winnbper*fs/float(dftlen))) # pragma: no cover\n"
     ]
    },
    {
     "name": "stdout",
     "output_type": "stream",
     "text": [
      "    Forcing binary noise mask\n"
     ]
    },
    {
     "name": "stderr",
     "output_type": "stream",
     "text": [
      "/home/josh/workspace/tacotron/lib/pulsemodel/synthesis.py:119: UserWarning: \n",
      "\n",
      "WARNING: The maximum window length (63971) is bigger than the DFT length (4096). Please, increase the DFT length of your spectral features (the second dimension) or check if the f0 curve has extremly low values and try to clip them to higher values (at least higher than 50Hz). The f0 curve has been clipped to 15.625Hz.\n",
      "\n",
      "\n",
      "  warnings.warn('\\n\\nWARNING: The maximum window length ({}) is bigger than the DFT length ({}). Please, increase the DFT length of your spectral features (the second dimension) or check if the f0 curve has extremly low values and try to clip them to higher values (at least higher than 50Hz). The f0 curve has been clipped to {}Hz.\\n\\n'.format(winlenmax, dftlen, winnbper*fs/float(dftlen))) # pragma: no cover\n"
     ]
    },
    {
     "name": "stdout",
     "output_type": "stream",
     "text": [
      "    Forcing binary noise mask\n"
     ]
    },
    {
     "name": "stderr",
     "output_type": "stream",
     "text": [
      "/home/josh/workspace/tacotron/lib/pulsemodel/synthesis.py:119: UserWarning: \n",
      "\n",
      "WARNING: The maximum window length (63999) is bigger than the DFT length (4096). Please, increase the DFT length of your spectral features (the second dimension) or check if the f0 curve has extremly low values and try to clip them to higher values (at least higher than 50Hz). The f0 curve has been clipped to 15.625Hz.\n",
      "\n",
      "\n",
      "  warnings.warn('\\n\\nWARNING: The maximum window length ({}) is bigger than the DFT length ({}). Please, increase the DFT length of your spectral features (the second dimension) or check if the f0 curve has extremly low values and try to clip them to higher values (at least higher than 50Hz). The f0 curve has been clipped to {}Hz.\\n\\n'.format(winlenmax, dftlen, winnbper*fs/float(dftlen))) # pragma: no cover\n"
     ]
    },
    {
     "name": "stdout",
     "output_type": "stream",
     "text": [
      "    Forcing binary noise mask\n"
     ]
    },
    {
     "name": "stderr",
     "output_type": "stream",
     "text": [
      "/home/josh/workspace/tacotron/lib/pulsemodel/synthesis.py:119: UserWarning: \n",
      "\n",
      "WARNING: The maximum window length (63999) is bigger than the DFT length (4096). Please, increase the DFT length of your spectral features (the second dimension) or check if the f0 curve has extremly low values and try to clip them to higher values (at least higher than 50Hz). The f0 curve has been clipped to 15.625Hz.\n",
      "\n",
      "\n",
      "  warnings.warn('\\n\\nWARNING: The maximum window length ({}) is bigger than the DFT length ({}). Please, increase the DFT length of your spectral features (the second dimension) or check if the f0 curve has extremly low values and try to clip them to higher values (at least higher than 50Hz). The f0 curve has been clipped to {}Hz.\\n\\n'.format(winlenmax, dftlen, winnbper*fs/float(dftlen))) # pragma: no cover\n"
     ]
    },
    {
     "name": "stdout",
     "output_type": "stream",
     "text": [
      "    Forcing binary noise mask\n",
      "    Forcing binary noise mask\n"
     ]
    },
    {
     "name": "stderr",
     "output_type": "stream",
     "text": [
      "/home/josh/workspace/tacotron/lib/pulsemodel/synthesis.py:119: UserWarning: \n",
      "\n",
      "WARNING: The maximum window length (63999) is bigger than the DFT length (4096). Please, increase the DFT length of your spectral features (the second dimension) or check if the f0 curve has extremly low values and try to clip them to higher values (at least higher than 50Hz). The f0 curve has been clipped to 15.625Hz.\n",
      "\n",
      "\n",
      "  warnings.warn('\\n\\nWARNING: The maximum window length ({}) is bigger than the DFT length ({}). Please, increase the DFT length of your spectral features (the second dimension) or check if the f0 curve has extremly low values and try to clip them to higher values (at least higher than 50Hz). The f0 curve has been clipped to {}Hz.\\n\\n'.format(winlenmax, dftlen, winnbper*fs/float(dftlen))) # pragma: no cover\n"
     ]
    },
    {
     "name": "stdout",
     "output_type": "stream",
     "text": [
      "    Forcing binary noise mask\n"
     ]
    },
    {
     "name": "stderr",
     "output_type": "stream",
     "text": [
      "/home/josh/workspace/tacotron/lib/pulsemodel/synthesis.py:119: UserWarning: \n",
      "\n",
      "WARNING: The maximum window length (63999) is bigger than the DFT length (4096). Please, increase the DFT length of your spectral features (the second dimension) or check if the f0 curve has extremly low values and try to clip them to higher values (at least higher than 50Hz). The f0 curve has been clipped to 15.625Hz.\n",
      "\n",
      "\n",
      "  warnings.warn('\\n\\nWARNING: The maximum window length ({}) is bigger than the DFT length ({}). Please, increase the DFT length of your spectral features (the second dimension) or check if the f0 curve has extremly low values and try to clip them to higher values (at least higher than 50Hz). The f0 curve has been clipped to {}Hz.\\n\\n'.format(winlenmax, dftlen, winnbper*fs/float(dftlen))) # pragma: no cover\n"
     ]
    },
    {
     "name": "stdout",
     "output_type": "stream",
     "text": [
      "    Forcing binary noise mask\n"
     ]
    },
    {
     "name": "stderr",
     "output_type": "stream",
     "text": [
      "/home/josh/workspace/tacotron/lib/pulsemodel/synthesis.py:119: UserWarning: \n",
      "\n",
      "WARNING: The maximum window length (63939) is bigger than the DFT length (4096). Please, increase the DFT length of your spectral features (the second dimension) or check if the f0 curve has extremly low values and try to clip them to higher values (at least higher than 50Hz). The f0 curve has been clipped to 15.625Hz.\n",
      "\n",
      "\n",
      "  warnings.warn('\\n\\nWARNING: The maximum window length ({}) is bigger than the DFT length ({}). Please, increase the DFT length of your spectral features (the second dimension) or check if the f0 curve has extremly low values and try to clip them to higher values (at least higher than 50Hz). The f0 curve has been clipped to {}Hz.\\n\\n'.format(winlenmax, dftlen, winnbper*fs/float(dftlen))) # pragma: no cover\n"
     ]
    },
    {
     "name": "stdout",
     "output_type": "stream",
     "text": [
      "    Forcing binary noise mask\n"
     ]
    },
    {
     "name": "stderr",
     "output_type": "stream",
     "text": [
      "/home/josh/workspace/tacotron/lib/pulsemodel/synthesis.py:119: UserWarning: \n",
      "\n",
      "WARNING: The maximum window length (63955) is bigger than the DFT length (4096). Please, increase the DFT length of your spectral features (the second dimension) or check if the f0 curve has extremly low values and try to clip them to higher values (at least higher than 50Hz). The f0 curve has been clipped to 15.625Hz.\n",
      "\n",
      "\n",
      "  warnings.warn('\\n\\nWARNING: The maximum window length ({}) is bigger than the DFT length ({}). Please, increase the DFT length of your spectral features (the second dimension) or check if the f0 curve has extremly low values and try to clip them to higher values (at least higher than 50Hz). The f0 curve has been clipped to {}Hz.\\n\\n'.format(winlenmax, dftlen, winnbper*fs/float(dftlen))) # pragma: no cover\n"
     ]
    },
    {
     "name": "stdout",
     "output_type": "stream",
     "text": [
      "    Forcing binary noise mask\n"
     ]
    },
    {
     "name": "stderr",
     "output_type": "stream",
     "text": [
      "/home/josh/workspace/tacotron/lib/pulsemodel/synthesis.py:119: UserWarning: \n",
      "\n",
      "WARNING: The maximum window length (63997) is bigger than the DFT length (4096). Please, increase the DFT length of your spectral features (the second dimension) or check if the f0 curve has extremly low values and try to clip them to higher values (at least higher than 50Hz). The f0 curve has been clipped to 15.625Hz.\n",
      "\n",
      "\n",
      "  warnings.warn('\\n\\nWARNING: The maximum window length ({}) is bigger than the DFT length ({}). Please, increase the DFT length of your spectral features (the second dimension) or check if the f0 curve has extremly low values and try to clip them to higher values (at least higher than 50Hz). The f0 curve has been clipped to {}Hz.\\n\\n'.format(winlenmax, dftlen, winnbper*fs/float(dftlen))) # pragma: no cover\n"
     ]
    },
    {
     "name": "stdout",
     "output_type": "stream",
     "text": [
      "    Forcing binary noise mask\n"
     ]
    },
    {
     "name": "stderr",
     "output_type": "stream",
     "text": [
      "/home/josh/workspace/tacotron/lib/pulsemodel/synthesis.py:119: UserWarning: \n",
      "\n",
      "WARNING: The maximum window length (63999) is bigger than the DFT length (4096). Please, increase the DFT length of your spectral features (the second dimension) or check if the f0 curve has extremly low values and try to clip them to higher values (at least higher than 50Hz). The f0 curve has been clipped to 15.625Hz.\n",
      "\n",
      "\n",
      "  warnings.warn('\\n\\nWARNING: The maximum window length ({}) is bigger than the DFT length ({}). Please, increase the DFT length of your spectral features (the second dimension) or check if the f0 curve has extremly low values and try to clip them to higher values (at least higher than 50Hz). The f0 curve has been clipped to {}Hz.\\n\\n'.format(winlenmax, dftlen, winnbper*fs/float(dftlen))) # pragma: no cover\n"
     ]
    },
    {
     "name": "stdout",
     "output_type": "stream",
     "text": [
      "    Forcing binary noise mask\n"
     ]
    },
    {
     "name": "stderr",
     "output_type": "stream",
     "text": [
      "/home/josh/workspace/tacotron/lib/pulsemodel/synthesis.py:119: UserWarning: \n",
      "\n",
      "WARNING: The maximum window length (63999) is bigger than the DFT length (4096). Please, increase the DFT length of your spectral features (the second dimension) or check if the f0 curve has extremly low values and try to clip them to higher values (at least higher than 50Hz). The f0 curve has been clipped to 15.625Hz.\n",
      "\n",
      "\n",
      "  warnings.warn('\\n\\nWARNING: The maximum window length ({}) is bigger than the DFT length ({}). Please, increase the DFT length of your spectral features (the second dimension) or check if the f0 curve has extremly low values and try to clip them to higher values (at least higher than 50Hz). The f0 curve has been clipped to {}Hz.\\n\\n'.format(winlenmax, dftlen, winnbper*fs/float(dftlen))) # pragma: no cover\n"
     ]
    },
    {
     "name": "stdout",
     "output_type": "stream",
     "text": [
      "    Forcing binary noise mask\n"
     ]
    },
    {
     "name": "stderr",
     "output_type": "stream",
     "text": [
      "/home/josh/workspace/tacotron/lib/pulsemodel/synthesis.py:119: UserWarning: \n",
      "\n",
      "WARNING: The maximum window length (63999) is bigger than the DFT length (4096). Please, increase the DFT length of your spectral features (the second dimension) or check if the f0 curve has extremly low values and try to clip them to higher values (at least higher than 50Hz). The f0 curve has been clipped to 15.625Hz.\n",
      "\n",
      "\n",
      "  warnings.warn('\\n\\nWARNING: The maximum window length ({}) is bigger than the DFT length ({}). Please, increase the DFT length of your spectral features (the second dimension) or check if the f0 curve has extremly low values and try to clip them to higher values (at least higher than 50Hz). The f0 curve has been clipped to {}Hz.\\n\\n'.format(winlenmax, dftlen, winnbper*fs/float(dftlen))) # pragma: no cover\n"
     ]
    },
    {
     "name": "stdout",
     "output_type": "stream",
     "text": [
      "    Forcing binary noise mask\n"
     ]
    },
    {
     "name": "stderr",
     "output_type": "stream",
     "text": [
      "/home/josh/workspace/tacotron/lib/pulsemodel/synthesis.py:119: UserWarning: \n",
      "\n",
      "WARNING: The maximum window length (63999) is bigger than the DFT length (4096). Please, increase the DFT length of your spectral features (the second dimension) or check if the f0 curve has extremly low values and try to clip them to higher values (at least higher than 50Hz). The f0 curve has been clipped to 15.625Hz.\n",
      "\n",
      "\n",
      "  warnings.warn('\\n\\nWARNING: The maximum window length ({}) is bigger than the DFT length ({}). Please, increase the DFT length of your spectral features (the second dimension) or check if the f0 curve has extremly low values and try to clip them to higher values (at least higher than 50Hz). The f0 curve has been clipped to {}Hz.\\n\\n'.format(winlenmax, dftlen, winnbper*fs/float(dftlen))) # pragma: no cover\n"
     ]
    },
    {
     "name": "stdout",
     "output_type": "stream",
     "text": [
      "    Forcing binary noise mask\n"
     ]
    },
    {
     "name": "stderr",
     "output_type": "stream",
     "text": [
      "/home/josh/workspace/tacotron/lib/pulsemodel/synthesis.py:119: UserWarning: \n",
      "\n",
      "WARNING: The maximum window length (63999) is bigger than the DFT length (4096). Please, increase the DFT length of your spectral features (the second dimension) or check if the f0 curve has extremly low values and try to clip them to higher values (at least higher than 50Hz). The f0 curve has been clipped to 15.625Hz.\n",
      "\n",
      "\n",
      "  warnings.warn('\\n\\nWARNING: The maximum window length ({}) is bigger than the DFT length ({}). Please, increase the DFT length of your spectral features (the second dimension) or check if the f0 curve has extremly low values and try to clip them to higher values (at least higher than 50Hz). The f0 curve has been clipped to {}Hz.\\n\\n'.format(winlenmax, dftlen, winnbper*fs/float(dftlen))) # pragma: no cover\n"
     ]
    },
    {
     "name": "stdout",
     "output_type": "stream",
     "text": [
      "    Forcing binary noise mask\n",
      "    Forcing binary noise mask\n"
     ]
    },
    {
     "name": "stderr",
     "output_type": "stream",
     "text": [
      "/home/josh/workspace/tacotron/lib/pulsemodel/synthesis.py:119: UserWarning: \n",
      "\n",
      "WARNING: The maximum window length (63995) is bigger than the DFT length (4096). Please, increase the DFT length of your spectral features (the second dimension) or check if the f0 curve has extremly low values and try to clip them to higher values (at least higher than 50Hz). The f0 curve has been clipped to 15.625Hz.\n",
      "\n",
      "\n",
      "  warnings.warn('\\n\\nWARNING: The maximum window length ({}) is bigger than the DFT length ({}). Please, increase the DFT length of your spectral features (the second dimension) or check if the f0 curve has extremly low values and try to clip them to higher values (at least higher than 50Hz). The f0 curve has been clipped to {}Hz.\\n\\n'.format(winlenmax, dftlen, winnbper*fs/float(dftlen))) # pragma: no cover\n"
     ]
    },
    {
     "name": "stdout",
     "output_type": "stream",
     "text": [
      "    Forcing binary noise mask\n"
     ]
    },
    {
     "name": "stderr",
     "output_type": "stream",
     "text": [
      "/home/josh/workspace/tacotron/lib/pulsemodel/synthesis.py:119: UserWarning: \n",
      "\n",
      "WARNING: The maximum window length (63995) is bigger than the DFT length (4096). Please, increase the DFT length of your spectral features (the second dimension) or check if the f0 curve has extremly low values and try to clip them to higher values (at least higher than 50Hz). The f0 curve has been clipped to 15.625Hz.\n",
      "\n",
      "\n",
      "  warnings.warn('\\n\\nWARNING: The maximum window length ({}) is bigger than the DFT length ({}). Please, increase the DFT length of your spectral features (the second dimension) or check if the f0 curve has extremly low values and try to clip them to higher values (at least higher than 50Hz). The f0 curve has been clipped to {}Hz.\\n\\n'.format(winlenmax, dftlen, winnbper*fs/float(dftlen))) # pragma: no cover\n"
     ]
    },
    {
     "name": "stdout",
     "output_type": "stream",
     "text": [
      "    Forcing binary noise mask\n"
     ]
    },
    {
     "name": "stderr",
     "output_type": "stream",
     "text": [
      "/home/josh/workspace/tacotron/lib/pulsemodel/synthesis.py:119: UserWarning: \n",
      "\n",
      "WARNING: The maximum window length (63981) is bigger than the DFT length (4096). Please, increase the DFT length of your spectral features (the second dimension) or check if the f0 curve has extremly low values and try to clip them to higher values (at least higher than 50Hz). The f0 curve has been clipped to 15.625Hz.\n",
      "\n",
      "\n",
      "  warnings.warn('\\n\\nWARNING: The maximum window length ({}) is bigger than the DFT length ({}). Please, increase the DFT length of your spectral features (the second dimension) or check if the f0 curve has extremly low values and try to clip them to higher values (at least higher than 50Hz). The f0 curve has been clipped to {}Hz.\\n\\n'.format(winlenmax, dftlen, winnbper*fs/float(dftlen))) # pragma: no cover\n"
     ]
    },
    {
     "name": "stdout",
     "output_type": "stream",
     "text": [
      "    Forcing binary noise mask\n",
      "\n"
     ]
    }
   ],
   "source": [
    "from util import audio\n",
    "\n",
    "# reset the graph before we do anything\n",
    "tf.reset_default_graph()\n",
    "cfg = Configuration(16000, 86)\n",
    "pml_synth = PMLSynthesizer(cfg)\n",
    "hparams.parse('sample_rate=16000,frame_length_ms=20,frame_shift_ms=5,pml_dimension=86,spec_type=mcep')\n",
    "pml_synth.load('/media/josh/Store/remote-logs/tacotron-lj-pml-500k/model.ckpt-352000', hparams, model_name='tacotron_pml')\n",
    "wavs = []\n",
    "\n",
    "for i in tqdm(np.arange(0, len(texts), 10)):\n",
    "    wavs += pml_synth.synthesize(texts[i:i+10], to_wav=True, num_workers=5)"
   ]
  },
  {
   "cell_type": "code",
   "execution_count": 77,
   "metadata": {},
   "outputs": [
    {
     "data": {
      "application/vnd.jupyter.widget-view+json": {
       "model_id": "5d70b60814804d95b0ac9fa574a1362a",
       "version_major": 2,
       "version_minor": 0
      },
      "text/plain": [
       "HBox(children=(IntProgress(value=0, max=150), HTML(value='')))"
      ]
     },
     "metadata": {},
     "output_type": "display_data"
    },
    {
     "name": "stdout",
     "output_type": "stream",
     "text": [
      "\n"
     ]
    }
   ],
   "source": [
    "from util import audio\n",
    "from lib import sigproc as sp\n",
    "\n",
    "taco_pml_dir = 'taco_pml_352k'\n",
    "os.makedirs(os.path.join(training_data_dir, taco_pml_dir), exist_ok=True)\n",
    "taco_pml_wavs = wavs\n",
    "\n",
    "for i, wav in enumerate(tqdm(taco_pml_wavs)):\n",
    "    wav = wav[:audio.find_endpoint(wav, threshold_db=-60)]\n",
    "    sp.wavwrite(os.path.join(training_data_dir, taco_pml_dir, wav_files[i]), wav, 16000, norm_max_ifneeded=True)"
   ]
  },
  {
   "cell_type": "code",
   "execution_count": 89,
   "metadata": {},
   "outputs": [],
   "source": [
    "from python_speech_features import mfcc\n",
    "\n",
    "def mcd(set_1, set_2, sr_1=16000, sr_2=16000):\n",
    "    error = 0.0\n",
    "    wav_set_size = len(set_1)\n",
    "\n",
    "    for i in range(wav_set_size):\n",
    "        wav_1 = set_1[i]\n",
    "        wav_2 = set_2[i]\n",
    "        \n",
    "        mfcc_1 = mfcc(wav_1, sr_1)\n",
    "        mfcc_2 = mfcc(wav_2, sr_2)\n",
    "\n",
    "        cutoff = min(len(mfcc_1), len(mfcc_2))\n",
    "        sum_cepstral_error = np.sum(np.square(mfcc_1[:cutoff] - mfcc_2[:cutoff]), axis=1)\n",
    "        error += np.mean(np.sqrt(sum_cepstral_error))\n",
    "\n",
    "    error = np.sqrt(error / wav_set_size)\n",
    "    return error"
   ]
  },
  {
   "cell_type": "code",
   "execution_count": 78,
   "metadata": {},
   "outputs": [
    {
     "data": {
      "application/vnd.jupyter.widget-view+json": {
       "model_id": "e7ddab32697c4e2b90202e60c085c653",
       "version_major": 2,
       "version_minor": 0
      },
      "text/plain": [
       "HBox(children=(IntProgress(value=0, max=150), HTML(value='')))"
      ]
     },
     "metadata": {},
     "output_type": "display_data"
    },
    {
     "name": "stdout",
     "output_type": "stream",
     "text": [
      "\n"
     ]
    }
   ],
   "source": [
    "from util import audio\n",
    "from lib import sigproc as sp\n",
    "import librosa\n",
    "\n",
    "gt_wavs = []\n",
    "analysis_synthesis_wavs = []\n",
    "\n",
    "for wav_file in tqdm(wav_files):\n",
    "    gt_wav_path = os.path.join(training_data_dir, 'wavs', wav_file)\n",
    "    gt_wav = audio.load_wav(gt_wav_path)\n",
    "    gt_wav = librosa.core.resample(gt_wav, orig_sr=22050, target_sr=16000)\n",
    "    gt_wavs.append(gt_wav)\n",
    "    \n",
    "    as_wav_path = os.path.join(training_data_dir, 'analysis_synthesis', wav_file)\n",
    "    as_wav = audio.load_wav(as_wav_path)\n",
    "    analysis_synthesis_wavs.append(as_wav)"
   ]
  },
  {
   "cell_type": "code",
   "execution_count": 90,
   "metadata": {},
   "outputs": [
    {
     "data": {
      "text/plain": [
       "8.860778378099106"
      ]
     },
     "execution_count": 90,
     "metadata": {},
     "output_type": "execute_result"
    }
   ],
   "source": [
    "mcd(gt_wavs, analysis_synthesis_wavs)"
   ]
  },
  {
   "cell_type": "code",
   "execution_count": 81,
   "metadata": {},
   "outputs": [
    {
     "data": {
      "text/plain": [
       "0.13715340715820898"
      ]
     },
     "execution_count": 81,
     "metadata": {},
     "output_type": "execute_result"
    }
   ],
   "source": [
    "rmse(gt_wavs, analysis_synthesis_wavs)"
   ]
  },
  {
   "cell_type": "code",
   "execution_count": 91,
   "metadata": {},
   "outputs": [
    {
     "data": {
      "text/plain": [
       "8.638511408199024"
      ]
     },
     "execution_count": 91,
     "metadata": {},
     "output_type": "execute_result"
    }
   ],
   "source": [
    "mcd(gt_wavs, taco_pml_wavs)"
   ]
  },
  {
   "cell_type": "code",
   "execution_count": 82,
   "metadata": {},
   "outputs": [
    {
     "data": {
      "text/plain": [
       "0.1322246914427853"
      ]
     },
     "execution_count": 82,
     "metadata": {},
     "output_type": "execute_result"
    }
   ],
   "source": [
    "rmse(gt_wavs, taco_pml_wavs)"
   ]
  }
 ],
 "metadata": {
  "kernelspec": {
   "display_name": "Python 3",
   "language": "python",
   "name": "python3"
  },
  "language_info": {
   "codemirror_mode": {
    "name": "ipython",
    "version": 3
   },
   "file_extension": ".py",
   "mimetype": "text/x-python",
   "name": "python",
   "nbconvert_exporter": "python",
   "pygments_lexer": "ipython3",
   "version": "3.6.8"
  }
 },
 "nbformat": 4,
 "nbformat_minor": 2
}
