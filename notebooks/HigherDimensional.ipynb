{
 "cells": [
  {
   "cell_type": "code",
   "execution_count": 4,
   "metadata": {},
   "outputs": [],
   "source": [
    "import sys\n",
    "import os\n",
    "sys.path.append(os.path.expanduser('~/workspace/tacotron/'))\n",
    "\n",
    "import argparse\n",
    "from hparams import hparams\n",
    "import matplotlib.pyplot as plt\n",
    "import matplotlib.patches as mpatches\n",
    "from matplotlib import cm\n",
    "from matplotlib.colors import ListedColormap\n",
    "import numpy as np\n",
    "from PIL import Image\n",
    "from tacotron.alignment_synthesizer import AlignmentSynthesizer\n",
    "from tacotron.pml_synthesizer import Configuration, PMLSynthesizer\n",
    "import tensorflow as tf"
   ]
  },
  {
   "cell_type": "code",
   "execution_count": 16,
   "metadata": {},
   "outputs": [
    {
     "name": "stdout",
     "output_type": "stream",
     "text": [
      "Loaded metadata for 150 examples (0.27 hours)\n"
     ]
    }
   ],
   "source": [
    "training_data_dir = '/media/josh/Store/tacotron-data/163-lj-training'\n",
    "metadata_filename = os.path.join(training_data_dir, 'test.txt')\n",
    "\n",
    "cfg = Configuration(16000, 86)\n",
    "synth = PMLSynthesizer(cfg)\n",
    "# synth.load(checkpoint_path, hparams, gta=gta, model_name=args.variant)\n",
    "\n",
    "with open(metadata_filename, encoding='utf-8') as f:\n",
    "    metadata = [line.strip().split('|') for line in f]\n",
    "    hours = sum((int(x[2]) for x in metadata)) * hparams.frame_shift_ms / (3600 * 1000)\n",
    "    print('Loaded metadata for %d examples (%.2f hours)' % (len(metadata), hours))\n",
    "    \n",
    "pml_features = [m[3] for m in metadata]\n",
    "texts = [m[5] for m in metadata]\n",
    "wav_files = [m[6] for m in metadata]"
   ]
  },
  {
   "cell_type": "code",
   "execution_count": 17,
   "metadata": {},
   "outputs": [
    {
     "data": {
      "text/plain": [
       "'./HigherDimensional/analysis_synthesis_163.wav'"
      ]
     },
     "execution_count": 17,
     "metadata": {},
     "output_type": "execute_result"
    }
   ],
   "source": [
    "import shutil\n",
    "shutil.copyfile(os.path.join(training_data_dir, 'analysis_synthesis_163', wav_files[TARGET_INDEX]), './HigherDimensional/analysis_synthesis_163.wav')"
   ]
  },
  {
   "cell_type": "code",
   "execution_count": 10,
   "metadata": {},
   "outputs": [
    {
     "data": {
      "text/plain": [
       "'Also the Department requests the sum of one hundred thousand dollars to conduct a detailed feasibility study;'"
      ]
     },
     "execution_count": 10,
     "metadata": {},
     "output_type": "execute_result"
    }
   ],
   "source": [
    "FIGSIZE = (10, 6)\n",
    "TARGET_INDEX = 26\n",
    "texts[TARGET_INDEX]"
   ]
  },
  {
   "cell_type": "code",
   "execution_count": 5,
   "metadata": {},
   "outputs": [],
   "source": [
    "def show_alignment(alignment, label, ax, cmap=cm.cool, cutoff=220, scale_factor=1, norm=False):\n",
    "    # normalise the alignment to scale from 0 to 1\n",
    "    if norm:\n",
    "        alignment = alignment / np.max(alignment)\n",
    "    \n",
    "    # set the background of the axis to black\n",
    "    ax.set_facecolor('xkcd:black')\n",
    "    \n",
    "    cool = cmap(np.arange(cmap.N))\n",
    "    # Set alpha\n",
    "    cool[:, -1] = np.linspace(0, 1, cmap.N)\n",
    "    # Create new colormap\n",
    "    cool = ListedColormap(cool)\n",
    "    # generate the image\n",
    "    im_obj = Image.fromarray(np.uint8(cool(alignment) * 255))\n",
    "    height, width = alignment.shape\n",
    "    im_obj = im_obj.resize((round(width * scale_factor), height))\n",
    "    im_obj = np.array(im_obj)[:, :cutoff]\n",
    "    \n",
    "    im = ax.imshow(\n",
    "        im_obj / 255,\n",
    "        cmap=cmap,\n",
    "        aspect='auto',\n",
    "        origin='lower',\n",
    "        interpolation='none')\n",
    "    \n",
    "    patch = mpatches.Patch(color=cool(0.8), label=label)\n",
    "    \n",
    "    xstep = 50\n",
    "    outputs_per_step = 5\n",
    "    frame_shift = 0.005\n",
    "    plt.xticks(np.arange(0, 250, step=xstep),\n",
    "               np.arange(0, 250 * frame_shift * outputs_per_step, step=frame_shift * outputs_per_step * xstep))\n",
    "    plt.xlabel('Decoder Time (s)')\n",
    "    plt.ylabel('Encoder Step (character index)')\n",
    "    plt.tight_layout()\n",
    "    \n",
    "    return im, patch"
   ]
  },
  {
   "cell_type": "code",
   "execution_count": 11,
   "metadata": {},
   "outputs": [],
   "source": [
    "fixed_sentence = texts[TARGET_INDEX]"
   ]
  },
  {
   "cell_type": "code",
   "execution_count": 6,
   "metadata": {},
   "outputs": [
    {
     "name": "stdout",
     "output_type": "stream",
     "text": [
      "Constructing model: tacotron_pml\n",
      "Initialized Tacotron model. Dimensions: \n",
      "  embedding:               256\n",
      "  prenet out:              128\n",
      "  encoder out:             256\n",
      "  attention out:           256\n",
      "  concat attn & out:       512\n",
      "  decoder cell out:        256\n",
      "  decoder out (5 frames):  430\n",
      "  decoder out (1 frame):   86\n",
      "Loading checkpoint: /media/josh/Store/remote-logs/tacotron-lj-pml-500k/model.ckpt-352000\n",
      "INFO:tensorflow:Restoring parameters from /media/josh/Store/remote-logs/tacotron-lj-pml-500k/model.ckpt-352000\n",
      "Constructing model: tacotron_orig\n",
      "Initialized Tacotron model. Dimensions: \n",
      "  embedding:               256\n",
      "  prenet out:              128\n",
      "  encoder out:             256\n",
      "  attention out:           256\n",
      "  concat attn & out:       512\n",
      "  decoder cell out:        256\n",
      "  decoder out (5 frames):  400\n",
      "  decoder out (1 frame):   80\n",
      "  postnet out:             256\n",
      "  linear out:              1025\n",
      "Loading checkpoint: /media/josh/Store/remote-logs/tacotron-lj-500k/model.ckpt-195000\n",
      "INFO:tensorflow:Restoring parameters from /media/josh/Store/remote-logs/tacotron-lj-500k/model.ckpt-195000\n"
     ]
    }
   ],
   "source": [
    "# reset the graph before we do anything\n",
    "tf.reset_default_graph()\n",
    "hparams.parse('sample_rate=16000,frame_length_ms=20,frame_shift_ms=5,pml_dimension=86,spec_type=mcep')\n",
    "synth = AlignmentSynthesizer()\n",
    "synth.load('/media/josh/Store/remote-logs/tacotron-lj-pml-500k/model.ckpt-352000', hparams, model_name='tacotron_pml', locked_alignments=None)\n",
    "first_alignment = synth.synthesize(fixed_sentence)  # of shape (encoder_steps, decoder_steps)\n",
    "\n",
    "# reset the graph after the first synthesise call\n",
    "tf.reset_default_graph()\n",
    "synth.load('/media/josh/Store/remote-logs/tacotron-lj-500k/model.ckpt-195000', hparams, model_name='tacotron_orig', locked_alignments=None)\n",
    "second_alignment = synth.synthesize(fixed_sentence)"
   ]
  },
  {
   "cell_type": "code",
   "execution_count": 7,
   "metadata": {},
   "outputs": [
    {
     "name": "stdout",
     "output_type": "stream",
     "text": [
      "Constructing model: tacotron\n",
      "Initialized Tacotron model. Dimensions: \n",
      "  Train mode:              False\n",
      "  GTA mode:                False\n",
      "  Embedding:               256\n",
      "  Prenet out:              128\n",
      "  Encoder out:             256\n",
      "  Attention out:           256\n",
      "  Concat attn & out:       512\n",
      "  Decoder cell out:        256\n",
      "  Decoder out (5 frames):  815\n",
      "  Decoder out (1 frame):   163\n",
      "  Postnet out:             256\n",
      "  PML out:                 163\n",
      "Loading checkpoint: /media/josh/Store/remote-logs/163-pmlx-lj-150k/model.ckpt-112000\n",
      "INFO:tensorflow:Restoring parameters from /media/josh/Store/remote-logs/163-pmlx-lj-150k/model.ckpt-112000\n"
     ]
    }
   ],
   "source": [
    "# reset the graph after the second synthesise call\n",
    "tf.reset_default_graph()\n",
    "hparams.parse('sample_rate=16000,frame_length_ms=20,frame_shift_ms=5,pml_dimension=163,spec_type=fwbnd')\n",
    "synth.load('/media/josh/Store/remote-logs/163-pmlx-lj-150k/model.ckpt-112000', hparams, model_name='tacotron', locked_alignments=None)\n",
    "third_alignment = synth.synthesize(fixed_sentence)"
   ]
  },
  {
   "cell_type": "code",
   "execution_count": 11,
   "metadata": {},
   "outputs": [
    {
     "name": "stdout",
     "output_type": "stream",
     "text": [
      "Constructing model: tacotron_pml_x\n",
      "Initialized Tacotron model. Dimensions: \n",
      "  embedding:               256\n",
      "  prenet out:              128\n",
      "  encoder out:             256\n",
      "  attention out:           256\n",
      "  concat attn & out:       512\n",
      "  decoder cell out:        256\n",
      "  decoder out (5 frames):  430\n",
      "  decoder out (1 frame):   86\n",
      "  postnet out:             256\n",
      "  pml out:                 86\n",
      "Loading checkpoint: /media/josh/Store/remote-logs/pmlx-lj-500k/model.ckpt-131000\n",
      "INFO:tensorflow:Restoring parameters from /media/josh/Store/remote-logs/pmlx-lj-500k/model.ckpt-131000\n"
     ]
    }
   ],
   "source": [
    "# reset the graph before we do anything\n",
    "tf.reset_default_graph()\n",
    "synth = AlignmentSynthesizer()\n",
    "hparams.parse('sample_rate=16000,frame_length_ms=20,frame_shift_ms=5,pml_dimension=86,spec_type=mcep')\n",
    "synth.load('/media/josh/Store/remote-logs/pmlx-lj-500k/model.ckpt-131000', hparams, model_name='tacotron_pml_x', locked_alignments=None)\n",
    "pmlx_alignment = synth.synthesize(fixed_sentence)  # of shape (encoder_steps, decoder_steps)"
   ]
  },
  {
   "cell_type": "code",
   "execution_count": 29,
   "metadata": {},
   "outputs": [
    {
     "data": {
      "image/png": "[encoded data removed]",
      "text/plain": [
       "<Figure size 720x432 with 1 Axes>"
      ]
     },
     "metadata": {
      "needs_background": "light"
     },
     "output_type": "display_data"
    }
   ],
   "source": [
    "fig, ax = plt.subplots(figsize=FIGSIZE)\n",
    "\n",
    "# _, taco_pml_patch = show_alignment(first_alignment, 'Tacotron PML Alignment', ax)\n",
    "# _, taco_patch = show_alignment(second_alignment, 'Tacotron Alignment', ax, cmap=cm.Wistia, scale_factor=12.5 / 5)\n",
    "_, taco_higher_patch = show_alignment(third_alignment, 'Prediction Network with 163D Target and Location-Sensitive Attention Alignment', ax, cmap=cm.hot)\n",
    "_, taco_pmlx_patch = show_alignment(pmlx_alignment, 'Prediction Network with Content-Based Attention Alignment', ax, cmap=cm.cool)\n",
    "ax.legend(handles=[taco_higher_patch, taco_pmlx_patch], loc='upper left')\n",
    "\n",
    "plt.savefig('./HigherDimensional/HighDimensionAlignment.png', dpi=600)\n",
    "plt.show()"
   ]
  },
  {
   "cell_type": "code",
   "execution_count": 30,
   "metadata": {},
   "outputs": [
    {
     "data": {
      "image/png": "[encoded data removed]",
      "text/plain": [
       "<Figure size 720x432 with 1 Axes>"
      ]
     },
     "metadata": {
      "needs_background": "light"
     },
     "output_type": "display_data"
    }
   ],
   "source": [
    "fig, ax = plt.subplots(figsize=FIGSIZE)\n",
    "\n",
    "# _, taco_pml_patch = show_alignment(first_alignment, 'Tacotron PML Alignment', ax)\n",
    "_, taco_patch = show_alignment(second_alignment, 'Tacotron Alignment', ax, cmap=cm.Wistia, scale_factor=12.5 / 5, cutoff=280)\n",
    "_, taco_higher_patch = show_alignment(third_alignment, 'Prediction Network with 163D Target and Location-Sensitive Attention Alignment', ax, cmap=cm.hot, cutoff=280)\n",
    "# _, taco_pmlx_patch = show_alignment(pmlx_alignment, 'Prediction Network with Content-Based Attention Alignment', ax, cmap=cm.cool)\n",
    "ax.legend(handles=[taco_higher_patch, taco_patch], loc='upper left')\n",
    "\n",
    "plt.savefig('./HigherDimensional/HighDimensionAlignmentVsTacotron.png', dpi=600)\n",
    "plt.show()"
   ]
  },
  {
   "cell_type": "code",
   "execution_count": 13,
   "metadata": {},
   "outputs": [
    {
     "name": "stdout",
     "output_type": "stream",
     "text": [
      "INFO:tensorflow:Restoring parameters from /media/josh/Store/remote-logs/163-pmlx-lj-150k/model.ckpt-112000\n",
      "    Forcing binary noise mask\n"
     ]
    }
   ],
   "source": [
    "from tacotron.pml_synthesizer import Configuration, PMLSynthesizer\n",
    "from lib import sigproc as sp\n",
    "\n",
    "# Set up denormalisation parameters for synthesis\n",
    "mean_path = os.path.expanduser('~/tacotron/LJSpeech-1.1/pml/mean.dat')\n",
    "std_path = os.path.expanduser('~/tacotron/LJSpeech-1.1/pml/std.dat')\n",
    "mean_norm = None\n",
    "std_norm = None\n",
    "\n",
    "if os.path.isfile(mean_path) and os.path.isfile(std_path):\n",
    "    mean_norm = np.fromfile(mean_path, 'float32')\n",
    "    std_norm = np.fromfile(std_path, 'float32')\n",
    "\n",
    "# reset the graph before we do anything\n",
    "tf.reset_default_graph()\n",
    "cfg = Configuration(16000, 163)\n",
    "pml_synth = PMLSynthesizer(cfg)\n",
    "hparams.parse('sample_rate=16000,frame_length_ms=20,frame_shift_ms=5,pml_dimension=163,spec_type=fwbnd')\n",
    "pml_synth.load('/media/josh/Store/remote-logs/163-pmlx-lj-150k/model.ckpt-112000', hparams, model_name='tacotron')\n",
    "wav_outputs = pml_synth.synthesize([fixed_sentence], to_wav=True, mean_norm=mean_norm, std_norm=std_norm, spec_type=hparams.spec_type, pp_mcep=True)"
   ]
  },
  {
   "cell_type": "code",
   "execution_count": 14,
   "metadata": {},
   "outputs": [
    {
     "name": "stdout",
     "output_type": "stream",
     "text": [
      "319920\n",
      "    WARNING: sigproc.wavwrite: waveform in file ./HigherDimensional/163_taco_pml_x.wav is clipping. Rescaling between [-1,1]\n"
     ]
    }
   ],
   "source": [
    "from util import audio\n",
    "wav = np.copy(wav_outputs[0])\n",
    "print(len(wav))\n",
    "wav = wav[:int(16000*5.85)]\n",
    "sp.wavwrite('./HigherDimensional/163_taco_pml_x.wav', wav, 16000, norm_max_ifneeded=True)"
   ]
  },
  {
   "cell_type": "code",
   "execution_count": 77,
   "metadata": {},
   "outputs": [
    {
     "name": "stdout",
     "output_type": "stream",
     "text": [
      "INFO:tensorflow:Restoring parameters from /media/josh/Store/remote-logs/tacotron-lj-pml-500k/model.ckpt-352000\n"
     ]
    },
    {
     "name": "stderr",
     "output_type": "stream",
     "text": [
      "/home/josh/workspace/tacotron/lib/pulsemodel/synthesis.py:119: UserWarning: \n",
      "\n",
      "WARNING: The maximum window length (63999) is bigger than the DFT length (4096). Please, increase the DFT length of your spectral features (the second dimension) or check if the f0 curve has extremly low values and try to clip them to higher values (at least higher than 50Hz). The f0 curve has been clipped to 15.625Hz.\n",
      "\n",
      "\n",
      "  warnings.warn('\\n\\nWARNING: The maximum window length ({}) is bigger than the DFT length ({}). Please, increase the DFT length of your spectral features (the second dimension) or check if the f0 curve has extremly low values and try to clip them to higher values (at least higher than 50Hz). The f0 curve has been clipped to {}Hz.\\n\\n'.format(winlenmax, dftlen, winnbper*fs/float(dftlen))) # pragma: no cover\n"
     ]
    },
    {
     "name": "stdout",
     "output_type": "stream",
     "text": [
      "    Forcing binary noise mask\n"
     ]
    }
   ],
   "source": [
    "# reset the graph before we do anything\n",
    "tf.reset_default_graph()\n",
    "cfg = Configuration(16000, 86)\n",
    "pml_synth = PMLSynthesizer(cfg)\n",
    "hparams.parse('sample_rate=16000,frame_length_ms=20,frame_shift_ms=5,pml_dimension=86,spec_type=mcep')\n",
    "pml_synth.load('/media/josh/Store/remote-logs/tacotron-lj-pml-500k/model.ckpt-352000', hparams, model_name='tacotron_pml')\n",
    "pml_wav_outputs = pml_synth.synthesize([fixed_sentence], to_wav=True)"
   ]
  },
  {
   "cell_type": "code",
   "execution_count": 78,
   "metadata": {},
   "outputs": [
    {
     "name": "stdout",
     "output_type": "stream",
     "text": [
      "    WARNING: sigproc.wavwrite: waveform in file ./TacotronAlignment/taco_pml.wav is clipping. Rescaling between [-1,1]\n"
     ]
    }
   ],
   "source": [
    "wav = pml_wav_outputs[0]\n",
    "wav = wav[:audio.find_endpoint(wav)]\n",
    "sp.wavwrite('./TacotronAlignment/taco_pml.wav', wav, 16000, norm_max_ifneeded=True)"
   ]
  }
 ],
 "metadata": {
  "kernelspec": {
   "display_name": "Python 3",
   "language": "python",
   "name": "python3"
  },
  "language_info": {
   "codemirror_mode": {
    "name": "ipython",
    "version": 3
   },
   "file_extension": ".py",
   "mimetype": "text/x-python",
   "name": "python",
   "nbconvert_exporter": "python",
   "pygments_lexer": "ipython3",
   "version": "3.6.8"
  }
 },
 "nbformat": 4,
 "nbformat_minor": 2
}
