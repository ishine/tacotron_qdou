{
 "cells": [
  {
   "cell_type": "code",
   "execution_count": 47,
   "metadata": {},
   "outputs": [],
   "source": [
    "import sys\n",
    "import os\n",
    "sys.path.append(os.path.expanduser('~/workspace/tacotron/'))\n",
    "\n",
    "import argparse\n",
    "from hparams import hparams\n",
    "import matplotlib.pyplot as plt\n",
    "import matplotlib.patches as mpatches\n",
    "from matplotlib import cm\n",
    "from matplotlib.colors import ListedColormap\n",
    "import numpy as np\n",
    "from PIL import Image\n",
    "from tacotron.alignment_synthesizer import AlignmentSynthesizer\n",
    "from tacotron.pml_synthesizer import Configuration, PMLSynthesizer\n",
    "import tensorflow as tf\n",
    "from tqdm import tqdm_notebook as tqdm\n",
    "from util import audio"
   ]
  },
  {
   "cell_type": "code",
   "execution_count": 2,
   "metadata": {},
   "outputs": [
    {
     "name": "stdout",
     "output_type": "stream",
     "text": [
      "Loaded metadata for 150 examples (0.68 hours)\n"
     ]
    }
   ],
   "source": [
    "training_data_dir = '/media/josh/Store/tacotron-data/gran-lj-training'\n",
    "metadata_filename = os.path.join(training_data_dir, 'test.txt')\n",
    "\n",
    "cfg = Configuration(16000, 86)\n",
    "synth = PMLSynthesizer(cfg)\n",
    "# synth.load(checkpoint_path, hparams, gta=gta, model_name=args.variant)\n",
    "\n",
    "with open(metadata_filename, encoding='utf-8') as f:\n",
    "    metadata = [line.strip().split('|') for line in f]\n",
    "    hours = sum((int(x[2]) for x in metadata)) * hparams.frame_shift_ms / (3600 * 1000)\n",
    "    print('Loaded metadata for %d examples (%.2f hours)' % (len(metadata), hours))\n",
    "    \n",
    "pml_features = [m[3] for m in metadata]\n",
    "texts = [m[5] for m in metadata]\n",
    "wav_files = [m[6] for m in metadata]"
   ]
  },
  {
   "cell_type": "code",
   "execution_count": 214,
   "metadata": {},
   "outputs": [
    {
     "data": {
      "text/plain": [
       "'Also the Department requests the sum of one hundred thousand dollars to conduct a detailed feasibility study;'"
      ]
     },
     "execution_count": 214,
     "metadata": {},
     "output_type": "execute_result"
    }
   ],
   "source": [
    "FIGSIZE = (10, 6)\n",
    "TARGET_INDEX = 26\n",
    "texts[TARGET_INDEX]"
   ]
  },
  {
   "cell_type": "code",
   "execution_count": 4,
   "metadata": {},
   "outputs": [
    {
     "name": "stdout",
     "output_type": "stream",
     "text": [
      "Constructing model: tacotron_pml\n",
      "Initialized Tacotron model. Dimensions: \n",
      "  embedding:               256\n",
      "  prenet out:              128\n",
      "  encoder out:             256\n",
      "  attention out:           256\n",
      "  concat attn & out:       512\n",
      "  decoder cell out:        256\n",
      "  decoder out (5 frames):  430\n",
      "  decoder out (1 frame):   86\n",
      "Loading checkpoint: /media/josh/Store/remote-logs/tacotron-lj-pml-500k/model.ckpt-352000\n",
      "INFO:tensorflow:Restoring parameters from /media/josh/Store/remote-logs/tacotron-lj-pml-500k/model.ckpt-352000\n",
      "Constructing model: tacotron_orig\n",
      "Initialized Tacotron model. Dimensions: \n",
      "  embedding:               256\n",
      "  prenet out:              128\n",
      "  encoder out:             256\n",
      "  attention out:           256\n",
      "  concat attn & out:       512\n",
      "  decoder cell out:        256\n",
      "  decoder out (5 frames):  400\n",
      "  decoder out (1 frame):   80\n",
      "  postnet out:             256\n",
      "  linear out:              1025\n",
      "Loading checkpoint: /media/josh/Store/remote-logs/tacotron-lj-500k/model.ckpt-195000\n",
      "INFO:tensorflow:Restoring parameters from /media/josh/Store/remote-logs/tacotron-lj-500k/model.ckpt-195000\n"
     ]
    }
   ],
   "source": [
    "fixed_sentence = texts[TARGET_INDEX]\n",
    "\n",
    "# reset the graph before we do anything\n",
    "tf.reset_default_graph()\n",
    "synth = AlignmentSynthesizer()\n",
    "hparams.parse('sample_rate=16000,frame_length_ms=20,frame_shift_ms=5,pml_dimension=86,spec_type=mcep')\n",
    "synth.load('/media/josh/Store/remote-logs/tacotron-lj-pml-500k/model.ckpt-352000', hparams, model_name='tacotron_pml', locked_alignments=None)\n",
    "first_alignment = synth.synthesize(fixed_sentence)  # of shape (encoder_steps, decoder_steps)\n",
    "\n",
    "# reset the graph after the first synthesise call\n",
    "tf.reset_default_graph()\n",
    "hparams.parse('sample_rate=20000,frame_length_ms=50,frame_shift_ms=12.5,pml_dimension=86,spec_type=mcep')\n",
    "synth.load('/media/josh/Store/remote-logs/tacotron-lj-500k/model.ckpt-195000', hparams, model_name='tacotron_orig', locked_alignments=None)\n",
    "second_alignment = synth.synthesize(fixed_sentence)"
   ]
  },
  {
   "cell_type": "code",
   "execution_count": 5,
   "metadata": {},
   "outputs": [],
   "source": [
    "def show_alignment(alignment, label, ax, cmap=cm.cool, cutoff=220, scale_factor=1, norm=False):\n",
    "    # normalise the alignment to scale from 0 to 1\n",
    "    if norm:\n",
    "        alignment = alignment / np.max(alignment)\n",
    "    \n",
    "    # set the background of the axis to black\n",
    "    ax.set_facecolor('xkcd:black')\n",
    "    \n",
    "    cool = cmap(np.arange(cmap.N))\n",
    "    # Set alpha\n",
    "    cool[:, -1] = np.linspace(0, 1, cmap.N)\n",
    "    # Create new colormap\n",
    "    cool = ListedColormap(cool)\n",
    "    # generate the image\n",
    "    im_obj = Image.fromarray(np.uint8(cool(alignment) * 255))\n",
    "    height, width = alignment.shape\n",
    "    im_obj = im_obj.resize((round(width * scale_factor), height))\n",
    "    im_obj = np.array(im_obj)[:, :cutoff]\n",
    "    \n",
    "    first_im = ax.imshow(\n",
    "        im_obj,\n",
    "        aspect='auto',\n",
    "        origin='lower',\n",
    "        interpolation='none')\n",
    "    \n",
    "    patch = mpatches.Patch(color=cool(0.8), label=label)\n",
    "    \n",
    "    xstep = 50\n",
    "    outputs_per_step = 5\n",
    "    frame_shift = 0.005\n",
    "    plt.xticks(np.arange(0, 250, step=xstep),\n",
    "               np.arange(0, 250 * frame_shift * outputs_per_step, step=frame_shift * outputs_per_step * xstep))\n",
    "    plt.xlabel('Decoder Time (s)')\n",
    "    plt.ylabel('Encoder Step (character index)')\n",
    "    plt.tight_layout()\n",
    "    \n",
    "    return patch"
   ]
  },
  {
   "cell_type": "code",
   "execution_count": 216,
   "metadata": {},
   "outputs": [
    {
     "data": {
      "image/png": "[encoded data removed]",
      "text/plain": [
       "<Figure size 720x432 with 1 Axes>"
      ]
     },
     "metadata": {
      "needs_background": "light"
     },
     "output_type": "display_data"
    }
   ],
   "source": [
    "fig, ax = plt.subplots(figsize=FIGSIZE)\n",
    "\n",
    "taco_pml_patch = show_alignment(first_alignment, 'PML Vocoder Feature Prediction Network Alignment', ax)\n",
    "taco_patch = show_alignment(second_alignment, 'Tacotron Alignment', ax, cmap=cm.Wistia, scale_factor=12.5 / 5)\n",
    "ax.legend(handles=[taco_pml_patch, taco_patch], loc='upper left')\n",
    "plt.savefig('./TacotronAlignment/CompareAlignments.png', dpi=600)\n",
    "plt.show()"
   ]
  },
  {
   "cell_type": "code",
   "execution_count": 40,
   "metadata": {},
   "outputs": [
    {
     "name": "stdout",
     "output_type": "stream",
     "text": [
      "Constructing model: tacotron_orig\n",
      "Initialized Tacotron model. Dimensions: \n",
      "  embedding:               256\n",
      "  prenet out:              128\n",
      "  encoder out:             256\n",
      "  attention out:           256\n",
      "  concat attn & out:       512\n",
      "  decoder cell out:        256\n",
      "  decoder out (5 frames):  400\n",
      "  decoder out (1 frame):   80\n",
      "  postnet out:             256\n",
      "  linear out:              1025\n",
      "Loading checkpoint: /media/josh/Store/remote-logs/tacotron-lj-500k/model.ckpt-195000\n",
      "INFO:tensorflow:Restoring parameters from /media/josh/Store/remote-logs/tacotron-lj-500k/model.ckpt-195000\n",
      "Prepared Inputs\n"
     ]
    },
    {
     "name": "stderr",
     "output_type": "stream",
     "text": [
      "100%|██████████| 1/1 [00:00<00:00, 104.43it/s]\n"
     ]
    }
   ],
   "source": [
    "from tacotron.synthesizer import Synthesizer\n",
    "from util import audio\n",
    "\n",
    "# reset the graph before we do anything\n",
    "tf.reset_default_graph()\n",
    "taco_synth = Synthesizer()\n",
    "hparams.parse('sample_rate=20000,frame_length_ms=50,frame_shift_ms=12.5,pml_dimension=86,spec_type=mcep')\n",
    "taco_synth.load('/media/josh/Store/remote-logs/tacotron-lj-500k/model.ckpt-195000', model_name='tacotron_orig')\n",
    "taco_orig_wav = taco_synth.synthesize(fixed_sentence, to_wav=True)[0]"
   ]
  },
  {
   "cell_type": "code",
   "execution_count": 10,
   "metadata": {},
   "outputs": [],
   "source": [
    "from lib import sigproc as sp\n",
    "taco_orig_wav = taco_orig_wav[:audio.find_endpoint(taco_orig_wav)]\n",
    "sp.wavwrite('./TacotronAlignment/taco_orig.wav', taco_orig_wav, 20000, norm_max_ifneeded=True)"
   ]
  },
  {
   "cell_type": "code",
   "execution_count": 13,
   "metadata": {},
   "outputs": [
    {
     "data": {
      "application/vnd.jupyter.widget-view+json": {
       "model_id": "ca83095c12824b27b9cc0023bedb47a5",
       "version_major": 2,
       "version_minor": 0
      },
      "text/plain": [
       "HBox(children=(IntProgress(value=0, max=150), HTML(value='')))"
      ]
     },
     "metadata": {},
     "output_type": "display_data"
    },
    {
     "name": "stdout",
     "output_type": "stream",
     "text": [
      "\n"
     ]
    }
   ],
   "source": [
    "vanilla_taco_wavs = []\n",
    "\n",
    "for wav_file in tqdm(wav_files):  \n",
    "    taco_wav_path = os.path.join(training_data_dir, 'vanilla_tacotron', wav_file)\n",
    "    taco_wav, fs, _ = sp.wavread(taco_wav_path)\n",
    "    vanilla_taco_wavs.append(taco_wav)"
   ]
  },
  {
   "cell_type": "code",
   "execution_count": 45,
   "metadata": {},
   "outputs": [],
   "source": [
    "sp.wavwrite('./TacotronAlignment/taco_orig.wav', vanilla_taco_wavs[TARGET_INDEX], 20000, norm_max_ifneeded=True)"
   ]
  },
  {
   "cell_type": "code",
   "execution_count": 39,
   "metadata": {},
   "outputs": [
    {
     "name": "stdout",
     "output_type": "stream",
     "text": [
      "INFO:tensorflow:Restoring parameters from /media/josh/Store/remote-logs/tacotron-lj-pml-500k/model.ckpt-352000\n"
     ]
    },
    {
     "name": "stderr",
     "output_type": "stream",
     "text": [
      "/home/josh/workspace/tacotron/lib/pulsemodel/synthesis.py:119: UserWarning: \n",
      "\n",
      "WARNING: The maximum window length (63993) is bigger than the DFT length (4096). Please, increase the DFT length of your spectral features (the second dimension) or check if the f0 curve has extremly low values and try to clip them to higher values (at least higher than 50Hz). The f0 curve has been clipped to 15.625Hz.\n",
      "\n",
      "\n",
      "  warnings.warn('\\n\\nWARNING: The maximum window length ({}) is bigger than the DFT length ({}). Please, increase the DFT length of your spectral features (the second dimension) or check if the f0 curve has extremly low values and try to clip them to higher values (at least higher than 50Hz). The f0 curve has been clipped to {}Hz.\\n\\n'.format(winlenmax, dftlen, winnbper*fs/float(dftlen))) # pragma: no cover\n"
     ]
    },
    {
     "name": "stdout",
     "output_type": "stream",
     "text": [
      "    Forcing binary noise mask\n",
      "    WARNING: sigproc.wavwrite: waveform in file ./TacotronAlignment/taco_pml.wav is clipping. Rescaling between [-1,1]\n"
     ]
    }
   ],
   "source": [
    "from tacotron.pml_synthesizer import Configuration, PMLSynthesizer\n",
    "from lib import sigproc as sp\n",
    "\n",
    "# reset the graph before we do anything\n",
    "tf.reset_default_graph()\n",
    "cfg = Configuration(16000, 86)\n",
    "pml_synth = PMLSynthesizer(cfg)\n",
    "hparams.parse('sample_rate=16000,frame_length_ms=20,frame_shift_ms=5,pml_dimension=86,spec_type=mcep')\n",
    "pml_synth.load('/media/josh/Store/remote-logs/tacotron-lj-pml-500k/model.ckpt-352000', hparams, model_name='tacotron_pml')\n",
    "wav_outputs = pml_synth.synthesize([fixed_sentence], to_wav=True, find_endpoint=True)\n",
    "\n",
    "pml_wav = wav_outputs[0]\n",
    "sp.wavwrite('./TacotronAlignment/taco_pml.wav', pml_wav, 16000, norm_max_ifneeded=True)"
   ]
  },
  {
   "cell_type": "code",
   "execution_count": 64,
   "metadata": {},
   "outputs": [
    {
     "data": {
      "text/plain": [
       "'./TacotronAlignment/ground_truth.wav'"
      ]
     },
     "execution_count": 64,
     "metadata": {},
     "output_type": "execute_result"
    }
   ],
   "source": [
    "# do analysis synthesis of the same sample\n",
    "import shutil\n",
    "shutil.copyfile(os.path.join(training_data_dir, 'analysis_synthesis', wav_files[TARGET_INDEX]), './TacotronAlignment/analysis_synthesis.wav')\n",
    "shutil.copyfile(os.path.join(training_data_dir, 'wavs', wav_files[TARGET_INDEX]), './TacotronAlignment/ground_truth.wav')"
   ]
  },
  {
   "cell_type": "code",
   "execution_count": 59,
   "metadata": {},
   "outputs": [],
   "source": [
    "import librosa\n",
    "taco_orig_wav = audio.load_wav('./TacotronAlignment/taco_orig.wav')\n",
    "pml_wav = audio.load_wav('./TacotronAlignment/taco_pml.wav')\n",
    "gt_wav = audio.load_wav('./TacotronAlignment/ground_truth.wav')\n",
    "as_wav = audio.load_wav('./TacotronAlignment/analysis_synthesis.wav')"
   ]
  },
  {
   "cell_type": "code",
   "execution_count": 54,
   "metadata": {},
   "outputs": [],
   "source": [
    "def rmse(first_set, second_set):\n",
    "    error = 0.0\n",
    "    wav_set_size = len(first_set)\n",
    "\n",
    "    for i in range(wav_set_size):\n",
    "        wav_1 = first_set[i]\n",
    "        wav_2 = second_set[i]\n",
    "\n",
    "        cutoff = min(len(wav_1), len(wav_2))\n",
    "        error += np.mean(np.square(wav_1[:cutoff] - wav_2[:cutoff]))\n",
    "\n",
    "    error = np.sqrt(error / wav_set_size)\n",
    "    return error"
   ]
  },
  {
   "cell_type": "code",
   "execution_count": 44,
   "metadata": {},
   "outputs": [],
   "source": [
    "taco_orig_wav_up = librosa.core.resample(taco_orig_wav, orig_sr=20000, target_sr=22050)\n",
    "pml_wav_up = librosa.core.resample(pml_wav, orig_sr=16000, target_sr=22050)"
   ]
  },
  {
   "cell_type": "code",
   "execution_count": 65,
   "metadata": {},
   "outputs": [
    {
     "data": {
      "text/plain": [
       "0.07288545837571976"
      ]
     },
     "execution_count": 65,
     "metadata": {},
     "output_type": "execute_result"
    }
   ],
   "source": [
    "# taco_orig_wav = vanilla_taco_wavs[TARGET_INDEX]\n",
    "rmse([gt_wav], [taco_orig_wav])"
   ]
  },
  {
   "cell_type": "code",
   "execution_count": 61,
   "metadata": {},
   "outputs": [
    {
     "name": "stdout",
     "output_type": "stream",
     "text": [
      "140624 145530 141120 140300\n"
     ]
    }
   ],
   "source": [
    "print(gt_wav.size, taco_orig_wav_up.size, pml_wav_up.size, as_wav.size) # as wav will have similar number of samples to ground truth"
   ]
  },
  {
   "cell_type": "code",
   "execution_count": 50,
   "metadata": {},
   "outputs": [],
   "source": [
    "audio.save_wav(as_wav, './TacotronAlignment/out_as.wav')\n",
    "audio.save_wav(gt_wav, './TacotronAlignment/out_gt.wav')\n",
    "audio.save_wav(taco_orig_wav_up, './TacotronAlignment/out_taco.wav')\n",
    "audio.save_wav(pml_wav_up, './TacotronAlignment/out_pml.wav')"
   ]
  },
  {
   "cell_type": "code",
   "execution_count": 62,
   "metadata": {},
   "outputs": [
    {
     "data": {
      "text/plain": [
       "0.10170353212361526"
      ]
     },
     "execution_count": 62,
     "metadata": {},
     "output_type": "execute_result"
    }
   ],
   "source": [
    "rmse([gt_wav], [pml_wav])"
   ]
  },
  {
   "cell_type": "code",
   "execution_count": 63,
   "metadata": {},
   "outputs": [
    {
     "data": {
      "text/plain": [
       "0.15496995646273853"
      ]
     },
     "execution_count": 63,
     "metadata": {},
     "output_type": "execute_result"
    }
   ],
   "source": [
    "rmse([gt_wav], [as_wav])"
   ]
  },
  {
   "cell_type": "code",
   "execution_count": 143,
   "metadata": {},
   "outputs": [
    {
     "name": "stdout",
     "output_type": "stream",
     "text": [
      "INFO:tensorflow:Restoring parameters from /media/josh/Store/remote-logs/tacotron-lj-pml-500k/model.ckpt-352000\n"
     ]
    },
    {
     "data": {
      "application/vnd.jupyter.widget-view+json": {
       "model_id": "d4b3779d5db646e2835e4d003fc851f4",
       "version_major": 2,
       "version_minor": 0
      },
      "text/plain": [
       "HBox(children=(IntProgress(value=0, max=15), HTML(value='')))"
      ]
     },
     "metadata": {},
     "output_type": "display_data"
    },
    {
     "name": "stderr",
     "output_type": "stream",
     "text": [
      "/home/josh/workspace/tacotron/lib/pulsemodel/synthesis.py:119: UserWarning: \n",
      "\n",
      "WARNING: The maximum window length (63999) is bigger than the DFT length (4096). Please, increase the DFT length of your spectral features (the second dimension) or check if the f0 curve has extremly low values and try to clip them to higher values (at least higher than 50Hz). The f0 curve has been clipped to 15.625Hz.\n",
      "\n",
      "\n",
      "  warnings.warn('\\n\\nWARNING: The maximum window length ({}) is bigger than the DFT length ({}). Please, increase the DFT length of your spectral features (the second dimension) or check if the f0 curve has extremly low values and try to clip them to higher values (at least higher than 50Hz). The f0 curve has been clipped to {}Hz.\\n\\n'.format(winlenmax, dftlen, winnbper*fs/float(dftlen))) # pragma: no cover\n"
     ]
    },
    {
     "name": "stdout",
     "output_type": "stream",
     "text": [
      "    Forcing binary noise mask\n"
     ]
    },
    {
     "name": "stderr",
     "output_type": "stream",
     "text": [
      "/home/josh/workspace/tacotron/lib/pulsemodel/synthesis.py:119: UserWarning: \n",
      "\n",
      "WARNING: The maximum window length (63999) is bigger than the DFT length (4096). Please, increase the DFT length of your spectral features (the second dimension) or check if the f0 curve has extremly low values and try to clip them to higher values (at least higher than 50Hz). The f0 curve has been clipped to 15.625Hz.\n",
      "\n",
      "\n",
      "  warnings.warn('\\n\\nWARNING: The maximum window length ({}) is bigger than the DFT length ({}). Please, increase the DFT length of your spectral features (the second dimension) or check if the f0 curve has extremly low values and try to clip them to higher values (at least higher than 50Hz). The f0 curve has been clipped to {}Hz.\\n\\n'.format(winlenmax, dftlen, winnbper*fs/float(dftlen))) # pragma: no cover\n"
     ]
    },
    {
     "name": "stdout",
     "output_type": "stream",
     "text": [
      "    Forcing binary noise mask\n"
     ]
    },
    {
     "name": "stderr",
     "output_type": "stream",
     "text": [
      "/home/josh/workspace/tacotron/lib/pulsemodel/synthesis.py:119: UserWarning: \n",
      "\n",
      "WARNING: The maximum window length (63999) is bigger than the DFT length (4096). Please, increase the DFT length of your spectral features (the second dimension) or check if the f0 curve has extremly low values and try to clip them to higher values (at least higher than 50Hz). The f0 curve has been clipped to 15.625Hz.\n",
      "\n",
      "\n",
      "  warnings.warn('\\n\\nWARNING: The maximum window length ({}) is bigger than the DFT length ({}). Please, increase the DFT length of your spectral features (the second dimension) or check if the f0 curve has extremly low values and try to clip them to higher values (at least higher than 50Hz). The f0 curve has been clipped to {}Hz.\\n\\n'.format(winlenmax, dftlen, winnbper*fs/float(dftlen))) # pragma: no cover\n"
     ]
    },
    {
     "name": "stdout",
     "output_type": "stream",
     "text": [
      "    Forcing binary noise mask\n"
     ]
    },
    {
     "name": "stderr",
     "output_type": "stream",
     "text": [
      "/home/josh/workspace/tacotron/lib/pulsemodel/synthesis.py:119: UserWarning: \n",
      "\n",
      "WARNING: The maximum window length (63999) is bigger than the DFT length (4096). Please, increase the DFT length of your spectral features (the second dimension) or check if the f0 curve has extremly low values and try to clip them to higher values (at least higher than 50Hz). The f0 curve has been clipped to 15.625Hz.\n",
      "\n",
      "\n",
      "  warnings.warn('\\n\\nWARNING: The maximum window length ({}) is bigger than the DFT length ({}). Please, increase the DFT length of your spectral features (the second dimension) or check if the f0 curve has extremly low values and try to clip them to higher values (at least higher than 50Hz). The f0 curve has been clipped to {}Hz.\\n\\n'.format(winlenmax, dftlen, winnbper*fs/float(dftlen))) # pragma: no cover\n"
     ]
    },
    {
     "name": "stdout",
     "output_type": "stream",
     "text": [
      "    Forcing binary noise mask\n"
     ]
    },
    {
     "name": "stderr",
     "output_type": "stream",
     "text": [
      "/home/josh/workspace/tacotron/lib/pulsemodel/synthesis.py:119: UserWarning: \n",
      "\n",
      "WARNING: The maximum window length (63999) is bigger than the DFT length (4096). Please, increase the DFT length of your spectral features (the second dimension) or check if the f0 curve has extremly low values and try to clip them to higher values (at least higher than 50Hz). The f0 curve has been clipped to 15.625Hz.\n",
      "\n",
      "\n",
      "  warnings.warn('\\n\\nWARNING: The maximum window length ({}) is bigger than the DFT length ({}). Please, increase the DFT length of your spectral features (the second dimension) or check if the f0 curve has extremly low values and try to clip them to higher values (at least higher than 50Hz). The f0 curve has been clipped to {}Hz.\\n\\n'.format(winlenmax, dftlen, winnbper*fs/float(dftlen))) # pragma: no cover\n"
     ]
    },
    {
     "name": "stdout",
     "output_type": "stream",
     "text": [
      "    Forcing binary noise mask\n"
     ]
    },
    {
     "name": "stderr",
     "output_type": "stream",
     "text": [
      "/home/josh/workspace/tacotron/lib/pulsemodel/synthesis.py:119: UserWarning: \n",
      "\n",
      "WARNING: The maximum window length (63983) is bigger than the DFT length (4096). Please, increase the DFT length of your spectral features (the second dimension) or check if the f0 curve has extremly low values and try to clip them to higher values (at least higher than 50Hz). The f0 curve has been clipped to 15.625Hz.\n",
      "\n",
      "\n",
      "  warnings.warn('\\n\\nWARNING: The maximum window length ({}) is bigger than the DFT length ({}). Please, increase the DFT length of your spectral features (the second dimension) or check if the f0 curve has extremly low values and try to clip them to higher values (at least higher than 50Hz). The f0 curve has been clipped to {}Hz.\\n\\n'.format(winlenmax, dftlen, winnbper*fs/float(dftlen))) # pragma: no cover\n"
     ]
    },
    {
     "name": "stdout",
     "output_type": "stream",
     "text": [
      "    Forcing binary noise mask\n",
      "    Forcing binary noise mask\n",
      "    Forcing binary noise mask\n",
      "    Forcing binary noise mask\n"
     ]
    },
    {
     "name": "stderr",
     "output_type": "stream",
     "text": [
      "/home/josh/workspace/tacotron/lib/pulsemodel/synthesis.py:119: UserWarning: \n",
      "\n",
      "WARNING: The maximum window length (63963) is bigger than the DFT length (4096). Please, increase the DFT length of your spectral features (the second dimension) or check if the f0 curve has extremly low values and try to clip them to higher values (at least higher than 50Hz). The f0 curve has been clipped to 15.625Hz.\n",
      "\n",
      "\n",
      "  warnings.warn('\\n\\nWARNING: The maximum window length ({}) is bigger than the DFT length ({}). Please, increase the DFT length of your spectral features (the second dimension) or check if the f0 curve has extremly low values and try to clip them to higher values (at least higher than 50Hz). The f0 curve has been clipped to {}Hz.\\n\\n'.format(winlenmax, dftlen, winnbper*fs/float(dftlen))) # pragma: no cover\n"
     ]
    },
    {
     "name": "stdout",
     "output_type": "stream",
     "text": [
      "    Forcing binary noise mask\n"
     ]
    },
    {
     "name": "stderr",
     "output_type": "stream",
     "text": [
      "/home/josh/workspace/tacotron/lib/pulsemodel/synthesis.py:119: UserWarning: \n",
      "\n",
      "WARNING: The maximum window length (63999) is bigger than the DFT length (4096). Please, increase the DFT length of your spectral features (the second dimension) or check if the f0 curve has extremly low values and try to clip them to higher values (at least higher than 50Hz). The f0 curve has been clipped to 15.625Hz.\n",
      "\n",
      "\n",
      "  warnings.warn('\\n\\nWARNING: The maximum window length ({}) is bigger than the DFT length ({}). Please, increase the DFT length of your spectral features (the second dimension) or check if the f0 curve has extremly low values and try to clip them to higher values (at least higher than 50Hz). The f0 curve has been clipped to {}Hz.\\n\\n'.format(winlenmax, dftlen, winnbper*fs/float(dftlen))) # pragma: no cover\n"
     ]
    },
    {
     "name": "stdout",
     "output_type": "stream",
     "text": [
      "    Forcing binary noise mask\n"
     ]
    },
    {
     "name": "stderr",
     "output_type": "stream",
     "text": [
      "/home/josh/workspace/tacotron/lib/pulsemodel/synthesis.py:119: UserWarning: \n",
      "\n",
      "WARNING: The maximum window length (63999) is bigger than the DFT length (4096). Please, increase the DFT length of your spectral features (the second dimension) or check if the f0 curve has extremly low values and try to clip them to higher values (at least higher than 50Hz). The f0 curve has been clipped to 15.625Hz.\n",
      "\n",
      "\n",
      "  warnings.warn('\\n\\nWARNING: The maximum window length ({}) is bigger than the DFT length ({}). Please, increase the DFT length of your spectral features (the second dimension) or check if the f0 curve has extremly low values and try to clip them to higher values (at least higher than 50Hz). The f0 curve has been clipped to {}Hz.\\n\\n'.format(winlenmax, dftlen, winnbper*fs/float(dftlen))) # pragma: no cover\n"
     ]
    },
    {
     "name": "stdout",
     "output_type": "stream",
     "text": [
      "    Forcing binary noise mask\n"
     ]
    },
    {
     "name": "stderr",
     "output_type": "stream",
     "text": [
      "/home/josh/workspace/tacotron/lib/pulsemodel/synthesis.py:119: UserWarning: \n",
      "\n",
      "WARNING: The maximum window length (63999) is bigger than the DFT length (4096). Please, increase the DFT length of your spectral features (the second dimension) or check if the f0 curve has extremly low values and try to clip them to higher values (at least higher than 50Hz). The f0 curve has been clipped to 15.625Hz.\n",
      "\n",
      "\n",
      "  warnings.warn('\\n\\nWARNING: The maximum window length ({}) is bigger than the DFT length ({}). Please, increase the DFT length of your spectral features (the second dimension) or check if the f0 curve has extremly low values and try to clip them to higher values (at least higher than 50Hz). The f0 curve has been clipped to {}Hz.\\n\\n'.format(winlenmax, dftlen, winnbper*fs/float(dftlen))) # pragma: no cover\n"
     ]
    },
    {
     "name": "stdout",
     "output_type": "stream",
     "text": [
      "    Forcing binary noise mask\n"
     ]
    },
    {
     "name": "stderr",
     "output_type": "stream",
     "text": [
      "/home/josh/workspace/tacotron/lib/pulsemodel/synthesis.py:119: UserWarning: \n",
      "\n",
      "WARNING: The maximum window length (63999) is bigger than the DFT length (4096). Please, increase the DFT length of your spectral features (the second dimension) or check if the f0 curve has extremly low values and try to clip them to higher values (at least higher than 50Hz). The f0 curve has been clipped to 15.625Hz.\n",
      "\n",
      "\n",
      "  warnings.warn('\\n\\nWARNING: The maximum window length ({}) is bigger than the DFT length ({}). Please, increase the DFT length of your spectral features (the second dimension) or check if the f0 curve has extremly low values and try to clip them to higher values (at least higher than 50Hz). The f0 curve has been clipped to {}Hz.\\n\\n'.format(winlenmax, dftlen, winnbper*fs/float(dftlen))) # pragma: no cover\n"
     ]
    },
    {
     "name": "stdout",
     "output_type": "stream",
     "text": [
      "    Forcing binary noise mask\n"
     ]
    },
    {
     "name": "stderr",
     "output_type": "stream",
     "text": [
      "/home/josh/workspace/tacotron/lib/pulsemodel/synthesis.py:119: UserWarning: \n",
      "\n",
      "WARNING: The maximum window length (63999) is bigger than the DFT length (4096). Please, increase the DFT length of your spectral features (the second dimension) or check if the f0 curve has extremly low values and try to clip them to higher values (at least higher than 50Hz). The f0 curve has been clipped to 15.625Hz.\n",
      "\n",
      "\n",
      "  warnings.warn('\\n\\nWARNING: The maximum window length ({}) is bigger than the DFT length ({}). Please, increase the DFT length of your spectral features (the second dimension) or check if the f0 curve has extremly low values and try to clip them to higher values (at least higher than 50Hz). The f0 curve has been clipped to {}Hz.\\n\\n'.format(winlenmax, dftlen, winnbper*fs/float(dftlen))) # pragma: no cover\n"
     ]
    },
    {
     "name": "stdout",
     "output_type": "stream",
     "text": [
      "    Forcing binary noise mask\n",
      "    Forcing binary noise mask\n",
      "    Forcing binary noise mask\n",
      "    Forcing binary noise mask\n",
      "    Forcing binary noise mask\n",
      "    Forcing binary noise mask\n"
     ]
    },
    {
     "name": "stderr",
     "output_type": "stream",
     "text": [
      "/home/josh/workspace/tacotron/lib/pulsemodel/synthesis.py:119: UserWarning: \n",
      "\n",
      "WARNING: The maximum window length (63999) is bigger than the DFT length (4096). Please, increase the DFT length of your spectral features (the second dimension) or check if the f0 curve has extremly low values and try to clip them to higher values (at least higher than 50Hz). The f0 curve has been clipped to 15.625Hz.\n",
      "\n",
      "\n",
      "  warnings.warn('\\n\\nWARNING: The maximum window length ({}) is bigger than the DFT length ({}). Please, increase the DFT length of your spectral features (the second dimension) or check if the f0 curve has extremly low values and try to clip them to higher values (at least higher than 50Hz). The f0 curve has been clipped to {}Hz.\\n\\n'.format(winlenmax, dftlen, winnbper*fs/float(dftlen))) # pragma: no cover\n"
     ]
    },
    {
     "name": "stdout",
     "output_type": "stream",
     "text": [
      "    Forcing binary noise mask\n"
     ]
    },
    {
     "name": "stderr",
     "output_type": "stream",
     "text": [
      "/home/josh/workspace/tacotron/lib/pulsemodel/synthesis.py:119: UserWarning: \n",
      "\n",
      "WARNING: The maximum window length (63993) is bigger than the DFT length (4096). Please, increase the DFT length of your spectral features (the second dimension) or check if the f0 curve has extremly low values and try to clip them to higher values (at least higher than 50Hz). The f0 curve has been clipped to 15.625Hz.\n",
      "\n",
      "\n",
      "  warnings.warn('\\n\\nWARNING: The maximum window length ({}) is bigger than the DFT length ({}). Please, increase the DFT length of your spectral features (the second dimension) or check if the f0 curve has extremly low values and try to clip them to higher values (at least higher than 50Hz). The f0 curve has been clipped to {}Hz.\\n\\n'.format(winlenmax, dftlen, winnbper*fs/float(dftlen))) # pragma: no cover\n"
     ]
    },
    {
     "name": "stdout",
     "output_type": "stream",
     "text": [
      "    Forcing binary noise mask\n"
     ]
    },
    {
     "name": "stderr",
     "output_type": "stream",
     "text": [
      "/home/josh/workspace/tacotron/lib/pulsemodel/synthesis.py:119: UserWarning: \n",
      "\n",
      "WARNING: The maximum window length (63999) is bigger than the DFT length (4096). Please, increase the DFT length of your spectral features (the second dimension) or check if the f0 curve has extremly low values and try to clip them to higher values (at least higher than 50Hz). The f0 curve has been clipped to 15.625Hz.\n",
      "\n",
      "\n",
      "  warnings.warn('\\n\\nWARNING: The maximum window length ({}) is bigger than the DFT length ({}). Please, increase the DFT length of your spectral features (the second dimension) or check if the f0 curve has extremly low values and try to clip them to higher values (at least higher than 50Hz). The f0 curve has been clipped to {}Hz.\\n\\n'.format(winlenmax, dftlen, winnbper*fs/float(dftlen))) # pragma: no cover\n"
     ]
    },
    {
     "name": "stdout",
     "output_type": "stream",
     "text": [
      "    Forcing binary noise mask\n"
     ]
    },
    {
     "name": "stderr",
     "output_type": "stream",
     "text": [
      "/home/josh/workspace/tacotron/lib/pulsemodel/synthesis.py:119: UserWarning: \n",
      "\n",
      "WARNING: The maximum window length (63999) is bigger than the DFT length (4096). Please, increase the DFT length of your spectral features (the second dimension) or check if the f0 curve has extremly low values and try to clip them to higher values (at least higher than 50Hz). The f0 curve has been clipped to 15.625Hz.\n",
      "\n",
      "\n",
      "  warnings.warn('\\n\\nWARNING: The maximum window length ({}) is bigger than the DFT length ({}). Please, increase the DFT length of your spectral features (the second dimension) or check if the f0 curve has extremly low values and try to clip them to higher values (at least higher than 50Hz). The f0 curve has been clipped to {}Hz.\\n\\n'.format(winlenmax, dftlen, winnbper*fs/float(dftlen))) # pragma: no cover\n"
     ]
    },
    {
     "name": "stdout",
     "output_type": "stream",
     "text": [
      "    Forcing binary noise mask\n"
     ]
    },
    {
     "name": "stderr",
     "output_type": "stream",
     "text": [
      "/home/josh/workspace/tacotron/lib/pulsemodel/synthesis.py:119: UserWarning: \n",
      "\n",
      "WARNING: The maximum window length (63999) is bigger than the DFT length (4096). Please, increase the DFT length of your spectral features (the second dimension) or check if the f0 curve has extremly low values and try to clip them to higher values (at least higher than 50Hz). The f0 curve has been clipped to 15.625Hz.\n",
      "\n",
      "\n",
      "  warnings.warn('\\n\\nWARNING: The maximum window length ({}) is bigger than the DFT length ({}). Please, increase the DFT length of your spectral features (the second dimension) or check if the f0 curve has extremly low values and try to clip them to higher values (at least higher than 50Hz). The f0 curve has been clipped to {}Hz.\\n\\n'.format(winlenmax, dftlen, winnbper*fs/float(dftlen))) # pragma: no cover\n"
     ]
    },
    {
     "name": "stdout",
     "output_type": "stream",
     "text": [
      "    Forcing binary noise mask\n",
      "    Forcing binary noise mask\n"
     ]
    },
    {
     "name": "stderr",
     "output_type": "stream",
     "text": [
      "/home/josh/workspace/tacotron/lib/pulsemodel/synthesis.py:119: UserWarning: \n",
      "\n",
      "WARNING: The maximum window length (63999) is bigger than the DFT length (4096). Please, increase the DFT length of your spectral features (the second dimension) or check if the f0 curve has extremly low values and try to clip them to higher values (at least higher than 50Hz). The f0 curve has been clipped to 15.625Hz.\n",
      "\n",
      "\n",
      "  warnings.warn('\\n\\nWARNING: The maximum window length ({}) is bigger than the DFT length ({}). Please, increase the DFT length of your spectral features (the second dimension) or check if the f0 curve has extremly low values and try to clip them to higher values (at least higher than 50Hz). The f0 curve has been clipped to {}Hz.\\n\\n'.format(winlenmax, dftlen, winnbper*fs/float(dftlen))) # pragma: no cover\n"
     ]
    },
    {
     "name": "stdout",
     "output_type": "stream",
     "text": [
      "    Forcing binary noise mask\n",
      "    Forcing binary noise mask\n",
      "    Forcing binary noise mask\n",
      "    Forcing binary noise mask\n"
     ]
    },
    {
     "name": "stderr",
     "output_type": "stream",
     "text": [
      "/home/josh/workspace/tacotron/lib/pulsemodel/synthesis.py:119: UserWarning: \n",
      "\n",
      "WARNING: The maximum window length (63999) is bigger than the DFT length (4096). Please, increase the DFT length of your spectral features (the second dimension) or check if the f0 curve has extremly low values and try to clip them to higher values (at least higher than 50Hz). The f0 curve has been clipped to 15.625Hz.\n",
      "\n",
      "\n",
      "  warnings.warn('\\n\\nWARNING: The maximum window length ({}) is bigger than the DFT length ({}). Please, increase the DFT length of your spectral features (the second dimension) or check if the f0 curve has extremly low values and try to clip them to higher values (at least higher than 50Hz). The f0 curve has been clipped to {}Hz.\\n\\n'.format(winlenmax, dftlen, winnbper*fs/float(dftlen))) # pragma: no cover\n"
     ]
    },
    {
     "name": "stdout",
     "output_type": "stream",
     "text": [
      "    Forcing binary noise mask\n"
     ]
    },
    {
     "name": "stderr",
     "output_type": "stream",
     "text": [
      "/home/josh/workspace/tacotron/lib/pulsemodel/synthesis.py:119: UserWarning: \n",
      "\n",
      "WARNING: The maximum window length (63999) is bigger than the DFT length (4096). Please, increase the DFT length of your spectral features (the second dimension) or check if the f0 curve has extremly low values and try to clip them to higher values (at least higher than 50Hz). The f0 curve has been clipped to 15.625Hz.\n",
      "\n",
      "\n",
      "  warnings.warn('\\n\\nWARNING: The maximum window length ({}) is bigger than the DFT length ({}). Please, increase the DFT length of your spectral features (the second dimension) or check if the f0 curve has extremly low values and try to clip them to higher values (at least higher than 50Hz). The f0 curve has been clipped to {}Hz.\\n\\n'.format(winlenmax, dftlen, winnbper*fs/float(dftlen))) # pragma: no cover\n"
     ]
    },
    {
     "name": "stdout",
     "output_type": "stream",
     "text": [
      "    Forcing binary noise mask\n",
      "    Forcing binary noise mask\n"
     ]
    },
    {
     "name": "stderr",
     "output_type": "stream",
     "text": [
      "/home/josh/workspace/tacotron/lib/pulsemodel/synthesis.py:119: UserWarning: \n",
      "\n",
      "WARNING: The maximum window length (63999) is bigger than the DFT length (4096). Please, increase the DFT length of your spectral features (the second dimension) or check if the f0 curve has extremly low values and try to clip them to higher values (at least higher than 50Hz). The f0 curve has been clipped to 15.625Hz.\n",
      "\n",
      "\n",
      "  warnings.warn('\\n\\nWARNING: The maximum window length ({}) is bigger than the DFT length ({}). Please, increase the DFT length of your spectral features (the second dimension) or check if the f0 curve has extremly low values and try to clip them to higher values (at least higher than 50Hz). The f0 curve has been clipped to {}Hz.\\n\\n'.format(winlenmax, dftlen, winnbper*fs/float(dftlen))) # pragma: no cover\n"
     ]
    },
    {
     "name": "stdout",
     "output_type": "stream",
     "text": [
      "    Forcing binary noise mask\n"
     ]
    },
    {
     "name": "stderr",
     "output_type": "stream",
     "text": [
      "/home/josh/workspace/tacotron/lib/pulsemodel/synthesis.py:119: UserWarning: \n",
      "\n",
      "WARNING: The maximum window length (63983) is bigger than the DFT length (4096). Please, increase the DFT length of your spectral features (the second dimension) or check if the f0 curve has extremly low values and try to clip them to higher values (at least higher than 50Hz). The f0 curve has been clipped to 15.625Hz.\n",
      "\n",
      "\n",
      "  warnings.warn('\\n\\nWARNING: The maximum window length ({}) is bigger than the DFT length ({}). Please, increase the DFT length of your spectral features (the second dimension) or check if the f0 curve has extremly low values and try to clip them to higher values (at least higher than 50Hz). The f0 curve has been clipped to {}Hz.\\n\\n'.format(winlenmax, dftlen, winnbper*fs/float(dftlen))) # pragma: no cover\n"
     ]
    },
    {
     "name": "stdout",
     "output_type": "stream",
     "text": [
      "    Forcing binary noise mask\n",
      "    Forcing binary noise mask\n",
      "    Forcing binary noise mask\n"
     ]
    },
    {
     "name": "stderr",
     "output_type": "stream",
     "text": [
      "/home/josh/workspace/tacotron/lib/pulsemodel/synthesis.py:119: UserWarning: \n",
      "\n",
      "WARNING: The maximum window length (63989) is bigger than the DFT length (4096). Please, increase the DFT length of your spectral features (the second dimension) or check if the f0 curve has extremly low values and try to clip them to higher values (at least higher than 50Hz). The f0 curve has been clipped to 15.625Hz.\n",
      "\n",
      "\n",
      "  warnings.warn('\\n\\nWARNING: The maximum window length ({}) is bigger than the DFT length ({}). Please, increase the DFT length of your spectral features (the second dimension) or check if the f0 curve has extremly low values and try to clip them to higher values (at least higher than 50Hz). The f0 curve has been clipped to {}Hz.\\n\\n'.format(winlenmax, dftlen, winnbper*fs/float(dftlen))) # pragma: no cover\n"
     ]
    },
    {
     "name": "stdout",
     "output_type": "stream",
     "text": [
      "    Forcing binary noise mask\n"
     ]
    },
    {
     "name": "stderr",
     "output_type": "stream",
     "text": [
      "/home/josh/workspace/tacotron/lib/pulsemodel/synthesis.py:119: UserWarning: \n",
      "\n",
      "WARNING: The maximum window length (63999) is bigger than the DFT length (4096). Please, increase the DFT length of your spectral features (the second dimension) or check if the f0 curve has extremly low values and try to clip them to higher values (at least higher than 50Hz). The f0 curve has been clipped to 15.625Hz.\n",
      "\n",
      "\n",
      "  warnings.warn('\\n\\nWARNING: The maximum window length ({}) is bigger than the DFT length ({}). Please, increase the DFT length of your spectral features (the second dimension) or check if the f0 curve has extremly low values and try to clip them to higher values (at least higher than 50Hz). The f0 curve has been clipped to {}Hz.\\n\\n'.format(winlenmax, dftlen, winnbper*fs/float(dftlen))) # pragma: no cover\n"
     ]
    },
    {
     "name": "stdout",
     "output_type": "stream",
     "text": [
      "    Forcing binary noise mask\n"
     ]
    },
    {
     "name": "stderr",
     "output_type": "stream",
     "text": [
      "/home/josh/workspace/tacotron/lib/pulsemodel/synthesis.py:119: UserWarning: \n",
      "\n",
      "WARNING: The maximum window length (63999) is bigger than the DFT length (4096). Please, increase the DFT length of your spectral features (the second dimension) or check if the f0 curve has extremly low values and try to clip them to higher values (at least higher than 50Hz). The f0 curve has been clipped to 15.625Hz.\n",
      "\n",
      "\n",
      "  warnings.warn('\\n\\nWARNING: The maximum window length ({}) is bigger than the DFT length ({}). Please, increase the DFT length of your spectral features (the second dimension) or check if the f0 curve has extremly low values and try to clip them to higher values (at least higher than 50Hz). The f0 curve has been clipped to {}Hz.\\n\\n'.format(winlenmax, dftlen, winnbper*fs/float(dftlen))) # pragma: no cover\n"
     ]
    },
    {
     "name": "stdout",
     "output_type": "stream",
     "text": [
      "    Forcing binary noise mask\n"
     ]
    },
    {
     "name": "stderr",
     "output_type": "stream",
     "text": [
      "/home/josh/workspace/tacotron/lib/pulsemodel/synthesis.py:119: UserWarning: \n",
      "\n",
      "WARNING: The maximum window length (63999) is bigger than the DFT length (4096). Please, increase the DFT length of your spectral features (the second dimension) or check if the f0 curve has extremly low values and try to clip them to higher values (at least higher than 50Hz). The f0 curve has been clipped to 15.625Hz.\n",
      "\n",
      "\n",
      "  warnings.warn('\\n\\nWARNING: The maximum window length ({}) is bigger than the DFT length ({}). Please, increase the DFT length of your spectral features (the second dimension) or check if the f0 curve has extremly low values and try to clip them to higher values (at least higher than 50Hz). The f0 curve has been clipped to {}Hz.\\n\\n'.format(winlenmax, dftlen, winnbper*fs/float(dftlen))) # pragma: no cover\n"
     ]
    },
    {
     "name": "stdout",
     "output_type": "stream",
     "text": [
      "    Forcing binary noise mask\n"
     ]
    },
    {
     "name": "stderr",
     "output_type": "stream",
     "text": [
      "/home/josh/workspace/tacotron/lib/pulsemodel/synthesis.py:119: UserWarning: \n",
      "\n",
      "WARNING: The maximum window length (63997) is bigger than the DFT length (4096). Please, increase the DFT length of your spectral features (the second dimension) or check if the f0 curve has extremly low values and try to clip them to higher values (at least higher than 50Hz). The f0 curve has been clipped to 15.625Hz.\n",
      "\n",
      "\n",
      "  warnings.warn('\\n\\nWARNING: The maximum window length ({}) is bigger than the DFT length ({}). Please, increase the DFT length of your spectral features (the second dimension) or check if the f0 curve has extremly low values and try to clip them to higher values (at least higher than 50Hz). The f0 curve has been clipped to {}Hz.\\n\\n'.format(winlenmax, dftlen, winnbper*fs/float(dftlen))) # pragma: no cover\n"
     ]
    },
    {
     "name": "stdout",
     "output_type": "stream",
     "text": [
      "    Forcing binary noise mask\n"
     ]
    },
    {
     "name": "stderr",
     "output_type": "stream",
     "text": [
      "/home/josh/workspace/tacotron/lib/pulsemodel/synthesis.py:119: UserWarning: \n",
      "\n",
      "WARNING: The maximum window length (63983) is bigger than the DFT length (4096). Please, increase the DFT length of your spectral features (the second dimension) or check if the f0 curve has extremly low values and try to clip them to higher values (at least higher than 50Hz). The f0 curve has been clipped to 15.625Hz.\n",
      "\n",
      "\n",
      "  warnings.warn('\\n\\nWARNING: The maximum window length ({}) is bigger than the DFT length ({}). Please, increase the DFT length of your spectral features (the second dimension) or check if the f0 curve has extremly low values and try to clip them to higher values (at least higher than 50Hz). The f0 curve has been clipped to {}Hz.\\n\\n'.format(winlenmax, dftlen, winnbper*fs/float(dftlen))) # pragma: no cover\n"
     ]
    },
    {
     "name": "stdout",
     "output_type": "stream",
     "text": [
      "    Forcing binary noise mask\n"
     ]
    },
    {
     "name": "stderr",
     "output_type": "stream",
     "text": [
      "/home/josh/workspace/tacotron/lib/pulsemodel/synthesis.py:119: UserWarning: \n",
      "\n",
      "WARNING: The maximum window length (63999) is bigger than the DFT length (4096). Please, increase the DFT length of your spectral features (the second dimension) or check if the f0 curve has extremly low values and try to clip them to higher values (at least higher than 50Hz). The f0 curve has been clipped to 15.625Hz.\n",
      "\n",
      "\n",
      "  warnings.warn('\\n\\nWARNING: The maximum window length ({}) is bigger than the DFT length ({}). Please, increase the DFT length of your spectral features (the second dimension) or check if the f0 curve has extremly low values and try to clip them to higher values (at least higher than 50Hz). The f0 curve has been clipped to {}Hz.\\n\\n'.format(winlenmax, dftlen, winnbper*fs/float(dftlen))) # pragma: no cover\n"
     ]
    },
    {
     "name": "stdout",
     "output_type": "stream",
     "text": [
      "    Forcing binary noise mask\n"
     ]
    },
    {
     "name": "stderr",
     "output_type": "stream",
     "text": [
      "/home/josh/workspace/tacotron/lib/pulsemodel/synthesis.py:119: UserWarning: \n",
      "\n",
      "WARNING: The maximum window length (63999) is bigger than the DFT length (4096). Please, increase the DFT length of your spectral features (the second dimension) or check if the f0 curve has extremly low values and try to clip them to higher values (at least higher than 50Hz). The f0 curve has been clipped to 15.625Hz.\n",
      "\n",
      "\n",
      "  warnings.warn('\\n\\nWARNING: The maximum window length ({}) is bigger than the DFT length ({}). Please, increase the DFT length of your spectral features (the second dimension) or check if the f0 curve has extremly low values and try to clip them to higher values (at least higher than 50Hz). The f0 curve has been clipped to {}Hz.\\n\\n'.format(winlenmax, dftlen, winnbper*fs/float(dftlen))) # pragma: no cover\n"
     ]
    },
    {
     "name": "stdout",
     "output_type": "stream",
     "text": [
      "    Forcing binary noise mask\n"
     ]
    },
    {
     "name": "stderr",
     "output_type": "stream",
     "text": [
      "/home/josh/workspace/tacotron/lib/pulsemodel/synthesis.py:119: UserWarning: \n",
      "\n",
      "WARNING: The maximum window length (63949) is bigger than the DFT length (4096). Please, increase the DFT length of your spectral features (the second dimension) or check if the f0 curve has extremly low values and try to clip them to higher values (at least higher than 50Hz). The f0 curve has been clipped to 15.625Hz.\n",
      "\n",
      "\n",
      "  warnings.warn('\\n\\nWARNING: The maximum window length ({}) is bigger than the DFT length ({}). Please, increase the DFT length of your spectral features (the second dimension) or check if the f0 curve has extremly low values and try to clip them to higher values (at least higher than 50Hz). The f0 curve has been clipped to {}Hz.\\n\\n'.format(winlenmax, dftlen, winnbper*fs/float(dftlen))) # pragma: no cover\n"
     ]
    },
    {
     "name": "stdout",
     "output_type": "stream",
     "text": [
      "    Forcing binary noise mask\n"
     ]
    },
    {
     "name": "stderr",
     "output_type": "stream",
     "text": [
      "/home/josh/workspace/tacotron/lib/pulsemodel/synthesis.py:119: UserWarning: \n",
      "\n",
      "WARNING: The maximum window length (63987) is bigger than the DFT length (4096). Please, increase the DFT length of your spectral features (the second dimension) or check if the f0 curve has extremly low values and try to clip them to higher values (at least higher than 50Hz). The f0 curve has been clipped to 15.625Hz.\n",
      "\n",
      "\n",
      "  warnings.warn('\\n\\nWARNING: The maximum window length ({}) is bigger than the DFT length ({}). Please, increase the DFT length of your spectral features (the second dimension) or check if the f0 curve has extremly low values and try to clip them to higher values (at least higher than 50Hz). The f0 curve has been clipped to {}Hz.\\n\\n'.format(winlenmax, dftlen, winnbper*fs/float(dftlen))) # pragma: no cover\n"
     ]
    },
    {
     "name": "stdout",
     "output_type": "stream",
     "text": [
      "    Forcing binary noise mask\n"
     ]
    },
    {
     "name": "stderr",
     "output_type": "stream",
     "text": [
      "/home/josh/workspace/tacotron/lib/pulsemodel/synthesis.py:119: UserWarning: \n",
      "\n",
      "WARNING: The maximum window length (63999) is bigger than the DFT length (4096). Please, increase the DFT length of your spectral features (the second dimension) or check if the f0 curve has extremly low values and try to clip them to higher values (at least higher than 50Hz). The f0 curve has been clipped to 15.625Hz.\n",
      "\n",
      "\n",
      "  warnings.warn('\\n\\nWARNING: The maximum window length ({}) is bigger than the DFT length ({}). Please, increase the DFT length of your spectral features (the second dimension) or check if the f0 curve has extremly low values and try to clip them to higher values (at least higher than 50Hz). The f0 curve has been clipped to {}Hz.\\n\\n'.format(winlenmax, dftlen, winnbper*fs/float(dftlen))) # pragma: no cover\n"
     ]
    },
    {
     "name": "stdout",
     "output_type": "stream",
     "text": [
      "    Forcing binary noise mask\n"
     ]
    },
    {
     "name": "stderr",
     "output_type": "stream",
     "text": [
      "/home/josh/workspace/tacotron/lib/pulsemodel/synthesis.py:119: UserWarning: \n",
      "\n",
      "WARNING: The maximum window length (63999) is bigger than the DFT length (4096). Please, increase the DFT length of your spectral features (the second dimension) or check if the f0 curve has extremly low values and try to clip them to higher values (at least higher than 50Hz). The f0 curve has been clipped to 15.625Hz.\n",
      "\n",
      "\n",
      "  warnings.warn('\\n\\nWARNING: The maximum window length ({}) is bigger than the DFT length ({}). Please, increase the DFT length of your spectral features (the second dimension) or check if the f0 curve has extremly low values and try to clip them to higher values (at least higher than 50Hz). The f0 curve has been clipped to {}Hz.\\n\\n'.format(winlenmax, dftlen, winnbper*fs/float(dftlen))) # pragma: no cover\n"
     ]
    },
    {
     "name": "stdout",
     "output_type": "stream",
     "text": [
      "    Forcing binary noise mask\n",
      "    Forcing binary noise mask\n"
     ]
    },
    {
     "name": "stderr",
     "output_type": "stream",
     "text": [
      "/home/josh/workspace/tacotron/lib/pulsemodel/synthesis.py:119: UserWarning: \n",
      "\n",
      "WARNING: The maximum window length (63999) is bigger than the DFT length (4096). Please, increase the DFT length of your spectral features (the second dimension) or check if the f0 curve has extremly low values and try to clip them to higher values (at least higher than 50Hz). The f0 curve has been clipped to 15.625Hz.\n",
      "\n",
      "\n",
      "  warnings.warn('\\n\\nWARNING: The maximum window length ({}) is bigger than the DFT length ({}). Please, increase the DFT length of your spectral features (the second dimension) or check if the f0 curve has extremly low values and try to clip them to higher values (at least higher than 50Hz). The f0 curve has been clipped to {}Hz.\\n\\n'.format(winlenmax, dftlen, winnbper*fs/float(dftlen))) # pragma: no cover\n"
     ]
    },
    {
     "name": "stdout",
     "output_type": "stream",
     "text": [
      "    Forcing binary noise mask\n"
     ]
    },
    {
     "name": "stderr",
     "output_type": "stream",
     "text": [
      "/home/josh/workspace/tacotron/lib/pulsemodel/synthesis.py:119: UserWarning: \n",
      "\n",
      "WARNING: The maximum window length (63999) is bigger than the DFT length (4096). Please, increase the DFT length of your spectral features (the second dimension) or check if the f0 curve has extremly low values and try to clip them to higher values (at least higher than 50Hz). The f0 curve has been clipped to 15.625Hz.\n",
      "\n",
      "\n",
      "  warnings.warn('\\n\\nWARNING: The maximum window length ({}) is bigger than the DFT length ({}). Please, increase the DFT length of your spectral features (the second dimension) or check if the f0 curve has extremly low values and try to clip them to higher values (at least higher than 50Hz). The f0 curve has been clipped to {}Hz.\\n\\n'.format(winlenmax, dftlen, winnbper*fs/float(dftlen))) # pragma: no cover\n"
     ]
    },
    {
     "name": "stdout",
     "output_type": "stream",
     "text": [
      "    Forcing binary noise mask\n"
     ]
    },
    {
     "name": "stderr",
     "output_type": "stream",
     "text": [
      "/home/josh/workspace/tacotron/lib/pulsemodel/synthesis.py:119: UserWarning: \n",
      "\n",
      "WARNING: The maximum window length (63999) is bigger than the DFT length (4096). Please, increase the DFT length of your spectral features (the second dimension) or check if the f0 curve has extremly low values and try to clip them to higher values (at least higher than 50Hz). The f0 curve has been clipped to 15.625Hz.\n",
      "\n",
      "\n",
      "  warnings.warn('\\n\\nWARNING: The maximum window length ({}) is bigger than the DFT length ({}). Please, increase the DFT length of your spectral features (the second dimension) or check if the f0 curve has extremly low values and try to clip them to higher values (at least higher than 50Hz). The f0 curve has been clipped to {}Hz.\\n\\n'.format(winlenmax, dftlen, winnbper*fs/float(dftlen))) # pragma: no cover\n"
     ]
    },
    {
     "name": "stdout",
     "output_type": "stream",
     "text": [
      "    Forcing binary noise mask\n"
     ]
    },
    {
     "name": "stderr",
     "output_type": "stream",
     "text": [
      "/home/josh/workspace/tacotron/lib/pulsemodel/synthesis.py:119: UserWarning: \n",
      "\n",
      "WARNING: The maximum window length (63981) is bigger than the DFT length (4096). Please, increase the DFT length of your spectral features (the second dimension) or check if the f0 curve has extremly low values and try to clip them to higher values (at least higher than 50Hz). The f0 curve has been clipped to 15.625Hz.\n",
      "\n",
      "\n",
      "  warnings.warn('\\n\\nWARNING: The maximum window length ({}) is bigger than the DFT length ({}). Please, increase the DFT length of your spectral features (the second dimension) or check if the f0 curve has extremly low values and try to clip them to higher values (at least higher than 50Hz). The f0 curve has been clipped to {}Hz.\\n\\n'.format(winlenmax, dftlen, winnbper*fs/float(dftlen))) # pragma: no cover\n"
     ]
    },
    {
     "name": "stdout",
     "output_type": "stream",
     "text": [
      "    Forcing binary noise mask\n"
     ]
    },
    {
     "name": "stderr",
     "output_type": "stream",
     "text": [
      "/home/josh/workspace/tacotron/lib/pulsemodel/synthesis.py:119: UserWarning: \n",
      "\n",
      "WARNING: The maximum window length (63999) is bigger than the DFT length (4096). Please, increase the DFT length of your spectral features (the second dimension) or check if the f0 curve has extremly low values and try to clip them to higher values (at least higher than 50Hz). The f0 curve has been clipped to 15.625Hz.\n",
      "\n",
      "\n",
      "  warnings.warn('\\n\\nWARNING: The maximum window length ({}) is bigger than the DFT length ({}). Please, increase the DFT length of your spectral features (the second dimension) or check if the f0 curve has extremly low values and try to clip them to higher values (at least higher than 50Hz). The f0 curve has been clipped to {}Hz.\\n\\n'.format(winlenmax, dftlen, winnbper*fs/float(dftlen))) # pragma: no cover\n"
     ]
    },
    {
     "name": "stdout",
     "output_type": "stream",
     "text": [
      "    Forcing binary noise mask\n"
     ]
    },
    {
     "name": "stderr",
     "output_type": "stream",
     "text": [
      "/home/josh/workspace/tacotron/lib/pulsemodel/synthesis.py:119: UserWarning: \n",
      "\n",
      "WARNING: The maximum window length (63997) is bigger than the DFT length (4096). Please, increase the DFT length of your spectral features (the second dimension) or check if the f0 curve has extremly low values and try to clip them to higher values (at least higher than 50Hz). The f0 curve has been clipped to 15.625Hz.\n",
      "\n",
      "\n",
      "  warnings.warn('\\n\\nWARNING: The maximum window length ({}) is bigger than the DFT length ({}). Please, increase the DFT length of your spectral features (the second dimension) or check if the f0 curve has extremly low values and try to clip them to higher values (at least higher than 50Hz). The f0 curve has been clipped to {}Hz.\\n\\n'.format(winlenmax, dftlen, winnbper*fs/float(dftlen))) # pragma: no cover\n"
     ]
    },
    {
     "name": "stdout",
     "output_type": "stream",
     "text": [
      "    Forcing binary noise mask\n"
     ]
    },
    {
     "name": "stderr",
     "output_type": "stream",
     "text": [
      "/home/josh/workspace/tacotron/lib/pulsemodel/synthesis.py:119: UserWarning: \n",
      "\n",
      "WARNING: The maximum window length (63975) is bigger than the DFT length (4096). Please, increase the DFT length of your spectral features (the second dimension) or check if the f0 curve has extremly low values and try to clip them to higher values (at least higher than 50Hz). The f0 curve has been clipped to 15.625Hz.\n",
      "\n",
      "\n",
      "  warnings.warn('\\n\\nWARNING: The maximum window length ({}) is bigger than the DFT length ({}). Please, increase the DFT length of your spectral features (the second dimension) or check if the f0 curve has extremly low values and try to clip them to higher values (at least higher than 50Hz). The f0 curve has been clipped to {}Hz.\\n\\n'.format(winlenmax, dftlen, winnbper*fs/float(dftlen))) # pragma: no cover\n"
     ]
    },
    {
     "name": "stdout",
     "output_type": "stream",
     "text": [
      "    Forcing binary noise mask\n"
     ]
    },
    {
     "name": "stderr",
     "output_type": "stream",
     "text": [
      "/home/josh/workspace/tacotron/lib/pulsemodel/synthesis.py:119: UserWarning: \n",
      "\n",
      "WARNING: The maximum window length (63983) is bigger than the DFT length (4096). Please, increase the DFT length of your spectral features (the second dimension) or check if the f0 curve has extremly low values and try to clip them to higher values (at least higher than 50Hz). The f0 curve has been clipped to 15.625Hz.\n",
      "\n",
      "\n",
      "  warnings.warn('\\n\\nWARNING: The maximum window length ({}) is bigger than the DFT length ({}). Please, increase the DFT length of your spectral features (the second dimension) or check if the f0 curve has extremly low values and try to clip them to higher values (at least higher than 50Hz). The f0 curve has been clipped to {}Hz.\\n\\n'.format(winlenmax, dftlen, winnbper*fs/float(dftlen))) # pragma: no cover\n"
     ]
    },
    {
     "name": "stdout",
     "output_type": "stream",
     "text": [
      "    Forcing binary noise mask\n",
      "    Forcing binary noise mask\n"
     ]
    },
    {
     "name": "stderr",
     "output_type": "stream",
     "text": [
      "/home/josh/workspace/tacotron/lib/pulsemodel/synthesis.py:119: UserWarning: \n",
      "\n",
      "WARNING: The maximum window length (63999) is bigger than the DFT length (4096). Please, increase the DFT length of your spectral features (the second dimension) or check if the f0 curve has extremly low values and try to clip them to higher values (at least higher than 50Hz). The f0 curve has been clipped to 15.625Hz.\n",
      "\n",
      "\n",
      "  warnings.warn('\\n\\nWARNING: The maximum window length ({}) is bigger than the DFT length ({}). Please, increase the DFT length of your spectral features (the second dimension) or check if the f0 curve has extremly low values and try to clip them to higher values (at least higher than 50Hz). The f0 curve has been clipped to {}Hz.\\n\\n'.format(winlenmax, dftlen, winnbper*fs/float(dftlen))) # pragma: no cover\n"
     ]
    },
    {
     "name": "stdout",
     "output_type": "stream",
     "text": [
      "    Forcing binary noise mask\n"
     ]
    },
    {
     "name": "stderr",
     "output_type": "stream",
     "text": [
      "/home/josh/workspace/tacotron/lib/pulsemodel/synthesis.py:119: UserWarning: \n",
      "\n",
      "WARNING: The maximum window length (63999) is bigger than the DFT length (4096). Please, increase the DFT length of your spectral features (the second dimension) or check if the f0 curve has extremly low values and try to clip them to higher values (at least higher than 50Hz). The f0 curve has been clipped to 15.625Hz.\n",
      "\n",
      "\n",
      "  warnings.warn('\\n\\nWARNING: The maximum window length ({}) is bigger than the DFT length ({}). Please, increase the DFT length of your spectral features (the second dimension) or check if the f0 curve has extremly low values and try to clip them to higher values (at least higher than 50Hz). The f0 curve has been clipped to {}Hz.\\n\\n'.format(winlenmax, dftlen, winnbper*fs/float(dftlen))) # pragma: no cover\n"
     ]
    },
    {
     "name": "stdout",
     "output_type": "stream",
     "text": [
      "    Forcing binary noise mask\n"
     ]
    },
    {
     "name": "stderr",
     "output_type": "stream",
     "text": [
      "/home/josh/workspace/tacotron/lib/pulsemodel/synthesis.py:119: UserWarning: \n",
      "\n",
      "WARNING: The maximum window length (63999) is bigger than the DFT length (4096). Please, increase the DFT length of your spectral features (the second dimension) or check if the f0 curve has extremly low values and try to clip them to higher values (at least higher than 50Hz). The f0 curve has been clipped to 15.625Hz.\n",
      "\n",
      "\n",
      "  warnings.warn('\\n\\nWARNING: The maximum window length ({}) is bigger than the DFT length ({}). Please, increase the DFT length of your spectral features (the second dimension) or check if the f0 curve has extremly low values and try to clip them to higher values (at least higher than 50Hz). The f0 curve has been clipped to {}Hz.\\n\\n'.format(winlenmax, dftlen, winnbper*fs/float(dftlen))) # pragma: no cover\n"
     ]
    },
    {
     "name": "stdout",
     "output_type": "stream",
     "text": [
      "    Forcing binary noise mask\n"
     ]
    },
    {
     "name": "stderr",
     "output_type": "stream",
     "text": [
      "/home/josh/workspace/tacotron/lib/pulsemodel/synthesis.py:119: UserWarning: \n",
      "\n",
      "WARNING: The maximum window length (63999) is bigger than the DFT length (4096). Please, increase the DFT length of your spectral features (the second dimension) or check if the f0 curve has extremly low values and try to clip them to higher values (at least higher than 50Hz). The f0 curve has been clipped to 15.625Hz.\n",
      "\n",
      "\n",
      "  warnings.warn('\\n\\nWARNING: The maximum window length ({}) is bigger than the DFT length ({}). Please, increase the DFT length of your spectral features (the second dimension) or check if the f0 curve has extremly low values and try to clip them to higher values (at least higher than 50Hz). The f0 curve has been clipped to {}Hz.\\n\\n'.format(winlenmax, dftlen, winnbper*fs/float(dftlen))) # pragma: no cover\n"
     ]
    },
    {
     "name": "stdout",
     "output_type": "stream",
     "text": [
      "    Forcing binary noise mask\n"
     ]
    },
    {
     "name": "stderr",
     "output_type": "stream",
     "text": [
      "/home/josh/workspace/tacotron/lib/pulsemodel/synthesis.py:119: UserWarning: \n",
      "\n",
      "WARNING: The maximum window length (63991) is bigger than the DFT length (4096). Please, increase the DFT length of your spectral features (the second dimension) or check if the f0 curve has extremly low values and try to clip them to higher values (at least higher than 50Hz). The f0 curve has been clipped to 15.625Hz.\n",
      "\n",
      "\n",
      "  warnings.warn('\\n\\nWARNING: The maximum window length ({}) is bigger than the DFT length ({}). Please, increase the DFT length of your spectral features (the second dimension) or check if the f0 curve has extremly low values and try to clip them to higher values (at least higher than 50Hz). The f0 curve has been clipped to {}Hz.\\n\\n'.format(winlenmax, dftlen, winnbper*fs/float(dftlen))) # pragma: no cover\n"
     ]
    },
    {
     "name": "stdout",
     "output_type": "stream",
     "text": [
      "    Forcing binary noise mask\n"
     ]
    },
    {
     "name": "stderr",
     "output_type": "stream",
     "text": [
      "/home/josh/workspace/tacotron/lib/pulsemodel/synthesis.py:119: UserWarning: \n",
      "\n",
      "WARNING: The maximum window length (63999) is bigger than the DFT length (4096). Please, increase the DFT length of your spectral features (the second dimension) or check if the f0 curve has extremly low values and try to clip them to higher values (at least higher than 50Hz). The f0 curve has been clipped to 15.625Hz.\n",
      "\n",
      "\n",
      "  warnings.warn('\\n\\nWARNING: The maximum window length ({}) is bigger than the DFT length ({}). Please, increase the DFT length of your spectral features (the second dimension) or check if the f0 curve has extremly low values and try to clip them to higher values (at least higher than 50Hz). The f0 curve has been clipped to {}Hz.\\n\\n'.format(winlenmax, dftlen, winnbper*fs/float(dftlen))) # pragma: no cover\n"
     ]
    },
    {
     "name": "stdout",
     "output_type": "stream",
     "text": [
      "    Forcing binary noise mask\n",
      "    Forcing binary noise mask\n",
      "    Forcing binary noise mask\n",
      "    Forcing binary noise mask\n"
     ]
    },
    {
     "name": "stderr",
     "output_type": "stream",
     "text": [
      "/home/josh/workspace/tacotron/lib/pulsemodel/synthesis.py:119: UserWarning: \n",
      "\n",
      "WARNING: The maximum window length (63999) is bigger than the DFT length (4096). Please, increase the DFT length of your spectral features (the second dimension) or check if the f0 curve has extremly low values and try to clip them to higher values (at least higher than 50Hz). The f0 curve has been clipped to 15.625Hz.\n",
      "\n",
      "\n",
      "  warnings.warn('\\n\\nWARNING: The maximum window length ({}) is bigger than the DFT length ({}). Please, increase the DFT length of your spectral features (the second dimension) or check if the f0 curve has extremly low values and try to clip them to higher values (at least higher than 50Hz). The f0 curve has been clipped to {}Hz.\\n\\n'.format(winlenmax, dftlen, winnbper*fs/float(dftlen))) # pragma: no cover\n"
     ]
    },
    {
     "name": "stdout",
     "output_type": "stream",
     "text": [
      "    Forcing binary noise mask\n",
      "    Forcing binary noise mask\n"
     ]
    },
    {
     "name": "stderr",
     "output_type": "stream",
     "text": [
      "/home/josh/workspace/tacotron/lib/pulsemodel/synthesis.py:119: UserWarning: \n",
      "\n",
      "WARNING: The maximum window length (63999) is bigger than the DFT length (4096). Please, increase the DFT length of your spectral features (the second dimension) or check if the f0 curve has extremly low values and try to clip them to higher values (at least higher than 50Hz). The f0 curve has been clipped to 15.625Hz.\n",
      "\n",
      "\n",
      "  warnings.warn('\\n\\nWARNING: The maximum window length ({}) is bigger than the DFT length ({}). Please, increase the DFT length of your spectral features (the second dimension) or check if the f0 curve has extremly low values and try to clip them to higher values (at least higher than 50Hz). The f0 curve has been clipped to {}Hz.\\n\\n'.format(winlenmax, dftlen, winnbper*fs/float(dftlen))) # pragma: no cover\n"
     ]
    },
    {
     "name": "stdout",
     "output_type": "stream",
     "text": [
      "    Forcing binary noise mask\n"
     ]
    },
    {
     "name": "stderr",
     "output_type": "stream",
     "text": [
      "/home/josh/workspace/tacotron/lib/pulsemodel/synthesis.py:119: UserWarning: \n",
      "\n",
      "WARNING: The maximum window length (63999) is bigger than the DFT length (4096). Please, increase the DFT length of your spectral features (the second dimension) or check if the f0 curve has extremly low values and try to clip them to higher values (at least higher than 50Hz). The f0 curve has been clipped to 15.625Hz.\n",
      "\n",
      "\n",
      "  warnings.warn('\\n\\nWARNING: The maximum window length ({}) is bigger than the DFT length ({}). Please, increase the DFT length of your spectral features (the second dimension) or check if the f0 curve has extremly low values and try to clip them to higher values (at least higher than 50Hz). The f0 curve has been clipped to {}Hz.\\n\\n'.format(winlenmax, dftlen, winnbper*fs/float(dftlen))) # pragma: no cover\n"
     ]
    },
    {
     "name": "stdout",
     "output_type": "stream",
     "text": [
      "    Forcing binary noise mask\n"
     ]
    },
    {
     "name": "stderr",
     "output_type": "stream",
     "text": [
      "/home/josh/workspace/tacotron/lib/pulsemodel/synthesis.py:119: UserWarning: \n",
      "\n",
      "WARNING: The maximum window length (63999) is bigger than the DFT length (4096). Please, increase the DFT length of your spectral features (the second dimension) or check if the f0 curve has extremly low values and try to clip them to higher values (at least higher than 50Hz). The f0 curve has been clipped to 15.625Hz.\n",
      "\n",
      "\n",
      "  warnings.warn('\\n\\nWARNING: The maximum window length ({}) is bigger than the DFT length ({}). Please, increase the DFT length of your spectral features (the second dimension) or check if the f0 curve has extremly low values and try to clip them to higher values (at least higher than 50Hz). The f0 curve has been clipped to {}Hz.\\n\\n'.format(winlenmax, dftlen, winnbper*fs/float(dftlen))) # pragma: no cover\n"
     ]
    },
    {
     "name": "stdout",
     "output_type": "stream",
     "text": [
      "    Forcing binary noise mask\n"
     ]
    },
    {
     "name": "stderr",
     "output_type": "stream",
     "text": [
      "/home/josh/workspace/tacotron/lib/pulsemodel/synthesis.py:119: UserWarning: \n",
      "\n",
      "WARNING: The maximum window length (63999) is bigger than the DFT length (4096). Please, increase the DFT length of your spectral features (the second dimension) or check if the f0 curve has extremly low values and try to clip them to higher values (at least higher than 50Hz). The f0 curve has been clipped to 15.625Hz.\n",
      "\n",
      "\n",
      "  warnings.warn('\\n\\nWARNING: The maximum window length ({}) is bigger than the DFT length ({}). Please, increase the DFT length of your spectral features (the second dimension) or check if the f0 curve has extremly low values and try to clip them to higher values (at least higher than 50Hz). The f0 curve has been clipped to {}Hz.\\n\\n'.format(winlenmax, dftlen, winnbper*fs/float(dftlen))) # pragma: no cover\n"
     ]
    },
    {
     "name": "stdout",
     "output_type": "stream",
     "text": [
      "    Forcing binary noise mask\n"
     ]
    },
    {
     "name": "stderr",
     "output_type": "stream",
     "text": [
      "/home/josh/workspace/tacotron/lib/pulsemodel/synthesis.py:119: UserWarning: \n",
      "\n",
      "WARNING: The maximum window length (63999) is bigger than the DFT length (4096). Please, increase the DFT length of your spectral features (the second dimension) or check if the f0 curve has extremly low values and try to clip them to higher values (at least higher than 50Hz). The f0 curve has been clipped to 15.625Hz.\n",
      "\n",
      "\n",
      "  warnings.warn('\\n\\nWARNING: The maximum window length ({}) is bigger than the DFT length ({}). Please, increase the DFT length of your spectral features (the second dimension) or check if the f0 curve has extremly low values and try to clip them to higher values (at least higher than 50Hz). The f0 curve has been clipped to {}Hz.\\n\\n'.format(winlenmax, dftlen, winnbper*fs/float(dftlen))) # pragma: no cover\n"
     ]
    },
    {
     "name": "stdout",
     "output_type": "stream",
     "text": [
      "    Forcing binary noise mask\n",
      "    Forcing binary noise mask\n",
      "    Forcing binary noise mask\n"
     ]
    },
    {
     "name": "stderr",
     "output_type": "stream",
     "text": [
      "/home/josh/workspace/tacotron/lib/pulsemodel/synthesis.py:119: UserWarning: \n",
      "\n",
      "WARNING: The maximum window length (63781) is bigger than the DFT length (4096). Please, increase the DFT length of your spectral features (the second dimension) or check if the f0 curve has extremly low values and try to clip them to higher values (at least higher than 50Hz). The f0 curve has been clipped to 15.625Hz.\n",
      "\n",
      "\n",
      "  warnings.warn('\\n\\nWARNING: The maximum window length ({}) is bigger than the DFT length ({}). Please, increase the DFT length of your spectral features (the second dimension) or check if the f0 curve has extremly low values and try to clip them to higher values (at least higher than 50Hz). The f0 curve has been clipped to {}Hz.\\n\\n'.format(winlenmax, dftlen, winnbper*fs/float(dftlen))) # pragma: no cover\n"
     ]
    },
    {
     "name": "stdout",
     "output_type": "stream",
     "text": [
      "    Forcing binary noise mask\n",
      "    Forcing binary noise mask\n",
      "    Forcing binary noise mask\n"
     ]
    },
    {
     "name": "stderr",
     "output_type": "stream",
     "text": [
      "/home/josh/workspace/tacotron/lib/pulsemodel/synthesis.py:119: UserWarning: \n",
      "\n",
      "WARNING: The maximum window length (63973) is bigger than the DFT length (4096). Please, increase the DFT length of your spectral features (the second dimension) or check if the f0 curve has extremly low values and try to clip them to higher values (at least higher than 50Hz). The f0 curve has been clipped to 15.625Hz.\n",
      "\n",
      "\n",
      "  warnings.warn('\\n\\nWARNING: The maximum window length ({}) is bigger than the DFT length ({}). Please, increase the DFT length of your spectral features (the second dimension) or check if the f0 curve has extremly low values and try to clip them to higher values (at least higher than 50Hz). The f0 curve has been clipped to {}Hz.\\n\\n'.format(winlenmax, dftlen, winnbper*fs/float(dftlen))) # pragma: no cover\n"
     ]
    },
    {
     "name": "stdout",
     "output_type": "stream",
     "text": [
      "    Forcing binary noise mask\n"
     ]
    },
    {
     "name": "stderr",
     "output_type": "stream",
     "text": [
      "/home/josh/workspace/tacotron/lib/pulsemodel/synthesis.py:119: UserWarning: \n",
      "\n",
      "WARNING: The maximum window length (63993) is bigger than the DFT length (4096). Please, increase the DFT length of your spectral features (the second dimension) or check if the f0 curve has extremly low values and try to clip them to higher values (at least higher than 50Hz). The f0 curve has been clipped to 15.625Hz.\n",
      "\n",
      "\n",
      "  warnings.warn('\\n\\nWARNING: The maximum window length ({}) is bigger than the DFT length ({}). Please, increase the DFT length of your spectral features (the second dimension) or check if the f0 curve has extremly low values and try to clip them to higher values (at least higher than 50Hz). The f0 curve has been clipped to {}Hz.\\n\\n'.format(winlenmax, dftlen, winnbper*fs/float(dftlen))) # pragma: no cover\n"
     ]
    },
    {
     "name": "stdout",
     "output_type": "stream",
     "text": [
      "    Forcing binary noise mask\n"
     ]
    },
    {
     "name": "stderr",
     "output_type": "stream",
     "text": [
      "/home/josh/workspace/tacotron/lib/pulsemodel/synthesis.py:119: UserWarning: \n",
      "\n",
      "WARNING: The maximum window length (63999) is bigger than the DFT length (4096). Please, increase the DFT length of your spectral features (the second dimension) or check if the f0 curve has extremly low values and try to clip them to higher values (at least higher than 50Hz). The f0 curve has been clipped to 15.625Hz.\n",
      "\n",
      "\n",
      "  warnings.warn('\\n\\nWARNING: The maximum window length ({}) is bigger than the DFT length ({}). Please, increase the DFT length of your spectral features (the second dimension) or check if the f0 curve has extremly low values and try to clip them to higher values (at least higher than 50Hz). The f0 curve has been clipped to {}Hz.\\n\\n'.format(winlenmax, dftlen, winnbper*fs/float(dftlen))) # pragma: no cover\n"
     ]
    },
    {
     "name": "stdout",
     "output_type": "stream",
     "text": [
      "    Forcing binary noise mask\n"
     ]
    },
    {
     "name": "stderr",
     "output_type": "stream",
     "text": [
      "/home/josh/workspace/tacotron/lib/pulsemodel/synthesis.py:119: UserWarning: \n",
      "\n",
      "WARNING: The maximum window length (63999) is bigger than the DFT length (4096). Please, increase the DFT length of your spectral features (the second dimension) or check if the f0 curve has extremly low values and try to clip them to higher values (at least higher than 50Hz). The f0 curve has been clipped to 15.625Hz.\n",
      "\n",
      "\n",
      "  warnings.warn('\\n\\nWARNING: The maximum window length ({}) is bigger than the DFT length ({}). Please, increase the DFT length of your spectral features (the second dimension) or check if the f0 curve has extremly low values and try to clip them to higher values (at least higher than 50Hz). The f0 curve has been clipped to {}Hz.\\n\\n'.format(winlenmax, dftlen, winnbper*fs/float(dftlen))) # pragma: no cover\n"
     ]
    },
    {
     "name": "stdout",
     "output_type": "stream",
     "text": [
      "    Forcing binary noise mask\n"
     ]
    },
    {
     "name": "stderr",
     "output_type": "stream",
     "text": [
      "/home/josh/workspace/tacotron/lib/pulsemodel/synthesis.py:119: UserWarning: \n",
      "\n",
      "WARNING: The maximum window length (63999) is bigger than the DFT length (4096). Please, increase the DFT length of your spectral features (the second dimension) or check if the f0 curve has extremly low values and try to clip them to higher values (at least higher than 50Hz). The f0 curve has been clipped to 15.625Hz.\n",
      "\n",
      "\n",
      "  warnings.warn('\\n\\nWARNING: The maximum window length ({}) is bigger than the DFT length ({}). Please, increase the DFT length of your spectral features (the second dimension) or check if the f0 curve has extremly low values and try to clip them to higher values (at least higher than 50Hz). The f0 curve has been clipped to {}Hz.\\n\\n'.format(winlenmax, dftlen, winnbper*fs/float(dftlen))) # pragma: no cover\n"
     ]
    },
    {
     "name": "stdout",
     "output_type": "stream",
     "text": [
      "    Forcing binary noise mask\n"
     ]
    },
    {
     "name": "stderr",
     "output_type": "stream",
     "text": [
      "/home/josh/workspace/tacotron/lib/pulsemodel/synthesis.py:119: UserWarning: \n",
      "\n",
      "WARNING: The maximum window length (63999) is bigger than the DFT length (4096). Please, increase the DFT length of your spectral features (the second dimension) or check if the f0 curve has extremly low values and try to clip them to higher values (at least higher than 50Hz). The f0 curve has been clipped to 15.625Hz.\n",
      "\n",
      "\n",
      "  warnings.warn('\\n\\nWARNING: The maximum window length ({}) is bigger than the DFT length ({}). Please, increase the DFT length of your spectral features (the second dimension) or check if the f0 curve has extremly low values and try to clip them to higher values (at least higher than 50Hz). The f0 curve has been clipped to {}Hz.\\n\\n'.format(winlenmax, dftlen, winnbper*fs/float(dftlen))) # pragma: no cover\n"
     ]
    },
    {
     "name": "stdout",
     "output_type": "stream",
     "text": [
      "    Forcing binary noise mask\n",
      "    Forcing binary noise mask\n"
     ]
    },
    {
     "name": "stderr",
     "output_type": "stream",
     "text": [
      "/home/josh/workspace/tacotron/lib/pulsemodel/synthesis.py:119: UserWarning: \n",
      "\n",
      "WARNING: The maximum window length (63979) is bigger than the DFT length (4096). Please, increase the DFT length of your spectral features (the second dimension) or check if the f0 curve has extremly low values and try to clip them to higher values (at least higher than 50Hz). The f0 curve has been clipped to 15.625Hz.\n",
      "\n",
      "\n",
      "  warnings.warn('\\n\\nWARNING: The maximum window length ({}) is bigger than the DFT length ({}). Please, increase the DFT length of your spectral features (the second dimension) or check if the f0 curve has extremly low values and try to clip them to higher values (at least higher than 50Hz). The f0 curve has been clipped to {}Hz.\\n\\n'.format(winlenmax, dftlen, winnbper*fs/float(dftlen))) # pragma: no cover\n"
     ]
    },
    {
     "name": "stdout",
     "output_type": "stream",
     "text": [
      "    Forcing binary noise mask\n",
      "    Forcing binary noise mask\n",
      "    Forcing binary noise mask\n"
     ]
    },
    {
     "name": "stderr",
     "output_type": "stream",
     "text": [
      "/home/josh/workspace/tacotron/lib/pulsemodel/synthesis.py:119: UserWarning: \n",
      "\n",
      "WARNING: The maximum window length (63997) is bigger than the DFT length (4096). Please, increase the DFT length of your spectral features (the second dimension) or check if the f0 curve has extremly low values and try to clip them to higher values (at least higher than 50Hz). The f0 curve has been clipped to 15.625Hz.\n",
      "\n",
      "\n",
      "  warnings.warn('\\n\\nWARNING: The maximum window length ({}) is bigger than the DFT length ({}). Please, increase the DFT length of your spectral features (the second dimension) or check if the f0 curve has extremly low values and try to clip them to higher values (at least higher than 50Hz). The f0 curve has been clipped to {}Hz.\\n\\n'.format(winlenmax, dftlen, winnbper*fs/float(dftlen))) # pragma: no cover\n"
     ]
    },
    {
     "name": "stdout",
     "output_type": "stream",
     "text": [
      "    Forcing binary noise mask\n"
     ]
    },
    {
     "name": "stderr",
     "output_type": "stream",
     "text": [
      "/home/josh/workspace/tacotron/lib/pulsemodel/synthesis.py:119: UserWarning: \n",
      "\n",
      "WARNING: The maximum window length (63997) is bigger than the DFT length (4096). Please, increase the DFT length of your spectral features (the second dimension) or check if the f0 curve has extremly low values and try to clip them to higher values (at least higher than 50Hz). The f0 curve has been clipped to 15.625Hz.\n",
      "\n",
      "\n",
      "  warnings.warn('\\n\\nWARNING: The maximum window length ({}) is bigger than the DFT length ({}). Please, increase the DFT length of your spectral features (the second dimension) or check if the f0 curve has extremly low values and try to clip them to higher values (at least higher than 50Hz). The f0 curve has been clipped to {}Hz.\\n\\n'.format(winlenmax, dftlen, winnbper*fs/float(dftlen))) # pragma: no cover\n"
     ]
    },
    {
     "name": "stdout",
     "output_type": "stream",
     "text": [
      "    Forcing binary noise mask\n"
     ]
    },
    {
     "name": "stderr",
     "output_type": "stream",
     "text": [
      "/home/josh/workspace/tacotron/lib/pulsemodel/synthesis.py:119: UserWarning: \n",
      "\n",
      "WARNING: The maximum window length (63999) is bigger than the DFT length (4096). Please, increase the DFT length of your spectral features (the second dimension) or check if the f0 curve has extremly low values and try to clip them to higher values (at least higher than 50Hz). The f0 curve has been clipped to 15.625Hz.\n",
      "\n",
      "\n",
      "  warnings.warn('\\n\\nWARNING: The maximum window length ({}) is bigger than the DFT length ({}). Please, increase the DFT length of your spectral features (the second dimension) or check if the f0 curve has extremly low values and try to clip them to higher values (at least higher than 50Hz). The f0 curve has been clipped to {}Hz.\\n\\n'.format(winlenmax, dftlen, winnbper*fs/float(dftlen))) # pragma: no cover\n"
     ]
    },
    {
     "name": "stdout",
     "output_type": "stream",
     "text": [
      "    Forcing binary noise mask\n"
     ]
    },
    {
     "name": "stderr",
     "output_type": "stream",
     "text": [
      "/home/josh/workspace/tacotron/lib/pulsemodel/synthesis.py:119: UserWarning: \n",
      "\n",
      "WARNING: The maximum window length (63991) is bigger than the DFT length (4096). Please, increase the DFT length of your spectral features (the second dimension) or check if the f0 curve has extremly low values and try to clip them to higher values (at least higher than 50Hz). The f0 curve has been clipped to 15.625Hz.\n",
      "\n",
      "\n",
      "  warnings.warn('\\n\\nWARNING: The maximum window length ({}) is bigger than the DFT length ({}). Please, increase the DFT length of your spectral features (the second dimension) or check if the f0 curve has extremly low values and try to clip them to higher values (at least higher than 50Hz). The f0 curve has been clipped to {}Hz.\\n\\n'.format(winlenmax, dftlen, winnbper*fs/float(dftlen))) # pragma: no cover\n"
     ]
    },
    {
     "name": "stdout",
     "output_type": "stream",
     "text": [
      "    Forcing binary noise mask\n"
     ]
    },
    {
     "name": "stderr",
     "output_type": "stream",
     "text": [
      "/home/josh/workspace/tacotron/lib/pulsemodel/synthesis.py:119: UserWarning: \n",
      "\n",
      "WARNING: The maximum window length (63999) is bigger than the DFT length (4096). Please, increase the DFT length of your spectral features (the second dimension) or check if the f0 curve has extremly low values and try to clip them to higher values (at least higher than 50Hz). The f0 curve has been clipped to 15.625Hz.\n",
      "\n",
      "\n",
      "  warnings.warn('\\n\\nWARNING: The maximum window length ({}) is bigger than the DFT length ({}). Please, increase the DFT length of your spectral features (the second dimension) or check if the f0 curve has extremly low values and try to clip them to higher values (at least higher than 50Hz). The f0 curve has been clipped to {}Hz.\\n\\n'.format(winlenmax, dftlen, winnbper*fs/float(dftlen))) # pragma: no cover\n"
     ]
    },
    {
     "name": "stdout",
     "output_type": "stream",
     "text": [
      "    Forcing binary noise mask\n"
     ]
    },
    {
     "name": "stderr",
     "output_type": "stream",
     "text": [
      "/home/josh/workspace/tacotron/lib/pulsemodel/synthesis.py:119: UserWarning: \n",
      "\n",
      "WARNING: The maximum window length (63999) is bigger than the DFT length (4096). Please, increase the DFT length of your spectral features (the second dimension) or check if the f0 curve has extremly low values and try to clip them to higher values (at least higher than 50Hz). The f0 curve has been clipped to 15.625Hz.\n",
      "\n",
      "\n",
      "  warnings.warn('\\n\\nWARNING: The maximum window length ({}) is bigger than the DFT length ({}). Please, increase the DFT length of your spectral features (the second dimension) or check if the f0 curve has extremly low values and try to clip them to higher values (at least higher than 50Hz). The f0 curve has been clipped to {}Hz.\\n\\n'.format(winlenmax, dftlen, winnbper*fs/float(dftlen))) # pragma: no cover\n"
     ]
    },
    {
     "name": "stdout",
     "output_type": "stream",
     "text": [
      "    Forcing binary noise mask\n",
      "    Forcing binary noise mask\n"
     ]
    },
    {
     "name": "stderr",
     "output_type": "stream",
     "text": [
      "/home/josh/workspace/tacotron/lib/pulsemodel/synthesis.py:119: UserWarning: \n",
      "\n",
      "WARNING: The maximum window length (63999) is bigger than the DFT length (4096). Please, increase the DFT length of your spectral features (the second dimension) or check if the f0 curve has extremly low values and try to clip them to higher values (at least higher than 50Hz). The f0 curve has been clipped to 15.625Hz.\n",
      "\n",
      "\n",
      "  warnings.warn('\\n\\nWARNING: The maximum window length ({}) is bigger than the DFT length ({}). Please, increase the DFT length of your spectral features (the second dimension) or check if the f0 curve has extremly low values and try to clip them to higher values (at least higher than 50Hz). The f0 curve has been clipped to {}Hz.\\n\\n'.format(winlenmax, dftlen, winnbper*fs/float(dftlen))) # pragma: no cover\n"
     ]
    },
    {
     "name": "stdout",
     "output_type": "stream",
     "text": [
      "    Forcing binary noise mask\n"
     ]
    },
    {
     "name": "stderr",
     "output_type": "stream",
     "text": [
      "/home/josh/workspace/tacotron/lib/pulsemodel/synthesis.py:119: UserWarning: \n",
      "\n",
      "WARNING: The maximum window length (63983) is bigger than the DFT length (4096). Please, increase the DFT length of your spectral features (the second dimension) or check if the f0 curve has extremly low values and try to clip them to higher values (at least higher than 50Hz). The f0 curve has been clipped to 15.625Hz.\n",
      "\n",
      "\n",
      "  warnings.warn('\\n\\nWARNING: The maximum window length ({}) is bigger than the DFT length ({}). Please, increase the DFT length of your spectral features (the second dimension) or check if the f0 curve has extremly low values and try to clip them to higher values (at least higher than 50Hz). The f0 curve has been clipped to {}Hz.\\n\\n'.format(winlenmax, dftlen, winnbper*fs/float(dftlen))) # pragma: no cover\n"
     ]
    },
    {
     "name": "stdout",
     "output_type": "stream",
     "text": [
      "    Forcing binary noise mask\n"
     ]
    },
    {
     "name": "stderr",
     "output_type": "stream",
     "text": [
      "/home/josh/workspace/tacotron/lib/pulsemodel/synthesis.py:119: UserWarning: \n",
      "\n",
      "WARNING: The maximum window length (63991) is bigger than the DFT length (4096). Please, increase the DFT length of your spectral features (the second dimension) or check if the f0 curve has extremly low values and try to clip them to higher values (at least higher than 50Hz). The f0 curve has been clipped to 15.625Hz.\n",
      "\n",
      "\n",
      "  warnings.warn('\\n\\nWARNING: The maximum window length ({}) is bigger than the DFT length ({}). Please, increase the DFT length of your spectral features (the second dimension) or check if the f0 curve has extremly low values and try to clip them to higher values (at least higher than 50Hz). The f0 curve has been clipped to {}Hz.\\n\\n'.format(winlenmax, dftlen, winnbper*fs/float(dftlen))) # pragma: no cover\n"
     ]
    },
    {
     "name": "stdout",
     "output_type": "stream",
     "text": [
      "    Forcing binary noise mask\n"
     ]
    },
    {
     "name": "stderr",
     "output_type": "stream",
     "text": [
      "/home/josh/workspace/tacotron/lib/pulsemodel/synthesis.py:119: UserWarning: \n",
      "\n",
      "WARNING: The maximum window length (63999) is bigger than the DFT length (4096). Please, increase the DFT length of your spectral features (the second dimension) or check if the f0 curve has extremly low values and try to clip them to higher values (at least higher than 50Hz). The f0 curve has been clipped to 15.625Hz.\n",
      "\n",
      "\n",
      "  warnings.warn('\\n\\nWARNING: The maximum window length ({}) is bigger than the DFT length ({}). Please, increase the DFT length of your spectral features (the second dimension) or check if the f0 curve has extremly low values and try to clip them to higher values (at least higher than 50Hz). The f0 curve has been clipped to {}Hz.\\n\\n'.format(winlenmax, dftlen, winnbper*fs/float(dftlen))) # pragma: no cover\n"
     ]
    },
    {
     "name": "stdout",
     "output_type": "stream",
     "text": [
      "    Forcing binary noise mask\n",
      "    Forcing binary noise mask\n"
     ]
    },
    {
     "name": "stderr",
     "output_type": "stream",
     "text": [
      "/home/josh/workspace/tacotron/lib/pulsemodel/synthesis.py:119: UserWarning: \n",
      "\n",
      "WARNING: The maximum window length (63999) is bigger than the DFT length (4096). Please, increase the DFT length of your spectral features (the second dimension) or check if the f0 curve has extremly low values and try to clip them to higher values (at least higher than 50Hz). The f0 curve has been clipped to 15.625Hz.\n",
      "\n",
      "\n",
      "  warnings.warn('\\n\\nWARNING: The maximum window length ({}) is bigger than the DFT length ({}). Please, increase the DFT length of your spectral features (the second dimension) or check if the f0 curve has extremly low values and try to clip them to higher values (at least higher than 50Hz). The f0 curve has been clipped to {}Hz.\\n\\n'.format(winlenmax, dftlen, winnbper*fs/float(dftlen))) # pragma: no cover\n"
     ]
    },
    {
     "name": "stdout",
     "output_type": "stream",
     "text": [
      "    Forcing binary noise mask\n"
     ]
    },
    {
     "name": "stderr",
     "output_type": "stream",
     "text": [
      "/home/josh/workspace/tacotron/lib/pulsemodel/synthesis.py:119: UserWarning: \n",
      "\n",
      "WARNING: The maximum window length (63991) is bigger than the DFT length (4096). Please, increase the DFT length of your spectral features (the second dimension) or check if the f0 curve has extremly low values and try to clip them to higher values (at least higher than 50Hz). The f0 curve has been clipped to 15.625Hz.\n",
      "\n",
      "\n",
      "  warnings.warn('\\n\\nWARNING: The maximum window length ({}) is bigger than the DFT length ({}). Please, increase the DFT length of your spectral features (the second dimension) or check if the f0 curve has extremly low values and try to clip them to higher values (at least higher than 50Hz). The f0 curve has been clipped to {}Hz.\\n\\n'.format(winlenmax, dftlen, winnbper*fs/float(dftlen))) # pragma: no cover\n"
     ]
    },
    {
     "name": "stdout",
     "output_type": "stream",
     "text": [
      "    Forcing binary noise mask\n"
     ]
    },
    {
     "name": "stderr",
     "output_type": "stream",
     "text": [
      "/home/josh/workspace/tacotron/lib/pulsemodel/synthesis.py:119: UserWarning: \n",
      "\n",
      "WARNING: The maximum window length (63983) is bigger than the DFT length (4096). Please, increase the DFT length of your spectral features (the second dimension) or check if the f0 curve has extremly low values and try to clip them to higher values (at least higher than 50Hz). The f0 curve has been clipped to 15.625Hz.\n",
      "\n",
      "\n",
      "  warnings.warn('\\n\\nWARNING: The maximum window length ({}) is bigger than the DFT length ({}). Please, increase the DFT length of your spectral features (the second dimension) or check if the f0 curve has extremly low values and try to clip them to higher values (at least higher than 50Hz). The f0 curve has been clipped to {}Hz.\\n\\n'.format(winlenmax, dftlen, winnbper*fs/float(dftlen))) # pragma: no cover\n"
     ]
    },
    {
     "name": "stdout",
     "output_type": "stream",
     "text": [
      "    Forcing binary noise mask\n",
      "    Forcing binary noise mask\n"
     ]
    },
    {
     "name": "stderr",
     "output_type": "stream",
     "text": [
      "/home/josh/workspace/tacotron/lib/pulsemodel/synthesis.py:119: UserWarning: \n",
      "\n",
      "WARNING: The maximum window length (63991) is bigger than the DFT length (4096). Please, increase the DFT length of your spectral features (the second dimension) or check if the f0 curve has extremly low values and try to clip them to higher values (at least higher than 50Hz). The f0 curve has been clipped to 15.625Hz.\n",
      "\n",
      "\n",
      "  warnings.warn('\\n\\nWARNING: The maximum window length ({}) is bigger than the DFT length ({}). Please, increase the DFT length of your spectral features (the second dimension) or check if the f0 curve has extremly low values and try to clip them to higher values (at least higher than 50Hz). The f0 curve has been clipped to {}Hz.\\n\\n'.format(winlenmax, dftlen, winnbper*fs/float(dftlen))) # pragma: no cover\n"
     ]
    },
    {
     "name": "stdout",
     "output_type": "stream",
     "text": [
      "    Forcing binary noise mask\n"
     ]
    },
    {
     "name": "stderr",
     "output_type": "stream",
     "text": [
      "/home/josh/workspace/tacotron/lib/pulsemodel/synthesis.py:119: UserWarning: \n",
      "\n",
      "WARNING: The maximum window length (63999) is bigger than the DFT length (4096). Please, increase the DFT length of your spectral features (the second dimension) or check if the f0 curve has extremly low values and try to clip them to higher values (at least higher than 50Hz). The f0 curve has been clipped to 15.625Hz.\n",
      "\n",
      "\n",
      "  warnings.warn('\\n\\nWARNING: The maximum window length ({}) is bigger than the DFT length ({}). Please, increase the DFT length of your spectral features (the second dimension) or check if the f0 curve has extremly low values and try to clip them to higher values (at least higher than 50Hz). The f0 curve has been clipped to {}Hz.\\n\\n'.format(winlenmax, dftlen, winnbper*fs/float(dftlen))) # pragma: no cover\n"
     ]
    },
    {
     "name": "stdout",
     "output_type": "stream",
     "text": [
      "    Forcing binary noise mask\n"
     ]
    },
    {
     "name": "stderr",
     "output_type": "stream",
     "text": [
      "/home/josh/workspace/tacotron/lib/pulsemodel/synthesis.py:119: UserWarning: \n",
      "\n",
      "WARNING: The maximum window length (63999) is bigger than the DFT length (4096). Please, increase the DFT length of your spectral features (the second dimension) or check if the f0 curve has extremly low values and try to clip them to higher values (at least higher than 50Hz). The f0 curve has been clipped to 15.625Hz.\n",
      "\n",
      "\n",
      "  warnings.warn('\\n\\nWARNING: The maximum window length ({}) is bigger than the DFT length ({}). Please, increase the DFT length of your spectral features (the second dimension) or check if the f0 curve has extremly low values and try to clip them to higher values (at least higher than 50Hz). The f0 curve has been clipped to {}Hz.\\n\\n'.format(winlenmax, dftlen, winnbper*fs/float(dftlen))) # pragma: no cover\n"
     ]
    },
    {
     "name": "stdout",
     "output_type": "stream",
     "text": [
      "    Forcing binary noise mask\n"
     ]
    },
    {
     "name": "stderr",
     "output_type": "stream",
     "text": [
      "/home/josh/workspace/tacotron/lib/pulsemodel/synthesis.py:119: UserWarning: \n",
      "\n",
      "WARNING: The maximum window length (63999) is bigger than the DFT length (4096). Please, increase the DFT length of your spectral features (the second dimension) or check if the f0 curve has extremly low values and try to clip them to higher values (at least higher than 50Hz). The f0 curve has been clipped to 15.625Hz.\n",
      "\n",
      "\n",
      "  warnings.warn('\\n\\nWARNING: The maximum window length ({}) is bigger than the DFT length ({}). Please, increase the DFT length of your spectral features (the second dimension) or check if the f0 curve has extremly low values and try to clip them to higher values (at least higher than 50Hz). The f0 curve has been clipped to {}Hz.\\n\\n'.format(winlenmax, dftlen, winnbper*fs/float(dftlen))) # pragma: no cover\n"
     ]
    },
    {
     "name": "stdout",
     "output_type": "stream",
     "text": [
      "    Forcing binary noise mask\n"
     ]
    },
    {
     "name": "stderr",
     "output_type": "stream",
     "text": [
      "/home/josh/workspace/tacotron/lib/pulsemodel/synthesis.py:119: UserWarning: \n",
      "\n",
      "WARNING: The maximum window length (63999) is bigger than the DFT length (4096). Please, increase the DFT length of your spectral features (the second dimension) or check if the f0 curve has extremly low values and try to clip them to higher values (at least higher than 50Hz). The f0 curve has been clipped to 15.625Hz.\n",
      "\n",
      "\n",
      "  warnings.warn('\\n\\nWARNING: The maximum window length ({}) is bigger than the DFT length ({}). Please, increase the DFT length of your spectral features (the second dimension) or check if the f0 curve has extremly low values and try to clip them to higher values (at least higher than 50Hz). The f0 curve has been clipped to {}Hz.\\n\\n'.format(winlenmax, dftlen, winnbper*fs/float(dftlen))) # pragma: no cover\n"
     ]
    },
    {
     "name": "stdout",
     "output_type": "stream",
     "text": [
      "    Forcing binary noise mask\n"
     ]
    },
    {
     "name": "stderr",
     "output_type": "stream",
     "text": [
      "/home/josh/workspace/tacotron/lib/pulsemodel/synthesis.py:119: UserWarning: \n",
      "\n",
      "WARNING: The maximum window length (63999) is bigger than the DFT length (4096). Please, increase the DFT length of your spectral features (the second dimension) or check if the f0 curve has extremly low values and try to clip them to higher values (at least higher than 50Hz). The f0 curve has been clipped to 15.625Hz.\n",
      "\n",
      "\n",
      "  warnings.warn('\\n\\nWARNING: The maximum window length ({}) is bigger than the DFT length ({}). Please, increase the DFT length of your spectral features (the second dimension) or check if the f0 curve has extremly low values and try to clip them to higher values (at least higher than 50Hz). The f0 curve has been clipped to {}Hz.\\n\\n'.format(winlenmax, dftlen, winnbper*fs/float(dftlen))) # pragma: no cover\n"
     ]
    },
    {
     "name": "stdout",
     "output_type": "stream",
     "text": [
      "    Forcing binary noise mask\n"
     ]
    },
    {
     "name": "stderr",
     "output_type": "stream",
     "text": [
      "/home/josh/workspace/tacotron/lib/pulsemodel/synthesis.py:119: UserWarning: \n",
      "\n",
      "WARNING: The maximum window length (63979) is bigger than the DFT length (4096). Please, increase the DFT length of your spectral features (the second dimension) or check if the f0 curve has extremly low values and try to clip them to higher values (at least higher than 50Hz). The f0 curve has been clipped to 15.625Hz.\n",
      "\n",
      "\n",
      "  warnings.warn('\\n\\nWARNING: The maximum window length ({}) is bigger than the DFT length ({}). Please, increase the DFT length of your spectral features (the second dimension) or check if the f0 curve has extremly low values and try to clip them to higher values (at least higher than 50Hz). The f0 curve has been clipped to {}Hz.\\n\\n'.format(winlenmax, dftlen, winnbper*fs/float(dftlen))) # pragma: no cover\n"
     ]
    },
    {
     "name": "stdout",
     "output_type": "stream",
     "text": [
      "    Forcing binary noise mask\n"
     ]
    },
    {
     "name": "stderr",
     "output_type": "stream",
     "text": [
      "/home/josh/workspace/tacotron/lib/pulsemodel/synthesis.py:119: UserWarning: \n",
      "\n",
      "WARNING: The maximum window length (63999) is bigger than the DFT length (4096). Please, increase the DFT length of your spectral features (the second dimension) or check if the f0 curve has extremly low values and try to clip them to higher values (at least higher than 50Hz). The f0 curve has been clipped to 15.625Hz.\n",
      "\n",
      "\n",
      "  warnings.warn('\\n\\nWARNING: The maximum window length ({}) is bigger than the DFT length ({}). Please, increase the DFT length of your spectral features (the second dimension) or check if the f0 curve has extremly low values and try to clip them to higher values (at least higher than 50Hz). The f0 curve has been clipped to {}Hz.\\n\\n'.format(winlenmax, dftlen, winnbper*fs/float(dftlen))) # pragma: no cover\n"
     ]
    },
    {
     "name": "stdout",
     "output_type": "stream",
     "text": [
      "    Forcing binary noise mask\n"
     ]
    },
    {
     "name": "stderr",
     "output_type": "stream",
     "text": [
      "/home/josh/workspace/tacotron/lib/pulsemodel/synthesis.py:119: UserWarning: \n",
      "\n",
      "WARNING: The maximum window length (63999) is bigger than the DFT length (4096). Please, increase the DFT length of your spectral features (the second dimension) or check if the f0 curve has extremly low values and try to clip them to higher values (at least higher than 50Hz). The f0 curve has been clipped to 15.625Hz.\n",
      "\n",
      "\n",
      "  warnings.warn('\\n\\nWARNING: The maximum window length ({}) is bigger than the DFT length ({}). Please, increase the DFT length of your spectral features (the second dimension) or check if the f0 curve has extremly low values and try to clip them to higher values (at least higher than 50Hz). The f0 curve has been clipped to {}Hz.\\n\\n'.format(winlenmax, dftlen, winnbper*fs/float(dftlen))) # pragma: no cover\n"
     ]
    },
    {
     "name": "stdout",
     "output_type": "stream",
     "text": [
      "    Forcing binary noise mask\n",
      "    Forcing binary noise mask\n"
     ]
    },
    {
     "name": "stderr",
     "output_type": "stream",
     "text": [
      "/home/josh/workspace/tacotron/lib/pulsemodel/synthesis.py:119: UserWarning: \n",
      "\n",
      "WARNING: The maximum window length (63861) is bigger than the DFT length (4096). Please, increase the DFT length of your spectral features (the second dimension) or check if the f0 curve has extremly low values and try to clip them to higher values (at least higher than 50Hz). The f0 curve has been clipped to 15.625Hz.\n",
      "\n",
      "\n",
      "  warnings.warn('\\n\\nWARNING: The maximum window length ({}) is bigger than the DFT length ({}). Please, increase the DFT length of your spectral features (the second dimension) or check if the f0 curve has extremly low values and try to clip them to higher values (at least higher than 50Hz). The f0 curve has been clipped to {}Hz.\\n\\n'.format(winlenmax, dftlen, winnbper*fs/float(dftlen))) # pragma: no cover\n"
     ]
    },
    {
     "name": "stdout",
     "output_type": "stream",
     "text": [
      "    Forcing binary noise mask\n"
     ]
    },
    {
     "name": "stderr",
     "output_type": "stream",
     "text": [
      "/home/josh/workspace/tacotron/lib/pulsemodel/synthesis.py:119: UserWarning: \n",
      "\n",
      "WARNING: The maximum window length (63999) is bigger than the DFT length (4096). Please, increase the DFT length of your spectral features (the second dimension) or check if the f0 curve has extremly low values and try to clip them to higher values (at least higher than 50Hz). The f0 curve has been clipped to 15.625Hz.\n",
      "\n",
      "\n",
      "  warnings.warn('\\n\\nWARNING: The maximum window length ({}) is bigger than the DFT length ({}). Please, increase the DFT length of your spectral features (the second dimension) or check if the f0 curve has extremly low values and try to clip them to higher values (at least higher than 50Hz). The f0 curve has been clipped to {}Hz.\\n\\n'.format(winlenmax, dftlen, winnbper*fs/float(dftlen))) # pragma: no cover\n"
     ]
    },
    {
     "name": "stdout",
     "output_type": "stream",
     "text": [
      "    Forcing binary noise mask\n",
      "    Forcing binary noise mask\n",
      "    Forcing binary noise mask\n"
     ]
    },
    {
     "name": "stderr",
     "output_type": "stream",
     "text": [
      "/home/josh/workspace/tacotron/lib/pulsemodel/synthesis.py:119: UserWarning: \n",
      "\n",
      "WARNING: The maximum window length (63999) is bigger than the DFT length (4096). Please, increase the DFT length of your spectral features (the second dimension) or check if the f0 curve has extremly low values and try to clip them to higher values (at least higher than 50Hz). The f0 curve has been clipped to 15.625Hz.\n",
      "\n",
      "\n",
      "  warnings.warn('\\n\\nWARNING: The maximum window length ({}) is bigger than the DFT length ({}). Please, increase the DFT length of your spectral features (the second dimension) or check if the f0 curve has extremly low values and try to clip them to higher values (at least higher than 50Hz). The f0 curve has been clipped to {}Hz.\\n\\n'.format(winlenmax, dftlen, winnbper*fs/float(dftlen))) # pragma: no cover\n"
     ]
    },
    {
     "name": "stdout",
     "output_type": "stream",
     "text": [
      "    Forcing binary noise mask\n"
     ]
    },
    {
     "name": "stderr",
     "output_type": "stream",
     "text": [
      "/home/josh/workspace/tacotron/lib/pulsemodel/synthesis.py:119: UserWarning: \n",
      "\n",
      "WARNING: The maximum window length (63761) is bigger than the DFT length (4096). Please, increase the DFT length of your spectral features (the second dimension) or check if the f0 curve has extremly low values and try to clip them to higher values (at least higher than 50Hz). The f0 curve has been clipped to 15.625Hz.\n",
      "\n",
      "\n",
      "  warnings.warn('\\n\\nWARNING: The maximum window length ({}) is bigger than the DFT length ({}). Please, increase the DFT length of your spectral features (the second dimension) or check if the f0 curve has extremly low values and try to clip them to higher values (at least higher than 50Hz). The f0 curve has been clipped to {}Hz.\\n\\n'.format(winlenmax, dftlen, winnbper*fs/float(dftlen))) # pragma: no cover\n"
     ]
    },
    {
     "name": "stdout",
     "output_type": "stream",
     "text": [
      "    Forcing binary noise mask\n",
      "    Forcing binary noise mask\n"
     ]
    },
    {
     "name": "stderr",
     "output_type": "stream",
     "text": [
      "/home/josh/workspace/tacotron/lib/pulsemodel/synthesis.py:119: UserWarning: \n",
      "\n",
      "WARNING: The maximum window length (63999) is bigger than the DFT length (4096). Please, increase the DFT length of your spectral features (the second dimension) or check if the f0 curve has extremly low values and try to clip them to higher values (at least higher than 50Hz). The f0 curve has been clipped to 15.625Hz.\n",
      "\n",
      "\n",
      "  warnings.warn('\\n\\nWARNING: The maximum window length ({}) is bigger than the DFT length ({}). Please, increase the DFT length of your spectral features (the second dimension) or check if the f0 curve has extremly low values and try to clip them to higher values (at least higher than 50Hz). The f0 curve has been clipped to {}Hz.\\n\\n'.format(winlenmax, dftlen, winnbper*fs/float(dftlen))) # pragma: no cover\n"
     ]
    },
    {
     "name": "stdout",
     "output_type": "stream",
     "text": [
      "    Forcing binary noise mask\n"
     ]
    },
    {
     "name": "stderr",
     "output_type": "stream",
     "text": [
      "/home/josh/workspace/tacotron/lib/pulsemodel/synthesis.py:119: UserWarning: \n",
      "\n",
      "WARNING: The maximum window length (63999) is bigger than the DFT length (4096). Please, increase the DFT length of your spectral features (the second dimension) or check if the f0 curve has extremly low values and try to clip them to higher values (at least higher than 50Hz). The f0 curve has been clipped to 15.625Hz.\n",
      "\n",
      "\n",
      "  warnings.warn('\\n\\nWARNING: The maximum window length ({}) is bigger than the DFT length ({}). Please, increase the DFT length of your spectral features (the second dimension) or check if the f0 curve has extremly low values and try to clip them to higher values (at least higher than 50Hz). The f0 curve has been clipped to {}Hz.\\n\\n'.format(winlenmax, dftlen, winnbper*fs/float(dftlen))) # pragma: no cover\n"
     ]
    },
    {
     "name": "stdout",
     "output_type": "stream",
     "text": [
      "    Forcing binary noise mask\n",
      "    Forcing binary noise mask\n",
      "    Forcing binary noise mask\n",
      "    Forcing binary noise mask\n"
     ]
    },
    {
     "name": "stderr",
     "output_type": "stream",
     "text": [
      "/home/josh/workspace/tacotron/lib/pulsemodel/synthesis.py:119: UserWarning: \n",
      "\n",
      "WARNING: The maximum window length (63937) is bigger than the DFT length (4096). Please, increase the DFT length of your spectral features (the second dimension) or check if the f0 curve has extremly low values and try to clip them to higher values (at least higher than 50Hz). The f0 curve has been clipped to 15.625Hz.\n",
      "\n",
      "\n",
      "  warnings.warn('\\n\\nWARNING: The maximum window length ({}) is bigger than the DFT length ({}). Please, increase the DFT length of your spectral features (the second dimension) or check if the f0 curve has extremly low values and try to clip them to higher values (at least higher than 50Hz). The f0 curve has been clipped to {}Hz.\\n\\n'.format(winlenmax, dftlen, winnbper*fs/float(dftlen))) # pragma: no cover\n"
     ]
    },
    {
     "name": "stdout",
     "output_type": "stream",
     "text": [
      "    Forcing binary noise mask\n"
     ]
    },
    {
     "name": "stderr",
     "output_type": "stream",
     "text": [
      "/home/josh/workspace/tacotron/lib/pulsemodel/synthesis.py:119: UserWarning: \n",
      "\n",
      "WARNING: The maximum window length (63999) is bigger than the DFT length (4096). Please, increase the DFT length of your spectral features (the second dimension) or check if the f0 curve has extremly low values and try to clip them to higher values (at least higher than 50Hz). The f0 curve has been clipped to 15.625Hz.\n",
      "\n",
      "\n",
      "  warnings.warn('\\n\\nWARNING: The maximum window length ({}) is bigger than the DFT length ({}). Please, increase the DFT length of your spectral features (the second dimension) or check if the f0 curve has extremly low values and try to clip them to higher values (at least higher than 50Hz). The f0 curve has been clipped to {}Hz.\\n\\n'.format(winlenmax, dftlen, winnbper*fs/float(dftlen))) # pragma: no cover\n"
     ]
    },
    {
     "name": "stdout",
     "output_type": "stream",
     "text": [
      "    Forcing binary noise mask\n"
     ]
    },
    {
     "name": "stderr",
     "output_type": "stream",
     "text": [
      "/home/josh/workspace/tacotron/lib/pulsemodel/synthesis.py:119: UserWarning: \n",
      "\n",
      "WARNING: The maximum window length (63989) is bigger than the DFT length (4096). Please, increase the DFT length of your spectral features (the second dimension) or check if the f0 curve has extremly low values and try to clip them to higher values (at least higher than 50Hz). The f0 curve has been clipped to 15.625Hz.\n",
      "\n",
      "\n",
      "  warnings.warn('\\n\\nWARNING: The maximum window length ({}) is bigger than the DFT length ({}). Please, increase the DFT length of your spectral features (the second dimension) or check if the f0 curve has extremly low values and try to clip them to higher values (at least higher than 50Hz). The f0 curve has been clipped to {}Hz.\\n\\n'.format(winlenmax, dftlen, winnbper*fs/float(dftlen))) # pragma: no cover\n"
     ]
    },
    {
     "name": "stdout",
     "output_type": "stream",
     "text": [
      "    Forcing binary noise mask\n"
     ]
    },
    {
     "name": "stderr",
     "output_type": "stream",
     "text": [
      "/home/josh/workspace/tacotron/lib/pulsemodel/synthesis.py:119: UserWarning: \n",
      "\n",
      "WARNING: The maximum window length (63999) is bigger than the DFT length (4096). Please, increase the DFT length of your spectral features (the second dimension) or check if the f0 curve has extremly low values and try to clip them to higher values (at least higher than 50Hz). The f0 curve has been clipped to 15.625Hz.\n",
      "\n",
      "\n",
      "  warnings.warn('\\n\\nWARNING: The maximum window length ({}) is bigger than the DFT length ({}). Please, increase the DFT length of your spectral features (the second dimension) or check if the f0 curve has extremly low values and try to clip them to higher values (at least higher than 50Hz). The f0 curve has been clipped to {}Hz.\\n\\n'.format(winlenmax, dftlen, winnbper*fs/float(dftlen))) # pragma: no cover\n"
     ]
    },
    {
     "name": "stdout",
     "output_type": "stream",
     "text": [
      "    Forcing binary noise mask\n"
     ]
    },
    {
     "name": "stderr",
     "output_type": "stream",
     "text": [
      "/home/josh/workspace/tacotron/lib/pulsemodel/synthesis.py:119: UserWarning: \n",
      "\n",
      "WARNING: The maximum window length (63999) is bigger than the DFT length (4096). Please, increase the DFT length of your spectral features (the second dimension) or check if the f0 curve has extremly low values and try to clip them to higher values (at least higher than 50Hz). The f0 curve has been clipped to 15.625Hz.\n",
      "\n",
      "\n",
      "  warnings.warn('\\n\\nWARNING: The maximum window length ({}) is bigger than the DFT length ({}). Please, increase the DFT length of your spectral features (the second dimension) or check if the f0 curve has extremly low values and try to clip them to higher values (at least higher than 50Hz). The f0 curve has been clipped to {}Hz.\\n\\n'.format(winlenmax, dftlen, winnbper*fs/float(dftlen))) # pragma: no cover\n"
     ]
    },
    {
     "name": "stdout",
     "output_type": "stream",
     "text": [
      "    Forcing binary noise mask\n"
     ]
    },
    {
     "name": "stderr",
     "output_type": "stream",
     "text": [
      "/home/josh/workspace/tacotron/lib/pulsemodel/synthesis.py:119: UserWarning: \n",
      "\n",
      "WARNING: The maximum window length (63999) is bigger than the DFT length (4096). Please, increase the DFT length of your spectral features (the second dimension) or check if the f0 curve has extremly low values and try to clip them to higher values (at least higher than 50Hz). The f0 curve has been clipped to 15.625Hz.\n",
      "\n",
      "\n",
      "  warnings.warn('\\n\\nWARNING: The maximum window length ({}) is bigger than the DFT length ({}). Please, increase the DFT length of your spectral features (the second dimension) or check if the f0 curve has extremly low values and try to clip them to higher values (at least higher than 50Hz). The f0 curve has been clipped to {}Hz.\\n\\n'.format(winlenmax, dftlen, winnbper*fs/float(dftlen))) # pragma: no cover\n"
     ]
    },
    {
     "name": "stdout",
     "output_type": "stream",
     "text": [
      "    Forcing binary noise mask\n"
     ]
    },
    {
     "name": "stderr",
     "output_type": "stream",
     "text": [
      "/home/josh/workspace/tacotron/lib/pulsemodel/synthesis.py:119: UserWarning: \n",
      "\n",
      "WARNING: The maximum window length (63971) is bigger than the DFT length (4096). Please, increase the DFT length of your spectral features (the second dimension) or check if the f0 curve has extremly low values and try to clip them to higher values (at least higher than 50Hz). The f0 curve has been clipped to 15.625Hz.\n",
      "\n",
      "\n",
      "  warnings.warn('\\n\\nWARNING: The maximum window length ({}) is bigger than the DFT length ({}). Please, increase the DFT length of your spectral features (the second dimension) or check if the f0 curve has extremly low values and try to clip them to higher values (at least higher than 50Hz). The f0 curve has been clipped to {}Hz.\\n\\n'.format(winlenmax, dftlen, winnbper*fs/float(dftlen))) # pragma: no cover\n"
     ]
    },
    {
     "name": "stdout",
     "output_type": "stream",
     "text": [
      "    Forcing binary noise mask\n"
     ]
    },
    {
     "name": "stderr",
     "output_type": "stream",
     "text": [
      "/home/josh/workspace/tacotron/lib/pulsemodel/synthesis.py:119: UserWarning: \n",
      "\n",
      "WARNING: The maximum window length (63999) is bigger than the DFT length (4096). Please, increase the DFT length of your spectral features (the second dimension) or check if the f0 curve has extremly low values and try to clip them to higher values (at least higher than 50Hz). The f0 curve has been clipped to 15.625Hz.\n",
      "\n",
      "\n",
      "  warnings.warn('\\n\\nWARNING: The maximum window length ({}) is bigger than the DFT length ({}). Please, increase the DFT length of your spectral features (the second dimension) or check if the f0 curve has extremly low values and try to clip them to higher values (at least higher than 50Hz). The f0 curve has been clipped to {}Hz.\\n\\n'.format(winlenmax, dftlen, winnbper*fs/float(dftlen))) # pragma: no cover\n"
     ]
    },
    {
     "name": "stdout",
     "output_type": "stream",
     "text": [
      "    Forcing binary noise mask\n"
     ]
    },
    {
     "name": "stderr",
     "output_type": "stream",
     "text": [
      "/home/josh/workspace/tacotron/lib/pulsemodel/synthesis.py:119: UserWarning: \n",
      "\n",
      "WARNING: The maximum window length (63999) is bigger than the DFT length (4096). Please, increase the DFT length of your spectral features (the second dimension) or check if the f0 curve has extremly low values and try to clip them to higher values (at least higher than 50Hz). The f0 curve has been clipped to 15.625Hz.\n",
      "\n",
      "\n",
      "  warnings.warn('\\n\\nWARNING: The maximum window length ({}) is bigger than the DFT length ({}). Please, increase the DFT length of your spectral features (the second dimension) or check if the f0 curve has extremly low values and try to clip them to higher values (at least higher than 50Hz). The f0 curve has been clipped to {}Hz.\\n\\n'.format(winlenmax, dftlen, winnbper*fs/float(dftlen))) # pragma: no cover\n"
     ]
    },
    {
     "name": "stdout",
     "output_type": "stream",
     "text": [
      "    Forcing binary noise mask\n"
     ]
    },
    {
     "name": "stderr",
     "output_type": "stream",
     "text": [
      "/home/josh/workspace/tacotron/lib/pulsemodel/synthesis.py:119: UserWarning: \n",
      "\n",
      "WARNING: The maximum window length (63939) is bigger than the DFT length (4096). Please, increase the DFT length of your spectral features (the second dimension) or check if the f0 curve has extremly low values and try to clip them to higher values (at least higher than 50Hz). The f0 curve has been clipped to 15.625Hz.\n",
      "\n",
      "\n",
      "  warnings.warn('\\n\\nWARNING: The maximum window length ({}) is bigger than the DFT length ({}). Please, increase the DFT length of your spectral features (the second dimension) or check if the f0 curve has extremly low values and try to clip them to higher values (at least higher than 50Hz). The f0 curve has been clipped to {}Hz.\\n\\n'.format(winlenmax, dftlen, winnbper*fs/float(dftlen))) # pragma: no cover\n"
     ]
    },
    {
     "name": "stdout",
     "output_type": "stream",
     "text": [
      "    Forcing binary noise mask\n",
      "    Forcing binary noise mask\n"
     ]
    },
    {
     "name": "stderr",
     "output_type": "stream",
     "text": [
      "/home/josh/workspace/tacotron/lib/pulsemodel/synthesis.py:119: UserWarning: \n",
      "\n",
      "WARNING: The maximum window length (63955) is bigger than the DFT length (4096). Please, increase the DFT length of your spectral features (the second dimension) or check if the f0 curve has extremly low values and try to clip them to higher values (at least higher than 50Hz). The f0 curve has been clipped to 15.625Hz.\n",
      "\n",
      "\n",
      "  warnings.warn('\\n\\nWARNING: The maximum window length ({}) is bigger than the DFT length ({}). Please, increase the DFT length of your spectral features (the second dimension) or check if the f0 curve has extremly low values and try to clip them to higher values (at least higher than 50Hz). The f0 curve has been clipped to {}Hz.\\n\\n'.format(winlenmax, dftlen, winnbper*fs/float(dftlen))) # pragma: no cover\n"
     ]
    },
    {
     "name": "stdout",
     "output_type": "stream",
     "text": [
      "    Forcing binary noise mask\n"
     ]
    },
    {
     "name": "stderr",
     "output_type": "stream",
     "text": [
      "/home/josh/workspace/tacotron/lib/pulsemodel/synthesis.py:119: UserWarning: \n",
      "\n",
      "WARNING: The maximum window length (63999) is bigger than the DFT length (4096). Please, increase the DFT length of your spectral features (the second dimension) or check if the f0 curve has extremly low values and try to clip them to higher values (at least higher than 50Hz). The f0 curve has been clipped to 15.625Hz.\n",
      "\n",
      "\n",
      "  warnings.warn('\\n\\nWARNING: The maximum window length ({}) is bigger than the DFT length ({}). Please, increase the DFT length of your spectral features (the second dimension) or check if the f0 curve has extremly low values and try to clip them to higher values (at least higher than 50Hz). The f0 curve has been clipped to {}Hz.\\n\\n'.format(winlenmax, dftlen, winnbper*fs/float(dftlen))) # pragma: no cover\n"
     ]
    },
    {
     "name": "stdout",
     "output_type": "stream",
     "text": [
      "    Forcing binary noise mask\n"
     ]
    },
    {
     "name": "stderr",
     "output_type": "stream",
     "text": [
      "/home/josh/workspace/tacotron/lib/pulsemodel/synthesis.py:119: UserWarning: \n",
      "\n",
      "WARNING: The maximum window length (63999) is bigger than the DFT length (4096). Please, increase the DFT length of your spectral features (the second dimension) or check if the f0 curve has extremly low values and try to clip them to higher values (at least higher than 50Hz). The f0 curve has been clipped to 15.625Hz.\n",
      "\n",
      "\n",
      "  warnings.warn('\\n\\nWARNING: The maximum window length ({}) is bigger than the DFT length ({}). Please, increase the DFT length of your spectral features (the second dimension) or check if the f0 curve has extremly low values and try to clip them to higher values (at least higher than 50Hz). The f0 curve has been clipped to {}Hz.\\n\\n'.format(winlenmax, dftlen, winnbper*fs/float(dftlen))) # pragma: no cover\n"
     ]
    },
    {
     "name": "stdout",
     "output_type": "stream",
     "text": [
      "    Forcing binary noise mask\n"
     ]
    },
    {
     "name": "stderr",
     "output_type": "stream",
     "text": [
      "/home/josh/workspace/tacotron/lib/pulsemodel/synthesis.py:119: UserWarning: \n",
      "\n",
      "WARNING: The maximum window length (63999) is bigger than the DFT length (4096). Please, increase the DFT length of your spectral features (the second dimension) or check if the f0 curve has extremly low values and try to clip them to higher values (at least higher than 50Hz). The f0 curve has been clipped to 15.625Hz.\n",
      "\n",
      "\n",
      "  warnings.warn('\\n\\nWARNING: The maximum window length ({}) is bigger than the DFT length ({}). Please, increase the DFT length of your spectral features (the second dimension) or check if the f0 curve has extremly low values and try to clip them to higher values (at least higher than 50Hz). The f0 curve has been clipped to {}Hz.\\n\\n'.format(winlenmax, dftlen, winnbper*fs/float(dftlen))) # pragma: no cover\n"
     ]
    },
    {
     "name": "stdout",
     "output_type": "stream",
     "text": [
      "    Forcing binary noise mask\n"
     ]
    },
    {
     "name": "stderr",
     "output_type": "stream",
     "text": [
      "/home/josh/workspace/tacotron/lib/pulsemodel/synthesis.py:119: UserWarning: \n",
      "\n",
      "WARNING: The maximum window length (63999) is bigger than the DFT length (4096). Please, increase the DFT length of your spectral features (the second dimension) or check if the f0 curve has extremly low values and try to clip them to higher values (at least higher than 50Hz). The f0 curve has been clipped to 15.625Hz.\n",
      "\n",
      "\n",
      "  warnings.warn('\\n\\nWARNING: The maximum window length ({}) is bigger than the DFT length ({}). Please, increase the DFT length of your spectral features (the second dimension) or check if the f0 curve has extremly low values and try to clip them to higher values (at least higher than 50Hz). The f0 curve has been clipped to {}Hz.\\n\\n'.format(winlenmax, dftlen, winnbper*fs/float(dftlen))) # pragma: no cover\n"
     ]
    },
    {
     "name": "stdout",
     "output_type": "stream",
     "text": [
      "    Forcing binary noise mask\n"
     ]
    },
    {
     "name": "stderr",
     "output_type": "stream",
     "text": [
      "/home/josh/workspace/tacotron/lib/pulsemodel/synthesis.py:119: UserWarning: \n",
      "\n",
      "WARNING: The maximum window length (63997) is bigger than the DFT length (4096). Please, increase the DFT length of your spectral features (the second dimension) or check if the f0 curve has extremly low values and try to clip them to higher values (at least higher than 50Hz). The f0 curve has been clipped to 15.625Hz.\n",
      "\n",
      "\n",
      "  warnings.warn('\\n\\nWARNING: The maximum window length ({}) is bigger than the DFT length ({}). Please, increase the DFT length of your spectral features (the second dimension) or check if the f0 curve has extremly low values and try to clip them to higher values (at least higher than 50Hz). The f0 curve has been clipped to {}Hz.\\n\\n'.format(winlenmax, dftlen, winnbper*fs/float(dftlen))) # pragma: no cover\n"
     ]
    },
    {
     "name": "stdout",
     "output_type": "stream",
     "text": [
      "    Forcing binary noise mask\n",
      "    Forcing binary noise mask\n",
      "    Forcing binary noise mask\n"
     ]
    },
    {
     "name": "stderr",
     "output_type": "stream",
     "text": [
      "/home/josh/workspace/tacotron/lib/pulsemodel/synthesis.py:119: UserWarning: \n",
      "\n",
      "WARNING: The maximum window length (63995) is bigger than the DFT length (4096). Please, increase the DFT length of your spectral features (the second dimension) or check if the f0 curve has extremly low values and try to clip them to higher values (at least higher than 50Hz). The f0 curve has been clipped to 15.625Hz.\n",
      "\n",
      "\n",
      "  warnings.warn('\\n\\nWARNING: The maximum window length ({}) is bigger than the DFT length ({}). Please, increase the DFT length of your spectral features (the second dimension) or check if the f0 curve has extremly low values and try to clip them to higher values (at least higher than 50Hz). The f0 curve has been clipped to {}Hz.\\n\\n'.format(winlenmax, dftlen, winnbper*fs/float(dftlen))) # pragma: no cover\n"
     ]
    },
    {
     "name": "stdout",
     "output_type": "stream",
     "text": [
      "    Forcing binary noise mask\n"
     ]
    },
    {
     "name": "stderr",
     "output_type": "stream",
     "text": [
      "/home/josh/workspace/tacotron/lib/pulsemodel/synthesis.py:119: UserWarning: \n",
      "\n",
      "WARNING: The maximum window length (63995) is bigger than the DFT length (4096). Please, increase the DFT length of your spectral features (the second dimension) or check if the f0 curve has extremly low values and try to clip them to higher values (at least higher than 50Hz). The f0 curve has been clipped to 15.625Hz.\n",
      "\n",
      "\n",
      "  warnings.warn('\\n\\nWARNING: The maximum window length ({}) is bigger than the DFT length ({}). Please, increase the DFT length of your spectral features (the second dimension) or check if the f0 curve has extremly low values and try to clip them to higher values (at least higher than 50Hz). The f0 curve has been clipped to {}Hz.\\n\\n'.format(winlenmax, dftlen, winnbper*fs/float(dftlen))) # pragma: no cover\n"
     ]
    },
    {
     "name": "stdout",
     "output_type": "stream",
     "text": [
      "    Forcing binary noise mask\n"
     ]
    },
    {
     "name": "stderr",
     "output_type": "stream",
     "text": [
      "/home/josh/workspace/tacotron/lib/pulsemodel/synthesis.py:119: UserWarning: \n",
      "\n",
      "WARNING: The maximum window length (63981) is bigger than the DFT length (4096). Please, increase the DFT length of your spectral features (the second dimension) or check if the f0 curve has extremly low values and try to clip them to higher values (at least higher than 50Hz). The f0 curve has been clipped to 15.625Hz.\n",
      "\n",
      "\n",
      "  warnings.warn('\\n\\nWARNING: The maximum window length ({}) is bigger than the DFT length ({}). Please, increase the DFT length of your spectral features (the second dimension) or check if the f0 curve has extremly low values and try to clip them to higher values (at least higher than 50Hz). The f0 curve has been clipped to {}Hz.\\n\\n'.format(winlenmax, dftlen, winnbper*fs/float(dftlen))) # pragma: no cover\n"
     ]
    },
    {
     "name": "stdout",
     "output_type": "stream",
     "text": [
      "    Forcing binary noise mask\n",
      "\n"
     ]
    }
   ],
   "source": [
    "from util import audio\n",
    "\n",
    "# reset the graph before we do anything\n",
    "tf.reset_default_graph()\n",
    "cfg = Configuration(16000, 86)\n",
    "pml_synth = PMLSynthesizer(cfg)\n",
    "hparams.parse('sample_rate=16000,frame_length_ms=20,frame_shift_ms=5,pml_dimension=86,spec_type=mcep')\n",
    "pml_synth.load('/media/josh/Store/remote-logs/tacotron-lj-pml-500k/model.ckpt-352000', hparams, model_name='tacotron_pml')\n",
    "wavs = []\n",
    "\n",
    "for i in tqdm(np.arange(0, len(texts), 10)):\n",
    "    wavs += pml_synth.synthesize(texts[i:i+10], to_wav=True, num_workers=5)"
   ]
  },
  {
   "cell_type": "code",
   "execution_count": 155,
   "metadata": {},
   "outputs": [
    {
     "data": {
      "application/vnd.jupyter.widget-view+json": {
       "model_id": "32b7a5649bf64344abff799be3737ee9",
       "version_major": 2,
       "version_minor": 0
      },
      "text/plain": [
       "HBox(children=(IntProgress(value=0, max=150), HTML(value='')))"
      ]
     },
     "metadata": {},
     "output_type": "display_data"
    },
    {
     "name": "stdout",
     "output_type": "stream",
     "text": [
      "    WARNING: sigproc.wavwrite: waveform in file /media/josh/Store/tacotron-data/gran-lj-training/taco_pml_352k/LJ050-0129.wav is clipping. Rescaling between [-1,1]\n",
      "    WARNING: sigproc.wavwrite: waveform in file /media/josh/Store/tacotron-data/gran-lj-training/taco_pml_352k/LJ050-0130.wav is clipping. Rescaling between [-1,1]\n",
      "    WARNING: sigproc.wavwrite: waveform in file /media/josh/Store/tacotron-data/gran-lj-training/taco_pml_352k/LJ050-0131.wav is clipping. Rescaling between [-1,1]\n",
      "    WARNING: sigproc.wavwrite: waveform in file /media/josh/Store/tacotron-data/gran-lj-training/taco_pml_352k/LJ050-0132.wav is clipping. Rescaling between [-1,1]\n",
      "    WARNING: sigproc.wavwrite: waveform in file /media/josh/Store/tacotron-data/gran-lj-training/taco_pml_352k/LJ050-0133.wav is clipping. Rescaling between [-1,1]\n",
      "    WARNING: sigproc.wavwrite: waveform in file /media/josh/Store/tacotron-data/gran-lj-training/taco_pml_352k/LJ050-0134.wav is clipping. Rescaling between [-1,1]\n",
      "    WARNING: sigproc.wavwrite: waveform in file /media/josh/Store/tacotron-data/gran-lj-training/taco_pml_352k/LJ050-0135.wav is clipping. Rescaling between [-1,1]\n",
      "    WARNING: sigproc.wavwrite: waveform in file /media/josh/Store/tacotron-data/gran-lj-training/taco_pml_352k/LJ050-0136.wav is clipping. Rescaling between [-1,1]\n",
      "    WARNING: sigproc.wavwrite: waveform in file /media/josh/Store/tacotron-data/gran-lj-training/taco_pml_352k/LJ050-0137.wav is clipping. Rescaling between [-1,1]\n",
      "    WARNING: sigproc.wavwrite: waveform in file /media/josh/Store/tacotron-data/gran-lj-training/taco_pml_352k/LJ050-0138.wav is clipping. Rescaling between [-1,1]\n",
      "    WARNING: sigproc.wavwrite: waveform in file /media/josh/Store/tacotron-data/gran-lj-training/taco_pml_352k/LJ050-0139.wav is clipping. Rescaling between [-1,1]\n",
      "    WARNING: sigproc.wavwrite: waveform in file /media/josh/Store/tacotron-data/gran-lj-training/taco_pml_352k/LJ050-0140.wav is clipping. Rescaling between [-1,1]\n",
      "    WARNING: sigproc.wavwrite: waveform in file /media/josh/Store/tacotron-data/gran-lj-training/taco_pml_352k/LJ050-0141.wav is clipping. Rescaling between [-1,1]\n",
      "    WARNING: sigproc.wavwrite: waveform in file /media/josh/Store/tacotron-data/gran-lj-training/taco_pml_352k/LJ050-0142.wav is clipping. Rescaling between [-1,1]\n",
      "    WARNING: sigproc.wavwrite: waveform in file /media/josh/Store/tacotron-data/gran-lj-training/taco_pml_352k/LJ050-0143.wav is clipping. Rescaling between [-1,1]\n",
      "    WARNING: sigproc.wavwrite: waveform in file /media/josh/Store/tacotron-data/gran-lj-training/taco_pml_352k/LJ050-0144.wav is clipping. Rescaling between [-1,1]\n",
      "    WARNING: sigproc.wavwrite: waveform in file /media/josh/Store/tacotron-data/gran-lj-training/taco_pml_352k/LJ050-0145.wav is clipping. Rescaling between [-1,1]\n",
      "    WARNING: sigproc.wavwrite: waveform in file /media/josh/Store/tacotron-data/gran-lj-training/taco_pml_352k/LJ050-0146.wav is clipping. Rescaling between [-1,1]\n",
      "    WARNING: sigproc.wavwrite: waveform in file /media/josh/Store/tacotron-data/gran-lj-training/taco_pml_352k/LJ050-0147.wav is clipping. Rescaling between [-1,1]\n",
      "    WARNING: sigproc.wavwrite: waveform in file /media/josh/Store/tacotron-data/gran-lj-training/taco_pml_352k/LJ050-0148.wav is clipping. Rescaling between [-1,1]\n",
      "    WARNING: sigproc.wavwrite: waveform in file /media/josh/Store/tacotron-data/gran-lj-training/taco_pml_352k/LJ050-0149.wav is clipping. Rescaling between [-1,1]\n",
      "    WARNING: sigproc.wavwrite: waveform in file /media/josh/Store/tacotron-data/gran-lj-training/taco_pml_352k/LJ050-0150.wav is clipping. Rescaling between [-1,1]\n",
      "    WARNING: sigproc.wavwrite: waveform in file /media/josh/Store/tacotron-data/gran-lj-training/taco_pml_352k/LJ050-0151.wav is clipping. Rescaling between [-1,1]\n",
      "    WARNING: sigproc.wavwrite: waveform in file /media/josh/Store/tacotron-data/gran-lj-training/taco_pml_352k/LJ050-0152.wav is clipping. Rescaling between [-1,1]\n",
      "    WARNING: sigproc.wavwrite: waveform in file /media/josh/Store/tacotron-data/gran-lj-training/taco_pml_352k/LJ050-0153.wav is clipping. Rescaling between [-1,1]\n",
      "    WARNING: sigproc.wavwrite: waveform in file /media/josh/Store/tacotron-data/gran-lj-training/taco_pml_352k/LJ050-0154.wav is clipping. Rescaling between [-1,1]\n",
      "    WARNING: sigproc.wavwrite: waveform in file /media/josh/Store/tacotron-data/gran-lj-training/taco_pml_352k/LJ050-0155.wav is clipping. Rescaling between [-1,1]\n",
      "    WARNING: sigproc.wavwrite: waveform in file /media/josh/Store/tacotron-data/gran-lj-training/taco_pml_352k/LJ050-0156.wav is clipping. Rescaling between [-1,1]\n",
      "    WARNING: sigproc.wavwrite: waveform in file /media/josh/Store/tacotron-data/gran-lj-training/taco_pml_352k/LJ050-0157.wav is clipping. Rescaling between [-1,1]\n",
      "    WARNING: sigproc.wavwrite: waveform in file /media/josh/Store/tacotron-data/gran-lj-training/taco_pml_352k/LJ050-0158.wav is clipping. Rescaling between [-1,1]\n",
      "    WARNING: sigproc.wavwrite: waveform in file /media/josh/Store/tacotron-data/gran-lj-training/taco_pml_352k/LJ050-0159.wav is clipping. Rescaling between [-1,1]\n",
      "    WARNING: sigproc.wavwrite: waveform in file /media/josh/Store/tacotron-data/gran-lj-training/taco_pml_352k/LJ050-0160.wav is clipping. Rescaling between [-1,1]\n",
      "    WARNING: sigproc.wavwrite: waveform in file /media/josh/Store/tacotron-data/gran-lj-training/taco_pml_352k/LJ050-0161.wav is clipping. Rescaling between [-1,1]\n",
      "    WARNING: sigproc.wavwrite: waveform in file /media/josh/Store/tacotron-data/gran-lj-training/taco_pml_352k/LJ050-0162.wav is clipping. Rescaling between [-1,1]\n",
      "    WARNING: sigproc.wavwrite: waveform in file /media/josh/Store/tacotron-data/gran-lj-training/taco_pml_352k/LJ050-0163.wav is clipping. Rescaling between [-1,1]\n",
      "    WARNING: sigproc.wavwrite: waveform in file /media/josh/Store/tacotron-data/gran-lj-training/taco_pml_352k/LJ050-0164.wav is clipping. Rescaling between [-1,1]\n",
      "    WARNING: sigproc.wavwrite: waveform in file /media/josh/Store/tacotron-data/gran-lj-training/taco_pml_352k/LJ050-0165.wav is clipping. Rescaling between [-1,1]\n",
      "    WARNING: sigproc.wavwrite: waveform in file /media/josh/Store/tacotron-data/gran-lj-training/taco_pml_352k/LJ050-0166.wav is clipping. Rescaling between [-1,1]\n",
      "    WARNING: sigproc.wavwrite: waveform in file /media/josh/Store/tacotron-data/gran-lj-training/taco_pml_352k/LJ050-0167.wav is clipping. Rescaling between [-1,1]\n",
      "    WARNING: sigproc.wavwrite: waveform in file /media/josh/Store/tacotron-data/gran-lj-training/taco_pml_352k/LJ050-0168.wav is clipping. Rescaling between [-1,1]\n",
      "    WARNING: sigproc.wavwrite: waveform in file /media/josh/Store/tacotron-data/gran-lj-training/taco_pml_352k/LJ050-0169.wav is clipping. Rescaling between [-1,1]\n",
      "    WARNING: sigproc.wavwrite: waveform in file /media/josh/Store/tacotron-data/gran-lj-training/taco_pml_352k/LJ050-0170.wav is clipping. Rescaling between [-1,1]\n",
      "    WARNING: sigproc.wavwrite: waveform in file /media/josh/Store/tacotron-data/gran-lj-training/taco_pml_352k/LJ050-0171.wav is clipping. Rescaling between [-1,1]\n",
      "    WARNING: sigproc.wavwrite: waveform in file /media/josh/Store/tacotron-data/gran-lj-training/taco_pml_352k/LJ050-0172.wav is clipping. Rescaling between [-1,1]\n",
      "    WARNING: sigproc.wavwrite: waveform in file /media/josh/Store/tacotron-data/gran-lj-training/taco_pml_352k/LJ050-0173.wav is clipping. Rescaling between [-1,1]\n",
      "    WARNING: sigproc.wavwrite: waveform in file /media/josh/Store/tacotron-data/gran-lj-training/taco_pml_352k/LJ050-0174.wav is clipping. Rescaling between [-1,1]\n",
      "    WARNING: sigproc.wavwrite: waveform in file /media/josh/Store/tacotron-data/gran-lj-training/taco_pml_352k/LJ050-0175.wav is clipping. Rescaling between [-1,1]\n",
      "    WARNING: sigproc.wavwrite: waveform in file /media/josh/Store/tacotron-data/gran-lj-training/taco_pml_352k/LJ050-0176.wav is clipping. Rescaling between [-1,1]\n",
      "    WARNING: sigproc.wavwrite: waveform in file /media/josh/Store/tacotron-data/gran-lj-training/taco_pml_352k/LJ050-0177.wav is clipping. Rescaling between [-1,1]\n",
      "    WARNING: sigproc.wavwrite: waveform in file /media/josh/Store/tacotron-data/gran-lj-training/taco_pml_352k/LJ050-0178.wav is clipping. Rescaling between [-1,1]\n",
      "    WARNING: sigproc.wavwrite: waveform in file /media/josh/Store/tacotron-data/gran-lj-training/taco_pml_352k/LJ050-0179.wav is clipping. Rescaling between [-1,1]\n",
      "    WARNING: sigproc.wavwrite: waveform in file /media/josh/Store/tacotron-data/gran-lj-training/taco_pml_352k/LJ050-0180.wav is clipping. Rescaling between [-1,1]\n",
      "    WARNING: sigproc.wavwrite: waveform in file /media/josh/Store/tacotron-data/gran-lj-training/taco_pml_352k/LJ050-0181.wav is clipping. Rescaling between [-1,1]\n",
      "    WARNING: sigproc.wavwrite: waveform in file /media/josh/Store/tacotron-data/gran-lj-training/taco_pml_352k/LJ050-0182.wav is clipping. Rescaling between [-1,1]\n",
      "    WARNING: sigproc.wavwrite: waveform in file /media/josh/Store/tacotron-data/gran-lj-training/taco_pml_352k/LJ050-0183.wav is clipping. Rescaling between [-1,1]\n",
      "    WARNING: sigproc.wavwrite: waveform in file /media/josh/Store/tacotron-data/gran-lj-training/taco_pml_352k/LJ050-0184.wav is clipping. Rescaling between [-1,1]\n",
      "    WARNING: sigproc.wavwrite: waveform in file /media/josh/Store/tacotron-data/gran-lj-training/taco_pml_352k/LJ050-0185.wav is clipping. Rescaling between [-1,1]\n",
      "    WARNING: sigproc.wavwrite: waveform in file /media/josh/Store/tacotron-data/gran-lj-training/taco_pml_352k/LJ050-0186.wav is clipping. Rescaling between [-1,1]\n",
      "    WARNING: sigproc.wavwrite: waveform in file /media/josh/Store/tacotron-data/gran-lj-training/taco_pml_352k/LJ050-0187.wav is clipping. Rescaling between [-1,1]\n",
      "    WARNING: sigproc.wavwrite: waveform in file /media/josh/Store/tacotron-data/gran-lj-training/taco_pml_352k/LJ050-0188.wav is clipping. Rescaling between [-1,1]\n",
      "    WARNING: sigproc.wavwrite: waveform in file /media/josh/Store/tacotron-data/gran-lj-training/taco_pml_352k/LJ050-0189.wav is clipping. Rescaling between [-1,1]\n",
      "    WARNING: sigproc.wavwrite: waveform in file /media/josh/Store/tacotron-data/gran-lj-training/taco_pml_352k/LJ050-0190.wav is clipping. Rescaling between [-1,1]\n",
      "    WARNING: sigproc.wavwrite: waveform in file /media/josh/Store/tacotron-data/gran-lj-training/taco_pml_352k/LJ050-0191.wav is clipping. Rescaling between [-1,1]\n",
      "    WARNING: sigproc.wavwrite: waveform in file /media/josh/Store/tacotron-data/gran-lj-training/taco_pml_352k/LJ050-0192.wav is clipping. Rescaling between [-1,1]\n",
      "    WARNING: sigproc.wavwrite: waveform in file /media/josh/Store/tacotron-data/gran-lj-training/taco_pml_352k/LJ050-0193.wav is clipping. Rescaling between [-1,1]\n",
      "    WARNING: sigproc.wavwrite: waveform in file /media/josh/Store/tacotron-data/gran-lj-training/taco_pml_352k/LJ050-0194.wav is clipping. Rescaling between [-1,1]\n",
      "    WARNING: sigproc.wavwrite: waveform in file /media/josh/Store/tacotron-data/gran-lj-training/taco_pml_352k/LJ050-0195.wav is clipping. Rescaling between [-1,1]\n",
      "    WARNING: sigproc.wavwrite: waveform in file /media/josh/Store/tacotron-data/gran-lj-training/taco_pml_352k/LJ050-0196.wav is clipping. Rescaling between [-1,1]\n",
      "    WARNING: sigproc.wavwrite: waveform in file /media/josh/Store/tacotron-data/gran-lj-training/taco_pml_352k/LJ050-0197.wav is clipping. Rescaling between [-1,1]\n",
      "    WARNING: sigproc.wavwrite: waveform in file /media/josh/Store/tacotron-data/gran-lj-training/taco_pml_352k/LJ050-0198.wav is clipping. Rescaling between [-1,1]\n",
      "    WARNING: sigproc.wavwrite: waveform in file /media/josh/Store/tacotron-data/gran-lj-training/taco_pml_352k/LJ050-0199.wav is clipping. Rescaling between [-1,1]\n",
      "    WARNING: sigproc.wavwrite: waveform in file /media/josh/Store/tacotron-data/gran-lj-training/taco_pml_352k/LJ050-0200.wav is clipping. Rescaling between [-1,1]\n",
      "    WARNING: sigproc.wavwrite: waveform in file /media/josh/Store/tacotron-data/gran-lj-training/taco_pml_352k/LJ050-0201.wav is clipping. Rescaling between [-1,1]\n",
      "    WARNING: sigproc.wavwrite: waveform in file /media/josh/Store/tacotron-data/gran-lj-training/taco_pml_352k/LJ050-0202.wav is clipping. Rescaling between [-1,1]\n",
      "    WARNING: sigproc.wavwrite: waveform in file /media/josh/Store/tacotron-data/gran-lj-training/taco_pml_352k/LJ050-0203.wav is clipping. Rescaling between [-1,1]\n",
      "    WARNING: sigproc.wavwrite: waveform in file /media/josh/Store/tacotron-data/gran-lj-training/taco_pml_352k/LJ050-0204.wav is clipping. Rescaling between [-1,1]\n",
      "    WARNING: sigproc.wavwrite: waveform in file /media/josh/Store/tacotron-data/gran-lj-training/taco_pml_352k/LJ050-0205.wav is clipping. Rescaling between [-1,1]\n",
      "    WARNING: sigproc.wavwrite: waveform in file /media/josh/Store/tacotron-data/gran-lj-training/taco_pml_352k/LJ050-0206.wav is clipping. Rescaling between [-1,1]\n",
      "    WARNING: sigproc.wavwrite: waveform in file /media/josh/Store/tacotron-data/gran-lj-training/taco_pml_352k/LJ050-0207.wav is clipping. Rescaling between [-1,1]\n",
      "    WARNING: sigproc.wavwrite: waveform in file /media/josh/Store/tacotron-data/gran-lj-training/taco_pml_352k/LJ050-0208.wav is clipping. Rescaling between [-1,1]\n",
      "    WARNING: sigproc.wavwrite: waveform in file /media/josh/Store/tacotron-data/gran-lj-training/taco_pml_352k/LJ050-0209.wav is clipping. Rescaling between [-1,1]\n",
      "    WARNING: sigproc.wavwrite: waveform in file /media/josh/Store/tacotron-data/gran-lj-training/taco_pml_352k/LJ050-0210.wav is clipping. Rescaling between [-1,1]\n",
      "    WARNING: sigproc.wavwrite: waveform in file /media/josh/Store/tacotron-data/gran-lj-training/taco_pml_352k/LJ050-0211.wav is clipping. Rescaling between [-1,1]\n",
      "    WARNING: sigproc.wavwrite: waveform in file /media/josh/Store/tacotron-data/gran-lj-training/taco_pml_352k/LJ050-0212.wav is clipping. Rescaling between [-1,1]\n",
      "    WARNING: sigproc.wavwrite: waveform in file /media/josh/Store/tacotron-data/gran-lj-training/taco_pml_352k/LJ050-0213.wav is clipping. Rescaling between [-1,1]\n",
      "    WARNING: sigproc.wavwrite: waveform in file /media/josh/Store/tacotron-data/gran-lj-training/taco_pml_352k/LJ050-0214.wav is clipping. Rescaling between [-1,1]\n",
      "    WARNING: sigproc.wavwrite: waveform in file /media/josh/Store/tacotron-data/gran-lj-training/taco_pml_352k/LJ050-0215.wav is clipping. Rescaling between [-1,1]\n",
      "    WARNING: sigproc.wavwrite: waveform in file /media/josh/Store/tacotron-data/gran-lj-training/taco_pml_352k/LJ050-0216.wav is clipping. Rescaling between [-1,1]\n",
      "    WARNING: sigproc.wavwrite: waveform in file /media/josh/Store/tacotron-data/gran-lj-training/taco_pml_352k/LJ050-0217.wav is clipping. Rescaling between [-1,1]\n",
      "    WARNING: sigproc.wavwrite: waveform in file /media/josh/Store/tacotron-data/gran-lj-training/taco_pml_352k/LJ050-0218.wav is clipping. Rescaling between [-1,1]\n",
      "    WARNING: sigproc.wavwrite: waveform in file /media/josh/Store/tacotron-data/gran-lj-training/taco_pml_352k/LJ050-0219.wav is clipping. Rescaling between [-1,1]\n",
      "    WARNING: sigproc.wavwrite: waveform in file /media/josh/Store/tacotron-data/gran-lj-training/taco_pml_352k/LJ050-0220.wav is clipping. Rescaling between [-1,1]\n",
      "    WARNING: sigproc.wavwrite: waveform in file /media/josh/Store/tacotron-data/gran-lj-training/taco_pml_352k/LJ050-0221.wav is clipping. Rescaling between [-1,1]\n",
      "    WARNING: sigproc.wavwrite: waveform in file /media/josh/Store/tacotron-data/gran-lj-training/taco_pml_352k/LJ050-0222.wav is clipping. Rescaling between [-1,1]\n",
      "    WARNING: sigproc.wavwrite: waveform in file /media/josh/Store/tacotron-data/gran-lj-training/taco_pml_352k/LJ050-0223.wav is clipping. Rescaling between [-1,1]\n",
      "    WARNING: sigproc.wavwrite: waveform in file /media/josh/Store/tacotron-data/gran-lj-training/taco_pml_352k/LJ050-0224.wav is clipping. Rescaling between [-1,1]\n",
      "    WARNING: sigproc.wavwrite: waveform in file /media/josh/Store/tacotron-data/gran-lj-training/taco_pml_352k/LJ050-0225.wav is clipping. Rescaling between [-1,1]\n",
      "    WARNING: sigproc.wavwrite: waveform in file /media/josh/Store/tacotron-data/gran-lj-training/taco_pml_352k/LJ050-0226.wav is clipping. Rescaling between [-1,1]\n",
      "    WARNING: sigproc.wavwrite: waveform in file /media/josh/Store/tacotron-data/gran-lj-training/taco_pml_352k/LJ050-0227.wav is clipping. Rescaling between [-1,1]\n",
      "    WARNING: sigproc.wavwrite: waveform in file /media/josh/Store/tacotron-data/gran-lj-training/taco_pml_352k/LJ050-0228.wav is clipping. Rescaling between [-1,1]\n",
      "    WARNING: sigproc.wavwrite: waveform in file /media/josh/Store/tacotron-data/gran-lj-training/taco_pml_352k/LJ050-0229.wav is clipping. Rescaling between [-1,1]\n",
      "    WARNING: sigproc.wavwrite: waveform in file /media/josh/Store/tacotron-data/gran-lj-training/taco_pml_352k/LJ050-0230.wav is clipping. Rescaling between [-1,1]\n",
      "    WARNING: sigproc.wavwrite: waveform in file /media/josh/Store/tacotron-data/gran-lj-training/taco_pml_352k/LJ050-0231.wav is clipping. Rescaling between [-1,1]\n",
      "    WARNING: sigproc.wavwrite: waveform in file /media/josh/Store/tacotron-data/gran-lj-training/taco_pml_352k/LJ050-0232.wav is clipping. Rescaling between [-1,1]\n",
      "    WARNING: sigproc.wavwrite: waveform in file /media/josh/Store/tacotron-data/gran-lj-training/taco_pml_352k/LJ050-0233.wav is clipping. Rescaling between [-1,1]\n",
      "    WARNING: sigproc.wavwrite: waveform in file /media/josh/Store/tacotron-data/gran-lj-training/taco_pml_352k/LJ050-0234.wav is clipping. Rescaling between [-1,1]\n",
      "    WARNING: sigproc.wavwrite: waveform in file /media/josh/Store/tacotron-data/gran-lj-training/taco_pml_352k/LJ050-0235.wav is clipping. Rescaling between [-1,1]\n",
      "    WARNING: sigproc.wavwrite: waveform in file /media/josh/Store/tacotron-data/gran-lj-training/taco_pml_352k/LJ050-0236.wav is clipping. Rescaling between [-1,1]\n",
      "    WARNING: sigproc.wavwrite: waveform in file /media/josh/Store/tacotron-data/gran-lj-training/taco_pml_352k/LJ050-0237.wav is clipping. Rescaling between [-1,1]\n",
      "    WARNING: sigproc.wavwrite: waveform in file /media/josh/Store/tacotron-data/gran-lj-training/taco_pml_352k/LJ050-0238.wav is clipping. Rescaling between [-1,1]\n",
      "    WARNING: sigproc.wavwrite: waveform in file /media/josh/Store/tacotron-data/gran-lj-training/taco_pml_352k/LJ050-0239.wav is clipping. Rescaling between [-1,1]\n",
      "    WARNING: sigproc.wavwrite: waveform in file /media/josh/Store/tacotron-data/gran-lj-training/taco_pml_352k/LJ050-0240.wav is clipping. Rescaling between [-1,1]\n",
      "    WARNING: sigproc.wavwrite: waveform in file /media/josh/Store/tacotron-data/gran-lj-training/taco_pml_352k/LJ050-0241.wav is clipping. Rescaling between [-1,1]\n",
      "    WARNING: sigproc.wavwrite: waveform in file /media/josh/Store/tacotron-data/gran-lj-training/taco_pml_352k/LJ050-0242.wav is clipping. Rescaling between [-1,1]\n",
      "    WARNING: sigproc.wavwrite: waveform in file /media/josh/Store/tacotron-data/gran-lj-training/taco_pml_352k/LJ050-0243.wav is clipping. Rescaling between [-1,1]\n",
      "    WARNING: sigproc.wavwrite: waveform in file /media/josh/Store/tacotron-data/gran-lj-training/taco_pml_352k/LJ050-0244.wav is clipping. Rescaling between [-1,1]\n",
      "    WARNING: sigproc.wavwrite: waveform in file /media/josh/Store/tacotron-data/gran-lj-training/taco_pml_352k/LJ050-0245.wav is clipping. Rescaling between [-1,1]\n",
      "    WARNING: sigproc.wavwrite: waveform in file /media/josh/Store/tacotron-data/gran-lj-training/taco_pml_352k/LJ050-0246.wav is clipping. Rescaling between [-1,1]\n",
      "    WARNING: sigproc.wavwrite: waveform in file /media/josh/Store/tacotron-data/gran-lj-training/taco_pml_352k/LJ050-0247.wav is clipping. Rescaling between [-1,1]\n",
      "    WARNING: sigproc.wavwrite: waveform in file /media/josh/Store/tacotron-data/gran-lj-training/taco_pml_352k/LJ050-0248.wav is clipping. Rescaling between [-1,1]\n",
      "    WARNING: sigproc.wavwrite: waveform in file /media/josh/Store/tacotron-data/gran-lj-training/taco_pml_352k/LJ050-0249.wav is clipping. Rescaling between [-1,1]\n",
      "    WARNING: sigproc.wavwrite: waveform in file /media/josh/Store/tacotron-data/gran-lj-training/taco_pml_352k/LJ050-0250.wav is clipping. Rescaling between [-1,1]\n",
      "    WARNING: sigproc.wavwrite: waveform in file /media/josh/Store/tacotron-data/gran-lj-training/taco_pml_352k/LJ050-0251.wav is clipping. Rescaling between [-1,1]\n",
      "    WARNING: sigproc.wavwrite: waveform in file /media/josh/Store/tacotron-data/gran-lj-training/taco_pml_352k/LJ050-0252.wav is clipping. Rescaling between [-1,1]\n",
      "    WARNING: sigproc.wavwrite: waveform in file /media/josh/Store/tacotron-data/gran-lj-training/taco_pml_352k/LJ050-0253.wav is clipping. Rescaling between [-1,1]\n",
      "    WARNING: sigproc.wavwrite: waveform in file /media/josh/Store/tacotron-data/gran-lj-training/taco_pml_352k/LJ050-0254.wav is clipping. Rescaling between [-1,1]\n",
      "    WARNING: sigproc.wavwrite: waveform in file /media/josh/Store/tacotron-data/gran-lj-training/taco_pml_352k/LJ050-0255.wav is clipping. Rescaling between [-1,1]\n",
      "    WARNING: sigproc.wavwrite: waveform in file /media/josh/Store/tacotron-data/gran-lj-training/taco_pml_352k/LJ050-0256.wav is clipping. Rescaling between [-1,1]\n",
      "    WARNING: sigproc.wavwrite: waveform in file /media/josh/Store/tacotron-data/gran-lj-training/taco_pml_352k/LJ050-0257.wav is clipping. Rescaling between [-1,1]\n",
      "    WARNING: sigproc.wavwrite: waveform in file /media/josh/Store/tacotron-data/gran-lj-training/taco_pml_352k/LJ050-0258.wav is clipping. Rescaling between [-1,1]\n",
      "    WARNING: sigproc.wavwrite: waveform in file /media/josh/Store/tacotron-data/gran-lj-training/taco_pml_352k/LJ050-0259.wav is clipping. Rescaling between [-1,1]\n",
      "    WARNING: sigproc.wavwrite: waveform in file /media/josh/Store/tacotron-data/gran-lj-training/taco_pml_352k/LJ050-0260.wav is clipping. Rescaling between [-1,1]\n",
      "    WARNING: sigproc.wavwrite: waveform in file /media/josh/Store/tacotron-data/gran-lj-training/taco_pml_352k/LJ050-0261.wav is clipping. Rescaling between [-1,1]\n",
      "    WARNING: sigproc.wavwrite: waveform in file /media/josh/Store/tacotron-data/gran-lj-training/taco_pml_352k/LJ050-0262.wav is clipping. Rescaling between [-1,1]\n",
      "    WARNING: sigproc.wavwrite: waveform in file /media/josh/Store/tacotron-data/gran-lj-training/taco_pml_352k/LJ050-0263.wav is clipping. Rescaling between [-1,1]\n",
      "    WARNING: sigproc.wavwrite: waveform in file /media/josh/Store/tacotron-data/gran-lj-training/taco_pml_352k/LJ050-0264.wav is clipping. Rescaling between [-1,1]\n",
      "    WARNING: sigproc.wavwrite: waveform in file /media/josh/Store/tacotron-data/gran-lj-training/taco_pml_352k/LJ050-0265.wav is clipping. Rescaling between [-1,1]\n",
      "    WARNING: sigproc.wavwrite: waveform in file /media/josh/Store/tacotron-data/gran-lj-training/taco_pml_352k/LJ050-0266.wav is clipping. Rescaling between [-1,1]\n",
      "    WARNING: sigproc.wavwrite: waveform in file /media/josh/Store/tacotron-data/gran-lj-training/taco_pml_352k/LJ050-0267.wav is clipping. Rescaling between [-1,1]\n",
      "    WARNING: sigproc.wavwrite: waveform in file /media/josh/Store/tacotron-data/gran-lj-training/taco_pml_352k/LJ050-0268.wav is clipping. Rescaling between [-1,1]\n",
      "    WARNING: sigproc.wavwrite: waveform in file /media/josh/Store/tacotron-data/gran-lj-training/taco_pml_352k/LJ050-0269.wav is clipping. Rescaling between [-1,1]\n",
      "    WARNING: sigproc.wavwrite: waveform in file /media/josh/Store/tacotron-data/gran-lj-training/taco_pml_352k/LJ050-0270.wav is clipping. Rescaling between [-1,1]\n",
      "    WARNING: sigproc.wavwrite: waveform in file /media/josh/Store/tacotron-data/gran-lj-training/taco_pml_352k/LJ050-0271.wav is clipping. Rescaling between [-1,1]\n",
      "    WARNING: sigproc.wavwrite: waveform in file /media/josh/Store/tacotron-data/gran-lj-training/taco_pml_352k/LJ050-0272.wav is clipping. Rescaling between [-1,1]\n",
      "    WARNING: sigproc.wavwrite: waveform in file /media/josh/Store/tacotron-data/gran-lj-training/taco_pml_352k/LJ050-0273.wav is clipping. Rescaling between [-1,1]\n",
      "    WARNING: sigproc.wavwrite: waveform in file /media/josh/Store/tacotron-data/gran-lj-training/taco_pml_352k/LJ050-0274.wav is clipping. Rescaling between [-1,1]\n",
      "    WARNING: sigproc.wavwrite: waveform in file /media/josh/Store/tacotron-data/gran-lj-training/taco_pml_352k/LJ050-0275.wav is clipping. Rescaling between [-1,1]\n",
      "    WARNING: sigproc.wavwrite: waveform in file /media/josh/Store/tacotron-data/gran-lj-training/taco_pml_352k/LJ050-0276.wav is clipping. Rescaling between [-1,1]\n",
      "    WARNING: sigproc.wavwrite: waveform in file /media/josh/Store/tacotron-data/gran-lj-training/taco_pml_352k/LJ050-0277.wav is clipping. Rescaling between [-1,1]\n",
      "    WARNING: sigproc.wavwrite: waveform in file /media/josh/Store/tacotron-data/gran-lj-training/taco_pml_352k/LJ050-0278.wav is clipping. Rescaling between [-1,1]\n",
      "\n"
     ]
    }
   ],
   "source": [
    "from util import audio\n",
    "from lib import sigproc as sp\n",
    "\n",
    "taco_pml_dir = 'taco_pml_352k'\n",
    "os.makedirs(os.path.join(training_data_dir, taco_pml_dir), exist_ok=True)\n",
    "taco_pml_wavs_orig = np.copy(wavs)\n",
    "taco_pml_wavs = []\n",
    "\n",
    "for i, wav in enumerate(tqdm(taco_pml_wavs_orig)):\n",
    "    wav = wav[:audio.find_endpoint(wav, threshold_db=0)]\n",
    "    taco_pml_wavs.append(wav)\n",
    "    sp.wavwrite(os.path.join(training_data_dir, taco_pml_dir, wav_files[i]), wav, 16000, norm_max_ifneeded=True)"
   ]
  },
  {
   "cell_type": "code",
   "execution_count": 161,
   "metadata": {},
   "outputs": [],
   "source": [
    "from python_speech_features import mfcc\n",
    "\n",
    "def mcd(set_1, set_2, sr_1=16000, sr_2=16000, nfft=4096, winlen=0.050, nfilt=52, numcep=26, base_sr=16000, debug=False):\n",
    "    error = 0.0\n",
    "    wav_set_size = len(set_1)\n",
    "\n",
    "    for i in tqdm(range(wav_set_size)):\n",
    "        wav_1 = set_1[i]\n",
    "        wav_2 = set_2[i]\n",
    "        \n",
    "        if debug:\n",
    "            print('Sample Rates:', sr_1, sr_2, base_sr)\n",
    "        \n",
    "        if sr_1 != base_sr:\n",
    "            wav_1 = librosa.core.resample(wav_1, orig_sr=sr_1, target_sr=base_sr)\n",
    "        \n",
    "        if sr_2 != base_sr:\n",
    "            wav_2 = librosa.core.resample(wav_2, orig_sr=sr_2, target_sr=base_sr)\n",
    "        \n",
    "        if debug:\n",
    "            print('Wav Sizes:', len(wav_1), len(wav_2))\n",
    "            \n",
    "        cutoff = min(len(wav_1), len(wav_2))\n",
    "        \n",
    "        mfcc_1 = mfcc(wav_1[:cutoff], base_sr, nfft=nfft, winlen=winlen, nfilt=nfilt, numcep=numcep)\n",
    "        mfcc_2 = mfcc(wav_2[:cutoff], base_sr, nfft=nfft, winlen=winlen, nfilt=nfilt, numcep=numcep)\n",
    "        \n",
    "        if debug:\n",
    "            print('MFCC Lengths:', len(mfcc_1), len(mfcc_2))\n",
    "            print()\n",
    "\n",
    "        cutoff = min(len(mfcc_1), len(mfcc_2))\n",
    "        sum_cepstral_error = np.sum(np.square(mfcc_1[:cutoff] - mfcc_2[:cutoff]), axis=1)\n",
    "        error += np.mean(np.sqrt(sum_cepstral_error))\n",
    "\n",
    "    error = np.sqrt(error / wav_set_size)\n",
    "    return error"
   ]
  },
  {
   "cell_type": "code",
   "execution_count": 78,
   "metadata": {},
   "outputs": [
    {
     "data": {
      "application/vnd.jupyter.widget-view+json": {
       "model_id": "e7ddab32697c4e2b90202e60c085c653",
       "version_major": 2,
       "version_minor": 0
      },
      "text/plain": [
       "HBox(children=(IntProgress(value=0, max=150), HTML(value='')))"
      ]
     },
     "metadata": {},
     "output_type": "display_data"
    },
    {
     "name": "stdout",
     "output_type": "stream",
     "text": [
      "\n"
     ]
    }
   ],
   "source": [
    "from util import audio\n",
    "from lib import sigproc as sp\n",
    "import librosa\n",
    "\n",
    "gt_wavs = []\n",
    "analysis_synthesis_wavs = []\n",
    "\n",
    "for wav_file in tqdm(wav_files):\n",
    "    gt_wav_path = os.path.join(training_data_dir, 'wavs', wav_file)\n",
    "    gt_wav = audio.load_wav(gt_wav_path)\n",
    "    gt_wav = librosa.core.resample(gt_wav, orig_sr=22050, target_sr=16000)\n",
    "    gt_wavs.append(gt_wav)\n",
    "    \n",
    "    as_wav_path = os.path.join(training_data_dir, 'analysis_synthesis', wav_file)\n",
    "    as_wav = audio.load_wav(as_wav_path)\n",
    "    analysis_synthesis_wavs.append(as_wav)"
   ]
  },
  {
   "cell_type": "code",
   "execution_count": 177,
   "metadata": {},
   "outputs": [
    {
     "data": {
      "application/vnd.jupyter.widget-view+json": {
       "model_id": "4c6f9c75c8ac477ea8197e5be6b49ef8",
       "version_major": 2,
       "version_minor": 0
      },
      "text/plain": [
       "HBox(children=(IntProgress(value=0, max=150), HTML(value='')))"
      ]
     },
     "metadata": {},
     "output_type": "display_data"
    },
    {
     "name": "stdout",
     "output_type": "stream",
     "text": [
      "\n"
     ]
    }
   ],
   "source": [
    "from util import audio\n",
    "from lib import sigproc as sp\n",
    "import librosa\n",
    "\n",
    "gt_wavs = []\n",
    "analysis_synthesis_wavs = []\n",
    "\n",
    "for wav_file in tqdm(wav_files):\n",
    "    gt_wav_path = os.path.join(training_data_dir, 'wavs', wav_file)\n",
    "    gt_wav, fs, _ = sp.wavread(gt_wav_path)\n",
    "    gt_wavs.append(gt_wav)\n",
    "    \n",
    "    as_wav_path = os.path.join(training_data_dir, 'analysis_synthesis', wav_file)\n",
    "    as_wav, fs, _ = sp.wavread(as_wav_path)\n",
    "    analysis_synthesis_wavs.append(as_wav)"
   ]
  },
  {
   "cell_type": "code",
   "execution_count": 126,
   "metadata": {},
   "outputs": [
    {
     "data": {
      "text/plain": [
       "(25192, 161354, 24800, 160800)"
      ]
     },
     "execution_count": 126,
     "metadata": {},
     "output_type": "execute_result"
    }
   ],
   "source": [
    "gt_wav_lens = [len(wav) for wav in gt_wavs]\n",
    "as_wav_lens = [len(wav) for wav in analysis_synthesis_wavs]\n",
    "min(gt_wav_lens), max(gt_wav_lens), min(as_wav_lens), max(as_wav_lens)"
   ]
  },
  {
   "cell_type": "code",
   "execution_count": 203,
   "metadata": {},
   "outputs": [
    {
     "data": {
      "application/vnd.jupyter.widget-view+json": {
       "model_id": "5cd0738925e545e7b26afd3d92e2a2f8",
       "version_major": 2,
       "version_minor": 0
      },
      "text/plain": [
       "HBox(children=(IntProgress(value=0, max=150), HTML(value='')))"
      ]
     },
     "metadata": {},
     "output_type": "display_data"
    },
    {
     "name": "stdout",
     "output_type": "stream",
     "text": [
      "\n"
     ]
    }
   ],
   "source": [
    "vanilla_taco_wavs = []\n",
    "\n",
    "for wav_file in tqdm(wav_files):  \n",
    "    taco_wav_path = os.path.join(training_data_dir, 'vanilla_tacotron', wav_file)\n",
    "    taco_wav, fs, _ = sp.wavread(taco_wav_path)\n",
    "    vanilla_taco_wavs.append(taco_wav)"
   ]
  },
  {
   "cell_type": "code",
   "execution_count": 179,
   "metadata": {},
   "outputs": [
    {
     "data": {
      "application/vnd.jupyter.widget-view+json": {
       "model_id": "5f1312f01ec84f0cb5f31dd1f140938c",
       "version_major": 2,
       "version_minor": 0
      },
      "text/plain": [
       "HBox(children=(IntProgress(value=0, max=150), HTML(value='')))"
      ]
     },
     "metadata": {},
     "output_type": "display_data"
    },
    {
     "name": "stdout",
     "output_type": "stream",
     "text": [
      "\n"
     ]
    }
   ],
   "source": [
    "training_data_dir_163 = '/media/josh/Store/tacotron-data/163-lj-training'\n",
    "analysis_synthesis_wavs_163 = []\n",
    "\n",
    "for wav_file in tqdm(wav_files): \n",
    "    as_wav_path_163 = os.path.join(training_data_dir_163, 'analysis_synthesis_163', wav_file)\n",
    "    as_wav_163, fs, _ = sp.wavread(as_wav_path_163)\n",
    "    analysis_synthesis_wavs_163.append(as_wav_163)"
   ]
  },
  {
   "cell_type": "code",
   "execution_count": 180,
   "metadata": {},
   "outputs": [
    {
     "data": {
      "application/vnd.jupyter.widget-view+json": {
       "model_id": "18ca892bbd3448dc968daba2ecbdf736",
       "version_major": 2,
       "version_minor": 0
      },
      "text/plain": [
       "HBox(children=(IntProgress(value=0, max=150), HTML(value='')))"
      ]
     },
     "metadata": {},
     "output_type": "display_data"
    },
    {
     "name": "stdout",
     "output_type": "stream",
     "text": [
      "\n"
     ]
    },
    {
     "data": {
      "text/plain": [
       "5.673569041525113"
      ]
     },
     "execution_count": 180,
     "metadata": {},
     "output_type": "execute_result"
    }
   ],
   "source": [
    "mcd(gt_wavs, analysis_synthesis_wavs, sr_1=22050)"
   ]
  },
  {
   "cell_type": "code",
   "execution_count": 188,
   "metadata": {},
   "outputs": [
    {
     "data": {
      "text/plain": [
       "0.13453807227940426"
      ]
     },
     "execution_count": 188,
     "metadata": {},
     "output_type": "execute_result"
    }
   ],
   "source": [
    "rmse(gt_wavs, analysis_synthesis_wavs)"
   ]
  },
  {
   "cell_type": "code",
   "execution_count": 181,
   "metadata": {},
   "outputs": [
    {
     "data": {
      "application/vnd.jupyter.widget-view+json": {
       "model_id": "0951c51c40054d2bba2d44b67b3f4e2e",
       "version_major": 2,
       "version_minor": 0
      },
      "text/plain": [
       "HBox(children=(IntProgress(value=0, max=150), HTML(value='')))"
      ]
     },
     "metadata": {},
     "output_type": "display_data"
    },
    {
     "name": "stdout",
     "output_type": "stream",
     "text": [
      "\n"
     ]
    },
    {
     "data": {
      "text/plain": [
       "5.73671805978629"
      ]
     },
     "execution_count": 181,
     "metadata": {},
     "output_type": "execute_result"
    }
   ],
   "source": [
    "mcd(gt_wavs, analysis_synthesis_wavs_163, sr_1=22050)"
   ]
  },
  {
   "cell_type": "code",
   "execution_count": 186,
   "metadata": {},
   "outputs": [
    {
     "data": {
      "text/plain": [
       "0.12880409250086736"
      ]
     },
     "execution_count": 186,
     "metadata": {},
     "output_type": "execute_result"
    }
   ],
   "source": [
    "rmse(gt_wavs, analysis_synthesis_wavs_163)"
   ]
  },
  {
   "cell_type": "code",
   "execution_count": 182,
   "metadata": {},
   "outputs": [
    {
     "data": {
      "application/vnd.jupyter.widget-view+json": {
       "model_id": "068fc326b7e84d1399cba21013548454",
       "version_major": 2,
       "version_minor": 0
      },
      "text/plain": [
       "HBox(children=(IntProgress(value=0, max=150), HTML(value='')))"
      ]
     },
     "metadata": {},
     "output_type": "display_data"
    },
    {
     "name": "stdout",
     "output_type": "stream",
     "text": [
      "\n"
     ]
    },
    {
     "data": {
      "text/plain": [
       "10.060535112715472"
      ]
     },
     "execution_count": 182,
     "metadata": {},
     "output_type": "execute_result"
    }
   ],
   "source": [
    "mcd(gt_wavs, taco_pml_wavs, sr_1=22050)"
   ]
  },
  {
   "cell_type": "code",
   "execution_count": 185,
   "metadata": {},
   "outputs": [
    {
     "data": {
      "text/plain": [
       "0.12583205952028778"
      ]
     },
     "execution_count": 185,
     "metadata": {},
     "output_type": "execute_result"
    }
   ],
   "source": [
    "rmse(gt_wavs, taco_pml_wavs)"
   ]
  },
  {
   "cell_type": "code",
   "execution_count": 183,
   "metadata": {},
   "outputs": [
    {
     "data": {
      "application/vnd.jupyter.widget-view+json": {
       "model_id": "30c180593a634d6daf9a65183f5027db",
       "version_major": 2,
       "version_minor": 0
      },
      "text/plain": [
       "HBox(children=(IntProgress(value=0, max=150), HTML(value='')))"
      ]
     },
     "metadata": {},
     "output_type": "display_data"
    },
    {
     "name": "stdout",
     "output_type": "stream",
     "text": [
      "\n"
     ]
    },
    {
     "data": {
      "text/plain": [
       "11.241195070528098"
      ]
     },
     "execution_count": 183,
     "metadata": {},
     "output_type": "execute_result"
    }
   ],
   "source": [
    "mcd(gt_wavs, vanilla_taco_wavs, sr_1=22050, sr_2=20000)"
   ]
  },
  {
   "cell_type": "code",
   "execution_count": 184,
   "metadata": {},
   "outputs": [
    {
     "data": {
      "text/plain": [
       "0.10084038456967537"
      ]
     },
     "execution_count": 184,
     "metadata": {},
     "output_type": "execute_result"
    }
   ],
   "source": [
    "rmse(gt_wavs, vanilla_taco_wavs)"
   ]
  },
  {
   "cell_type": "code",
   "execution_count": 212,
   "metadata": {},
   "outputs": [
    {
     "name": "stdout",
     "output_type": "stream",
     "text": [
      "LJ050-0155.wav\n",
      "155037\n",
      "112240\n",
      "144000\n",
      "108800\n"
     ]
    },
    {
     "data": {
      "image/png": "[encoded data removed]",
      "text/plain": [
       "<Figure size 1080x1152 with 4 Axes>"
      ]
     },
     "metadata": {
      "needs_background": "light"
     },
     "output_type": "display_data"
    }
   ],
   "source": [
    "TARGET_INDEX = 26\n",
    "print(wav_files[TARGET_INDEX])\n",
    "\n",
    "# Make the plot\n",
    "# You can tweak the figsize (width, height) in inches\n",
    "plt.figure(figsize=(15, 16))\n",
    "\n",
    "plt.subplot(4, 1, 1)\n",
    "data = gt_wavs[TARGET_INDEX]\n",
    "data /= 1.05 * np.max(np.abs(data))\n",
    "print(len(data))\n",
    "times = np.arange(len(data)) / float(22050)\n",
    "plt.fill_between(times, data, color='k') \n",
    "plt.xlim(times[0], times[-1])\n",
    "plt.xlabel('Time (s)')\n",
    "plt.ylabel('Waveform Amplitude')\n",
    "plt.title('Ground Truth Waveform')\n",
    "\n",
    "plt.subplot(4, 1, 2)\n",
    "data = analysis_synthesis_wavs[TARGET_INDEX]\n",
    "data /= 1.05 * np.max(np.abs(data))\n",
    "print(len(data))\n",
    "times = np.arange(len(data)) / float(16000)\n",
    "plt.fill_between(times, data, color='k') \n",
    "plt.xlim(times[0], times[-1])\n",
    "plt.xlabel('Time (s)')\n",
    "plt.ylabel('Waveform Amplitude')\n",
    "plt.title('Analysis-Synthesis Waveform')\n",
    "\n",
    "# plt.subplot(5, 1, 3)\n",
    "# data = analysis_synthesis_wavs_163[TARGET_INDEX]\n",
    "# print(len(data))\n",
    "# times = np.arange(len(data)) / float(16000)\n",
    "# plt.fill_between(times, data, color='k') \n",
    "# plt.xlim(times[0], times[-1])\n",
    "# plt.xlabel('Time (s)')\n",
    "# plt.ylabel('Waveform Amplitude')\n",
    "\n",
    "plt.subplot(4, 1, 3)\n",
    "data = vanilla_taco_wavs[TARGET_INDEX]\n",
    "data /= 1.05 * np.max(np.abs(data))\n",
    "print(len(data))\n",
    "times = np.arange(len(data)) / float(20000)\n",
    "plt.fill_between(times, data, color='k') \n",
    "plt.xlim(times[0], times[-1])\n",
    "plt.xlabel('Time (s)')\n",
    "plt.ylabel('Waveform Amplitude')\n",
    "plt.title('Tacotron Waveform')\n",
    "\n",
    "plt.subplot(4, 1, 4)\n",
    "data = taco_pml_wavs[TARGET_INDEX]\n",
    "data /= 1.05 * np.max(np.abs(data))\n",
    "print(len(data))\n",
    "times = np.arange(len(data)) / float(16000)\n",
    "plt.fill_between(times, data, color='k') \n",
    "plt.xlim(times[0], times[-1])\n",
    "plt.xlabel('Time (s)')\n",
    "plt.ylabel('Waveform Amplitude')\n",
    "plt.title('PML Vocoder Feature Prediction Network Waveform')\n",
    "\n",
    "# You can set the format by changing the extension\n",
    "# like .pdf, .svg, .eps\n",
    "plt.subplots_adjust(hspace=0.35)\n",
    "plt.savefig('./TacotronAlignment/Waveforms.png')\n",
    "plt.show()"
   ]
  }
 ],
 "metadata": {
  "kernelspec": {
   "display_name": "Python 3",
   "language": "python",
   "name": "python3"
  },
  "language_info": {
   "codemirror_mode": {
    "name": "ipython",
    "version": 3
   },
   "file_extension": ".py",
   "mimetype": "text/x-python",
   "name": "python",
   "nbconvert_exporter": "python",
   "pygments_lexer": "ipython3",
   "version": "3.6.8"
  }
 },
 "nbformat": 4,
 "nbformat_minor": 2
}
